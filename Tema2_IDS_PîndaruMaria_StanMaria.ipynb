{
 "cells": [
  {
   "cell_type": "code",
   "execution_count": 4,
   "metadata": {},
   "outputs": [
    {
     "name": "stdout",
     "output_type": "stream",
     "text": [
      "[0, 6, 28, 496]\n"
     ]
    }
   ],
   "source": [
    "#1 daca numarul e egal cu suma divizorilor sai minus numarul insusi\n",
    "\n",
    "def s_div(number :int) ->int:\n",
    "    divisors: list = [index for index in range(1,number) if number % index == 0]\n",
    "    return sum([divisor for divisor in divisors])\n",
    "\n",
    "def is_x_equal_with_sdiv(x):\n",
    "    return (x == s_div(x))\n",
    "    \n",
    "def write_all_numbers(n):\n",
    "    print([index for index in range(n) if is_x_equal_with_sdiv(index)])\n",
    "    \n",
    "write_all_numbers(520)\n",
    "\n"
   ]
  },
  {
   "cell_type": "code",
   "execution_count": null,
   "metadata": {},
   "outputs": [],
   "source": []
  }
 ],
 "metadata": {
  "kernelspec": {
   "display_name": "Python 3",
   "language": "python",
   "name": "python3"
  },
  "language_info": {
   "codemirror_mode": {
    "name": "ipython",
    "version": 3
   },
   "file_extension": ".py",
   "mimetype": "text/x-python",
   "name": "python",
   "nbconvert_exporter": "python",
   "pygments_lexer": "ipython3",
   "version": "3.8.3"
  }
 },
 "nbformat": 4,
 "nbformat_minor": 4
}
