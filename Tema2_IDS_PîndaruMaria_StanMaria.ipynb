{
 "cells": [
  {
   "cell_type": "code",
   "execution_count": 5,
   "metadata": {
    "ExecuteTime": {
     "end_time": "2021-03-03T13:53:16.477160Z",
     "start_time": "2021-03-03T13:53:16.450233Z"
    }
   },
   "outputs": [
    {
     "name": "stdout",
     "output_type": "stream",
     "text": [
      "[0, 6, 28, 496]\n"
     ]
    }
   ],
   "source": [
    "# 1. daca numarul e egal cu suma divizorilor sai minus numarul insusi\n",
    "\n",
    "def s_div(number: int) -> int:\n",
    "    divisors: list = [index for index in range(1,number) if number % index == 0]\n",
    "    return sum([divisor for divisor in divisors])\n",
    "\n",
    "def is_x_equal_with_sdiv(x: int) -> bool:\n",
    "    return (x == s_div(x))\n",
    "    \n",
    "def write_all_numbers(n: int) -> None:\n",
    "    print([index for index in range(n) if is_x_equal_with_sdiv(index)])\n",
    "    \n",
    "write_all_numbers(520)\n"
   ]
  },
  {
   "cell_type": "code",
   "execution_count": 7,
   "metadata": {
    "ExecuteTime": {
     "end_time": "2021-03-03T13:54:05.754470Z",
     "start_time": "2021-03-03T13:54:05.741540Z"
    }
   },
   "outputs": [
    {
     "data": {
      "text/plain": [
       "False"
      ]
     },
     "execution_count": 7,
     "metadata": {},
     "output_type": "execute_result"
    }
   ],
   "source": [
    "# 2. Scrieti o functie care determina daca un sir de caractere - presupus a fi scris cu litere mici - este sau nu palindrom. \n",
    "# Un palindrom este un sir de caractere care citit de la dreapta la stanga are acelasi continut ca si citirea de la stanga la dreapta.\n",
    "# In functie de valoarea unui indicator boolean ignore_spaces, avand valoarea implicita False, se vor ignora (elimina) sau nu spatiile.\n",
    "# Daca sirul dat ca parametru nu are toate literele mici, se va arunca exceptie; \n",
    "\n",
    "def is_palindrome (string: str, ignore_spaces: bool = False) -> str:\n",
    "    '''\n",
    "    Determines if the given string is palindrome.\n",
    "    \n",
    "    :param string: string to be verified\n",
    "    :param ignore_spaces: determines if spaces are ignored\n",
    "        \n",
    "    :return: true if the string is palindrome, else false \n",
    "    '''\n",
    "    if any((character != character.lower()) for character in string):\n",
    "        raise Exception(\"Exista litere mari!\")\n",
    "    if ignore_spaces == True:\n",
    "        string = string.replace(\" \", \"\")\n",
    "    return string == string[::-1]\n",
    "\n",
    "is_palindrome('hee e e h')"
   ]
  },
  {
   "cell_type": "code",
   "execution_count": 6,
   "metadata": {
    "ExecuteTime": {
     "end_time": "2021-03-03T19:42:57.902477Z",
     "start_time": "2021-03-03T19:42:57.874917Z"
    }
   },
   "outputs": [
    {
     "data": {
      "text/plain": [
       "({1, 5, 6}, 9)"
      ]
     },
     "execution_count": 6,
     "metadata": {},
     "output_type": "execute_result"
    }
   ],
   "source": [
    "# 3. Functia va returna un tuplu cu: lista de numere care apar in ambele fisiere \n",
    "#si diferenta maxima care exista intre numerele din al doilea fisier si numerele din primul fisier.\n",
    "def common_number_and_max_dif(fis1: str, fis2: str) -> tuple:\n",
    "    f1 = open(fis1)\n",
    "    f2 = open(fis2)\n",
    "    list1 : list = [int(index) for index in f1]\n",
    "    list2 : list = [int(index) for index in f2]\n",
    "    list1_set = set(list1)\n",
    "    list2_set = set(list2)\n",
    "    return (list1_set.intersection(list2_set), max(list1 + list2) - min(list1 + list2))\n",
    "\n",
    "common_number_and_max_dif(\"tema2_fis1.txt\", \"tema2_fis2.txt\")"
   ]
  },
  {
   "cell_type": "code",
   "execution_count": 13,
   "metadata": {
    "ExecuteTime": {
     "end_time": "2021-03-03T14:03:53.139141Z",
     "start_time": "2021-03-03T14:03:53.126179Z"
    }
   },
   "outputs": [
    {
     "name": "stdout",
     "output_type": "stream",
     "text": [
      "15\n",
      "1 apeluri ale functiei sum_divisors_digitscare\n"
     ]
    }
   ],
   "source": [
    "# 4. Sa se scrie o functie sum_divisors_digitscare preia un numar natural strict pozitiv  𝑛  si returneaza suma cifrelor divizorilor sai.\n",
    "# Intr-o alta functie black_hole se apeleaza in mod repetat sum_divisors_digits pe numerele rezultate, pana cand se atinge un numar \n",
    "# maxim de iteratii (implicit 1000) sau se ajunge la numarul 15. Puteti crea alte functii auxiliare.\n",
    "\n",
    "def get_sum_of_digits(number: int) ->list:\n",
    "    '''\n",
    "    Slices the given number into digits and returns their sum.\n",
    "    \n",
    "    :param number: the given number to be sliced in digits\n",
    "        \n",
    "    :return: the sum of the digits of the given number\n",
    "    '''\n",
    "    return sum([int(digit) for digit in str(number)])\n",
    "\n",
    "def sum_divisors_digitscare(number: int) ->int:\n",
    "    '''\n",
    "    Determines the divisors of the given number and calculates the sum of their digits.\n",
    "    \n",
    "    :param number: the given number\n",
    "    \n",
    "    :return: the sum of the given number's divisors digits\n",
    "    '''\n",
    "    divisors: list = [index for index in range(1, number + 1) if number % index == 0]\n",
    "    return sum([get_sum_of_digits(divisor) for divisor in divisors] )\n",
    "    \n",
    "def black_hole(number: int, no_max_of_it: int = 1000) -> None:\n",
    "    '''\n",
    "    Calls the function sum_divisors_digitscare while the current number is not 15 and the maximum number of iterations\n",
    "    haven't been reached.\n",
    "    \n",
    "    :param number: the given number\n",
    "    :param no_max_of_it: the maximum number of iterations\n",
    "    '''\n",
    "    it = 0\n",
    "    while number != 15 and it < no_max_of_it or it == 0:\n",
    "        number = sum_divisors_digitscare(number)\n",
    "        it += 1\n",
    "    print(f'{it} apeluri ale functiei sum_divisors_digitscare')\n",
    "\n",
    "print(sum_divisors_digitscare(15))\n",
    "black_hole(15, 5)\n"
   ]
  },
  {
   "cell_type": "code",
   "execution_count": 2,
   "metadata": {
    "ExecuteTime": {
     "end_time": "2021-03-03T19:39:35.290338Z",
     "start_time": "2021-03-03T19:39:35.273968Z"
    }
   },
   "outputs": [
    {
     "name": "stdout",
     "output_type": "stream",
     "text": [
      "True\n"
     ]
    }
   ],
   "source": [
    "# 5. Sa se scrie o functie care primeste doua dictionare si \n",
    "# returneaza True daca primul dictionar este continut in al doilea si False altfel.\n",
    "\n",
    "def dictionary_in_dictionry(dict1 :dict, dict2 :dict) ->bool:\n",
    "    return all(item in dict2.items() for item in dict1.items())\n",
    "\n",
    "geografie1 = {'Romania': 'Bucuresti', 'Serbia': 'Belgrad'}\n",
    "geografie2 = {'Romania': 'Bucuresti', 'Serbia': 'Belgrad', 'Rusia' : 'Moscova'}\n",
    "print(dictionary_in_dictionry(geografie1,geografie2))\n",
    "    "
   ]
  },
  {
   "cell_type": "code",
   "execution_count": 7,
   "metadata": {
    "ExecuteTime": {
     "end_time": "2021-03-03T19:43:35.377090Z",
     "start_time": "2021-03-03T19:43:35.363468Z"
    }
   },
   "outputs": [
    {
     "name": "stdout",
     "output_type": "stream",
     "text": [
      "array  [ 1  8 -7]\n",
      "matrix (axis = 0) \n",
      " [[39 48 57]]\n",
      "matrix (axis = 1) \n",
      " [[ 1  1]\n",
      " [10 10]]\n"
     ]
    }
   ],
   "source": [
    "# 1. Scrieti o functie care pentru un vector dat  𝑎  dat, returneaza diferenta de ordinul intai intre elementele sale:  𝑏[𝑖]=𝑎[𝑖+1]−𝑎[𝑖] .\n",
    "# Scrieti apoi o alta functie care face acelasi lucru pentru o matrice, pe linii sau pe coloane.\n",
    "\n",
    "import numpy as np\n",
    "\n",
    "def diff1_vector(array: np.array) -> np.array:\n",
    "    '''\n",
    "    Determines first degree difference between array's elements.\n",
    "    \n",
    "    [a,b,c] => [b-a, c-b] = [b, c] - [a, b] = [1:] - [:-1] = np.diff(np.array)\n",
    "    \n",
    "    :param array: the given array \n",
    "    \n",
    "    :return: first degree difference between the given array elements:  𝑏[𝑖]=𝑎[𝑖+1]−𝑎[𝑖] (b - result)\n",
    "    '''\n",
    "    return np.diff(array)\n",
    "\n",
    "def diff1_mat(array: np.array, axis: int) -> np.array:\n",
    "    '''\n",
    "    Determines first degree difference between array's elements on lines / columns depending on axis. \n",
    "    \n",
    "    axis = 0 => vertical\n",
    "    [[a, b]  => [a-c, b-d] = [1:,:] - [:-1,:] = np.diff(np.array, axis = 0)\n",
    "     [c, d]]\n",
    "     \n",
    "    axis = 1 => orizontal\n",
    "    [[a, b]  => [a-b] = [:,1:] - [:,:-1] = np.diff(np.array, axis = 1)\n",
    "     [c, d]]    [c-d]\n",
    "     \n",
    "    :param array: the given array (matrix)\n",
    "    \n",
    "    :return: if axis = 0 first degree difference between array's elements on lines, else if axis = 1 between array's elements on columns\n",
    "    '''\n",
    "    return np.diff(array, axis = axis)\n",
    "    \n",
    "a = np.array([1, 2, 10, 3])\n",
    "print('array ', diff1_vector(a))\n",
    "a  = np.array([[1, 2, 3], [40, 50, 60]])\n",
    "print('matrix (axis = 0) \\n', diff1_mat(a, axis = 0))\n",
    "print('matrix (axis = 1) \\n', diff1_mat(a, axis = 1))\n",
    "    "
   ]
  },
  {
   "cell_type": "code",
   "execution_count": null,
   "metadata": {},
   "outputs": [],
   "source": []
  }
 ],
 "metadata": {
  "kernelspec": {
   "display_name": "Python 3",
   "language": "python",
   "name": "python3"
  },
  "language_info": {
   "codemirror_mode": {
    "name": "ipython",
    "version": 3
   },
   "file_extension": ".py",
   "mimetype": "text/x-python",
   "name": "python",
   "nbconvert_exporter": "python",
   "pygments_lexer": "ipython3",
   "version": "3.8.3"
  }
 },
 "nbformat": 4,
 "nbformat_minor": 4
}
