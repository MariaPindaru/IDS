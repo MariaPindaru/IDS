{
 "cells": [
  {
   "cell_type": "code",
   "execution_count": 1,
   "metadata": {
    "ExecuteTime": {
     "end_time": "2021-03-20T11:44:49.889477Z",
     "start_time": "2021-03-20T11:44:49.199404Z"
    }
   },
   "outputs": [
    {
     "name": "stdout",
     "output_type": "stream",
     "text": [
      "IPywidgets version: 7.5.1\n",
      "NumPy version: 1.18.5\n",
      "Matplotlib version: 3.2.2\n"
     ]
    }
   ],
   "source": [
    "import ipywidgets as widgets\n",
    "print(f'IPywidgets version: {widgets.__version__}')\n",
    "\n",
    "import numpy as np\n",
    "print(f'NumPy version: {np.__version__}')\n",
    "\n",
    "import matplotlib.pyplot as plt\n",
    "import matplotlib\n",
    "print(f'Matplotlib version: {matplotlib.__version__}')\n",
    "\n",
    "from ipywidgets import interact, interactive, fixed, interact_manual"
   ]
  },
  {
   "cell_type": "markdown",
   "metadata": {},
   "source": [
    "Problema 1. (2 puncte) Definiti o functie polinomiala de gradul 3, $f:\\mathbb{R} \\rightarrow \\mathbb{R}$, cu coeficienti constanti prestabiliti. Aplicati algoritmul gradient descent pentru a vedea cum evolueaza cautarea minimului. Folositi minim doua controale ipywidgets: unul pentru pozitia initiala a lui $x$, altul pentru coeficientul $\\alpha>0$ cu care se inmulteste gradientul. Gradientul va fi calculat analitic de voi sau folosind biblioteca [autograd](https://github.com/HIPS/autograd). \n",
    "Modificarea facuta prin metoda gradient descent este:\n",
    "$$\n",
    "x = x - \\alpha \\cdot f'(x)\n",
    "$$\n",
    "Se vor efectua minim 10 iteratii (optional: numarul de iteratii poate fi dat printr-un control ipywidgets), se vor marca pe grafic pozitiile succesive, in mod convenabil. "
   ]
  },
  {
   "cell_type": "code",
   "execution_count": 2,
   "metadata": {
    "ExecuteTime": {
     "end_time": "2021-03-20T11:45:07.584092Z",
     "start_time": "2021-03-20T11:45:07.036736Z"
    }
   },
   "outputs": [
    {
     "data": {
      "application/vnd.jupyter.widget-view+json": {
       "model_id": "47f999b7fbb74501beb575af91ea52ad",
       "version_major": 2,
       "version_minor": 0
      },
      "text/plain": [
       "interactive(children=(FloatSlider(value=1.5, description='x0', max=3.0, min=-1.5, step=0.05), FloatSlider(valu…"
      ]
     },
     "metadata": {},
     "output_type": "display_data"
    }
   ],
   "source": [
    "import numpy as np\n",
    "import matplotlib.pyplot as plt\n",
    "\n",
    "a, b, c, d = 1, -1, -1, 1\n",
    "\n",
    "def func(x: float) -> float:\n",
    "    \"\"\"\n",
    "    Calculeaza functia polinomiala intr-un punct.\n",
    "    \n",
    "    :param x: punctul x in care se calculeaza functia\n",
    "    \n",
    "    :return: rezultatul functiei in punctul x\n",
    "    \"\"\"\n",
    "    return a * np.power(x, 3) + b * np.power(x, 2) + c * x + d\n",
    "\n",
    "def gradient(x: float) -> float:\n",
    "    \"\"\"\n",
    "    Calculeaza gradientul intr-un punct.\n",
    "    \n",
    "    :param x: punctul x in care se calculeaza gradientul\n",
    "    \n",
    "    :return: rezultatul gradientului in punctul x\n",
    "    \"\"\"\n",
    "    return 3 * a * np.power(x, 2)  + 2 * b * x + c\n",
    "\n",
    "def gradient_descent(x0: float = 1.5, alfa: float = 0.1, num_it: int = 10) -> None:\n",
    "    \"\"\"\n",
    "    Calculeaza gradientul descendent pentru functia x si afiseaza pe graficul functiei punctele rezultate.\n",
    "    \n",
    "    :param x0: punctul x initial\n",
    "    :param alfa: rata de invatare\n",
    "    :param num_it: numarul de iteratii care se vor executa\n",
    "    \"\"\"\n",
    "    x_range: np.array =  np.arange(-10, 10, 0.01)\n",
    "    fx: np.array = func(x_range)\n",
    "    \n",
    "    fig, ax = plt.subplots(1, figsize = (10, 10))\n",
    "    \n",
    "    ax.scatter(x0, func(x0))\n",
    "    for _ in range(num_it):\n",
    "        x0 -= alfa * gradient(x0)\n",
    "        ax.scatter(x0, func(x0))\n",
    "\n",
    "    ax.plot(x_range, fx, 'b-')\n",
    "    ax.grid()\n",
    "    ax.axis([-5, 5, -100, 100])\n",
    "    plt.show()\n",
    "\n",
    "interact(gradient_descent, x0 = (-1.5, 3., 0.05), alfa = (0.01, 0.3, 0.01), num_it = (10, 15));"
   ]
  },
  {
   "cell_type": "markdown",
   "metadata": {},
   "source": [
    "Problema 2. (3 puncte) Generati o lista de $n=100$ de perechi de valori $\\{x_i, y_i\\}_{i=0,n-1}$ in intervalul [-20, 10), afisati aceste valori pe un grafic, impreuna cu o dreapta definita de o functie liniara $y=a \\cdot x+b$. Intr-un alt plot afisati, ca histograma, distanta dintre punctele de coordonate $(x_i, y_i)$ si punctele de intersectie ale verticalelor duse prin $x_i$ cu dreapta data, $\\hat{y}_i$. Dreapta trebuie sa fie controlabila din widgets, prin cei doi coeficienti $a$ si $b$. Constatati modificarea histogramei in functie de pozitia dreptei si afisati mean squared error: $$MSE=\\frac{1}{n} \\cdot \\sum_{i=0}^{n-1} (y_i - (a\\cdot x_i + b))^2$$.\n",
    "\n",
    "*Indicatii:*\n",
    "1. Pentru generare de valori distribuite uniform in intervalul [0, 1) puteti folosi functia [numy.random.uniform](https://docs.scipy.org/doc/numpy/reference/generated/numpy.random.uniform.html) si sa faceti inmultire si adunare in mod convenabil.\n",
    "1. Puteti opta sa returnati cele $n$ puncte sub forma `vector_x`, `vector_y`."
   ]
  },
  {
   "cell_type": "code",
   "execution_count": 3,
   "metadata": {
    "ExecuteTime": {
     "end_time": "2021-03-20T11:45:32.093176Z",
     "start_time": "2021-03-20T11:45:31.264474Z"
    }
   },
   "outputs": [
    {
     "data": {
      "application/vnd.jupyter.widget-view+json": {
       "model_id": "2a5543f27cfd4cc2a392128fa943c080",
       "version_major": 2,
       "version_minor": 0
      },
      "text/plain": [
       "interactive(children=(IntSlider(value=1, description='a', max=10, min=-20), IntSlider(value=2, description='b'…"
      ]
     },
     "metadata": {},
     "output_type": "display_data"
    }
   ],
   "source": [
    "np.random.seed(99)\n",
    "\n",
    "def generate_pairs(left: int = -20, right: int = 10, n:int = 100):\n",
    "    \"\"\"\n",
    "    Genereza o lista de n perechi de valori (x,y) in intervalul [left, right)\n",
    "    \n",
    "    :param left: capatul din stanga al intervalului\n",
    "    :param right: capatul din dreapta al intervalului\n",
    "    :param n: numarul de perechi generate\n",
    "    \n",
    "    :return: lista de n perechi (x,y)\n",
    "    \"\"\"\n",
    "    pairs = np.random.uniform(left, right, size = (2, n))  \n",
    "    return pairs[0,:], pairs[1,:]\n",
    "\n",
    "def f(x: float, a: float, b: float) -> float:\n",
    "    \"\"\"\n",
    "    Calculeaza valoarea functiei in punctul x, functia liniara avand coeficientii a si b\n",
    "    \n",
    "    :param x: punctul in care se calculeaza functia\n",
    "    :param a: coeficientul lui x\n",
    "    :param b: termenul liber\n",
    "    \n",
    "    :return: valoarea functiei in punctul x\n",
    "    \"\"\"\n",
    "    return a * x + b\n",
    "\n",
    "def distance_between_points(vector_x: np.array, vector_y: np.array, a: float, b: float):\n",
    "    \"\"\"\n",
    "    Calculeaza distanta dintre punctele de coordonate  (𝑥𝑖,𝑦𝑖) si punctele de intersectie ale verticalelor \n",
    "    duse prin  𝑥𝑖  cu dreapta data,  𝑦̂𝑖.\n",
    "    \n",
    "    :param vector_x: coordonatele x ale punctelor\n",
    "    :param vector_y: coordonatele y ale punctelor\n",
    "    :param a: coeficientul lui x al functiei f\n",
    "    :param b: coeficientul termenului liber al functiei f\n",
    "    \n",
    "    :return: array care contine distantele\n",
    "    \"\"\"\n",
    "    \n",
    "    distance = lambda x, y  : np.sqrt((y - f(x, a, b)) ** 2) # sqrt((x-x)^2 + (y-f(x))^2) = sqrt((y-f(x))^2)\n",
    "    return np.array([distance(random_x, random_y) for random_x, random_y in zip(vector_x, vector_y)])\n",
    "    \n",
    "def plot_pairs(vector_x: np.array, vector_y: np.array, a: float = 1, b: float = 2) -> None:\n",
    "    \"\"\"\n",
    "    Deseneaza doua grafice:\n",
    "        1) graficul care contine punctele generate random si dreapta data de functia f\n",
    "        2) graficul care contine histograma cu distantele dintre punctele date si punctele de intersectie \n",
    "           ale verticalelor duse prin  𝑥𝑖  cu dreapta data\n",
    "        \n",
    "    :param vector_x: coordonatele x ale punctelor\n",
    "    :param vector_y: coordonatele y ale punctelor\n",
    "    :param a: coeficientul lui x al functiei f\n",
    "    :param b: coeficientul termenului liber al functiei f\n",
    "    \"\"\"\n",
    "    fx = f(vector_x, a, b)\n",
    "    fig, (ax1, ax2) = plt.subplots(2, figsize = (10, 15))\n",
    "    \n",
    "    ax1.plot(vector_x, vector_y, 'm.') \n",
    "    ax1.plot(vector_x, fx, 'b-') \n",
    "    ax1.axis([-25, 15, -25, 15])\n",
    "    ax1.set(xlabel='x', ylabel='y')\n",
    "    \n",
    "    distances: np.array = distance_between_points(vector_x, vector_y, a, b)\n",
    "\n",
    "    ax2.hist(distances, bins = 50, density = True)\n",
    "    ax2.set(ylabel='distanta')\n",
    "\n",
    "    plt.show()\n",
    "    \n",
    "    \n",
    "vector_x, vector_y = generate_pairs()\n",
    "interact(plot_pairs, vector_x = fixed(vector_x), vector_y = fixed(vector_y), a = (-20, 10), b = (-20, 10));"
   ]
  },
  {
   "cell_type": "code",
   "execution_count": null,
   "metadata": {},
   "outputs": [],
   "source": []
  }
 ],
 "metadata": {
  "kernelspec": {
   "display_name": "Python 3",
   "language": "python",
   "name": "python3"
  },
  "language_info": {
   "codemirror_mode": {
    "name": "ipython",
    "version": 3
   },
   "file_extension": ".py",
   "mimetype": "text/x-python",
   "name": "python",
   "nbconvert_exporter": "python",
   "pygments_lexer": "ipython3",
   "version": "3.8.3"
  },
  "varInspector": {
   "cols": {
    "lenName": 16,
    "lenType": 16,
    "lenVar": 40
   },
   "kernels_config": {
    "python": {
     "delete_cmd_postfix": "",
     "delete_cmd_prefix": "del ",
     "library": "var_list.py",
     "varRefreshCmd": "print(var_dic_list())"
    },
    "r": {
     "delete_cmd_postfix": ") ",
     "delete_cmd_prefix": "rm(",
     "library": "var_list.r",
     "varRefreshCmd": "cat(var_dic_list()) "
    }
   },
   "types_to_exclude": [
    "module",
    "function",
    "builtin_function_or_method",
    "instance",
    "_Feature"
   ],
   "window_display": false
  }
 },
 "nbformat": 4,
 "nbformat_minor": 4
}
