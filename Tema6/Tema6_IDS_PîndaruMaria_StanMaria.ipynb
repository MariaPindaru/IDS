{
 "cells": [
  {
   "cell_type": "code",
   "execution_count": 1,
   "metadata": {
    "ExecuteTime": {
     "end_time": "2021-05-28T17:40:45.621863Z",
     "start_time": "2021-05-28T17:40:43.088297Z"
    }
   },
   "outputs": [
    {
     "name": "stdout",
     "output_type": "stream",
     "text": [
      "Pandas version: 1.0.5\n",
      "Numpy version: 1.18.5\n",
      "Matplotlib version: 3.2.2\n",
      "Sklearn version: 0.23.1\n"
     ]
    }
   ],
   "source": [
    "import pandas as pd\n",
    "import numpy as np\n",
    "import matplotlib.pyplot as plt\n",
    "import matplotlib\n",
    "import sklearn\n",
    "\n",
    "print(f'Pandas version: {pd.__version__}')\n",
    "print(f'Numpy version: {np.__version__}')\n",
    "print(f'Matplotlib version: {matplotlib.__version__}')\n",
    "print(f'Sklearn version: {sklearn.__version__}')"
   ]
  },
  {
   "cell_type": "code",
   "execution_count": 2,
   "metadata": {
    "ExecuteTime": {
     "end_time": "2021-05-28T17:40:46.613996Z",
     "start_time": "2021-05-28T17:40:46.562382Z"
    }
   },
   "outputs": [],
   "source": [
    "from typing import List, Dict, Any, Tuple, Callable\n",
    "from sklearn.feature_extraction.text import CountVectorizer"
   ]
  },
  {
   "cell_type": "markdown",
   "metadata": {},
   "source": [
    "# Setul de date - SMS Spam Collection"
   ]
  },
  {
   "cell_type": "markdown",
   "metadata": {},
   "source": [
    "## Descrierea setului de date"
   ]
  },
  {
   "cell_type": "markdown",
   "metadata": {
    "ExecuteTime": {
     "end_time": "2021-05-28T14:06:38.874045Z",
     "start_time": "2021-05-28T14:06:38.849696Z"
    }
   },
   "source": [
    "Această colecție de date reprezintă un <b>set public de SMS-uri etichetate ca fiind spam sau non-spam (legitime)</b>, colectate pentru cercetarea în domeniul mesajelor de telefonie mobilă.\n",
    "\n",
    "\n",
    "Setul de date conține, în total, <b>5574 mesaje etichetate</b>.\n",
    "\n",
    "\n",
    "Fiecare mesaj este reprezentat pe o singură linie în fișier, iar fiecare linie este împărțită în două coloane. Prima dintre ele conține eticheta (ham respectiv spam) iar a doua coloană conține mesajul propriu-zis.\n",
    "\n",
    "<b>Conținutul</b> fișierului a fost colectat din resurse gratuite de cercetare de pe Internet. Astfel, putem enumera următoarele surse:\n",
    "- 425 de SMS-uri au fost extrase manual de pe site-ul [Grumbletext Web](http://www.grumbletext.co.uk/). Acesta este un forum din UK în care utilizatorii de telefoane mobile își pot face publice mesajele spam.\n",
    "- 3375 de SMS-uri legitime au fost alese random din NSC (NUS SMS Corpus). Acesta este un set de date care conține aproximativ 10000 de mesaje legitime colectate de către Departamentul de Informatică de la Universitatea Națională din Singapore.\n",
    "- 450 de SMS-uri legitime au fost colectate din [teza de doctorat a lui Caroline Tagg](https://etheses.bham.ac.uk/id/eprint/253/1/Tagg09PhD.pdf)\n",
    "- restul SMS-urilor au fost preluate din \"SMS Spam Corpus v.0.1 Big\" care conține 1002 SMS-uri legitime și 322 spam.\n",
    "\n",
    "Acest set de date își propune să ofere suport în <b>clasificarea</b> mesajelor, astfel încât să se poată diferenția cât mai ușor mesajele <i>spam</i> de cele <i>non-spam</i>."
   ]
  },
  {
   "cell_type": "markdown",
   "metadata": {
    "ExecuteTime": {
     "end_time": "2021-05-28T14:06:49.515373Z",
     "start_time": "2021-05-28T14:06:49.509422Z"
    }
   },
   "source": [
    "## Importarea datelor"
   ]
  },
  {
   "cell_type": "code",
   "execution_count": 3,
   "metadata": {
    "ExecuteTime": {
     "end_time": "2021-05-28T17:40:48.948585Z",
     "start_time": "2021-05-28T17:40:48.883607Z"
    }
   },
   "outputs": [
    {
     "data": {
      "text/html": [
       "<div>\n",
       "<style scoped>\n",
       "    .dataframe tbody tr th:only-of-type {\n",
       "        vertical-align: middle;\n",
       "    }\n",
       "\n",
       "    .dataframe tbody tr th {\n",
       "        vertical-align: top;\n",
       "    }\n",
       "\n",
       "    .dataframe thead th {\n",
       "        text-align: right;\n",
       "    }\n",
       "</style>\n",
       "<table border=\"1\" class=\"dataframe\">\n",
       "  <thead>\n",
       "    <tr style=\"text-align: right;\">\n",
       "      <th></th>\n",
       "      <th>label</th>\n",
       "      <th>message</th>\n",
       "    </tr>\n",
       "  </thead>\n",
       "  <tbody>\n",
       "    <tr>\n",
       "      <th>0</th>\n",
       "      <td>ham</td>\n",
       "      <td>Go until jurong point, crazy.. Available only ...</td>\n",
       "    </tr>\n",
       "    <tr>\n",
       "      <th>1</th>\n",
       "      <td>ham</td>\n",
       "      <td>Ok lar... Joking wif u oni...</td>\n",
       "    </tr>\n",
       "    <tr>\n",
       "      <th>2</th>\n",
       "      <td>spam</td>\n",
       "      <td>Free entry in 2 a wkly comp to win FA Cup fina...</td>\n",
       "    </tr>\n",
       "    <tr>\n",
       "      <th>3</th>\n",
       "      <td>ham</td>\n",
       "      <td>U dun say so early hor... U c already then say...</td>\n",
       "    </tr>\n",
       "    <tr>\n",
       "      <th>4</th>\n",
       "      <td>ham</td>\n",
       "      <td>Nah I don't think he goes to usf, he lives aro...</td>\n",
       "    </tr>\n",
       "  </tbody>\n",
       "</table>\n",
       "</div>"
      ],
      "text/plain": [
       "  label                                            message\n",
       "0   ham  Go until jurong point, crazy.. Available only ...\n",
       "1   ham                      Ok lar... Joking wif u oni...\n",
       "2  spam  Free entry in 2 a wkly comp to win FA Cup fina...\n",
       "3   ham  U dun say so early hor... U c already then say...\n",
       "4   ham  Nah I don't think he goes to usf, he lives aro..."
      ]
     },
     "execution_count": 3,
     "metadata": {},
     "output_type": "execute_result"
    }
   ],
   "source": [
    "names_housting: List[str] = ['label', 'message']    \n",
    "\n",
    "sms_data: pd.DataFrame = pd.read_csv('./data/SMSSpamCollection', names = names_housting, delimiter = '\\t')\n",
    "sms_data.head()"
   ]
  },
  {
   "cell_type": "code",
   "execution_count": 4,
   "metadata": {
    "ExecuteTime": {
     "end_time": "2021-05-28T17:40:51.182310Z",
     "start_time": "2021-05-28T17:40:51.164195Z"
    }
   },
   "outputs": [
    {
     "data": {
      "text/html": [
       "<div>\n",
       "<style scoped>\n",
       "    .dataframe tbody tr th:only-of-type {\n",
       "        vertical-align: middle;\n",
       "    }\n",
       "\n",
       "    .dataframe tbody tr th {\n",
       "        vertical-align: top;\n",
       "    }\n",
       "\n",
       "    .dataframe thead th {\n",
       "        text-align: right;\n",
       "    }\n",
       "</style>\n",
       "<table border=\"1\" class=\"dataframe\">\n",
       "  <thead>\n",
       "    <tr style=\"text-align: right;\">\n",
       "      <th></th>\n",
       "      <th>label</th>\n",
       "      <th>message</th>\n",
       "    </tr>\n",
       "  </thead>\n",
       "  <tbody>\n",
       "    <tr>\n",
       "      <th>0</th>\n",
       "      <td>0</td>\n",
       "      <td>Go until jurong point, crazy.. Available only ...</td>\n",
       "    </tr>\n",
       "    <tr>\n",
       "      <th>1</th>\n",
       "      <td>0</td>\n",
       "      <td>Ok lar... Joking wif u oni...</td>\n",
       "    </tr>\n",
       "    <tr>\n",
       "      <th>2</th>\n",
       "      <td>1</td>\n",
       "      <td>Free entry in 2 a wkly comp to win FA Cup fina...</td>\n",
       "    </tr>\n",
       "    <tr>\n",
       "      <th>3</th>\n",
       "      <td>0</td>\n",
       "      <td>U dun say so early hor... U c already then say...</td>\n",
       "    </tr>\n",
       "    <tr>\n",
       "      <th>4</th>\n",
       "      <td>0</td>\n",
       "      <td>Nah I don't think he goes to usf, he lives aro...</td>\n",
       "    </tr>\n",
       "  </tbody>\n",
       "</table>\n",
       "</div>"
      ],
      "text/plain": [
       "   label                                            message\n",
       "0      0  Go until jurong point, crazy.. Available only ...\n",
       "1      0                      Ok lar... Joking wif u oni...\n",
       "2      1  Free entry in 2 a wkly comp to win FA Cup fina...\n",
       "3      0  U dun say so early hor... U c already then say...\n",
       "4      0  Nah I don't think he goes to usf, he lives aro..."
      ]
     },
     "execution_count": 4,
     "metadata": {},
     "output_type": "execute_result"
    }
   ],
   "source": [
    "sms_data['label'] = sms_data['label'].map({'spam': 1, 'ham': 0})\n",
    "sms_data.head()"
   ]
  },
  {
   "cell_type": "markdown",
   "metadata": {},
   "source": [
    "## Analiza exploratorie"
   ]
  },
  {
   "cell_type": "markdown",
   "metadata": {},
   "source": [
    "### Numarul de cuvinte"
   ]
  },
  {
   "cell_type": "code",
   "execution_count": 5,
   "metadata": {
    "ExecuteTime": {
     "end_time": "2021-05-28T17:40:53.501146Z",
     "start_time": "2021-05-28T17:40:53.238713Z"
    }
   },
   "outputs": [
    {
     "name": "stdout",
     "output_type": "stream",
     "text": [
      "Dimensiune vocabular: 8713\n"
     ]
    }
   ],
   "source": [
    "vect = CountVectorizer()\n",
    "vect_fit = vect.fit_transform(sms_data.iloc[:, 1])\n",
    "print(f'Dimensiune vocabular: {len(vect.vocabulary_)}')"
   ]
  },
  {
   "cell_type": "markdown",
   "metadata": {},
   "source": [
    "### Distributia claselor"
   ]
  },
  {
   "cell_type": "code",
   "execution_count": 6,
   "metadata": {
    "ExecuteTime": {
     "end_time": "2021-05-28T17:40:55.279492Z",
     "start_time": "2021-05-28T17:40:55.269078Z"
    }
   },
   "outputs": [
    {
     "name": "stdout",
     "output_type": "stream",
     "text": [
      "Numarul de mesaje cu label-ul 'ham': 4825\n",
      "Numarul de mesaje cu label-ul 'spam: 747\n"
     ]
    }
   ],
   "source": [
    "ham_count: int = len(sms_data[sms_data.label == 0].index)\n",
    "spam_count: int = len(sms_data[sms_data.label == 1].index)\n",
    "\n",
    "print(f\"Numarul de mesaje cu label-ul 'ham': {ham_count}\")\n",
    "print(f\"Numarul de mesaje cu label-ul 'spam: {spam_count}\")"
   ]
  },
  {
   "cell_type": "code",
   "execution_count": 7,
   "metadata": {
    "ExecuteTime": {
     "end_time": "2021-05-28T17:40:56.828740Z",
     "start_time": "2021-05-28T17:40:56.624980Z"
    }
   },
   "outputs": [
    {
     "data": {
      "image/png": "[encoded data removed]",
      "text/plain": [
       "<Figure size 432x288 with 1 Axes>"
      ]
     },
     "metadata": {
      "needs_background": "light"
     },
     "output_type": "display_data"
    }
   ],
   "source": [
    "hist_x = ['ham', 'spam']; \n",
    "hist_y = [ham_count, spam_count]\n",
    "stats = plt.bar(hist_x, hist_y, align='center')\n",
    "stats[0].set_color('b')\n",
    "stats[1].set_color('r')\n",
    "plt.xlabel('Categorie mesaj')\n",
    "plt.ylabel('Număr mesaje')\n",
    "plt.show()"
   ]
  },
  {
   "cell_type": "markdown",
   "metadata": {},
   "source": [
    "### Cele mai frecvente cuvinte"
   ]
  },
  {
   "cell_type": "code",
   "execution_count": 8,
   "metadata": {
    "ExecuteTime": {
     "end_time": "2021-05-28T17:40:58.798351Z",
     "start_time": "2021-05-28T17:40:58.327601Z"
    }
   },
   "outputs": [
    {
     "name": "stdout",
     "output_type": "stream",
     "text": [
      "Cele mai frecvente 20 de cuvinte:\n"
     ]
    },
    {
     "data": {
      "text/html": [
       "<div>\n",
       "<style scoped>\n",
       "    .dataframe tbody tr th:only-of-type {\n",
       "        vertical-align: middle;\n",
       "    }\n",
       "\n",
       "    .dataframe tbody tr th {\n",
       "        vertical-align: top;\n",
       "    }\n",
       "\n",
       "    .dataframe thead th {\n",
       "        text-align: right;\n",
       "    }\n",
       "</style>\n",
       "<table border=\"1\" class=\"dataframe\">\n",
       "  <thead>\n",
       "    <tr style=\"text-align: right;\">\n",
       "      <th></th>\n",
       "      <th>Cuvant</th>\n",
       "      <th>Frecvență</th>\n",
       "    </tr>\n",
       "  </thead>\n",
       "  <tbody>\n",
       "    <tr>\n",
       "      <th>7806</th>\n",
       "      <td>to</td>\n",
       "      <td>2253</td>\n",
       "    </tr>\n",
       "    <tr>\n",
       "      <th>8668</th>\n",
       "      <td>you</td>\n",
       "      <td>2245</td>\n",
       "    </tr>\n",
       "    <tr>\n",
       "      <th>7674</th>\n",
       "      <td>the</td>\n",
       "      <td>1339</td>\n",
       "    </tr>\n",
       "    <tr>\n",
       "      <th>1097</th>\n",
       "      <td>and</td>\n",
       "      <td>980</td>\n",
       "    </tr>\n",
       "    <tr>\n",
       "      <th>4114</th>\n",
       "      <td>in</td>\n",
       "      <td>903</td>\n",
       "    </tr>\n",
       "    <tr>\n",
       "      <th>4233</th>\n",
       "      <td>is</td>\n",
       "      <td>897</td>\n",
       "    </tr>\n",
       "    <tr>\n",
       "      <th>4968</th>\n",
       "      <td>me</td>\n",
       "      <td>807</td>\n",
       "    </tr>\n",
       "    <tr>\n",
       "      <th>5254</th>\n",
       "      <td>my</td>\n",
       "      <td>766</td>\n",
       "    </tr>\n",
       "    <tr>\n",
       "      <th>4245</th>\n",
       "      <td>it</td>\n",
       "      <td>752</td>\n",
       "    </tr>\n",
       "    <tr>\n",
       "      <th>3323</th>\n",
       "      <td>for</td>\n",
       "      <td>711</td>\n",
       "    </tr>\n",
       "    <tr>\n",
       "      <th>8674</th>\n",
       "      <td>your</td>\n",
       "      <td>681</td>\n",
       "    </tr>\n",
       "    <tr>\n",
       "      <th>5511</th>\n",
       "      <td>of</td>\n",
       "      <td>623</td>\n",
       "    </tr>\n",
       "    <tr>\n",
       "      <th>1828</th>\n",
       "      <td>call</td>\n",
       "      <td>593</td>\n",
       "    </tr>\n",
       "    <tr>\n",
       "      <th>7670</th>\n",
       "      <td>that</td>\n",
       "      <td>586</td>\n",
       "    </tr>\n",
       "    <tr>\n",
       "      <th>3794</th>\n",
       "      <td>have</td>\n",
       "      <td>578</td>\n",
       "    </tr>\n",
       "    <tr>\n",
       "      <th>5559</th>\n",
       "      <td>on</td>\n",
       "      <td>538</td>\n",
       "    </tr>\n",
       "    <tr>\n",
       "      <th>5453</th>\n",
       "      <td>now</td>\n",
       "      <td>499</td>\n",
       "    </tr>\n",
       "    <tr>\n",
       "      <th>1196</th>\n",
       "      <td>are</td>\n",
       "      <td>495</td>\n",
       "    </tr>\n",
       "    <tr>\n",
       "      <th>1853</th>\n",
       "      <td>can</td>\n",
       "      <td>471</td>\n",
       "    </tr>\n",
       "    <tr>\n",
       "      <th>7074</th>\n",
       "      <td>so</td>\n",
       "      <td>462</td>\n",
       "    </tr>\n",
       "  </tbody>\n",
       "</table>\n",
       "</div>"
      ],
      "text/plain": [
       "     Cuvant  Frecvență\n",
       "7806     to       2253\n",
       "8668    you       2245\n",
       "7674    the       1339\n",
       "1097    and        980\n",
       "4114     in        903\n",
       "4233     is        897\n",
       "4968     me        807\n",
       "5254     my        766\n",
       "4245     it        752\n",
       "3323    for        711\n",
       "8674   your        681\n",
       "5511     of        623\n",
       "1828   call        593\n",
       "7670   that        586\n",
       "3794   have        578\n",
       "5559     on        538\n",
       "5453    now        499\n",
       "1196    are        495\n",
       "1853    can        471\n",
       "7074     so        462"
      ]
     },
     "metadata": {},
     "output_type": "display_data"
    }
   ],
   "source": [
    "k = 20\n",
    "word_list, count_list = vect.get_feature_names(), vect_fit.toarray().sum(axis=0)\n",
    "word_freq = pd.DataFrame(list(zip(word_list, count_list)), columns =['Cuvant', 'Frecvență'])\n",
    "\n",
    "print(f'Cele mai frecvente {k} de cuvinte:')\n",
    "word_freq_desc = word_freq.sort_values(by='Frecvență', ascending=False)[:k]\n",
    "display(word_freq_desc)"
   ]
  },
  {
   "cell_type": "markdown",
   "metadata": {},
   "source": [
    "### Lungime minima/medie/maxima "
   ]
  },
  {
   "cell_type": "code",
   "execution_count": 9,
   "metadata": {
    "ExecuteTime": {
     "end_time": "2021-05-28T17:41:00.686297Z",
     "start_time": "2021-05-28T17:41:00.662489Z"
    }
   },
   "outputs": [
    {
     "data": {
      "text/html": [
       "<div>\n",
       "<style scoped>\n",
       "    .dataframe tbody tr th:only-of-type {\n",
       "        vertical-align: middle;\n",
       "    }\n",
       "\n",
       "    .dataframe tbody tr th {\n",
       "        vertical-align: top;\n",
       "    }\n",
       "\n",
       "    .dataframe thead th {\n",
       "        text-align: right;\n",
       "    }\n",
       "</style>\n",
       "<table border=\"1\" class=\"dataframe\">\n",
       "  <thead>\n",
       "    <tr style=\"text-align: right;\">\n",
       "      <th></th>\n",
       "      <th>label</th>\n",
       "      <th>message</th>\n",
       "      <th>lenght</th>\n",
       "    </tr>\n",
       "  </thead>\n",
       "  <tbody>\n",
       "    <tr>\n",
       "      <th>0</th>\n",
       "      <td>0</td>\n",
       "      <td>Go until jurong point, crazy.. Available only ...</td>\n",
       "      <td>111</td>\n",
       "    </tr>\n",
       "    <tr>\n",
       "      <th>1</th>\n",
       "      <td>0</td>\n",
       "      <td>Ok lar... Joking wif u oni...</td>\n",
       "      <td>29</td>\n",
       "    </tr>\n",
       "    <tr>\n",
       "      <th>2</th>\n",
       "      <td>1</td>\n",
       "      <td>Free entry in 2 a wkly comp to win FA Cup fina...</td>\n",
       "      <td>155</td>\n",
       "    </tr>\n",
       "    <tr>\n",
       "      <th>3</th>\n",
       "      <td>0</td>\n",
       "      <td>U dun say so early hor... U c already then say...</td>\n",
       "      <td>49</td>\n",
       "    </tr>\n",
       "    <tr>\n",
       "      <th>4</th>\n",
       "      <td>0</td>\n",
       "      <td>Nah I don't think he goes to usf, he lives aro...</td>\n",
       "      <td>61</td>\n",
       "    </tr>\n",
       "  </tbody>\n",
       "</table>\n",
       "</div>"
      ],
      "text/plain": [
       "   label                                            message  lenght\n",
       "0      0  Go until jurong point, crazy.. Available only ...     111\n",
       "1      0                      Ok lar... Joking wif u oni...      29\n",
       "2      1  Free entry in 2 a wkly comp to win FA Cup fina...     155\n",
       "3      0  U dun say so early hor... U c already then say...      49\n",
       "4      0  Nah I don't think he goes to usf, he lives aro...      61"
      ]
     },
     "execution_count": 9,
     "metadata": {},
     "output_type": "execute_result"
    }
   ],
   "source": [
    "messages_lenght: pd.DataFrame = sms_data.copy()\n",
    "messages_lenght['lenght'] = messages_lenght['message'].apply(len)\n",
    "messages_lenght.head()"
   ]
  },
  {
   "cell_type": "code",
   "execution_count": 10,
   "metadata": {
    "ExecuteTime": {
     "end_time": "2021-05-28T17:41:03.538902Z",
     "start_time": "2021-05-28T17:41:03.513110Z"
    }
   },
   "outputs": [
    {
     "name": "stdout",
     "output_type": "stream",
     "text": [
      "Lungimea minima a unui mesaj: 2 caractere\n",
      "Lungimea maxima a unui mesaj: 910 caractere\n",
      "Lungimea medie a unui mesaj: 80 caractere\n"
     ]
    }
   ],
   "source": [
    "print(f'Lungimea minima a unui mesaj: {int(messages_lenght.lenght.describe()[\"min\"])} caractere')\n",
    "print(f'Lungimea maxima a unui mesaj: {int(messages_lenght.lenght.describe()[\"max\"])} caractere')\n",
    "print(f'Lungimea medie a unui mesaj: {int(messages_lenght.lenght.describe()[\"mean\"])} caractere')"
   ]
  },
  {
   "cell_type": "code",
   "execution_count": 11,
   "metadata": {
    "ExecuteTime": {
     "end_time": "2021-05-28T17:41:06.531035Z",
     "start_time": "2021-05-28T17:41:06.042321Z"
    },
    "scrolled": true
   },
   "outputs": [
    {
     "data": {
      "image/png": "[encoded data removed]",
      "text/plain": [
       "<Figure size 432x288 with 1 Axes>"
      ]
     },
     "metadata": {
      "needs_background": "light"
     },
     "output_type": "display_data"
    }
   ],
   "source": [
    "plt.hist(x = messages_lenght.lenght, color='b', bins = 50)\n",
    "\n",
    "plt.axvline(int(messages_lenght.lenght.describe()[\"mean\"]), \n",
    "            color='r', linewidth=2.5, label=\"Lungimea medie a unui mesaj\")\n",
    "\n",
    "plt.title('Distribuția lungimilor mesajelor')\n",
    "plt.xlabel('Lungimea mesajului (nr de caractere)')\n",
    "plt.ylabel('Numarul de mesaje')\n",
    "plt.legend(loc=0)\n",
    "plt.show()"
   ]
  },
  {
   "cell_type": "markdown",
   "metadata": {},
   "source": [
    "# Setul de date - Sentiment Labelled Sentences"
   ]
  },
  {
   "cell_type": "markdown",
   "metadata": {},
   "source": [
    "## Descrierea setului de date\n",
    "Acest set de date conține <b>propoziții etichetate în funcție de sentimentele pe care le exprimă (1 - pozitiv, 0 - negativ)</b>.\n",
    "\n",
    "Setul de date conține, în total, <b>3000</b> de astfel de propoziții.\n",
    "\n",
    "Fiecare propoziție este reprezentată pe o singură linie în fișier, iar fiecare linie este împărțită în două coloane. Prima dintre ele conține propoziția propiu-zisă iar a doua coloană conține eticheta (0 sau 1).\n",
    "\n",
    "<b>Conținutul</b> este luat din trei surse diferite:\n",
    "- [imdb.com](https://www.imdb.com/)\n",
    "- [amazon.com](https://www.amazon.com/)\n",
    "- [yelp.com](https://www.yelp.ie/dublin)\n",
    "\n",
    "Pentru fiecare dintre aceste surse există câte un fișier text separat care conține 500 de propoziții pozitive și 500 negative. Aceste au fost selectate în mod aleator din seturi de date mai mari.\n",
    "\n",
    "<b>Imbd:</b>\n",
    "Conține review-uri referitoare la filme.\n",
    "\n",
    "\n",
    "<b>Amazon:</b>\n",
    "Conține review-uri și scoruri pentru produsele vândute pe [amazon.com](https://www.amazon.com/) din categoria de telefoane și accesorii. Scorurile au valori între 1 și 5. Astfel, acele valori de 4 și 5 sunt considerate ca fiind pozitive, iar restul negative.\n",
    "\n",
    "<b>Yelp:</b>\n",
    "Conține review-uri referitoare la restaurante. Scorurile sunt considerate exact la fel ca și pentru Amazon.\n",
    "\n",
    "Acest set de date își propune să ofere suport în <b>clasificarea</b> propozițiilor, astfel încât să se poată diferenția cât mai ușor <i>sentimentele pozitive</i> de cele <i>negative</i>."
   ]
  },
  {
   "cell_type": "markdown",
   "metadata": {},
   "source": [
    "## Importarea datelor"
   ]
  },
  {
   "cell_type": "code",
   "execution_count": 12,
   "metadata": {
    "ExecuteTime": {
     "end_time": "2021-05-28T17:41:08.873941Z",
     "start_time": "2021-05-28T17:41:08.829303Z"
    }
   },
   "outputs": [
    {
     "data": {
      "text/html": [
       "<div>\n",
       "<style scoped>\n",
       "    .dataframe tbody tr th:only-of-type {\n",
       "        vertical-align: middle;\n",
       "    }\n",
       "\n",
       "    .dataframe tbody tr th {\n",
       "        vertical-align: top;\n",
       "    }\n",
       "\n",
       "    .dataframe thead th {\n",
       "        text-align: right;\n",
       "    }\n",
       "</style>\n",
       "<table border=\"1\" class=\"dataframe\">\n",
       "  <thead>\n",
       "    <tr style=\"text-align: right;\">\n",
       "      <th></th>\n",
       "      <th>message</th>\n",
       "      <th>label</th>\n",
       "    </tr>\n",
       "  </thead>\n",
       "  <tbody>\n",
       "    <tr>\n",
       "      <th>0</th>\n",
       "      <td>So there is no way for me to plug it in here i...</td>\n",
       "      <td>0</td>\n",
       "    </tr>\n",
       "    <tr>\n",
       "      <th>1</th>\n",
       "      <td>Good case, Excellent value.</td>\n",
       "      <td>1</td>\n",
       "    </tr>\n",
       "    <tr>\n",
       "      <th>2</th>\n",
       "      <td>Great for the jawbone.</td>\n",
       "      <td>1</td>\n",
       "    </tr>\n",
       "    <tr>\n",
       "      <th>3</th>\n",
       "      <td>Tied to charger for conversations lasting more...</td>\n",
       "      <td>0</td>\n",
       "    </tr>\n",
       "    <tr>\n",
       "      <th>4</th>\n",
       "      <td>The mic is great.</td>\n",
       "      <td>1</td>\n",
       "    </tr>\n",
       "  </tbody>\n",
       "</table>\n",
       "</div>"
      ],
      "text/plain": [
       "                                             message  label\n",
       "0  So there is no way for me to plug it in here i...      0\n",
       "1                        Good case, Excellent value.      1\n",
       "2                             Great for the jawbone.      1\n",
       "3  Tied to charger for conversations lasting more...      0\n",
       "4                                  The mic is great.      1"
      ]
     },
     "execution_count": 12,
     "metadata": {},
     "output_type": "execute_result"
    }
   ],
   "source": [
    "names_housting: List[str] = ['message', 'label']   \n",
    "\n",
    "amazon_data: pd.DataFrame = pd.read_csv('./data/amazon_cells_labelled.txt', names = names_housting, delimiter = '\\t')\n",
    "    \n",
    "yelp_data: pd.DataFrame = pd.read_csv('./data/yelp_labelled.txt', names = names_housting, delimiter = '\\t')\n",
    "    \n",
    "imbd_data: pd.DataFrame = pd.read_csv('./data/imdb_labelled.txt', names = names_housting, delimiter = '\\t')\n",
    "\n",
    "sentiment_data: pd.DataFrame = amazon_data\n",
    "sentiment_data = sentiment_data.append(yelp_data)\n",
    "sentiment_data = sentiment_data.append(imbd_data)\n",
    "\n",
    "sentiment_data.reset_index(inplace = True, drop = True)\n",
    "\n",
    "sentiment_data.head()"
   ]
  },
  {
   "cell_type": "markdown",
   "metadata": {},
   "source": [
    "## Analiza exploratorie"
   ]
  },
  {
   "cell_type": "markdown",
   "metadata": {},
   "source": [
    "### Numarul de cuvinte"
   ]
  },
  {
   "cell_type": "code",
   "execution_count": 13,
   "metadata": {
    "ExecuteTime": {
     "end_time": "2021-05-28T17:41:10.918130Z",
     "start_time": "2021-05-28T17:41:10.818358Z"
    }
   },
   "outputs": [
    {
     "name": "stdout",
     "output_type": "stream",
     "text": [
      "Dimensiune vocabular: 5155\n"
     ]
    }
   ],
   "source": [
    "vect = CountVectorizer()\n",
    "vect_fit = vect.fit_transform(sentiment_data.iloc[:, 0])\n",
    "print(f'Dimensiune vocabular: {len(vect.vocabulary_)}')"
   ]
  },
  {
   "cell_type": "markdown",
   "metadata": {},
   "source": [
    "### Distributia Claselor"
   ]
  },
  {
   "cell_type": "code",
   "execution_count": 15,
   "metadata": {
    "ExecuteTime": {
     "end_time": "2021-05-28T17:41:19.874061Z",
     "start_time": "2021-05-28T17:41:19.855251Z"
    }
   },
   "outputs": [
    {
     "name": "stdout",
     "output_type": "stream",
     "text": [
      "Numarul de mesaje pozitive: 1386\n",
      "Numarul de mesaje negative: 1362\n"
     ]
    }
   ],
   "source": [
    "number_of_negative_messages: int = sentiment_data.label.value_counts()[0]\n",
    "number_of_positive_messages: int = sentiment_data.label.value_counts()[1]\n",
    "\n",
    "print(f'Numarul de mesaje pozitive: {number_of_positive_messages}')\n",
    "print(f'Numarul de mesaje negative: {number_of_negative_messages}')"
   ]
  },
  {
   "cell_type": "code",
   "execution_count": 16,
   "metadata": {
    "ExecuteTime": {
     "end_time": "2021-05-28T17:41:24.993329Z",
     "start_time": "2021-05-28T17:41:24.811790Z"
    }
   },
   "outputs": [
    {
     "data": {
      "image/png": "[encoded data removed]",
      "text/plain": [
       "<Figure size 432x288 with 1 Axes>"
      ]
     },
     "metadata": {
      "needs_background": "light"
     },
     "output_type": "display_data"
    }
   ],
   "source": [
    "hist_x = ['negative', 'positive']; \n",
    "hist_y = [number_of_negative_messages, number_of_positive_messages]\n",
    "stats = plt.bar(hist_x, hist_y, align='center')\n",
    "stats[0].set_color('b')\n",
    "stats[1].set_color('r')\n",
    "plt.xlabel('Categorie mesaj')\n",
    "plt.ylabel('Număr propozitii')\n",
    "plt.show()"
   ]
  },
  {
   "cell_type": "markdown",
   "metadata": {},
   "source": [
    "### Cele mai frecvente 20 de cuvinte"
   ]
  },
  {
   "cell_type": "code",
   "execution_count": 17,
   "metadata": {
    "ExecuteTime": {
     "end_time": "2021-05-28T17:41:37.105039Z",
     "start_time": "2021-05-28T17:41:36.941811Z"
    }
   },
   "outputs": [
    {
     "name": "stdout",
     "output_type": "stream",
     "text": [
      "Cele mai frecvente 20 de cuvinte:\n"
     ]
    },
    {
     "data": {
      "text/html": [
       "<div>\n",
       "<style scoped>\n",
       "    .dataframe tbody tr th:only-of-type {\n",
       "        vertical-align: middle;\n",
       "    }\n",
       "\n",
       "    .dataframe tbody tr th {\n",
       "        vertical-align: top;\n",
       "    }\n",
       "\n",
       "    .dataframe thead th {\n",
       "        text-align: right;\n",
       "    }\n",
       "</style>\n",
       "<table border=\"1\" class=\"dataframe\">\n",
       "  <thead>\n",
       "    <tr style=\"text-align: right;\">\n",
       "      <th></th>\n",
       "      <th>Cuvant</th>\n",
       "      <th>Frecvență</th>\n",
       "    </tr>\n",
       "  </thead>\n",
       "  <tbody>\n",
       "    <tr>\n",
       "      <th>4531</th>\n",
       "      <td>the</td>\n",
       "      <td>1953</td>\n",
       "    </tr>\n",
       "    <tr>\n",
       "      <th>216</th>\n",
       "      <td>and</td>\n",
       "      <td>1138</td>\n",
       "    </tr>\n",
       "    <tr>\n",
       "      <th>2432</th>\n",
       "      <td>it</td>\n",
       "      <td>789</td>\n",
       "    </tr>\n",
       "    <tr>\n",
       "      <th>2427</th>\n",
       "      <td>is</td>\n",
       "      <td>754</td>\n",
       "    </tr>\n",
       "    <tr>\n",
       "      <th>4609</th>\n",
       "      <td>to</td>\n",
       "      <td>670</td>\n",
       "    </tr>\n",
       "    <tr>\n",
       "      <th>4558</th>\n",
       "      <td>this</td>\n",
       "      <td>643</td>\n",
       "    </tr>\n",
       "    <tr>\n",
       "      <th>3097</th>\n",
       "      <td>of</td>\n",
       "      <td>624</td>\n",
       "    </tr>\n",
       "    <tr>\n",
       "      <th>4968</th>\n",
       "      <td>was</td>\n",
       "      <td>571</td>\n",
       "    </tr>\n",
       "    <tr>\n",
       "      <th>2314</th>\n",
       "      <td>in</td>\n",
       "      <td>400</td>\n",
       "    </tr>\n",
       "    <tr>\n",
       "      <th>1829</th>\n",
       "      <td>for</td>\n",
       "      <td>336</td>\n",
       "    </tr>\n",
       "    <tr>\n",
       "      <th>4529</th>\n",
       "      <td>that</td>\n",
       "      <td>316</td>\n",
       "    </tr>\n",
       "    <tr>\n",
       "      <th>3063</th>\n",
       "      <td>not</td>\n",
       "      <td>306</td>\n",
       "    </tr>\n",
       "    <tr>\n",
       "      <th>5069</th>\n",
       "      <td>with</td>\n",
       "      <td>274</td>\n",
       "    </tr>\n",
       "    <tr>\n",
       "      <th>2982</th>\n",
       "      <td>my</td>\n",
       "      <td>254</td>\n",
       "    </tr>\n",
       "    <tr>\n",
       "      <th>4890</th>\n",
       "      <td>very</td>\n",
       "      <td>245</td>\n",
       "    </tr>\n",
       "    <tr>\n",
       "      <th>1993</th>\n",
       "      <td>good</td>\n",
       "      <td>230</td>\n",
       "    </tr>\n",
       "    <tr>\n",
       "      <th>5138</th>\n",
       "      <td>you</td>\n",
       "      <td>222</td>\n",
       "    </tr>\n",
       "    <tr>\n",
       "      <th>3122</th>\n",
       "      <td>on</td>\n",
       "      <td>221</td>\n",
       "    </tr>\n",
       "    <tr>\n",
       "      <th>2023</th>\n",
       "      <td>great</td>\n",
       "      <td>210</td>\n",
       "    </tr>\n",
       "    <tr>\n",
       "      <th>637</th>\n",
       "      <td>but</td>\n",
       "      <td>201</td>\n",
       "    </tr>\n",
       "  </tbody>\n",
       "</table>\n",
       "</div>"
      ],
      "text/plain": [
       "     Cuvant  Frecvență\n",
       "4531    the       1953\n",
       "216     and       1138\n",
       "2432     it        789\n",
       "2427     is        754\n",
       "4609     to        670\n",
       "4558   this        643\n",
       "3097     of        624\n",
       "4968    was        571\n",
       "2314     in        400\n",
       "1829    for        336\n",
       "4529   that        316\n",
       "3063    not        306\n",
       "5069   with        274\n",
       "2982     my        254\n",
       "4890   very        245\n",
       "1993   good        230\n",
       "5138    you        222\n",
       "3122     on        221\n",
       "2023  great        210\n",
       "637     but        201"
      ]
     },
     "metadata": {},
     "output_type": "display_data"
    }
   ],
   "source": [
    "k = 20\n",
    "word_list, count_list = vect.get_feature_names(), vect_fit.toarray().sum(axis=0)\n",
    "word_freq = pd.DataFrame(list(zip(word_list, count_list)), columns =['Cuvant', 'Frecvență'])\n",
    "\n",
    "print(f'Cele mai frecvente {k} de cuvinte:')\n",
    "word_freq_desc = word_freq.sort_values(by='Frecvență', ascending=False)[:k]\n",
    "display(word_freq_desc)"
   ]
  },
  {
   "cell_type": "markdown",
   "metadata": {},
   "source": [
    "### Lungime minima/medie/maxima "
   ]
  },
  {
   "cell_type": "code",
   "execution_count": 18,
   "metadata": {
    "ExecuteTime": {
     "end_time": "2021-05-28T17:41:40.764453Z",
     "start_time": "2021-05-28T17:41:40.742621Z"
    }
   },
   "outputs": [
    {
     "data": {
      "text/html": [
       "<div>\n",
       "<style scoped>\n",
       "    .dataframe tbody tr th:only-of-type {\n",
       "        vertical-align: middle;\n",
       "    }\n",
       "\n",
       "    .dataframe tbody tr th {\n",
       "        vertical-align: top;\n",
       "    }\n",
       "\n",
       "    .dataframe thead th {\n",
       "        text-align: right;\n",
       "    }\n",
       "</style>\n",
       "<table border=\"1\" class=\"dataframe\">\n",
       "  <thead>\n",
       "    <tr style=\"text-align: right;\">\n",
       "      <th></th>\n",
       "      <th>message</th>\n",
       "      <th>label</th>\n",
       "      <th>lenght</th>\n",
       "    </tr>\n",
       "  </thead>\n",
       "  <tbody>\n",
       "    <tr>\n",
       "      <th>0</th>\n",
       "      <td>So there is no way for me to plug it in here i...</td>\n",
       "      <td>0</td>\n",
       "      <td>82</td>\n",
       "    </tr>\n",
       "    <tr>\n",
       "      <th>1</th>\n",
       "      <td>Good case, Excellent value.</td>\n",
       "      <td>1</td>\n",
       "      <td>27</td>\n",
       "    </tr>\n",
       "    <tr>\n",
       "      <th>2</th>\n",
       "      <td>Great for the jawbone.</td>\n",
       "      <td>1</td>\n",
       "      <td>22</td>\n",
       "    </tr>\n",
       "    <tr>\n",
       "      <th>3</th>\n",
       "      <td>Tied to charger for conversations lasting more...</td>\n",
       "      <td>0</td>\n",
       "      <td>79</td>\n",
       "    </tr>\n",
       "    <tr>\n",
       "      <th>4</th>\n",
       "      <td>The mic is great.</td>\n",
       "      <td>1</td>\n",
       "      <td>17</td>\n",
       "    </tr>\n",
       "  </tbody>\n",
       "</table>\n",
       "</div>"
      ],
      "text/plain": [
       "                                             message  label  lenght\n",
       "0  So there is no way for me to plug it in here i...      0      82\n",
       "1                        Good case, Excellent value.      1      27\n",
       "2                             Great for the jawbone.      1      22\n",
       "3  Tied to charger for conversations lasting more...      0      79\n",
       "4                                  The mic is great.      1      17"
      ]
     },
     "execution_count": 18,
     "metadata": {},
     "output_type": "execute_result"
    }
   ],
   "source": [
    "messages_lenght: pd.DataFrame = sentiment_data\n",
    "messages_lenght['lenght'] = sentiment_data['message'].apply(len)\n",
    "messages_lenght.head()"
   ]
  },
  {
   "cell_type": "code",
   "execution_count": 26,
   "metadata": {
    "ExecuteTime": {
     "end_time": "2021-05-28T17:47:32.418577Z",
     "start_time": "2021-05-28T17:47:32.392166Z"
    }
   },
   "outputs": [
    {
     "name": "stdout",
     "output_type": "stream",
     "text": [
      "Lungimea minima a unei propozitii: 7 caractere\n",
      "Lungimea maxima a unei propozitii: 7944 caractere\n",
      "Lungimea medie a unei propozitii: 71 caractere\n"
     ]
    }
   ],
   "source": [
    "print(f'Lungimea minima a unei propozitii: {int(messages_lenght.lenght.describe()[\"min\"])} caractere')\n",
    "print(f'Lungimea maxima a unei propozitii: {int(messages_lenght.lenght.describe()[\"max\"])} caractere')\n",
    "print(f'Lungimea medie a unei propozitii: {int(messages_lenght.lenght.describe()[\"mean\"])} caractere')"
   ]
  },
  {
   "cell_type": "code",
   "execution_count": 25,
   "metadata": {
    "ExecuteTime": {
     "end_time": "2021-05-28T17:46:32.328198Z",
     "start_time": "2021-05-28T17:46:20.618036Z"
    },
    "code_folding": []
   },
   "outputs": [
    {
     "data": {
      "image/png": "[encoded data removed]",
      "text/plain": [
       "<Figure size 432x288 with 1 Axes>"
      ]
     },
     "metadata": {
      "needs_background": "light"
     },
     "output_type": "display_data"
    }
   ],
   "source": [
    "plt.hist(x = messages_lenght.lenght, color='b', bins = 3000)\n",
    "\n",
    "plt.axvline(int(messages_lenght.lenght.describe()[\"mean\"]), \n",
    "            color='r', linewidth=2.5, label=\"Lungimea medie a unei propozitii\")\n",
    "\n",
    "plt.title('Distribuția lungimilor propozitilor')\n",
    "plt.xlabel('Lungimea propozitiei (nr de caractere)')\n",
    "plt.ylabel('Numarul de propozitii')\n",
    "plt.legend(loc=0)\n",
    "plt.axis((0,300, 0, 200))\n",
    "plt.show()"
   ]
  },
  {
   "cell_type": "markdown",
   "metadata": {},
   "source": [
    "## Preprocesarea datelor"
   ]
  },
  {
   "cell_type": "code",
   "execution_count": 21,
   "metadata": {
    "ExecuteTime": {
     "end_time": "2021-05-28T17:04:57.754247Z",
     "start_time": "2021-05-28T17:04:57.288245Z"
    }
   },
   "outputs": [],
   "source": [
    "from sklearn.feature_extraction.text import TfidfTransformer\n",
    "from sklearn.model_selection import train_test_split\n",
    "from sklearn.model_selection import GridSearchCV, cross_validate\n",
    "from sklearn.feature_extraction.text import TfidfTransformer\n",
    "from sklearn.feature_extraction.text import CountVectorizer\n",
    "from sklearn.linear_model import SGDClassifier\n",
    "from sklearn.neighbors import KNeighborsClassifier\n",
    "from sklearn.tree import DecisionTreeClassifier\n",
    "from sklearn.linear_model import SGDClassifier\n",
    "from sklearn.ensemble import RandomForestClassifier\n",
    "from sklearn.pipeline import Pipeline\n",
    "import scipy"
   ]
  },
  {
   "cell_type": "markdown",
   "metadata": {},
   "source": [
    "### Conversia textului în numere"
   ]
  },
  {
   "cell_type": "markdown",
   "metadata": {},
   "source": [
    "#### Bag of Words\n",
    "Mașinile, spre deosebire de oameni, nu pot înțelege textul brut. Mașinile pot vedea numai numere. În special, tehnicile statistice, cum ar fi învățarea automată, se pot ocupa doar de cifre. Prin urmare, trebuie să ne convertim textul în cifre.\n",
    "\n",
    "Există diferite abordări pentru a converti textul în forma numerică corespunzătoare. Modelul Bag of Words și Modelul de încorporare a cuvintelor sunt două dintre cele mai utilizate abordări. În acest articol, vom folosi modelul sacului de cuvinte pentru a ne converti textul în cifre."
   ]
  },
  {
   "cell_type": "markdown",
   "metadata": {
    "ExecuteTime": {
     "start_time": "2021-05-28T14:55:31.761Z"
    }
   },
   "source": [
    "#### TFIDF"
   ]
  },
  {
   "cell_type": "markdown",
   "metadata": {},
   "source": [
    "Abordarea Bag of Words funcționează bine pentru conversia textului în numere. Cu toate acestea, are un dezavantaj. Atribuie un scor unui cuvânt pe baza apariției sale într-un anumit document. Nu ia în considerare faptul că cuvântul ar putea avea, de asemenea, o frecvență mare de apariție și în alte documente. TFIDF rezolvă această problemă înmulțind frecvența termenului unui cuvânt cu frecvența inversă a documentului. TF înseamnă „Term Frequency”, în timp ce IDF înseamnă „Inverse Document Frequency”.\n",
    "\n",
    "Term frequency - inverse document frequency da pondere unui cuvant care apare frecvent intr-un document, dar nu in multe documente - deci are putere descriptiva pentru documentul in care apare frecvent. Pentru un document $d$ si un cuvant $w$, valoarea tfidf se calculeaza ca:\n",
    "$$\n",
    "tfidf(w, d) = tf(w, d) \\cdot \\log\\left( \\frac{N+1}{N_w+1} \\right) + 1\n",
    "$$\n",
    "unde: $tf(w, d)$ este numarul de aparitii ale lui $w$ in document $d$, $N$ e numarul total de documente din corpus, $N_w$ este numarul de documente din corpus care contin cuvantul $w$. Pentru fiecare document $d$ se calculeaza un astfel de vector, care in final este normalizat in norma $L_2$ la 1."
   ]
  },
  {
   "cell_type": "markdown",
   "metadata": {},
   "source": [
    "##  SMS Spam Collection"
   ]
  },
  {
   "cell_type": "code",
   "execution_count": 22,
   "metadata": {
    "ExecuteTime": {
     "end_time": "2021-05-28T17:04:57.993550Z",
     "start_time": "2021-05-28T17:04:57.758350Z"
    }
   },
   "outputs": [
    {
     "name": "stdout",
     "output_type": "stream",
     "text": [
      "Dimensiunea vocabularului: 8713\n"
     ]
    }
   ],
   "source": [
    "vect: CountVectorizer = CountVectorizer()\n",
    "X: CountVectorizer = vect.fit(sms_data.message)\n",
    "\n",
    "print(f'Dimensiunea vocabularului: {len(vect.vocabulary_)}')"
   ]
  },
  {
   "cell_type": "markdown",
   "metadata": {},
   "source": [
    "### Obținerea vectorului Bag Of Words"
   ]
  },
  {
   "cell_type": "code",
   "execution_count": 23,
   "metadata": {
    "ExecuteTime": {
     "end_time": "2021-05-28T17:04:58.556413Z",
     "start_time": "2021-05-28T17:04:58.002878Z"
    }
   },
   "outputs": [
    {
     "name": "stdout",
     "output_type": "stream",
     "text": [
      "Reprezentarea ca vectori:\n",
      " [[0 0 0 ... 0 0 0]\n",
      " [0 0 0 ... 0 0 0]\n",
      " [0 0 0 ... 0 0 0]\n",
      " ...\n",
      " [0 0 0 ... 0 0 0]\n",
      " [0 0 0 ... 0 0 0]\n",
      " [0 0 0 ... 0 0 0]]\n",
      "Numărul de vectori: 5572\n"
     ]
    }
   ],
   "source": [
    "bow: scipy.sparse.csr.csr_matrix = vect.transform(sms_data.message)\n",
    "print(f'Reprezentarea ca vectori:\\n {bow.toarray()}')\n",
    "print(f'Numărul de vectori: {len(bow.toarray())}')"
   ]
  },
  {
   "cell_type": "code",
   "execution_count": 24,
   "metadata": {
    "ExecuteTime": {
     "end_time": "2021-05-28T17:04:58.579725Z",
     "start_time": "2021-05-28T17:04:58.563358Z"
    }
   },
   "outputs": [
    {
     "name": "stdout",
     "output_type": "stream",
     "text": [
      "Reprezentarea ca vectori rari:\n",
      "  (0, 1082)\t1\n",
      "  (0, 1316)\t1\n",
      "  (0, 1765)\t1\n",
      "  (0, 1767)\t1\n",
      "  (0, 2061)\t1\n",
      "  (0, 2338)\t1\n",
      "  (0, 3571)\t1\n",
      "  (0, 3615)\t1\n",
      "  (0, 3655)\t1\n",
      "  (0, 4114)\t1\n",
      "  (0, 4374)\t1\n",
      "  (0, 4501)\t1\n",
      "  (0, 5571)\t1\n",
      "  (0, 5958)\t1\n",
      "  (0, 7694)\t1\n",
      "  (0, 8084)\t1\n",
      "  (0, 8324)\t1\n",
      "  (0, 8548)\t1\n",
      "  (1, 4342)\t1\n",
      "  (1, 4537)\t1\n",
      "  (1, 5538)\t1\n",
      "  (1, 5567)\t1\n",
      "  (1, 8450)\t1\n",
      "  (2, 77)\t1\n",
      "  (2, 403)\t1\n",
      "  :\t:\n",
      "  (5570, 1794)\t1\n",
      "  (5570, 1802)\t1\n",
      "  (5570, 2606)\t1\n",
      "  (5570, 2905)\t1\n",
      "  (5570, 3323)\t1\n",
      "  (5570, 3373)\t1\n",
      "  (5570, 3489)\t1\n",
      "  (5570, 3709)\t1\n",
      "  (5570, 3805)\t1\n",
      "  (5570, 4114)\t1\n",
      "  (5570, 4188)\t1\n",
      "  (5570, 4245)\t1\n",
      "  (5570, 4642)\t1\n",
      "  (5570, 5367)\t1\n",
      "  (5570, 7089)\t1\n",
      "  (5570, 7099)\t1\n",
      "  (5570, 7674)\t1\n",
      "  (5570, 7806)\t1\n",
      "  (5570, 8120)\t1\n",
      "  (5570, 8371)\t1\n",
      "  (5571, 4253)\t2\n",
      "  (5571, 5276)\t1\n",
      "  (5571, 6548)\t1\n",
      "  (5571, 7806)\t1\n",
      "  (5571, 7938)\t1\n"
     ]
    }
   ],
   "source": [
    "print(f'Reprezentarea ca vectori rari:\\n{bow}')"
   ]
  },
  {
   "cell_type": "code",
   "execution_count": 25,
   "metadata": {
    "ExecuteTime": {
     "end_time": "2021-05-28T17:04:58.741483Z",
     "start_time": "2021-05-28T17:04:58.583197Z"
    }
   },
   "outputs": [],
   "source": [
    "tfidfconverter = TfidfTransformer()\n",
    "X = tfidfconverter.fit_transform(bow).toarray()"
   ]
  },
  {
   "cell_type": "markdown",
   "metadata": {},
   "source": [
    "## Sentiment Labelled Sentences"
   ]
  },
  {
   "cell_type": "code",
   "execution_count": 26,
   "metadata": {
    "ExecuteTime": {
     "end_time": "2021-05-28T17:04:58.925934Z",
     "start_time": "2021-05-28T17:04:58.745394Z"
    }
   },
   "outputs": [
    {
     "name": "stdout",
     "output_type": "stream",
     "text": [
      "Dimensiunea vocabularului: 4896\n"
     ]
    }
   ],
   "source": [
    "vect: CountVectorizer = CountVectorizer(stop_words = 'english')\n",
    "X: CountVectorizer = vect.fit(sentiment_data.message)\n",
    "\n",
    "print(f'Dimensiunea vocabularului: {len(vect.vocabulary_)}')"
   ]
  },
  {
   "cell_type": "markdown",
   "metadata": {},
   "source": [
    "### Obținerea vectorului Bag Of Words"
   ]
  },
  {
   "cell_type": "code",
   "execution_count": 27,
   "metadata": {
    "ExecuteTime": {
     "end_time": "2021-05-28T17:04:59.168977Z",
     "start_time": "2021-05-28T17:04:58.931390Z"
    }
   },
   "outputs": [
    {
     "name": "stdout",
     "output_type": "stream",
     "text": [
      "Reprezentarea ca vectori:\n",
      " [[0 0 0 ... 0 0 0]\n",
      " [0 0 0 ... 0 0 0]\n",
      " [0 0 0 ... 0 0 0]\n",
      " ...\n",
      " [0 0 0 ... 0 0 0]\n",
      " [0 0 0 ... 0 0 0]\n",
      " [0 0 0 ... 0 0 0]]\n",
      "Numărul de vectori: 2748\n",
      "Numărul de elemente dintr-un vector: 4896\n"
     ]
    }
   ],
   "source": [
    "bow: scipy.sparse.csr.csr_matrix = vect.transform(sentiment_data.message)\n",
    "print(f'Reprezentarea ca vectori:\\n {bow.toarray()}')\n",
    "print(f'Numărul de vectori: {len(bow.toarray())}')\n",
    "print(f'Numărul de elemente dintr-un vector: {len(bow.toarray()[0])}')"
   ]
  },
  {
   "cell_type": "code",
   "execution_count": 28,
   "metadata": {
    "ExecuteTime": {
     "end_time": "2021-05-28T17:04:59.193775Z",
     "start_time": "2021-05-28T17:04:59.174063Z"
    }
   },
   "outputs": [
    {
     "name": "stdout",
     "output_type": "stream",
     "text": [
      "Reprezentarea ca vectori rari:\n",
      "  (0, 959)\t1\n",
      "  (0, 3217)\t1\n",
      "  (0, 4566)\t1\n",
      "  (0, 4754)\t1\n",
      "  (1, 661)\t1\n",
      "  (1, 1526)\t1\n",
      "  (1, 1896)\t1\n",
      "  (1, 4631)\t1\n",
      "  (2, 1926)\t1\n",
      "  (2, 2330)\t1\n",
      "  (3, 45)\t1\n",
      "  (3, 716)\t1\n",
      "  (3, 958)\t1\n",
      "  (3, 2446)\t1\n",
      "  (3, 2628)\t1\n",
      "  (3, 2760)\t1\n",
      "  (3, 3312)\t1\n",
      "  (3, 4369)\t1\n",
      "  (4, 1926)\t1\n",
      "  (4, 2740)\t1\n",
      "  (5, 1113)\t1\n",
      "  (5, 2345)\t1\n",
      "  (5, 2524)\t1\n",
      "  (5, 3217)\t1\n",
      "  (5, 3604)\t1\n",
      "  :\t:\n",
      "  (2742, 4717)\t1\n",
      "  (2743, 503)\t1\n",
      "  (2743, 810)\t1\n",
      "  (2743, 1905)\t1\n",
      "  (2743, 2342)\t1\n",
      "  (2743, 2374)\t1\n",
      "  (2743, 2436)\t1\n",
      "  (2743, 4747)\t1\n",
      "  (2744, 1661)\t1\n",
      "  (2744, 2576)\t1\n",
      "  (2744, 3323)\t1\n",
      "  (2744, 3501)\t1\n",
      "  (2744, 3753)\t1\n",
      "  (2744, 4550)\t1\n",
      "  (2744, 4679)\t1\n",
      "  (2744, 4837)\t1\n",
      "  (2745, 1437)\t1\n",
      "  (2745, 4835)\t1\n",
      "  (2746, 343)\t1\n",
      "  (2746, 1530)\t1\n",
      "  (2747, 2137)\t1\n",
      "  (2747, 2266)\t1\n",
      "  (2747, 2273)\t1\n",
      "  (2747, 2788)\t1\n",
      "  (2747, 4740)\t1\n"
     ]
    }
   ],
   "source": [
    "print(f'Reprezentarea ca vectori rari:\\n{bow}')"
   ]
  },
  {
   "cell_type": "code",
   "execution_count": 29,
   "metadata": {
    "ExecuteTime": {
     "end_time": "2021-05-28T17:04:59.255864Z",
     "start_time": "2021-05-28T17:04:59.197813Z"
    }
   },
   "outputs": [],
   "source": [
    "tfidfconverter = TfidfTransformer()\n",
    "X = tfidfconverter.fit_transform(bow).toarray()"
   ]
  },
  {
   "cell_type": "markdown",
   "metadata": {},
   "source": [
    "# Modele de clasificare"
   ]
  },
  {
   "cell_type": "code",
   "execution_count": 30,
   "metadata": {
    "ExecuteTime": {
     "end_time": "2021-05-28T17:04:59.286595Z",
     "start_time": "2021-05-28T17:04:59.260765Z"
    }
   },
   "outputs": [],
   "source": [
    "def get_mean_scores(scores: Dict[str, List[float]]) -> Dict[str, List[float]]:\n",
    "    \"\"\"\n",
    "    Transformes the values (list of numbers) of the given dictionary into their average. \n",
    "    \n",
    "    :param scores: a dictionary that has list values\n",
    "    \n",
    "    :returns: the transformed dictionary\n",
    "    \"\"\"\n",
    "    for key in scores.keys():\n",
    "        scores[key] = scores[key].mean()\n",
    "    return scores"
   ]
  },
  {
   "cell_type": "code",
   "execution_count": 31,
   "metadata": {
    "ExecuteTime": {
     "end_time": "2021-05-28T17:04:59.332747Z",
     "start_time": "2021-05-28T17:04:59.294463Z"
    }
   },
   "outputs": [],
   "source": [
    "def apply_models_on_data(X, y, models: List[Any]) -> pd.DataFrame:\n",
    "    \"\"\"\n",
    "    Applies the given models on the given dataset and creates a data frame with the results  \n",
    "    \n",
    "    :param X: dataset feautures\n",
    "    :param y: dataset labels\n",
    "    :param models: list of models to be called\n",
    "    \n",
    "    :return: data frame with each model's results using GridSearchCV and RandomizedSearchedCV\n",
    "    \"\"\"\n",
    "    table: pd.DataFrame = pd.DataFrame()\n",
    "    \n",
    "    for model in models:\n",
    "        result = model(X, y) \n",
    "        \n",
    "        gridCV: Dict[str, Any] = {'Search_srategy' : 'GridSearchCV', 'Model_name' : models_names[model.__name__]}\n",
    "        gridCV.update(result)\n",
    "        \n",
    "        table = table.append(gridCV, ignore_index=True)\n",
    "        \n",
    "    return table"
   ]
  },
  {
   "cell_type": "code",
   "execution_count": 32,
   "metadata": {
    "ExecuteTime": {
     "end_time": "2021-05-28T17:04:59.363482Z",
     "start_time": "2021-05-28T17:04:59.338607Z"
    }
   },
   "outputs": [],
   "source": [
    "def model_result(pipe, X: np.ndarray, y: np.ndarray, \n",
    "                 parameter_grid: Dict[str, Any]) -> Dict[str, List[float]]:\n",
    "        \n",
    "    \"\"\"\n",
    "    Applies cross_validate (5 fold cross validation) and report accuracy and f1 score.\n",
    "    The optimal hyperparameters are being found using both GridSearchCV with cv = 3 and  and optimizing F1 score.\n",
    "\n",
    "    :param pipe: the pipeline used in GridSearchCV\n",
    "    :param X: dataset feautures\n",
    "    :param y: dataset labels\n",
    "    :param parameter_grid: a dictionary with the possible values for the hyperparameters\n",
    "    \n",
    "    :returns: the mean results of the model\n",
    "    \"\"\"    \n",
    "    scores: List[str] = ['accuracy', 'f1_macro']\n",
    "    grid_search: Dict[str, List[float]] = cross_validate(GridSearchCV(pipe, \n",
    "                                                                  param_grid = parameter_grid,\n",
    "                                                                  cv = 3), \n",
    "                                                  X, y, cv = 5, \n",
    "                                                  scoring = scores, \n",
    "                                                  return_train_score = True)\n",
    "                                                \n",
    "    grid_search: Dict[str, List[float]] = get_mean_scores(grid_search)              \n",
    "    return grid_search"
   ]
  },
  {
   "cell_type": "code",
   "execution_count": 33,
   "metadata": {
    "ExecuteTime": {
     "end_time": "2021-05-28T17:04:59.394237Z",
     "start_time": "2021-05-28T17:04:59.368367Z"
    }
   },
   "outputs": [],
   "source": [
    "def SGD_classifier(X: np.ndarray, y: np.ndarray) -> Dict[str, List[float]]:\n",
    "    \"\"\"\n",
    "    Applies SGDClassifier with optimal parameters on a dataset and \n",
    "    preprocess data set with CountVectorizer and TfidfTransformer\n",
    "    \n",
    "    :param X: dataset feautures\n",
    "    :param y: dataset labels\n",
    "    \n",
    "    :returns: the mean results of the model\n",
    "    \"\"\"\n",
    "    \n",
    "    pipe = Pipeline([ ('vect', CountVectorizer(stop_words = 'english')),\n",
    "                      ('tfidf', TfidfTransformer()),\n",
    "                      ('sgd', SGDClassifier())])\n",
    "    \n",
    "    parameter_grid: Dict[str, List[Any]] = {'sgd__loss': ['hinge', 'log', 'perceptron'], \n",
    "                  'sgd__penalty': ['l2', 'l1', 'elasticnet'],\n",
    "                 'sgd__alpha': [0.0001, 0.0002]}\n",
    "       \n",
    "    \n",
    "    return model_result(pipe, X, y, parameter_grid)"
   ]
  },
  {
   "cell_type": "code",
   "execution_count": 34,
   "metadata": {
    "ExecuteTime": {
     "end_time": "2021-05-28T17:04:59.425423Z",
     "start_time": "2021-05-28T17:04:59.401105Z"
    }
   },
   "outputs": [],
   "source": [
    "def KNeighbors_classifier(X: np.ndarray, y: np.ndarray) -> Dict[str, List[float]]:\n",
    "    \"\"\"\n",
    "    Applies KNeighborsClassifier with optimal parameters on a dataset and \n",
    "    preprocess data set with CountVectorizer and TfidfTransformer\n",
    "    \n",
    "    :param X: dataset without labels\n",
    "    :param y: labels\n",
    "    \n",
    "    :return:  the mean results of the model\n",
    "    \"\"\"    \n",
    "    pipe = Pipeline([ ('vect', CountVectorizer(stop_words = 'english')),\n",
    "                      ('tfidf', TfidfTransformer()),\n",
    "                      ('knn', KNeighborsClassifier())])\n",
    "    \n",
    "    parameter_grid: Dict[str, List[Any]] = {'knn__n_neighbors': list(range(5, 10)), \n",
    "                      'knn__p': list(range(1, 3))}\n",
    "       \n",
    "    return model_result(pipe, X, y, parameter_grid)"
   ]
  },
  {
   "cell_type": "code",
   "execution_count": 35,
   "metadata": {
    "ExecuteTime": {
     "end_time": "2021-05-28T17:04:59.455667Z",
     "start_time": "2021-05-28T17:04:59.433377Z"
    }
   },
   "outputs": [],
   "source": [
    "def DecisionTree_classifier(X: np.ndarray, y: np.ndarray) -> Dict[str, List[float]]:\n",
    "    \"\"\"\n",
    "    Applies DecisionTreeClassifier model with optimal parameters on a dataset and \n",
    "    preprocess data set with CountVectorizer and TfidfTransformer\n",
    "    \n",
    "    :param X: data set without the labels\n",
    "    :param Y: labels\n",
    "    \n",
    "    :returns:  the mean results of the model\n",
    "    \"\"\"\n",
    "    pipe = Pipeline([ ('vect', CountVectorizer(stop_words = 'english')),\n",
    "                      ('tfidf', TfidfTransformer()),\n",
    "                      ('dt', DecisionTreeClassifier())])\n",
    "    \n",
    "    parameter_grid: Dict[str, List[Any]] = {'dt__criterion': ['entropy', 'gini'], \n",
    "                  'dt__max_depth': list(range(3,9)),\n",
    "                  'dt__min_samples_leaf': list(range(10,20))}\n",
    "        \n",
    "    return model_result(pipe, X, y, parameter_grid)"
   ]
  },
  {
   "cell_type": "code",
   "execution_count": 36,
   "metadata": {
    "ExecuteTime": {
     "end_time": "2021-05-28T17:04:59.486448Z",
     "start_time": "2021-05-28T17:04:59.463599Z"
    }
   },
   "outputs": [],
   "source": [
    "def RandomForest_classifier(X: np.ndarray, y: np.ndarray) -> Dict[str, List[float]]:\n",
    "    \"\"\"\n",
    "    Apply RandomForestClassifier model with optimal parameters on a dataset and \n",
    "    preprocess data set with CountVectorizer and TfidfTransformer\n",
    "    \n",
    "    :param X: data set without the labels\n",
    "    :param Y: labels\n",
    "    \n",
    "    :returns: the mean results of the model\n",
    "    \"\"\"    \n",
    "    pipe = Pipeline([ ('vect', CountVectorizer(stop_words = 'english')),\n",
    "                      ('tfidf', TfidfTransformer()),\n",
    "                      ('rf', RandomForestClassifier())])\n",
    "    \n",
    "    parameter_grid: Dict[str, List[Any]] = {'rf__n_estimators': list(range(1,10)), \n",
    "                'rf__criterion': ['entropy', 'gini'],\n",
    "                'rf__max_depth': list(range(3,9))}\n",
    "        \n",
    "    return model_result(pipe, X, y, parameter_grid)"
   ]
  },
  {
   "cell_type": "code",
   "execution_count": 37,
   "metadata": {
    "ExecuteTime": {
     "end_time": "2021-05-28T17:04:59.517260Z",
     "start_time": "2021-05-28T17:04:59.494853Z"
    }
   },
   "outputs": [],
   "source": [
    "models: List[Callable] = [KNeighbors_classifier, SGD_classifier, DecisionTree_classifier, RandomForest_classifier] \n",
    "models_names: Dict[str, str] = { 'SGD_classifier': 'SGDClassifier',\n",
    "                               'KNeighbors_classifier': 'KNeighborsClassifier',\n",
    "                               'DecisionTree_classifier': 'DecisionTreeClassifier',\n",
    "                               'RandomForest_classifier': 'RandomForestClassifier'}"
   ]
  },
  {
   "cell_type": "markdown",
   "metadata": {},
   "source": [
    "# Aplicarea modelelor"
   ]
  },
  {
   "cell_type": "markdown",
   "metadata": {},
   "source": [
    "## SMS spam Collection"
   ]
  },
  {
   "cell_type": "code",
   "execution_count": 38,
   "metadata": {
    "ExecuteTime": {
     "end_time": "2021-05-28T17:19:08.982674Z",
     "start_time": "2021-05-28T17:04:59.524642Z"
    }
   },
   "outputs": [
    {
     "data": {
      "text/html": [
       "<div>\n",
       "<style scoped>\n",
       "    .dataframe tbody tr th:only-of-type {\n",
       "        vertical-align: middle;\n",
       "    }\n",
       "\n",
       "    .dataframe tbody tr th {\n",
       "        vertical-align: top;\n",
       "    }\n",
       "\n",
       "    .dataframe thead th {\n",
       "        text-align: right;\n",
       "    }\n",
       "</style>\n",
       "<table border=\"1\" class=\"dataframe\">\n",
       "  <thead>\n",
       "    <tr style=\"text-align: right;\">\n",
       "      <th></th>\n",
       "      <th>Model_name</th>\n",
       "      <th>Search_srategy</th>\n",
       "      <th>fit_time</th>\n",
       "      <th>score_time</th>\n",
       "      <th>test_accuracy</th>\n",
       "      <th>test_f1_macro</th>\n",
       "      <th>train_accuracy</th>\n",
       "      <th>train_f1_macro</th>\n",
       "    </tr>\n",
       "  </thead>\n",
       "  <tbody>\n",
       "    <tr>\n",
       "      <th>0</th>\n",
       "      <td>KNeighborsClassifier</td>\n",
       "      <td>GridSearchCV</td>\n",
       "      <td>18.541896</td>\n",
       "      <td>0.342636</td>\n",
       "      <td>0.907573</td>\n",
       "      <td>0.711545</td>\n",
       "      <td>0.917803</td>\n",
       "      <td>0.756191</td>\n",
       "    </tr>\n",
       "    <tr>\n",
       "      <th>1</th>\n",
       "      <td>SGDClassifier</td>\n",
       "      <td>GridSearchCV</td>\n",
       "      <td>12.154069</td>\n",
       "      <td>0.053181</td>\n",
       "      <td>0.983847</td>\n",
       "      <td>0.963774</td>\n",
       "      <td>0.998654</td>\n",
       "      <td>0.997092</td>\n",
       "    </tr>\n",
       "    <tr>\n",
       "      <th>2</th>\n",
       "      <td>DecisionTreeClassifier</td>\n",
       "      <td>GridSearchCV</td>\n",
       "      <td>72.684576</td>\n",
       "      <td>0.041159</td>\n",
       "      <td>0.944900</td>\n",
       "      <td>0.863231</td>\n",
       "      <td>0.949165</td>\n",
       "      <td>0.875314</td>\n",
       "    </tr>\n",
       "    <tr>\n",
       "      <th>3</th>\n",
       "      <td>RandomForestClassifier</td>\n",
       "      <td>GridSearchCV</td>\n",
       "      <td>64.142959</td>\n",
       "      <td>0.041267</td>\n",
       "      <td>0.905777</td>\n",
       "      <td>0.708313</td>\n",
       "      <td>0.911432</td>\n",
       "      <td>0.731682</td>\n",
       "    </tr>\n",
       "  </tbody>\n",
       "</table>\n",
       "</div>"
      ],
      "text/plain": [
       "               Model_name Search_srategy   fit_time  score_time  \\\n",
       "0    KNeighborsClassifier   GridSearchCV  18.541896    0.342636   \n",
       "1           SGDClassifier   GridSearchCV  12.154069    0.053181   \n",
       "2  DecisionTreeClassifier   GridSearchCV  72.684576    0.041159   \n",
       "3  RandomForestClassifier   GridSearchCV  64.142959    0.041267   \n",
       "\n",
       "   test_accuracy  test_f1_macro  train_accuracy  train_f1_macro  \n",
       "0       0.907573       0.711545        0.917803        0.756191  \n",
       "1       0.983847       0.963774        0.998654        0.997092  \n",
       "2       0.944900       0.863231        0.949165        0.875314  \n",
       "3       0.905777       0.708313        0.911432        0.731682  "
      ]
     },
     "metadata": {},
     "output_type": "display_data"
    }
   ],
   "source": [
    "sms_data_table: pd.DataFrame = apply_models_on_data(sms_data.iloc[:, 1], sms_data.iloc[:, 0], models)\n",
    "display(sms_data_table)"
   ]
  },
  {
   "cell_type": "markdown",
   "metadata": {},
   "source": [
    "## Sentiment Labelled Sentances"
   ]
  },
  {
   "cell_type": "code",
   "execution_count": 39,
   "metadata": {
    "ExecuteTime": {
     "end_time": "2021-05-28T17:25:36.422268Z",
     "start_time": "2021-05-28T17:19:08.986547Z"
    }
   },
   "outputs": [
    {
     "data": {
      "text/html": [
       "<div>\n",
       "<style scoped>\n",
       "    .dataframe tbody tr th:only-of-type {\n",
       "        vertical-align: middle;\n",
       "    }\n",
       "\n",
       "    .dataframe tbody tr th {\n",
       "        vertical-align: top;\n",
       "    }\n",
       "\n",
       "    .dataframe thead th {\n",
       "        text-align: right;\n",
       "    }\n",
       "</style>\n",
       "<table border=\"1\" class=\"dataframe\">\n",
       "  <thead>\n",
       "    <tr style=\"text-align: right;\">\n",
       "      <th></th>\n",
       "      <th>Model_name</th>\n",
       "      <th>Search_srategy</th>\n",
       "      <th>fit_time</th>\n",
       "      <th>score_time</th>\n",
       "      <th>test_accuracy</th>\n",
       "      <th>test_f1_macro</th>\n",
       "      <th>train_accuracy</th>\n",
       "      <th>train_f1_macro</th>\n",
       "    </tr>\n",
       "  </thead>\n",
       "  <tbody>\n",
       "    <tr>\n",
       "      <th>0</th>\n",
       "      <td>KNeighborsClassifier</td>\n",
       "      <td>GridSearchCV</td>\n",
       "      <td>6.544839</td>\n",
       "      <td>0.112493</td>\n",
       "      <td>0.695745</td>\n",
       "      <td>0.681553</td>\n",
       "      <td>0.834794</td>\n",
       "      <td>0.831171</td>\n",
       "    </tr>\n",
       "    <tr>\n",
       "      <th>1</th>\n",
       "      <td>SGDClassifier</td>\n",
       "      <td>GridSearchCV</td>\n",
       "      <td>4.984980</td>\n",
       "      <td>0.022327</td>\n",
       "      <td>0.787830</td>\n",
       "      <td>0.787370</td>\n",
       "      <td>0.970888</td>\n",
       "      <td>0.970886</td>\n",
       "    </tr>\n",
       "    <tr>\n",
       "      <th>2</th>\n",
       "      <td>DecisionTreeClassifier</td>\n",
       "      <td>GridSearchCV</td>\n",
       "      <td>32.280194</td>\n",
       "      <td>0.020525</td>\n",
       "      <td>0.641892</td>\n",
       "      <td>0.605648</td>\n",
       "      <td>0.656748</td>\n",
       "      <td>0.625354</td>\n",
       "    </tr>\n",
       "    <tr>\n",
       "      <th>3</th>\n",
       "      <td>RandomForestClassifier</td>\n",
       "      <td>GridSearchCV</td>\n",
       "      <td>32.826784</td>\n",
       "      <td>0.024305</td>\n",
       "      <td>0.627352</td>\n",
       "      <td>0.588069</td>\n",
       "      <td>0.668669</td>\n",
       "      <td>0.637715</td>\n",
       "    </tr>\n",
       "  </tbody>\n",
       "</table>\n",
       "</div>"
      ],
      "text/plain": [
       "               Model_name Search_srategy   fit_time  score_time  \\\n",
       "0    KNeighborsClassifier   GridSearchCV   6.544839    0.112493   \n",
       "1           SGDClassifier   GridSearchCV   4.984980    0.022327   \n",
       "2  DecisionTreeClassifier   GridSearchCV  32.280194    0.020525   \n",
       "3  RandomForestClassifier   GridSearchCV  32.826784    0.024305   \n",
       "\n",
       "   test_accuracy  test_f1_macro  train_accuracy  train_f1_macro  \n",
       "0       0.695745       0.681553        0.834794        0.831171  \n",
       "1       0.787830       0.787370        0.970888        0.970886  \n",
       "2       0.641892       0.605648        0.656748        0.625354  \n",
       "3       0.627352       0.588069        0.668669        0.637715  "
      ]
     },
     "metadata": {},
     "output_type": "display_data"
    }
   ],
   "source": [
    "sentimen_data_table: pd.DataFrame = apply_models_on_data(sentiment_data.iloc[:, 0], sentiment_data.iloc[:, 1], models)\n",
    "display(sentimen_data_table)"
   ]
  },
  {
   "cell_type": "markdown",
   "metadata": {},
   "source": [
    "# Generarea rapoartelor"
   ]
  },
  {
   "cell_type": "code",
   "execution_count": 40,
   "metadata": {
    "ExecuteTime": {
     "end_time": "2021-05-28T17:25:36.438276Z",
     "start_time": "2021-05-28T17:25:36.426728Z"
    }
   },
   "outputs": [],
   "source": [
    "def highlight(data_frame: pd.DataFrame) -> List[str]:\n",
    "    '''\n",
    "    Searches the maximum and minumum in a data frame and creates a list with the color of each cell \n",
    "    based on the searches. The cells colors are red if they contain a maximum, lime is they contain\n",
    "    a minimum, transparent otherwise.\n",
    "    \n",
    "    :param data_frame: the given data_frame\n",
    "    \n",
    "    :return: the list of colors\n",
    "    '''\n",
    "    is_max: pd.Series = data_frame == data_frame.max()\n",
    "    is_min: pd.Series = data_frame == data_frame.min()  \n",
    "    \n",
    "    styles: List[str] = ['background-color: lime' if is_min[i] \n",
    "              else 'background-color: red' if is_max[i] \n",
    "              else '' \n",
    "              for i in range(len(data_frame))]\n",
    "    return styles"
   ]
  },
  {
   "cell_type": "code",
   "execution_count": 41,
   "metadata": {
    "ExecuteTime": {
     "end_time": "2021-05-28T17:25:36.454013Z",
     "start_time": "2021-05-28T17:25:36.442600Z"
    }
   },
   "outputs": [],
   "source": [
    "def style_data_frame(data_frame: pd.DataFrame):\n",
    "    \"\"\"\n",
    "    Highlights the maximums and minimums in the given dataframe.\n",
    "    \n",
    "    :param data_frame: the dateframe to be styled\n",
    "    \n",
    "    :return: the styled dataframe\n",
    "    \"\"\" \n",
    "    return data_frame.style.apply(highlight, subset=data_frame.columns[2:])"
   ]
  },
  {
   "cell_type": "code",
   "execution_count": 42,
   "metadata": {
    "ExecuteTime": {
     "end_time": "2021-05-28T17:25:36.469384Z",
     "start_time": "2021-05-28T17:25:36.457480Z"
    }
   },
   "outputs": [],
   "source": [
    "def generate_report(data_frame: pd.DataFrame, title: str) -> None:\n",
    "    \"\"\"\n",
    "    Generates a HTML report with the given title and data_frame.\n",
    "    \n",
    "    :param dataframe: the data to be written in the report\n",
    "    :param title: the title of the HMTL page \n",
    "    \n",
    "    :return: Nothing\n",
    "    \"\"\"\n",
    "    html_code: str = \"<h1><center>\" + title + \"</center></h1>\" + data_frame.hide_index().render()\n",
    "    with open(\"./Reports/\" + title + \".html\", \"w\") as file:\n",
    "        file.write(html_code)"
   ]
  },
  {
   "cell_type": "code",
   "execution_count": 43,
   "metadata": {
    "ExecuteTime": {
     "end_time": "2021-05-28T17:25:37.552917Z",
     "start_time": "2021-05-28T17:25:36.473848Z"
    }
   },
   "outputs": [
    {
     "data": {
      "text/html": [
       "<style  type=\"text/css\" >\n",
       "    #T_b7a9b21c_bfd9_11eb_95b5_1063c89790f4row0_col3 {\n",
       "            background-color:  red;\n",
       "        }    #T_b7a9b21c_bfd9_11eb_95b5_1063c89790f4row1_col2 {\n",
       "            background-color:  lime;\n",
       "        }    #T_b7a9b21c_bfd9_11eb_95b5_1063c89790f4row1_col4 {\n",
       "            background-color:  red;\n",
       "        }    #T_b7a9b21c_bfd9_11eb_95b5_1063c89790f4row1_col5 {\n",
       "            background-color:  red;\n",
       "        }    #T_b7a9b21c_bfd9_11eb_95b5_1063c89790f4row1_col6 {\n",
       "            background-color:  red;\n",
       "        }    #T_b7a9b21c_bfd9_11eb_95b5_1063c89790f4row1_col7 {\n",
       "            background-color:  red;\n",
       "        }    #T_b7a9b21c_bfd9_11eb_95b5_1063c89790f4row2_col3 {\n",
       "            background-color:  lime;\n",
       "        }    #T_b7a9b21c_bfd9_11eb_95b5_1063c89790f4row2_col6 {\n",
       "            background-color:  lime;\n",
       "        }    #T_b7a9b21c_bfd9_11eb_95b5_1063c89790f4row2_col7 {\n",
       "            background-color:  lime;\n",
       "        }    #T_b7a9b21c_bfd9_11eb_95b5_1063c89790f4row3_col2 {\n",
       "            background-color:  red;\n",
       "        }    #T_b7a9b21c_bfd9_11eb_95b5_1063c89790f4row3_col4 {\n",
       "            background-color:  lime;\n",
       "        }    #T_b7a9b21c_bfd9_11eb_95b5_1063c89790f4row3_col5 {\n",
       "            background-color:  lime;\n",
       "        }</style><table id=\"T_b7a9b21c_bfd9_11eb_95b5_1063c89790f4\" ><thead>    <tr>        <th class=\"blank level0\" ></th>        <th class=\"col_heading level0 col0\" >Model_name</th>        <th class=\"col_heading level0 col1\" >Search_srategy</th>        <th class=\"col_heading level0 col2\" >fit_time</th>        <th class=\"col_heading level0 col3\" >score_time</th>        <th class=\"col_heading level0 col4\" >test_accuracy</th>        <th class=\"col_heading level0 col5\" >test_f1_macro</th>        <th class=\"col_heading level0 col6\" >train_accuracy</th>        <th class=\"col_heading level0 col7\" >train_f1_macro</th>    </tr></thead><tbody>\n",
       "                <tr>\n",
       "                        <th id=\"T_b7a9b21c_bfd9_11eb_95b5_1063c89790f4level0_row0\" class=\"row_heading level0 row0\" >0</th>\n",
       "                        <td id=\"T_b7a9b21c_bfd9_11eb_95b5_1063c89790f4row0_col0\" class=\"data row0 col0\" >KNeighborsClassifier</td>\n",
       "                        <td id=\"T_b7a9b21c_bfd9_11eb_95b5_1063c89790f4row0_col1\" class=\"data row0 col1\" >GridSearchCV</td>\n",
       "                        <td id=\"T_b7a9b21c_bfd9_11eb_95b5_1063c89790f4row0_col2\" class=\"data row0 col2\" >6.544839</td>\n",
       "                        <td id=\"T_b7a9b21c_bfd9_11eb_95b5_1063c89790f4row0_col3\" class=\"data row0 col3\" >0.112493</td>\n",
       "                        <td id=\"T_b7a9b21c_bfd9_11eb_95b5_1063c89790f4row0_col4\" class=\"data row0 col4\" >0.695745</td>\n",
       "                        <td id=\"T_b7a9b21c_bfd9_11eb_95b5_1063c89790f4row0_col5\" class=\"data row0 col5\" >0.681553</td>\n",
       "                        <td id=\"T_b7a9b21c_bfd9_11eb_95b5_1063c89790f4row0_col6\" class=\"data row0 col6\" >0.834794</td>\n",
       "                        <td id=\"T_b7a9b21c_bfd9_11eb_95b5_1063c89790f4row0_col7\" class=\"data row0 col7\" >0.831171</td>\n",
       "            </tr>\n",
       "            <tr>\n",
       "                        <th id=\"T_b7a9b21c_bfd9_11eb_95b5_1063c89790f4level0_row1\" class=\"row_heading level0 row1\" >1</th>\n",
       "                        <td id=\"T_b7a9b21c_bfd9_11eb_95b5_1063c89790f4row1_col0\" class=\"data row1 col0\" >SGDClassifier</td>\n",
       "                        <td id=\"T_b7a9b21c_bfd9_11eb_95b5_1063c89790f4row1_col1\" class=\"data row1 col1\" >GridSearchCV</td>\n",
       "                        <td id=\"T_b7a9b21c_bfd9_11eb_95b5_1063c89790f4row1_col2\" class=\"data row1 col2\" >4.984980</td>\n",
       "                        <td id=\"T_b7a9b21c_bfd9_11eb_95b5_1063c89790f4row1_col3\" class=\"data row1 col3\" >0.022327</td>\n",
       "                        <td id=\"T_b7a9b21c_bfd9_11eb_95b5_1063c89790f4row1_col4\" class=\"data row1 col4\" >0.787830</td>\n",
       "                        <td id=\"T_b7a9b21c_bfd9_11eb_95b5_1063c89790f4row1_col5\" class=\"data row1 col5\" >0.787370</td>\n",
       "                        <td id=\"T_b7a9b21c_bfd9_11eb_95b5_1063c89790f4row1_col6\" class=\"data row1 col6\" >0.970888</td>\n",
       "                        <td id=\"T_b7a9b21c_bfd9_11eb_95b5_1063c89790f4row1_col7\" class=\"data row1 col7\" >0.970886</td>\n",
       "            </tr>\n",
       "            <tr>\n",
       "                        <th id=\"T_b7a9b21c_bfd9_11eb_95b5_1063c89790f4level0_row2\" class=\"row_heading level0 row2\" >2</th>\n",
       "                        <td id=\"T_b7a9b21c_bfd9_11eb_95b5_1063c89790f4row2_col0\" class=\"data row2 col0\" >DecisionTreeClassifier</td>\n",
       "                        <td id=\"T_b7a9b21c_bfd9_11eb_95b5_1063c89790f4row2_col1\" class=\"data row2 col1\" >GridSearchCV</td>\n",
       "                        <td id=\"T_b7a9b21c_bfd9_11eb_95b5_1063c89790f4row2_col2\" class=\"data row2 col2\" >32.280194</td>\n",
       "                        <td id=\"T_b7a9b21c_bfd9_11eb_95b5_1063c89790f4row2_col3\" class=\"data row2 col3\" >0.020525</td>\n",
       "                        <td id=\"T_b7a9b21c_bfd9_11eb_95b5_1063c89790f4row2_col4\" class=\"data row2 col4\" >0.641892</td>\n",
       "                        <td id=\"T_b7a9b21c_bfd9_11eb_95b5_1063c89790f4row2_col5\" class=\"data row2 col5\" >0.605648</td>\n",
       "                        <td id=\"T_b7a9b21c_bfd9_11eb_95b5_1063c89790f4row2_col6\" class=\"data row2 col6\" >0.656748</td>\n",
       "                        <td id=\"T_b7a9b21c_bfd9_11eb_95b5_1063c89790f4row2_col7\" class=\"data row2 col7\" >0.625354</td>\n",
       "            </tr>\n",
       "            <tr>\n",
       "                        <th id=\"T_b7a9b21c_bfd9_11eb_95b5_1063c89790f4level0_row3\" class=\"row_heading level0 row3\" >3</th>\n",
       "                        <td id=\"T_b7a9b21c_bfd9_11eb_95b5_1063c89790f4row3_col0\" class=\"data row3 col0\" >RandomForestClassifier</td>\n",
       "                        <td id=\"T_b7a9b21c_bfd9_11eb_95b5_1063c89790f4row3_col1\" class=\"data row3 col1\" >GridSearchCV</td>\n",
       "                        <td id=\"T_b7a9b21c_bfd9_11eb_95b5_1063c89790f4row3_col2\" class=\"data row3 col2\" >32.826784</td>\n",
       "                        <td id=\"T_b7a9b21c_bfd9_11eb_95b5_1063c89790f4row3_col3\" class=\"data row3 col3\" >0.024305</td>\n",
       "                        <td id=\"T_b7a9b21c_bfd9_11eb_95b5_1063c89790f4row3_col4\" class=\"data row3 col4\" >0.627352</td>\n",
       "                        <td id=\"T_b7a9b21c_bfd9_11eb_95b5_1063c89790f4row3_col5\" class=\"data row3 col5\" >0.588069</td>\n",
       "                        <td id=\"T_b7a9b21c_bfd9_11eb_95b5_1063c89790f4row3_col6\" class=\"data row3 col6\" >0.668669</td>\n",
       "                        <td id=\"T_b7a9b21c_bfd9_11eb_95b5_1063c89790f4row3_col7\" class=\"data row3 col7\" >0.637715</td>\n",
       "            </tr>\n",
       "    </tbody></table>"
      ],
      "text/plain": [
       "<pandas.io.formats.style.Styler at 0x1bd553c7c70>"
      ]
     },
     "metadata": {},
     "output_type": "display_data"
    }
   ],
   "source": [
    "sentiment_data_styled: pd.io.formats.style.Styler = style_data_frame(sentimen_data_table)\n",
    "display(sentiment_data_styled)\n",
    "\n",
    "generate_report(sentiment_data_styled, \"Sentiment Labelled Sentances\")"
   ]
  },
  {
   "cell_type": "code",
   "execution_count": 44,
   "metadata": {
    "ExecuteTime": {
     "end_time": "2021-05-28T17:25:37.662988Z",
     "start_time": "2021-05-28T17:25:37.557835Z"
    }
   },
   "outputs": [
    {
     "data": {
      "text/html": [
       "<style  type=\"text/css\" >\n",
       "    #T_b7baccec_bfd9_11eb_9c95_1063c89790f4row0_col3 {\n",
       "            background-color:  red;\n",
       "        }    #T_b7baccec_bfd9_11eb_9c95_1063c89790f4row1_col2 {\n",
       "            background-color:  lime;\n",
       "        }    #T_b7baccec_bfd9_11eb_9c95_1063c89790f4row1_col4 {\n",
       "            background-color:  red;\n",
       "        }    #T_b7baccec_bfd9_11eb_9c95_1063c89790f4row1_col5 {\n",
       "            background-color:  red;\n",
       "        }    #T_b7baccec_bfd9_11eb_9c95_1063c89790f4row1_col6 {\n",
       "            background-color:  red;\n",
       "        }    #T_b7baccec_bfd9_11eb_9c95_1063c89790f4row1_col7 {\n",
       "            background-color:  red;\n",
       "        }    #T_b7baccec_bfd9_11eb_9c95_1063c89790f4row2_col2 {\n",
       "            background-color:  red;\n",
       "        }    #T_b7baccec_bfd9_11eb_9c95_1063c89790f4row2_col3 {\n",
       "            background-color:  lime;\n",
       "        }    #T_b7baccec_bfd9_11eb_9c95_1063c89790f4row3_col4 {\n",
       "            background-color:  lime;\n",
       "        }    #T_b7baccec_bfd9_11eb_9c95_1063c89790f4row3_col5 {\n",
       "            background-color:  lime;\n",
       "        }    #T_b7baccec_bfd9_11eb_9c95_1063c89790f4row3_col6 {\n",
       "            background-color:  lime;\n",
       "        }    #T_b7baccec_bfd9_11eb_9c95_1063c89790f4row3_col7 {\n",
       "            background-color:  lime;\n",
       "        }</style><table id=\"T_b7baccec_bfd9_11eb_9c95_1063c89790f4\" ><thead>    <tr>        <th class=\"blank level0\" ></th>        <th class=\"col_heading level0 col0\" >Model_name</th>        <th class=\"col_heading level0 col1\" >Search_srategy</th>        <th class=\"col_heading level0 col2\" >fit_time</th>        <th class=\"col_heading level0 col3\" >score_time</th>        <th class=\"col_heading level0 col4\" >test_accuracy</th>        <th class=\"col_heading level0 col5\" >test_f1_macro</th>        <th class=\"col_heading level0 col6\" >train_accuracy</th>        <th class=\"col_heading level0 col7\" >train_f1_macro</th>    </tr></thead><tbody>\n",
       "                <tr>\n",
       "                        <th id=\"T_b7baccec_bfd9_11eb_9c95_1063c89790f4level0_row0\" class=\"row_heading level0 row0\" >0</th>\n",
       "                        <td id=\"T_b7baccec_bfd9_11eb_9c95_1063c89790f4row0_col0\" class=\"data row0 col0\" >KNeighborsClassifier</td>\n",
       "                        <td id=\"T_b7baccec_bfd9_11eb_9c95_1063c89790f4row0_col1\" class=\"data row0 col1\" >GridSearchCV</td>\n",
       "                        <td id=\"T_b7baccec_bfd9_11eb_9c95_1063c89790f4row0_col2\" class=\"data row0 col2\" >18.541896</td>\n",
       "                        <td id=\"T_b7baccec_bfd9_11eb_9c95_1063c89790f4row0_col3\" class=\"data row0 col3\" >0.342636</td>\n",
       "                        <td id=\"T_b7baccec_bfd9_11eb_9c95_1063c89790f4row0_col4\" class=\"data row0 col4\" >0.907573</td>\n",
       "                        <td id=\"T_b7baccec_bfd9_11eb_9c95_1063c89790f4row0_col5\" class=\"data row0 col5\" >0.711545</td>\n",
       "                        <td id=\"T_b7baccec_bfd9_11eb_9c95_1063c89790f4row0_col6\" class=\"data row0 col6\" >0.917803</td>\n",
       "                        <td id=\"T_b7baccec_bfd9_11eb_9c95_1063c89790f4row0_col7\" class=\"data row0 col7\" >0.756191</td>\n",
       "            </tr>\n",
       "            <tr>\n",
       "                        <th id=\"T_b7baccec_bfd9_11eb_9c95_1063c89790f4level0_row1\" class=\"row_heading level0 row1\" >1</th>\n",
       "                        <td id=\"T_b7baccec_bfd9_11eb_9c95_1063c89790f4row1_col0\" class=\"data row1 col0\" >SGDClassifier</td>\n",
       "                        <td id=\"T_b7baccec_bfd9_11eb_9c95_1063c89790f4row1_col1\" class=\"data row1 col1\" >GridSearchCV</td>\n",
       "                        <td id=\"T_b7baccec_bfd9_11eb_9c95_1063c89790f4row1_col2\" class=\"data row1 col2\" >12.154069</td>\n",
       "                        <td id=\"T_b7baccec_bfd9_11eb_9c95_1063c89790f4row1_col3\" class=\"data row1 col3\" >0.053181</td>\n",
       "                        <td id=\"T_b7baccec_bfd9_11eb_9c95_1063c89790f4row1_col4\" class=\"data row1 col4\" >0.983847</td>\n",
       "                        <td id=\"T_b7baccec_bfd9_11eb_9c95_1063c89790f4row1_col5\" class=\"data row1 col5\" >0.963774</td>\n",
       "                        <td id=\"T_b7baccec_bfd9_11eb_9c95_1063c89790f4row1_col6\" class=\"data row1 col6\" >0.998654</td>\n",
       "                        <td id=\"T_b7baccec_bfd9_11eb_9c95_1063c89790f4row1_col7\" class=\"data row1 col7\" >0.997092</td>\n",
       "            </tr>\n",
       "            <tr>\n",
       "                        <th id=\"T_b7baccec_bfd9_11eb_9c95_1063c89790f4level0_row2\" class=\"row_heading level0 row2\" >2</th>\n",
       "                        <td id=\"T_b7baccec_bfd9_11eb_9c95_1063c89790f4row2_col0\" class=\"data row2 col0\" >DecisionTreeClassifier</td>\n",
       "                        <td id=\"T_b7baccec_bfd9_11eb_9c95_1063c89790f4row2_col1\" class=\"data row2 col1\" >GridSearchCV</td>\n",
       "                        <td id=\"T_b7baccec_bfd9_11eb_9c95_1063c89790f4row2_col2\" class=\"data row2 col2\" >72.684576</td>\n",
       "                        <td id=\"T_b7baccec_bfd9_11eb_9c95_1063c89790f4row2_col3\" class=\"data row2 col3\" >0.041159</td>\n",
       "                        <td id=\"T_b7baccec_bfd9_11eb_9c95_1063c89790f4row2_col4\" class=\"data row2 col4\" >0.944900</td>\n",
       "                        <td id=\"T_b7baccec_bfd9_11eb_9c95_1063c89790f4row2_col5\" class=\"data row2 col5\" >0.863231</td>\n",
       "                        <td id=\"T_b7baccec_bfd9_11eb_9c95_1063c89790f4row2_col6\" class=\"data row2 col6\" >0.949165</td>\n",
       "                        <td id=\"T_b7baccec_bfd9_11eb_9c95_1063c89790f4row2_col7\" class=\"data row2 col7\" >0.875314</td>\n",
       "            </tr>\n",
       "            <tr>\n",
       "                        <th id=\"T_b7baccec_bfd9_11eb_9c95_1063c89790f4level0_row3\" class=\"row_heading level0 row3\" >3</th>\n",
       "                        <td id=\"T_b7baccec_bfd9_11eb_9c95_1063c89790f4row3_col0\" class=\"data row3 col0\" >RandomForestClassifier</td>\n",
       "                        <td id=\"T_b7baccec_bfd9_11eb_9c95_1063c89790f4row3_col1\" class=\"data row3 col1\" >GridSearchCV</td>\n",
       "                        <td id=\"T_b7baccec_bfd9_11eb_9c95_1063c89790f4row3_col2\" class=\"data row3 col2\" >64.142959</td>\n",
       "                        <td id=\"T_b7baccec_bfd9_11eb_9c95_1063c89790f4row3_col3\" class=\"data row3 col3\" >0.041267</td>\n",
       "                        <td id=\"T_b7baccec_bfd9_11eb_9c95_1063c89790f4row3_col4\" class=\"data row3 col4\" >0.905777</td>\n",
       "                        <td id=\"T_b7baccec_bfd9_11eb_9c95_1063c89790f4row3_col5\" class=\"data row3 col5\" >0.708313</td>\n",
       "                        <td id=\"T_b7baccec_bfd9_11eb_9c95_1063c89790f4row3_col6\" class=\"data row3 col6\" >0.911432</td>\n",
       "                        <td id=\"T_b7baccec_bfd9_11eb_9c95_1063c89790f4row3_col7\" class=\"data row3 col7\" >0.731682</td>\n",
       "            </tr>\n",
       "    </tbody></table>"
      ],
      "text/plain": [
       "<pandas.io.formats.style.Styler at 0x1bd59ff4f70>"
      ]
     },
     "metadata": {},
     "output_type": "display_data"
    }
   ],
   "source": [
    "sms_data_styled: pd.io.formats.style.Styler = style_data_frame(sms_data_table)\n",
    "display(sms_data_styled)\n",
    "\n",
    "generate_report(sms_data_styled, \"SMS Spam Collection\")"
   ]
  },
  {
   "cell_type": "markdown",
   "metadata": {},
   "source": [
    "# Documentatii"
   ]
  },
  {
   "cell_type": "markdown",
   "metadata": {},
   "source": [
    "## KNeighborsClassifier\n",
    "\n",
    "class `sklearn.neighbors.KNeighborsClassifier`<i>(n_neighbors=5, weights='uniform', algorithm='auto', leaf_size=30, p=2, metric='minkowski', metric_params=None, n_jobs=None, **kwargs)</i>\n",
    "\n",
    "Într-o problemă de clasificare, algoritmul kNN (_k_-nearest neighbors) identifică cei mai apropiați _k_ vecini ai fiecărui item neclasificat - fara sa tina cont de etichetele acestora - vecini localizați în setul de antrenare. Determinarea claselor din care fac parte itemii neclasificați se face prin votare, astfel: clasa itemului se consideră clasa în care aparțin majoritatea vecinilor.\n",
    "\n",
    "Pentru determinarea distanței dintre itemi se pot utiliza mai multe metrici. Scikit-learn admite orice funcție Python ca și metrică, insa implicit folosește metrica _Minkowski_. Iată câteva exemple de metrici des utilizate în kNN:\n",
    "\n",
    "- _distanța Minkowski_: $d_{st} = \\sqrt[p]{\\sum_{j=1}^n |x_{sj} - y_{tj}|^p}$  (_Obs._: p este un hiperparametru utilizat de Scikit-learn)\n",
    "- _distanța Manhattan (City block)_: $d_{st} = \\sum_{j=1}^n |x_{sj} - y_{tj}|$\n",
    "- _distanța Euclideană_: $d(\\textbf{x},\\textbf{y}) = \\sqrt{\\sum_{i=1}^n (y_i - x_i)^2}$\n",
    "- _distanța Mahalanobis_: $d(\\textbf{x},\\textbf{y}) = \\sqrt{\\sum_{i=1}^n \\frac{(x_i - y_i)^2}{s_i^2}}$, unde $s_i$ este deviația standard a lui $x_i$ și $y_i$ în sample\n",
    "\n",
    "<img src=\"images/knn.png\"><br><br>"
   ]
  },
  {
   "cell_type": "markdown",
   "metadata": {},
   "source": [
    "## DecisionTreeClassifier\n",
    "\n",
    "class `sklearn.tree.DecisionTreeClassifier`<i>(criterion='gini', splitter='best', max_depth=None, min_samples_split=2, min_samples_leaf=1, min_weight_fraction_leaf=0.0, max_features=None, random_state=None, max_leaf_nodes=None, min_impurity_decrease=0.0, min_impurity_split=None, class_weight=None, presort='deprecated', ccp_alpha=0.0)</i>\n",
    "\n",
    "DecisionTreeClassifie este o metodă non-parametrică de învățare supravegheată utilizată pentru clasificare și regresie. Scopul este de a crea un model care prezice valoarea unei variabile țintă prin învățarea unor reguli simple de decizie deduse din caracteristicile datelor.\n",
    "\n",
    "Un arbore de decizie (_decision tree_) este o structură arborescentă tip flowchart unde un nod intern reprezintă un feature, ramura este un criteriu de decizie, iar fiecare frunză este un rezultat, o clasificare. Algoritmul Decision tree selectează cel mai bun feature folosind o metrică ASM (_Attribute Selection Measure_), convertește un nod feature la un nod tip criteriu de decizie, și partiționează (splits) datasetul în subseturi. Procesul se execută recursiv până arborele conține numai noduri criterii de decizie și noduri frunză rezultat. Cu cât arborele este mai adânc, cu atât sunt mai complexe criteriile de decizie și modelul are o acuratețe mai mare. \n",
    "\n",
    "<br>Pentru măsurarea calității unui split, Scikit-learn utilizează două metrici ASM:\n",
    "\n",
    "- _impuritatea Gini_ (cât de des este etichetat greșit un element ales aleator dacă a fost etichetat folosind distribuția etichetelor dintr-un subset; poate determina overfitting-ul modelului): <br>$Gini(p) = 1 - \\sum_{j=1}^c p_j^2$ <br>\n",
    "- _entropia_ (similar cu Gini impurity, mai intensă d.p.d.v. computațional din cauza funcției logaritmice): <br>$H(p) = - \\sum_{j=1}^c p_j \\log p_j$\n",
    "\n",
    "(unde c este numărul de clase (etichete), iar $p_j$ este subsetul etichetat cu clasă i, unde $j \\in \\{1, 2, ..., c\\}$).\n",
    "\n",
    "<img src=\"images/dt.png\"><br><br>"
   ]
  },
  {
   "cell_type": "markdown",
   "metadata": {},
   "source": [
    "## StochasticGradientDescentClassifier\n",
    "\n",
    "class sklearn.linear_model.SGDClassifier <i>(loss='hinge', *, penalty='l2', alpha=0.0001, l1_ratio=0.15, fit_intercept=True, max_iter=1000, tol=0.001, shuffle=True, verbose=0, epsilon=0.1, n_jobs=None, random_state=None, learning_rate='optimal', eta0=0.0, power_t=0.5, early_stopping=False, validation_fraction=0.1, n_iter_no_change=5, class_weight=None, warm_start=False, average=False)</i>\n",
    "\n",
    "Clasa SGDClassifier implementează o rutină simplă de învățare descendentă în gradient stochastic, care acceptă diferite funcții de pierdere și penalități pentru clasificare.\n",
    "\n",
    "SGDClassifier acceptă clasificarea multi-clasă prin combinarea mai multor clasificatoare binare într-o schemă „one versus all” (OVA). Pentru fiecare dintre clase, se învață un clasificator binar care discriminează între aceasta și toate celelalte clase. La momentul testării, calculăm scorul de încredere (adică distanțele semnate până la hiperplan) pentru fiecare clasificator și alegem clasa cu cea mai mare încredere.\n",
    "\n",
    "Avantajele Stochastic Gradient Descent sunt:\n",
    "- Eficienţă.\n",
    "- Ușurința de implementare (o mulțime de oportunități pentru reglarea codului).\n",
    "\n",
    "Insa dezavantajele Stochastic Gradient Descent includ:\n",
    "- SGD necesită un număr de hiperparametri, cum ar fi parametrul de regularizare și numărul de iterații.\n",
    "- SGD este sensibil la scalarea feature-ilor.\n",
    "\n",
    "<img src=\"images/sgd.png\"><br><br>"
   ]
  },
  {
   "cell_type": "markdown",
   "metadata": {},
   "source": [
    "## RandomForestClassifier\n",
    "\n",
    "class `sklearn.ensemble.RandomForestClassifier`<i>(n_estimators=100, criterion='gini', max_depth=None, min_samples_split=2, min_samples_leaf=1, min_weight_fraction_leaf=0.0, max_features='auto', max_leaf_nodes=None, min_impurity_decrease=0.0, min_impurity_split=None, bootstrap=True, oob_score=False, n_jobs=None, random_state=None, verbose=0, warm_start=False, class_weight=None, ccp_alpha=0.0, max_samples=None)<i>\n",
    "    \n",
    "Un random forest este un meta-estimator (se obține o predicție în urma mai multor predicții) care se potrivește cu un număr de clasificatori ai arborelui decizional pe diferite sub-eșantioane ale setului de date și utilizează media pentru a îmbunătăți precizia predictivă și pentru a controla supraadaptarea. Dimensiunea sub-eșantionului este controlată cu parametrul max_samples dacă bootstrap = True (implicit), altfel întregul set de date este utilizat pentru a construi fiecare arbore.\n",
    "    \n",
    "Un clasificator _Random forest_ se folosește de ipotezele emise de mai mulți arbori de decizie aleatori (_random trees_), obținuți în urma unui _random split_. Un random forest se obține prin construirea unui random tree pentru fiecare set de antrenare. Acești arbori funcționează ca un ansamblu; pentru fiecare dată de intrare se aplică modelele din ansamblu, și rezultatul final se obține agregând rezultatele prin votare.\n",
    "\n",
    "<br>La fel ca la _Decision Tree classifier_, pentru măsurarea calității unui split, Scikit-learn utilizează două metrici:\n",
    "\n",
    "- _impuritatea Gini_: $Gini(p) = 1 - \\sum_{j=1}^c p_j^2$ <br>\n",
    "- _entropia_: $H(p) = - \\sum_{j=1}^c p_j \\log p_j$\n",
    "\n",
    "(unde c este numărul de clase (etichete), iar $p_j$ este subsetul etichetat cu clasă i, unde $j \\in \\{1, 2, ..., c\\}$).\n",
    "    \n",
    " <img src=\"images/rf.png\"><br><br>   \n",
    "    "
   ]
  },
  {
   "cell_type": "markdown",
   "metadata": {},
   "source": [
    "## Modalitatea de cautare a hiperparametrilor\n",
    "\n",
    "Pentru a determina cea mai buna combinatie de hiperparametri asociati unui model de clasificare, am folosit tehnica de `Grid Search`.<br>\n",
    "Peocesul de cautare se desfasoara astfel: se considera toate combinatiile posibile de hiperparametri; pentru o combinatie, se construieste si se evalueaza modelul, obtinandu-se acuratetea.<br>\n",
    "Odata ce s-a trecut prin toate combinatiile, se compara scorurile rezultate: cel mai bun scor determina cea mai buna combinatie de hiperparametri.\n",
    "\n",
    "In imaginea de mai sus este reprezentata o \"retea\" formata din 2 hiperparametri, fiecare avand valori posibile de la 0 la 9. Fiecare punct din retea reprezinta o combinatie de parametri.<br>\n",
    "In cadrul `scikit-learn`, tehnica de grid search ia forma clasei `GridSearchCV`, din `sklearn.model_selection`. Poate fi precizata strategia de \"cross-validation splitting\", adica k-fold cross validation. In cadrul temei curente, am folosit 5-fold cross validation.\n",
    "\n",
    "<img src=\"images/gs.png\"><br><br>"
   ]
  },
  {
   "cell_type": "code",
   "execution_count": null,
   "metadata": {},
   "outputs": [],
   "source": []
  }
 ],
 "metadata": {
  "kernelspec": {
   "display_name": "Python 3",
   "language": "python",
   "name": "python3"
  },
  "language_info": {
   "codemirror_mode": {
    "name": "ipython",
    "version": 3
   },
   "file_extension": ".py",
   "mimetype": "text/x-python",
   "name": "python",
   "nbconvert_exporter": "python",
   "pygments_lexer": "ipython3",
   "version": "3.8.3"
  },
  "toc": {
   "base_numbering": 1,
   "nav_menu": {},
   "number_sections": true,
   "sideBar": true,
   "skip_h1_title": false,
   "title_cell": "Table of Contents",
   "title_sidebar": "Contents",
   "toc_cell": false,
   "toc_position": {
    "height": "calc(100% - 180px)",
    "left": "10px",
    "top": "150px",
    "width": "307.2px"
   },
   "toc_section_display": true,
   "toc_window_display": true
  },
  "varInspector": {
   "cols": {
    "lenName": 16,
    "lenType": 16,
    "lenVar": 40
   },
   "kernels_config": {
    "python": {
     "delete_cmd_postfix": "",
     "delete_cmd_prefix": "del ",
     "library": "var_list.py",
     "varRefreshCmd": "print(var_dic_list())"
    },
    "r": {
     "delete_cmd_postfix": ") ",
     "delete_cmd_prefix": "rm(",
     "library": "var_list.r",
     "varRefreshCmd": "cat(var_dic_list()) "
    }
   },
   "types_to_exclude": [
    "module",
    "function",
    "builtin_function_or_method",
    "instance",
    "_Feature"
   ],
   "window_display": false
  }
 },
 "nbformat": 4,
 "nbformat_minor": 4
}
