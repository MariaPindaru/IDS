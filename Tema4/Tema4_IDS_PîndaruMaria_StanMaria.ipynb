{
 "cells": [
  {
   "cell_type": "code",
   "execution_count": 1,
   "metadata": {
    "ExecuteTime": {
     "end_time": "2021-04-23T06:04:48.783416Z",
     "start_time": "2021-04-23T06:04:47.101994Z"
    }
   },
   "outputs": [
    {
     "name": "stdout",
     "output_type": "stream",
     "text": [
      "NumPy version: 1.18.5\n",
      "Pandas version: 1.0.5\n",
      "Sklearn version: 0.23.1\n"
     ]
    }
   ],
   "source": [
    "import numpy as np\n",
    "print(f'NumPy version: {np.__version__}')\n",
    "\n",
    "import pandas as pd\n",
    "print(f'Pandas version: {pd.__version__}')\n",
    "\n",
    "import sklearn\n",
    "print(f'Sklearn version: {sklearn.__version__}')\n",
    "\n",
    "from sklearn.impute import SimpleImputer\n",
    "from typing import List, Any\n",
    "from collections import Counter"
   ]
  },
  {
   "cell_type": "markdown",
   "metadata": {},
   "source": [
    "Folositi 4 seturi de date pentru probleme de clasificare, plecand de la repository-urile specificate in Cursul 6. Cel putin un set de date sa fie cu valori lipsa; pentru un alt set de date care are initial toate valorile, introduceti dvs. in mod artificial valori lipsa, suprascriind un anumit procent din valorile initiale (ex. `p=5%`, `p` parametru) cu `numpy.nan`. "
   ]
  },
  {
   "cell_type": "markdown",
   "metadata": {},
   "source": [
    "##  <u> Citirea seturilor de date </u> "
   ]
  },
  {
   "cell_type": "markdown",
   "metadata": {},
   "source": [
    "### Glass dataset"
   ]
  },
  {
   "cell_type": "code",
   "execution_count": 2,
   "metadata": {
    "ExecuteTime": {
     "end_time": "2021-04-23T06:04:48.838933Z",
     "start_time": "2021-04-23T06:04:48.786854Z"
    },
    "scrolled": true
   },
   "outputs": [
    {
     "name": "stdout",
     "output_type": "stream",
     "text": [
      "Missing values: False\n"
     ]
    },
    {
     "data": {
      "text/html": [
       "<div>\n",
       "<style scoped>\n",
       "    .dataframe tbody tr th:only-of-type {\n",
       "        vertical-align: middle;\n",
       "    }\n",
       "\n",
       "    .dataframe tbody tr th {\n",
       "        vertical-align: top;\n",
       "    }\n",
       "\n",
       "    .dataframe thead th {\n",
       "        text-align: right;\n",
       "    }\n",
       "</style>\n",
       "<table border=\"1\" class=\"dataframe\">\n",
       "  <thead>\n",
       "    <tr style=\"text-align: right;\">\n",
       "      <th></th>\n",
       "      <th>1</th>\n",
       "      <th>2</th>\n",
       "      <th>3</th>\n",
       "      <th>4</th>\n",
       "      <th>5</th>\n",
       "      <th>6</th>\n",
       "      <th>7</th>\n",
       "      <th>8</th>\n",
       "      <th>9</th>\n",
       "      <th>10</th>\n",
       "    </tr>\n",
       "  </thead>\n",
       "  <tbody>\n",
       "    <tr>\n",
       "      <th>0</th>\n",
       "      <td>1.52101</td>\n",
       "      <td>13.64</td>\n",
       "      <td>4.49</td>\n",
       "      <td>1.10</td>\n",
       "      <td>71.78</td>\n",
       "      <td>0.06</td>\n",
       "      <td>8.75</td>\n",
       "      <td>0.0</td>\n",
       "      <td>0.0</td>\n",
       "      <td>1</td>\n",
       "    </tr>\n",
       "    <tr>\n",
       "      <th>1</th>\n",
       "      <td>1.51761</td>\n",
       "      <td>13.89</td>\n",
       "      <td>3.60</td>\n",
       "      <td>1.36</td>\n",
       "      <td>72.73</td>\n",
       "      <td>0.48</td>\n",
       "      <td>7.83</td>\n",
       "      <td>0.0</td>\n",
       "      <td>0.0</td>\n",
       "      <td>1</td>\n",
       "    </tr>\n",
       "    <tr>\n",
       "      <th>2</th>\n",
       "      <td>1.51618</td>\n",
       "      <td>13.53</td>\n",
       "      <td>3.55</td>\n",
       "      <td>1.54</td>\n",
       "      <td>72.99</td>\n",
       "      <td>0.39</td>\n",
       "      <td>7.78</td>\n",
       "      <td>0.0</td>\n",
       "      <td>0.0</td>\n",
       "      <td>1</td>\n",
       "    </tr>\n",
       "    <tr>\n",
       "      <th>3</th>\n",
       "      <td>1.51766</td>\n",
       "      <td>13.21</td>\n",
       "      <td>3.69</td>\n",
       "      <td>1.29</td>\n",
       "      <td>72.61</td>\n",
       "      <td>0.57</td>\n",
       "      <td>8.22</td>\n",
       "      <td>0.0</td>\n",
       "      <td>0.0</td>\n",
       "      <td>1</td>\n",
       "    </tr>\n",
       "    <tr>\n",
       "      <th>4</th>\n",
       "      <td>1.51742</td>\n",
       "      <td>13.27</td>\n",
       "      <td>3.62</td>\n",
       "      <td>1.24</td>\n",
       "      <td>73.08</td>\n",
       "      <td>0.55</td>\n",
       "      <td>8.07</td>\n",
       "      <td>0.0</td>\n",
       "      <td>0.0</td>\n",
       "      <td>1</td>\n",
       "    </tr>\n",
       "  </tbody>\n",
       "</table>\n",
       "</div>"
      ],
      "text/plain": [
       "        1      2     3     4      5     6     7    8    9   10\n",
       "0  1.52101  13.64  4.49  1.10  71.78  0.06  8.75  0.0  0.0   1\n",
       "1  1.51761  13.89  3.60  1.36  72.73  0.48  7.83  0.0  0.0   1\n",
       "2  1.51618  13.53  3.55  1.54  72.99  0.39  7.78  0.0  0.0   1\n",
       "3  1.51766  13.21  3.69  1.29  72.61  0.57  8.22  0.0  0.0   1\n",
       "4  1.51742  13.27  3.62  1.24  73.08  0.55  8.07  0.0  0.0   1"
      ]
     },
     "execution_count": 2,
     "metadata": {},
     "output_type": "execute_result"
    }
   ],
   "source": [
    "glass_df: pd.DataFrame = pd.read_csv(\"./data/glass.data\", header=None)\n",
    "glass_df = glass_df.drop(glass_df.columns[0], axis=1) \n",
    "\n",
    "print(f'Missing values: {np.isnan(glass_df.values.sum())}')\n",
    "glass_df.head()"
   ]
  },
  {
   "cell_type": "markdown",
   "metadata": {},
   "source": [
    "### Wine dataset"
   ]
  },
  {
   "cell_type": "code",
   "execution_count": 3,
   "metadata": {
    "ExecuteTime": {
     "end_time": "2021-04-23T06:04:48.881092Z",
     "start_time": "2021-04-23T06:04:48.843894Z"
    },
    "scrolled": false
   },
   "outputs": [
    {
     "name": "stdout",
     "output_type": "stream",
     "text": [
      "Missing values: False\n"
     ]
    },
    {
     "data": {
      "text/html": [
       "<div>\n",
       "<style scoped>\n",
       "    .dataframe tbody tr th:only-of-type {\n",
       "        vertical-align: middle;\n",
       "    }\n",
       "\n",
       "    .dataframe tbody tr th {\n",
       "        vertical-align: top;\n",
       "    }\n",
       "\n",
       "    .dataframe thead th {\n",
       "        text-align: right;\n",
       "    }\n",
       "</style>\n",
       "<table border=\"1\" class=\"dataframe\">\n",
       "  <thead>\n",
       "    <tr style=\"text-align: right;\">\n",
       "      <th></th>\n",
       "      <th>0</th>\n",
       "      <th>1</th>\n",
       "      <th>2</th>\n",
       "      <th>3</th>\n",
       "      <th>4</th>\n",
       "      <th>5</th>\n",
       "      <th>6</th>\n",
       "      <th>7</th>\n",
       "      <th>8</th>\n",
       "      <th>9</th>\n",
       "      <th>10</th>\n",
       "      <th>11</th>\n",
       "      <th>12</th>\n",
       "      <th>13</th>\n",
       "    </tr>\n",
       "  </thead>\n",
       "  <tbody>\n",
       "    <tr>\n",
       "      <th>0</th>\n",
       "      <td>1</td>\n",
       "      <td>14.23</td>\n",
       "      <td>1.71</td>\n",
       "      <td>2.43</td>\n",
       "      <td>15.6</td>\n",
       "      <td>127</td>\n",
       "      <td>2.80</td>\n",
       "      <td>3.06</td>\n",
       "      <td>0.28</td>\n",
       "      <td>2.29</td>\n",
       "      <td>5.64</td>\n",
       "      <td>1.04</td>\n",
       "      <td>3.92</td>\n",
       "      <td>1065</td>\n",
       "    </tr>\n",
       "    <tr>\n",
       "      <th>1</th>\n",
       "      <td>1</td>\n",
       "      <td>13.20</td>\n",
       "      <td>1.78</td>\n",
       "      <td>2.14</td>\n",
       "      <td>11.2</td>\n",
       "      <td>100</td>\n",
       "      <td>2.65</td>\n",
       "      <td>2.76</td>\n",
       "      <td>0.26</td>\n",
       "      <td>1.28</td>\n",
       "      <td>4.38</td>\n",
       "      <td>1.05</td>\n",
       "      <td>3.40</td>\n",
       "      <td>1050</td>\n",
       "    </tr>\n",
       "    <tr>\n",
       "      <th>2</th>\n",
       "      <td>1</td>\n",
       "      <td>13.16</td>\n",
       "      <td>2.36</td>\n",
       "      <td>2.67</td>\n",
       "      <td>18.6</td>\n",
       "      <td>101</td>\n",
       "      <td>2.80</td>\n",
       "      <td>3.24</td>\n",
       "      <td>0.30</td>\n",
       "      <td>2.81</td>\n",
       "      <td>5.68</td>\n",
       "      <td>1.03</td>\n",
       "      <td>3.17</td>\n",
       "      <td>1185</td>\n",
       "    </tr>\n",
       "    <tr>\n",
       "      <th>3</th>\n",
       "      <td>1</td>\n",
       "      <td>14.37</td>\n",
       "      <td>1.95</td>\n",
       "      <td>2.50</td>\n",
       "      <td>16.8</td>\n",
       "      <td>113</td>\n",
       "      <td>3.85</td>\n",
       "      <td>3.49</td>\n",
       "      <td>0.24</td>\n",
       "      <td>2.18</td>\n",
       "      <td>7.80</td>\n",
       "      <td>0.86</td>\n",
       "      <td>3.45</td>\n",
       "      <td>1480</td>\n",
       "    </tr>\n",
       "    <tr>\n",
       "      <th>4</th>\n",
       "      <td>1</td>\n",
       "      <td>13.24</td>\n",
       "      <td>2.59</td>\n",
       "      <td>2.87</td>\n",
       "      <td>21.0</td>\n",
       "      <td>118</td>\n",
       "      <td>2.80</td>\n",
       "      <td>2.69</td>\n",
       "      <td>0.39</td>\n",
       "      <td>1.82</td>\n",
       "      <td>4.32</td>\n",
       "      <td>1.04</td>\n",
       "      <td>2.93</td>\n",
       "      <td>735</td>\n",
       "    </tr>\n",
       "  </tbody>\n",
       "</table>\n",
       "</div>"
      ],
      "text/plain": [
       "   0      1     2     3     4    5     6     7     8     9     10    11    12  \\\n",
       "0   1  14.23  1.71  2.43  15.6  127  2.80  3.06  0.28  2.29  5.64  1.04  3.92   \n",
       "1   1  13.20  1.78  2.14  11.2  100  2.65  2.76  0.26  1.28  4.38  1.05  3.40   \n",
       "2   1  13.16  2.36  2.67  18.6  101  2.80  3.24  0.30  2.81  5.68  1.03  3.17   \n",
       "3   1  14.37  1.95  2.50  16.8  113  3.85  3.49  0.24  2.18  7.80  0.86  3.45   \n",
       "4   1  13.24  2.59  2.87  21.0  118  2.80  2.69  0.39  1.82  4.32  1.04  2.93   \n",
       "\n",
       "     13  \n",
       "0  1065  \n",
       "1  1050  \n",
       "2  1185  \n",
       "3  1480  \n",
       "4   735  "
      ]
     },
     "execution_count": 3,
     "metadata": {},
     "output_type": "execute_result"
    }
   ],
   "source": [
    "wine_df: pd.DataFrame = pd.read_csv(\"./data/wine.data\", header=None)\n",
    "    \n",
    "print(f'Missing values: {np.isnan(wine_df.values.sum())}')\n",
    "wine_df.head()"
   ]
  },
  {
   "cell_type": "markdown",
   "metadata": {},
   "source": [
    "### Iris dataset"
   ]
  },
  {
   "cell_type": "code",
   "execution_count": 4,
   "metadata": {
    "ExecuteTime": {
     "end_time": "2021-04-23T06:04:48.911350Z",
     "start_time": "2021-04-23T06:04:48.884564Z"
    },
    "scrolled": true
   },
   "outputs": [
    {
     "name": "stdout",
     "output_type": "stream",
     "text": [
      "Missing values: False\n"
     ]
    },
    {
     "data": {
      "text/html": [
       "<div>\n",
       "<style scoped>\n",
       "    .dataframe tbody tr th:only-of-type {\n",
       "        vertical-align: middle;\n",
       "    }\n",
       "\n",
       "    .dataframe tbody tr th {\n",
       "        vertical-align: top;\n",
       "    }\n",
       "\n",
       "    .dataframe thead th {\n",
       "        text-align: right;\n",
       "    }\n",
       "</style>\n",
       "<table border=\"1\" class=\"dataframe\">\n",
       "  <thead>\n",
       "    <tr style=\"text-align: right;\">\n",
       "      <th></th>\n",
       "      <th>0</th>\n",
       "      <th>1</th>\n",
       "      <th>2</th>\n",
       "      <th>3</th>\n",
       "      <th>4</th>\n",
       "    </tr>\n",
       "  </thead>\n",
       "  <tbody>\n",
       "    <tr>\n",
       "      <th>0</th>\n",
       "      <td>5.1</td>\n",
       "      <td>3.5</td>\n",
       "      <td>1.4</td>\n",
       "      <td>0.2</td>\n",
       "      <td>Iris-setosa</td>\n",
       "    </tr>\n",
       "    <tr>\n",
       "      <th>1</th>\n",
       "      <td>4.9</td>\n",
       "      <td>3.0</td>\n",
       "      <td>1.4</td>\n",
       "      <td>0.2</td>\n",
       "      <td>Iris-setosa</td>\n",
       "    </tr>\n",
       "    <tr>\n",
       "      <th>2</th>\n",
       "      <td>4.7</td>\n",
       "      <td>3.2</td>\n",
       "      <td>1.3</td>\n",
       "      <td>0.2</td>\n",
       "      <td>Iris-setosa</td>\n",
       "    </tr>\n",
       "    <tr>\n",
       "      <th>3</th>\n",
       "      <td>4.6</td>\n",
       "      <td>3.1</td>\n",
       "      <td>1.5</td>\n",
       "      <td>0.2</td>\n",
       "      <td>Iris-setosa</td>\n",
       "    </tr>\n",
       "    <tr>\n",
       "      <th>4</th>\n",
       "      <td>5.0</td>\n",
       "      <td>3.6</td>\n",
       "      <td>1.4</td>\n",
       "      <td>0.2</td>\n",
       "      <td>Iris-setosa</td>\n",
       "    </tr>\n",
       "  </tbody>\n",
       "</table>\n",
       "</div>"
      ],
      "text/plain": [
       "     0    1    2    3            4\n",
       "0  5.1  3.5  1.4  0.2  Iris-setosa\n",
       "1  4.9  3.0  1.4  0.2  Iris-setosa\n",
       "2  4.7  3.2  1.3  0.2  Iris-setosa\n",
       "3  4.6  3.1  1.5  0.2  Iris-setosa\n",
       "4  5.0  3.6  1.4  0.2  Iris-setosa"
      ]
     },
     "execution_count": 4,
     "metadata": {},
     "output_type": "execute_result"
    }
   ],
   "source": [
    "iris_df: pd.DataFrame = pd.read_csv(\"./data/iris.data\", header = None)\n",
    "    \n",
    "print(f'Missing values: {np.isnan(iris_df.values[:,:-1].sum())}')\n",
    "iris_df.head()"
   ]
  },
  {
   "cell_type": "markdown",
   "metadata": {},
   "source": [
    "### Dermatology dataset"
   ]
  },
  {
   "cell_type": "code",
   "execution_count": 5,
   "metadata": {
    "ExecuteTime": {
     "end_time": "2021-04-23T06:04:48.954501Z",
     "start_time": "2021-04-23T06:04:48.917301Z"
    },
    "scrolled": true
   },
   "outputs": [
    {
     "name": "stdout",
     "output_type": "stream",
     "text": [
      "Missing values: True\n"
     ]
    },
    {
     "data": {
      "text/html": [
       "<div>\n",
       "<style scoped>\n",
       "    .dataframe tbody tr th:only-of-type {\n",
       "        vertical-align: middle;\n",
       "    }\n",
       "\n",
       "    .dataframe tbody tr th {\n",
       "        vertical-align: top;\n",
       "    }\n",
       "\n",
       "    .dataframe thead th {\n",
       "        text-align: right;\n",
       "    }\n",
       "</style>\n",
       "<table border=\"1\" class=\"dataframe\">\n",
       "  <thead>\n",
       "    <tr style=\"text-align: right;\">\n",
       "      <th></th>\n",
       "      <th>0</th>\n",
       "      <th>1</th>\n",
       "      <th>2</th>\n",
       "      <th>3</th>\n",
       "      <th>4</th>\n",
       "      <th>5</th>\n",
       "      <th>6</th>\n",
       "      <th>7</th>\n",
       "      <th>8</th>\n",
       "      <th>9</th>\n",
       "      <th>...</th>\n",
       "      <th>25</th>\n",
       "      <th>26</th>\n",
       "      <th>27</th>\n",
       "      <th>28</th>\n",
       "      <th>29</th>\n",
       "      <th>30</th>\n",
       "      <th>31</th>\n",
       "      <th>32</th>\n",
       "      <th>33</th>\n",
       "      <th>34</th>\n",
       "    </tr>\n",
       "  </thead>\n",
       "  <tbody>\n",
       "    <tr>\n",
       "      <th>0</th>\n",
       "      <td>2</td>\n",
       "      <td>2</td>\n",
       "      <td>0</td>\n",
       "      <td>3</td>\n",
       "      <td>0</td>\n",
       "      <td>0</td>\n",
       "      <td>0</td>\n",
       "      <td>0</td>\n",
       "      <td>1</td>\n",
       "      <td>0</td>\n",
       "      <td>...</td>\n",
       "      <td>0</td>\n",
       "      <td>0</td>\n",
       "      <td>3</td>\n",
       "      <td>0</td>\n",
       "      <td>0</td>\n",
       "      <td>0</td>\n",
       "      <td>1</td>\n",
       "      <td>0</td>\n",
       "      <td>55.0</td>\n",
       "      <td>2</td>\n",
       "    </tr>\n",
       "    <tr>\n",
       "      <th>1</th>\n",
       "      <td>3</td>\n",
       "      <td>3</td>\n",
       "      <td>3</td>\n",
       "      <td>2</td>\n",
       "      <td>1</td>\n",
       "      <td>0</td>\n",
       "      <td>0</td>\n",
       "      <td>0</td>\n",
       "      <td>1</td>\n",
       "      <td>1</td>\n",
       "      <td>...</td>\n",
       "      <td>0</td>\n",
       "      <td>0</td>\n",
       "      <td>0</td>\n",
       "      <td>0</td>\n",
       "      <td>0</td>\n",
       "      <td>0</td>\n",
       "      <td>1</td>\n",
       "      <td>0</td>\n",
       "      <td>8.0</td>\n",
       "      <td>1</td>\n",
       "    </tr>\n",
       "    <tr>\n",
       "      <th>2</th>\n",
       "      <td>2</td>\n",
       "      <td>1</td>\n",
       "      <td>2</td>\n",
       "      <td>3</td>\n",
       "      <td>1</td>\n",
       "      <td>3</td>\n",
       "      <td>0</td>\n",
       "      <td>3</td>\n",
       "      <td>0</td>\n",
       "      <td>0</td>\n",
       "      <td>...</td>\n",
       "      <td>0</td>\n",
       "      <td>2</td>\n",
       "      <td>3</td>\n",
       "      <td>2</td>\n",
       "      <td>0</td>\n",
       "      <td>0</td>\n",
       "      <td>2</td>\n",
       "      <td>3</td>\n",
       "      <td>26.0</td>\n",
       "      <td>3</td>\n",
       "    </tr>\n",
       "    <tr>\n",
       "      <th>3</th>\n",
       "      <td>2</td>\n",
       "      <td>2</td>\n",
       "      <td>2</td>\n",
       "      <td>0</td>\n",
       "      <td>0</td>\n",
       "      <td>0</td>\n",
       "      <td>0</td>\n",
       "      <td>0</td>\n",
       "      <td>3</td>\n",
       "      <td>2</td>\n",
       "      <td>...</td>\n",
       "      <td>3</td>\n",
       "      <td>0</td>\n",
       "      <td>0</td>\n",
       "      <td>0</td>\n",
       "      <td>0</td>\n",
       "      <td>0</td>\n",
       "      <td>3</td>\n",
       "      <td>0</td>\n",
       "      <td>40.0</td>\n",
       "      <td>1</td>\n",
       "    </tr>\n",
       "    <tr>\n",
       "      <th>4</th>\n",
       "      <td>2</td>\n",
       "      <td>3</td>\n",
       "      <td>2</td>\n",
       "      <td>2</td>\n",
       "      <td>2</td>\n",
       "      <td>2</td>\n",
       "      <td>0</td>\n",
       "      <td>2</td>\n",
       "      <td>0</td>\n",
       "      <td>0</td>\n",
       "      <td>...</td>\n",
       "      <td>2</td>\n",
       "      <td>3</td>\n",
       "      <td>2</td>\n",
       "      <td>3</td>\n",
       "      <td>0</td>\n",
       "      <td>0</td>\n",
       "      <td>2</td>\n",
       "      <td>3</td>\n",
       "      <td>45.0</td>\n",
       "      <td>3</td>\n",
       "    </tr>\n",
       "  </tbody>\n",
       "</table>\n",
       "<p>5 rows × 35 columns</p>\n",
       "</div>"
      ],
      "text/plain": [
       "   0   1   2   3   4   5   6   7   8   9   ...  25  26  27  28  29  30  31  \\\n",
       "0   2   2   0   3   0   0   0   0   1   0  ...   0   0   3   0   0   0   1   \n",
       "1   3   3   3   2   1   0   0   0   1   1  ...   0   0   0   0   0   0   1   \n",
       "2   2   1   2   3   1   3   0   3   0   0  ...   0   2   3   2   0   0   2   \n",
       "3   2   2   2   0   0   0   0   0   3   2  ...   3   0   0   0   0   0   3   \n",
       "4   2   3   2   2   2   2   0   2   0   0  ...   2   3   2   3   0   0   2   \n",
       "\n",
       "   32    33  34  \n",
       "0   0  55.0   2  \n",
       "1   0   8.0   1  \n",
       "2   3  26.0   3  \n",
       "3   0  40.0   1  \n",
       "4   3  45.0   3  \n",
       "\n",
       "[5 rows x 35 columns]"
      ]
     },
     "execution_count": 5,
     "metadata": {},
     "output_type": "execute_result"
    }
   ],
   "source": [
    "dermatology_df = pd.read_csv(\"./data/dermatology.data\", na_values=\"?\", header=None)\n",
    "\n",
    "print(f'Missing values: {np.isnan(dermatology_df.values.sum())}')\n",
    "dermatology_df.head()"
   ]
  },
  {
   "cell_type": "code",
   "execution_count": 6,
   "metadata": {
    "ExecuteTime": {
     "end_time": "2021-04-23T06:04:48.976820Z",
     "start_time": "2021-04-23T06:04:48.956982Z"
    }
   },
   "outputs": [],
   "source": [
    "def set_nan_values(data_frame_values: np.ndarray, p: float) -> None:\n",
    "    \"\"\"\n",
    "    Overwrites the array with p% np.nan values.\n",
    "    \n",
    "    :param data_frame_values: the given values\n",
    "    :param p: the percentage of data to be overwrite\n",
    "    \n",
    "    :return: Nothing\n",
    "    \"\"\"\n",
    "    nr: int = int(data_frame_values.size * (p / 100))\n",
    "    lines: np.ndarray[int] = np.random.randint(data_frame_values.shape[0], size = nr)\n",
    "    cols: np.ndarray[int] = np.random.randint(data_frame_values.shape[1], size = nr)\n",
    "    data_frame_values[lines, cols] = np.nan\n",
    "    return data_frame_values\n",
    "\n",
    "wine_df.at[:,1:] = set_nan_values(wine_df.values[:,:-1], p = 2) \n",
    "assert np.isnan(wine_df.values.sum())"
   ]
  },
  {
   "cell_type": "markdown",
   "metadata": {},
   "source": [
    "## <u> Missing value imputation </u> \n",
    "### SimpleImputer"
   ]
  },
  {
   "cell_type": "markdown",
   "metadata": {},
   "source": [
    "\n",
    "Aplicati o metoda de missing value imputation, unde este cazul; documentati metoda folosita.\n",
    "*Resurse*: Pentru missing value imputation, puteti urmari [Imputation of missing values](https://scikit-learn.org/stable/modules/impute.html), [How to Handle Missing Data with Python](https://machinelearningmastery.com/handle-missing-data-python/), [fancyimpute](https://github.com/iskandr/fancyimpute), [missingpy](https://github.com/epsilon-machine/missingpy)."
   ]
  },
  {
   "cell_type": "code",
   "execution_count": 7,
   "metadata": {
    "ExecuteTime": {
     "end_time": "2021-04-23T06:04:48.984758Z",
     "start_time": "2021-04-23T06:04:48.980293Z"
    }
   },
   "outputs": [],
   "source": [
    "def missing_value_imputation(data_set: pd.DataFrame) -> np.ndarray:\n",
    "    \"\"\"\n",
    "    Imputes missing values from a data set using SimpleImputer from sklearn.\n",
    "    \n",
    "    :param data_set: the given data set to be imputed\n",
    "    \n",
    "    :retrun: initial data set without missing values\n",
    "    \"\"\"\n",
    "    imp = SimpleImputer(strategy = \"mean\")\n",
    "    return imp.fit_transform(data_set)"
   ]
  },
  {
   "cell_type": "code",
   "execution_count": 8,
   "metadata": {
    "ExecuteTime": {
     "end_time": "2021-04-23T06:04:49.023444Z",
     "start_time": "2021-04-23T06:04:48.990213Z"
    }
   },
   "outputs": [],
   "source": [
    "dermatology_transformed_values: np.ndarray = missing_value_imputation(dermatology_df)\n",
    "assert not np.isnan(dermatology_transformed_values.sum())\n",
    "\n",
    "wine_transformed_values: np.ndarray = missing_value_imputation(wine_df)\n",
    "assert not np.isnan(wine_transformed_values.sum())"
   ]
  },
  {
   "cell_type": "markdown",
   "metadata": {},
   "source": [
    "## <u> Modele de clasificare </u>"
   ]
  },
  {
   "cell_type": "markdown",
   "metadata": {},
   "source": [
    " Pentru fiecare set de date aplicati 5 modele de clasificare din scikit learn. Pentru fiecare raportati: acuratete, precision, recall, scorul F1 - a se vedea [sklearn.metrics](http://scikit-learn.org/stable/modules/classes.html#module-sklearn.metrics), [Precision and recall](https://en.wikipedia.org/wiki/Precision_and_recall) - folosind 5 fold cross validation. Raportati mediile rezultatelor atat pentru fold-urile de antrenare, cat si pentru cele de testare. Rularile se vor face cu valori fixate ale hiperparametrilor. "
   ]
  },
  {
   "cell_type": "code",
   "execution_count": 9,
   "metadata": {
    "ExecuteTime": {
     "end_time": "2021-04-23T06:04:49.092885Z",
     "start_time": "2021-04-23T06:04:49.026917Z"
    }
   },
   "outputs": [],
   "source": [
    "from sklearn.model_selection import train_test_split, cross_validate\n",
    "\n",
    "from sklearn.metrics import accuracy_score, f1_score\n",
    "\n",
    "from sklearn.neighbors import KNeighborsClassifier\n",
    "from sklearn.tree import DecisionTreeClassifier\n",
    "from sklearn.linear_model import SGDClassifier\n",
    "from sklearn.neural_network import MLPClassifier\n",
    "from sklearn.ensemble import RandomForestClassifier\n",
    "\n",
    "from sklearn.preprocessing import MinMaxScaler\n",
    "\n",
    "import warnings\n",
    "warnings.filterwarnings('ignore')"
   ]
  },
  {
   "cell_type": "code",
   "execution_count": 10,
   "metadata": {
    "ExecuteTime": {
     "end_time": "2021-04-23T06:04:49.106775Z",
     "start_time": "2021-04-23T06:04:49.095366Z"
    }
   },
   "outputs": [],
   "source": [
    "def print_fold_cross_validation_scores(model: sklearn.base.BaseEstimator, X: np.ndarray, y: np.ndarray) -> None:\n",
    "    \"\"\"\n",
    "    Apply cross_validation on the model and print the average scores (accuracy, precision, recall, F1) \n",
    "    for both train and test sets\n",
    "    \n",
    "    :param model: the given classification model\n",
    "    :param X: data set without labels\n",
    "    :param y: labels \n",
    "    \n",
    "    :return: Nothing\n",
    "    \"\"\"\n",
    "    results: Dict[str, np.ndarray] = cross_validate(model, X, y, scoring=('accuracy', 'precision_macro', 'recall_macro', 'f1_macro'), \n",
    "                             return_train_score=True)\n",
    "    \n",
    "    print(\"\\n Train set\")\n",
    "    print(f\"Accuracy average score: {results['train_accuracy'].mean()}\")\n",
    "    print(f\"Precision average score: {results['train_precision_macro'].mean()}\")\n",
    "    print(f\"Recall average score: {results['train_recall_macro'].mean()}\")\n",
    "    print(f\"F1 average score: {results['train_f1_macro'].mean()}\")\n",
    "    \n",
    "    print(\"\\n Test set\")\n",
    "    print(f\"Accuracy average score: {results['test_accuracy'].mean()}\")\n",
    "    print(f\"Precision average score: {results['test_precision_macro'].mean()}\")\n",
    "    print(f\"Recall average score: {results['test_recall_macro'].mean()}\")\n",
    "    print(f\"F1 average score: {results['test_f1_macro'].mean()}\")"
   ]
  },
  {
   "cell_type": "markdown",
   "metadata": {},
   "source": [
    "### KNeighborsClassifier\n",
    "\n",
    "class `sklearn.neighbors.KNeighborsClassifier`<i>(n_neighbors=5, weights='uniform', algorithm='auto', leaf_size=30, p=2, metric='minkowski', metric_params=None, n_jobs=None, **kwargs)</i>\n",
    "\n",
    "Într-o problemă de clasificare, algoritmul kNN (_k_-nearest neighbors) identifică cei mai apropiați _k_ vecini ai fiecărui item neclasificat - fara sa tina cont de etichetele acestora - vecini localizați în setul de antrenare. Determinarea claselor din care fac parte itemii neclasificați se face prin votare, astfel: clasa itemului se consideră clasa în care aparțin majoritatea vecinilor.\n",
    "\n",
    "Pentru determinarea distanței dintre itemi se pot utiliza mai multe metrici. Scikit-learn admite orice funcție Python ca și metrică, insa implicit folosește metrica _Minkowski_. Iată câteva exemple de metrici des utilizate în kNN:\n",
    "\n",
    "- _distanța Minkowski_: $d_{st} = \\sqrt[p]{\\sum_{j=1}^n |x_{sj} - y_{tj}|^p}$  (_Obs._: p este un hiperparametru utilizat de Scikit-learn)\n",
    "- _distanța Manhattan (City block)_: $d_{st} = \\sum_{j=1}^n |x_{sj} - y_{tj}|$\n",
    "- _distanța Euclideană_: $d(\\textbf{x},\\textbf{y}) = \\sqrt{\\sum_{i=1}^n (y_i - x_i)^2}$\n",
    "- _distanța Mahalanobis_: $d(\\textbf{x},\\textbf{y}) = \\sqrt{\\sum_{i=1}^n \\frac{(x_i - y_i)^2}{s_i^2}}$, unde $s_i$ este deviația standard a lui $x_i$ și $y_i$ în sample\n",
    "\n",
    "[Vezi performanta modelului](#knn_performance)"
   ]
  },
  {
   "cell_type": "code",
   "execution_count": 11,
   "metadata": {
    "ExecuteTime": {
     "end_time": "2021-04-23T06:04:49.118678Z",
     "start_time": "2021-04-23T06:04:49.110741Z"
    }
   },
   "outputs": [],
   "source": [
    "def KNeighborsClassifier_stats( X: np.ndarray, y: np.ndarray) -> None:\n",
    "    \"\"\"\n",
    "    Apply KNeighborsClassifier after scaling the data and \n",
    "    print the average scores (accuracy, precision, recall, F1).\n",
    "    \n",
    "    :param X: dataset without labels\n",
    "    :param y: labels\n",
    "    \n",
    "    :return: Nothing\n",
    "    \"\"\"\n",
    "    print(\"KNeighborsClassifier \\n n_neighbors=3, p=1 \\n\")\n",
    "    scaler = MinMaxScaler()\n",
    "    X_scaled: np.ndarray = scaler.fit_transform(X)\n",
    "    \n",
    "    model: sklearn.base.BaseEstimator = KNeighborsClassifier(n_neighbors=3, p=1)\n",
    "    print_fold_cross_validation_scores(model, X_scaled, y)"
   ]
  },
  {
   "cell_type": "markdown",
   "metadata": {},
   "source": [
    "### DecisionTreeClassifier\n",
    "\n",
    "class `sklearn.tree.DecisionTreeClassifier`<i>(criterion='gini', splitter='best', max_depth=None, min_samples_split=2, min_samples_leaf=1, min_weight_fraction_leaf=0.0, max_features=None, random_state=None, max_leaf_nodes=None, min_impurity_decrease=0.0, min_impurity_split=None, class_weight=None, presort='deprecated', ccp_alpha=0.0)</i>\n",
    "\n",
    "DecisionTreeClassifie este o metodă non-parametrică de învățare supravegheată utilizată pentru clasificare și regresie. Scopul este de a crea un model care prezice valoarea unei variabile țintă prin învățarea unor reguli simple de decizie deduse din caracteristicile datelor.\n",
    "\n",
    "Un arbore de decizie (_decision tree_) este o structură arborescentă tip flowchart unde un nod intern reprezintă un feature, ramura este un criteriu de decizie, iar fiecare frunză este un rezultat, o clasificare. Algoritmul Decision tree selectează cel mai bun feature folosind o metrică ASM (_Attribute Selection Measure_), convertește un nod feature la un nod tip criteriu de decizie, și partiționează (splits) datasetul în subseturi. Procesul se execută recursiv până arborele conține numai noduri criterii de decizie și noduri frunză rezultat. Cu cât arborele este mai adânc, cu atât sunt mai complexe criteriile de decizie și modelul are o acuratețe mai mare. \n",
    "\n",
    "<br>Pentru măsurarea calității unui split, Scikit-learn utilizează două metrici ASM:\n",
    "\n",
    "- _impuritatea Gini_ (cât de des este etichetat greșit un element ales aleator dacă a fost etichetat folosind distribuția etichetelor dintr-un subset; poate determina overfitting-ul modelului): <br>$Gini(p) = 1 - \\sum_{j=1}^c p_j^2$ <br>\n",
    "- _entropia_ (similar cu Gini impurity, mai intensă d.p.d.v. computațional din cauza funcției logaritmice): <br>$H(p) = - \\sum_{j=1}^c p_j \\log p_j$\n",
    "\n",
    "(unde c este numărul de clase (etichete), iar $p_j$ este subsetul etichetat cu clasă i, unde $j \\in \\{1, 2, ..., c\\}$).\n",
    "\n",
    "[Vezi performanta modelului](#dt_performance)"
   ]
  },
  {
   "cell_type": "code",
   "execution_count": 12,
   "metadata": {
    "ExecuteTime": {
     "end_time": "2021-04-23T06:04:49.136532Z",
     "start_time": "2021-04-23T06:04:49.122149Z"
    }
   },
   "outputs": [],
   "source": [
    "def DecisionTreeClassifier_stats(X: np.ndarray, y: np.ndarray):\n",
    "    \"\"\"\n",
    "    Apply DecisionTreeClassifier after scaling the data and \n",
    "    print the average scores (accuracy, precision, recall, F1).\n",
    "    \n",
    "    :param X: dataset without labels\n",
    "    :param y: labels\n",
    "    \n",
    "    :return: Nothing\n",
    "    \"\"\"\n",
    "    print(\"DecisionTreeClassifier \\n random_state=0 \\n\")\n",
    "    scaler = MinMaxScaler()\n",
    "    X_scaled = scaler.fit_transform(X)\n",
    "    \n",
    "    model = DecisionTreeClassifier(random_state=0)\n",
    "    print_fold_cross_validation_scores(model, X_scaled, y)"
   ]
  },
  {
   "cell_type": "markdown",
   "metadata": {},
   "source": [
    "### StochasticGradientDescentClassifier\n",
    "\n",
    "class sklearn.linear_model.SGDClassifier <i>(loss='hinge', *, penalty='l2', alpha=0.0001, l1_ratio=0.15, fit_intercept=True, max_iter=1000, tol=0.001, shuffle=True, verbose=0, epsilon=0.1, n_jobs=None, random_state=None, learning_rate='optimal', eta0=0.0, power_t=0.5, early_stopping=False, validation_fraction=0.1, n_iter_no_change=5, class_weight=None, warm_start=False, average=False)</i>\n",
    "\n",
    "Clasa SGDClassifier implementează o rutină simplă de învățare descendentă în gradient stochastic, care acceptă diferite funcții de pierdere și penalități pentru clasificare.\n",
    "\n",
    "SGDClassifier acceptă clasificarea multi-clasă prin combinarea mai multor clasificatoare binare într-o schemă „one versus all” (OVA). Pentru fiecare dintre clase, se învață un clasificator binar care discriminează între aceasta și toate celelalte clase. La momentul testării, calculăm scorul de încredere (adică distanțele semnate până la hiperplan) pentru fiecare clasificator și alegem clasa cu cea mai mare încredere.\n",
    "\n",
    "Avantajele Stochastic Gradient Descent sunt:\n",
    "- Eficienţă.\n",
    "- Ușurința de implementare (o mulțime de oportunități pentru reglarea codului).\n",
    "\n",
    "Insa dezavantajele Stochastic Gradient Descent includ:\n",
    "- SGD necesită un număr de hiperparametri, cum ar fi parametrul de regularizare și numărul de iterații.\n",
    "- SGD este sensibil la scalarea feature-ilor.\n",
    "\n",
    "[Vezi prformanta modelului](#sgd_performance)"
   ]
  },
  {
   "cell_type": "code",
   "execution_count": 13,
   "metadata": {
    "ExecuteTime": {
     "end_time": "2021-04-23T06:04:49.154885Z",
     "start_time": "2021-04-23T06:04:49.140005Z"
    }
   },
   "outputs": [],
   "source": [
    "def StochasticGradientDescentClassifier_stats(X: np.ndarray, y: np.ndarray):\n",
    "    \"\"\"\n",
    "    Apply StochasticGradientDescentClassifier after scaling the data and \n",
    "    print the average scores (accuracy, precision, recall, F1).\n",
    "    \n",
    "    :param X: dataset without labels\n",
    "    :param y: labels\n",
    "    \n",
    "    :return: Nothing\n",
    "    \"\"\"\n",
    "    print(\"StochasticGradientDescentClassifier \\n loss=hinge, penalty=l2, max_iter=80 \\n\")\n",
    "    \n",
    "    scaler = MinMaxScaler()\n",
    "    X_scaled = scaler.fit_transform(X)\n",
    "    \n",
    "    \n",
    "    model = SGDClassifier(loss=\"hinge\", penalty=\"l2\", max_iter=300)\n",
    "    print_fold_cross_validation_scores(model, X_scaled, y)"
   ]
  },
  {
   "cell_type": "markdown",
   "metadata": {},
   "source": [
    "### RandomForestClassifier\n",
    "\n",
    "class `sklearn.ensemble.RandomForestClassifier`<i>(n_estimators=100, criterion='gini', max_depth=None, min_samples_split=2, min_samples_leaf=1, min_weight_fraction_leaf=0.0, max_features='auto', max_leaf_nodes=None, min_impurity_decrease=0.0, min_impurity_split=None, bootstrap=True, oob_score=False, n_jobs=None, random_state=None, verbose=0, warm_start=False, class_weight=None, ccp_alpha=0.0, max_samples=None)<i>\n",
    "    \n",
    "Un random forest este un meta-estimator (se obține o predicție în urma mai multor predicții) care se potrivește cu un număr de clasificatori ai arborelui decizional pe diferite sub-eșantioane ale setului de date și utilizează media pentru a îmbunătăți precizia predictivă și pentru a controla supraadaptarea. Dimensiunea sub-eșantionului este controlată cu parametrul max_samples dacă bootstrap = True (implicit), altfel întregul set de date este utilizat pentru a construi fiecare arbore.\n",
    "    \n",
    "Un clasificator _Random forest_ se folosește de ipotezele emise de mai mulți arbori de decizie aleatori (_random trees_), obținuți în urma unui _random split_. Un random forest se obține prin construirea unui random tree pentru fiecare set de antrenare. Acești arbori funcționează ca un ansamblu; pentru fiecare dată de intrare se aplică modelele din ansamblu, și rezultatul final se obține agregând rezultatele prin votare.\n",
    "\n",
    "<br>La fel ca la _Decision Tree classifier_, pentru măsurarea calității unui split, Scikit-learn utilizează două metrici:\n",
    "\n",
    "- _impuritatea Gini_: $Gini(p) = 1 - \\sum_{j=1}^c p_j^2$ <br>\n",
    "- _entropia_: $H(p) = - \\sum_{j=1}^c p_j \\log p_j$\n",
    "\n",
    "(unde c este numărul de clase (etichete), iar $p_j$ este subsetul etichetat cu clasă i, unde $j \\in \\{1, 2, ..., c\\}$).\n",
    "    \n",
    "[Vezi performanta modelului](#rf_performance)"
   ]
  },
  {
   "cell_type": "code",
   "execution_count": 14,
   "metadata": {
    "ExecuteTime": {
     "end_time": "2021-04-23T06:04:49.173733Z",
     "start_time": "2021-04-23T06:04:49.158357Z"
    }
   },
   "outputs": [],
   "source": [
    "def RandomForestClassifier_stats(X: np.ndarray, y: np.ndarray):\n",
    "    \"\"\"\n",
    "    Apply RandomForestClassifier after scaling the data and \n",
    "    print the average scores (accuracy, precision, recall, F1).\n",
    "    \n",
    "    :param X: dataset without labels\n",
    "    :param y: labels\n",
    "    \n",
    "    :return: Nothing\n",
    "    \"\"\"\n",
    "    print(\"RandomForestClassifier \\n max_depth=2, random_state=0 \\n\")\n",
    "    \n",
    "    scaler = MinMaxScaler()\n",
    "    X_scaled = scaler.fit_transform(X)\n",
    "    \n",
    "    model = RandomForestClassifier(max_depth=2, random_state=0)\n",
    "    print_fold_cross_validation_scores(model, X_scaled, y)"
   ]
  },
  {
   "cell_type": "markdown",
   "metadata": {},
   "source": [
    "### MultiLayerPerceptronClassifier\n",
    "\n",
    "class `sklearn.neural_network.MLPClassifier`<i>(hidden_layer_sizes=(100, ), activation='relu', solver='adam', alpha=0.0001, batch_size='auto', learning_rate='constant', learning_rate_init=0.001, power_t=0.5, max_iter=200, shuffle=True, random_state=None, tol=0.0001, verbose=False, warm_start=False, momentum=0.9, nesterovs_momentum=True, early_stopping=False, validation_fraction=0.1, beta_1=0.9, beta_2=0.999, epsilon=1e-08, n_iter_no_change=10, max_fun=15000)</i>\n",
    "\n",
    "_Perceptronii_ sunt o clasă de clasificatori utilizați în învățarea supervizată, fiind un model matematic al unui neuron biologic. În particular, _perceptronii multistrat (MLP)_ formează rețele neuronale cu mai multe straturi de perceptroni: un strat de intrare, unul sau mai multe straturi intermediare (ascunse), și un strat de ieșire.\n",
    "\n",
    "<br>Într-o rețea neuronală, o _funcție de activare_ definește ieșirea unui perceptron după ce este supus unui set de intrare. În forma lui cea mai simplă, funcția poate returna un rezultat binar (funcție liniară, output 0 sau 1): făcând analogie cu neuronul biologic, dacă trece un impuls electric prin axonul acestuia sau nu. În cazul rețelelor neuronale moderne care utilizează mai multe straturi de perceptroni, funcțiile de activare pot fi și non-binare (non-liniare). \n",
    "\n",
    "Scikit-learn admite funcții de activare de ambele tipuri în implementarea MLP classifier:\n",
    "- _funcția identitate_: $f(x) = x$\n",
    "- _tangenta hiperbolică_: $f(x) = \\tanh(x) = \\frac{\\sinh(x)}{\\cosh(x)} = \\frac{e^x - e^{-x}}{e^x + e^{-x}}$\n",
    "- _sigmoida logistică_: $f(x) = \\frac{1}{1 + \\exp(-x)}$\n",
    "- _Rectified Linear Unit (ReLU)_: $f(x) = \\max(0, x) = \\begin{cases} 0 & \\text{dacă } x \\leq 0 \\\\ x & \\text{dacă } x > 0 \\end{cases}$\n",
    "\n",
    "De asemenea, clasificatorul MLP din Scikit-learn utilizează și algoritmi de optimizare a ponderilor (solvers): _LBFGS_ (algoritm Quasi-Newton), _SGD_ (stochastic gradient descent) și _Adam_ (algoritm derivat din SGD, creat de Diederik P. Kingma și Jimmy Lei Ba).\n",
    "Astfel, acest model optimizează funcția log-loss folosind LBFGS sau stochastic gradient descent.\n",
    "\n",
    "[Vezi performanta modelului](#MLP_performance)"
   ]
  },
  {
   "cell_type": "code",
   "execution_count": 15,
   "metadata": {
    "ExecuteTime": {
     "end_time": "2021-04-23T06:04:49.195557Z",
     "start_time": "2021-04-23T06:04:49.177205Z"
    }
   },
   "outputs": [],
   "source": [
    "def MultiLayerPerceptronClassifier_stats(X: np.ndarray, y: np.ndarray):\n",
    "    \"\"\"\n",
    "    Apply MultiLayerPerceptronClassifier after scaling the data and \n",
    "    print the average scores (accuracy, precision, recall, F1).\n",
    "    \n",
    "    :param X: dataset without labels\n",
    "    :param y: labels\n",
    "    \n",
    "    :return: Nothing\n",
    "    \"\"\"\n",
    "    scaler = MinMaxScaler()\n",
    "    X_scaled = scaler.fit_transform(X)\n",
    "    \n",
    "    print(\"MultiLayerPerceptronClassifier \\n max_iter=3000, alpha=1e-5, hidden_layer_sizes=(40, 20), random_state=0\\n\")\n",
    "    model = MLPClassifier(max_iter=3000, alpha=1e-5, hidden_layer_sizes=(40, 20), random_state=0)\n",
    "    print_fold_cross_validation_scores(model, X_scaled, y)"
   ]
  },
  {
   "cell_type": "markdown",
   "metadata": {},
   "source": [
    "## <u> Aplicarea modelelor de clasificare </u>"
   ]
  },
  {
   "cell_type": "markdown",
   "metadata": {},
   "source": [
    "### Glass dataset"
   ]
  },
  {
   "cell_type": "code",
   "execution_count": 16,
   "metadata": {
    "ExecuteTime": {
     "end_time": "2021-04-23T06:04:49.211925Z",
     "start_time": "2021-04-23T06:04:49.199029Z"
    }
   },
   "outputs": [],
   "source": [
    "X_glass: np.ndarray = glass_df.values[:, :-1]\n",
    "Y_glass: np.ndarray = glass_df.values[:, -1]"
   ]
  },
  {
   "cell_type": "markdown",
   "metadata": {},
   "source": [
    "#### KNeighborsClassifier"
   ]
  },
  {
   "cell_type": "code",
   "execution_count": 17,
   "metadata": {
    "ExecuteTime": {
     "end_time": "2021-04-23T06:04:49.356756Z",
     "start_time": "2021-04-23T06:04:49.215396Z"
    }
   },
   "outputs": [
    {
     "name": "stdout",
     "output_type": "stream",
     "text": [
      "KNeighborsClassifier \n",
      " n_neighbors=3, p=1 \n",
      "\n",
      "\n",
      " Train set\n",
      "Accuracy average score: 0.8481368149054808\n",
      "Precision average score: 0.8341999356042606\n",
      "Recall average score: 0.8010774730535957\n",
      "F1 average score: 0.8061701455087057\n",
      "\n",
      " Test set\n",
      "Accuracy average score: 0.640531561461794\n",
      "Precision average score: 0.5327259287553405\n",
      "Recall average score: 0.5725198412698412\n",
      "F1 average score: 0.5227413579269237\n"
     ]
    }
   ],
   "source": [
    "KNeighborsClassifier_stats(X_glass, Y_glass)"
   ]
  },
  {
   "cell_type": "markdown",
   "metadata": {},
   "source": [
    "#### DecisionTreeClassifier"
   ]
  },
  {
   "cell_type": "code",
   "execution_count": 18,
   "metadata": {
    "ExecuteTime": {
     "end_time": "2021-04-23T06:04:49.425701Z",
     "start_time": "2021-04-23T06:04:49.359239Z"
    },
    "scrolled": true
   },
   "outputs": [
    {
     "name": "stdout",
     "output_type": "stream",
     "text": [
      "DecisionTreeClassifier \n",
      " random_state=0 \n",
      "\n",
      "\n",
      " Train set\n",
      "Accuracy average score: 1.0\n",
      "Precision average score: 1.0\n",
      "Recall average score: 1.0\n",
      "F1 average score: 1.0\n",
      "\n",
      " Test set\n",
      "Accuracy average score: 0.5512735326688815\n",
      "Precision average score: 0.536380676016226\n",
      "Recall average score: 0.5242460317460317\n",
      "F1 average score: 0.5007263654306666\n"
     ]
    }
   ],
   "source": [
    "DecisionTreeClassifier_stats(X_glass, Y_glass)"
   ]
  },
  {
   "cell_type": "markdown",
   "metadata": {},
   "source": [
    "#### StochasticGradientDescentClassifier"
   ]
  },
  {
   "cell_type": "code",
   "execution_count": 19,
   "metadata": {
    "ExecuteTime": {
     "end_time": "2021-04-23T06:04:49.532341Z",
     "start_time": "2021-04-23T06:04:49.428677Z"
    }
   },
   "outputs": [
    {
     "name": "stdout",
     "output_type": "stream",
     "text": [
      "StochasticGradientDescentClassifier \n",
      " loss=hinge, penalty=l2, max_iter=80 \n",
      "\n",
      "\n",
      " Train set\n",
      "Accuracy average score: 0.5782877736978104\n",
      "Precision average score: 0.591761996322853\n",
      "Recall average score: 0.5303274368776864\n",
      "F1 average score: 0.510623721045899\n",
      "\n",
      " Test set\n",
      "Accuracy average score: 0.48139534883720925\n",
      "Precision average score: 0.37356306459722016\n",
      "Recall average score: 0.4185714285714286\n",
      "F1 average score: 0.35174465080586514\n"
     ]
    }
   ],
   "source": [
    "StochasticGradientDescentClassifier_stats(X_glass, Y_glass)"
   ]
  },
  {
   "cell_type": "markdown",
   "metadata": {},
   "source": [
    "#### RandomForestClassifier"
   ]
  },
  {
   "cell_type": "code",
   "execution_count": 20,
   "metadata": {
    "ExecuteTime": {
     "end_time": "2021-04-23T06:04:50.726709Z",
     "start_time": "2021-04-23T06:04:49.535813Z"
    }
   },
   "outputs": [
    {
     "name": "stdout",
     "output_type": "stream",
     "text": [
      "RandomForestClassifier \n",
      " max_depth=2, random_state=0 \n",
      "\n",
      "\n",
      " Train set\n",
      "Accuracy average score: 0.6775669794641642\n",
      "Precision average score: 0.3714987822870393\n",
      "Recall average score: 0.42126121463077987\n",
      "F1 average score: 0.3920213407375831\n",
      "\n",
      " Test set\n",
      "Accuracy average score: 0.5750830564784052\n",
      "Precision average score: 0.31722948951209823\n",
      "Recall average score: 0.368234126984127\n",
      "F1 average score: 0.3318975697116091\n"
     ]
    }
   ],
   "source": [
    "RandomForestClassifier_stats(X_glass, Y_glass)"
   ]
  },
  {
   "cell_type": "markdown",
   "metadata": {},
   "source": [
    "#### MultiLayerPerceptronClassifier"
   ]
  },
  {
   "cell_type": "code",
   "execution_count": 21,
   "metadata": {
    "ExecuteTime": {
     "end_time": "2021-04-23T06:05:05.342346Z",
     "start_time": "2021-04-23T06:04:50.729189Z"
    }
   },
   "outputs": [
    {
     "name": "stdout",
     "output_type": "stream",
     "text": [
      "MultiLayerPerceptronClassifier \n",
      " max_iter=3000, alpha=1e-5, hidden_layer_sizes=(40, 20), random_state=0\n",
      "\n",
      "\n",
      " Train set\n",
      "Accuracy average score: 0.9591187270501835\n",
      "Precision average score: 0.9630545484791817\n",
      "Recall average score: 0.9704878500370304\n",
      "F1 average score: 0.966399247707004\n",
      "\n",
      " Test set\n",
      "Accuracy average score: 0.6867109634551495\n",
      "Precision average score: 0.6692027392685287\n",
      "Recall average score: 0.6811706349206348\n",
      "F1 average score: 0.6343925192803044\n"
     ]
    }
   ],
   "source": [
    "MultiLayerPerceptronClassifier_stats(X_glass, Y_glass)"
   ]
  },
  {
   "cell_type": "markdown",
   "metadata": {},
   "source": [
    "### Wine dataset"
   ]
  },
  {
   "cell_type": "code",
   "execution_count": 22,
   "metadata": {
    "ExecuteTime": {
     "end_time": "2021-04-23T06:05:05.350283Z",
     "start_time": "2021-04-23T06:05:05.345323Z"
    }
   },
   "outputs": [],
   "source": [
    "X_wine: np.ndarray = wine_transformed_values[:, 1:]\n",
    "Y_wine: np.ndarray = wine_transformed_values[:, 0]"
   ]
  },
  {
   "cell_type": "markdown",
   "metadata": {},
   "source": [
    "#### KNeighborsClassifier"
   ]
  },
  {
   "cell_type": "code",
   "execution_count": 23,
   "metadata": {
    "ExecuteTime": {
     "end_time": "2021-04-23T06:05:05.521411Z",
     "start_time": "2021-04-23T06:05:05.358218Z"
    }
   },
   "outputs": [
    {
     "name": "stdout",
     "output_type": "stream",
     "text": [
      "KNeighborsClassifier \n",
      " n_neighbors=3, p=1 \n",
      "\n",
      "\n",
      " Train set\n",
      "Accuracy average score: 1.0\n",
      "Precision average score: 1.0\n",
      "Recall average score: 1.0\n",
      "F1 average score: 1.0\n",
      "\n",
      " Test set\n",
      "Accuracy average score: 0.9944444444444445\n",
      "Precision average score: 0.9955555555555555\n",
      "Recall average score: 0.9944444444444445\n",
      "F1 average score: 0.9948025987006496\n"
     ]
    }
   ],
   "source": [
    "KNeighborsClassifier_stats(X_wine, Y_wine)"
   ]
  },
  {
   "cell_type": "markdown",
   "metadata": {
    "ExecuteTime": {
     "end_time": "2021-04-19T19:33:49.178038Z",
     "start_time": "2021-04-19T19:33:49.174110Z"
    }
   },
   "source": [
    "#### DecisionTreeClassifier"
   ]
  },
  {
   "cell_type": "code",
   "execution_count": 24,
   "metadata": {
    "ExecuteTime": {
     "end_time": "2021-04-23T06:05:05.587370Z",
     "start_time": "2021-04-23T06:05:05.526363Z"
    }
   },
   "outputs": [
    {
     "name": "stdout",
     "output_type": "stream",
     "text": [
      "DecisionTreeClassifier \n",
      " random_state=0 \n",
      "\n",
      "\n",
      " Train set\n",
      "Accuracy average score: 1.0\n",
      "Precision average score: 1.0\n",
      "Recall average score: 1.0\n",
      "F1 average score: 1.0\n",
      "\n",
      " Test set\n",
      "Accuracy average score: 0.9382539682539683\n",
      "Precision average score: 0.9438905538905539\n",
      "Recall average score: 0.943968253968254\n",
      "F1 average score: 0.9392268073704724\n"
     ]
    }
   ],
   "source": [
    "DecisionTreeClassifier_stats(X_wine, Y_wine)"
   ]
  },
  {
   "cell_type": "markdown",
   "metadata": {},
   "source": [
    "#### StochasticGradientDescentClassifier"
   ]
  },
  {
   "cell_type": "code",
   "execution_count": 25,
   "metadata": {
    "ExecuteTime": {
     "end_time": "2021-04-23T06:05:05.666254Z",
     "start_time": "2021-04-23T06:05:05.591835Z"
    }
   },
   "outputs": [
    {
     "name": "stdout",
     "output_type": "stream",
     "text": [
      "StochasticGradientDescentClassifier \n",
      " loss=hinge, penalty=l2, max_iter=80 \n",
      "\n",
      "\n",
      " Train set\n",
      "Accuracy average score: 0.9971929478971733\n",
      "Precision average score: 0.997183908045977\n",
      "Recall average score: 0.9970551378446115\n",
      "F1 average score: 0.9970869185090429\n",
      "\n",
      " Test set\n",
      "Accuracy average score: 0.9609523809523809\n",
      "Precision average score: 0.9654778554778554\n",
      "Recall average score: 0.9669841269841271\n",
      "F1 average score: 0.962777915414334\n"
     ]
    }
   ],
   "source": [
    "StochasticGradientDescentClassifier_stats(X_wine, Y_wine)"
   ]
  },
  {
   "cell_type": "markdown",
   "metadata": {},
   "source": [
    "#### RandomForestClassifier"
   ]
  },
  {
   "cell_type": "code",
   "execution_count": 26,
   "metadata": {
    "ExecuteTime": {
     "end_time": "2021-04-23T06:05:06.589292Z",
     "start_time": "2021-04-23T06:05:05.668714Z"
    }
   },
   "outputs": [
    {
     "name": "stdout",
     "output_type": "stream",
     "text": [
      "RandomForestClassifier \n",
      " max_depth=2, random_state=0 \n",
      "\n",
      "\n",
      " Train set\n",
      "Accuracy average score: 0.9971929478971733\n",
      "Precision average score: 0.997250566893424\n",
      "Recall average score: 0.9976399331662489\n",
      "F1 average score: 0.9974203892885919\n",
      "\n",
      " Test set\n",
      "Accuracy average score: 0.9888888888888889\n",
      "Precision average score: 0.9888111888111888\n",
      "Recall average score: 0.9904761904761905\n",
      "F1 average score: 0.9892204585537918\n"
     ]
    }
   ],
   "source": [
    "RandomForestClassifier_stats(X_wine, Y_wine)"
   ]
  },
  {
   "cell_type": "markdown",
   "metadata": {},
   "source": [
    "#### MultiLayerPerceptronClassifier"
   ]
  },
  {
   "cell_type": "code",
   "execution_count": 27,
   "metadata": {
    "ExecuteTime": {
     "end_time": "2021-04-23T06:05:08.585692Z",
     "start_time": "2021-04-23T06:05:06.592267Z"
    }
   },
   "outputs": [
    {
     "name": "stdout",
     "output_type": "stream",
     "text": [
      "MultiLayerPerceptronClassifier \n",
      " max_iter=3000, alpha=1e-5, hidden_layer_sizes=(40, 20), random_state=0\n",
      "\n",
      "\n",
      " Train set\n",
      "Accuracy average score: 1.0\n",
      "Precision average score: 1.0\n",
      "Recall average score: 1.0\n",
      "F1 average score: 1.0\n",
      "\n",
      " Test set\n",
      "Accuracy average score: 1.0\n",
      "Precision average score: 1.0\n",
      "Recall average score: 1.0\n",
      "F1 average score: 1.0\n"
     ]
    }
   ],
   "source": [
    "MultiLayerPerceptronClassifier_stats(X_wine, Y_wine)"
   ]
  },
  {
   "cell_type": "markdown",
   "metadata": {},
   "source": [
    "### Iris dataset"
   ]
  },
  {
   "cell_type": "code",
   "execution_count": 28,
   "metadata": {
    "ExecuteTime": {
     "end_time": "2021-04-23T06:05:08.594621Z",
     "start_time": "2021-04-23T06:05:08.588668Z"
    }
   },
   "outputs": [],
   "source": [
    "X_iris: np.ndarray = iris_df.values[:, :-1]\n",
    "Y_iris: np.ndarray = iris_df.values[:, -1]"
   ]
  },
  {
   "cell_type": "markdown",
   "metadata": {
    "ExecuteTime": {
     "end_time": "2021-04-19T19:38:13.090349Z",
     "start_time": "2021-04-19T19:38:13.085389Z"
    }
   },
   "source": [
    "#### KNeighborsClassifier"
   ]
  },
  {
   "cell_type": "code",
   "execution_count": 29,
   "metadata": {
    "ExecuteTime": {
     "end_time": "2021-04-23T06:05:08.711675Z",
     "start_time": "2021-04-23T06:05:08.598588Z"
    }
   },
   "outputs": [
    {
     "name": "stdout",
     "output_type": "stream",
     "text": [
      "KNeighborsClassifier \n",
      " n_neighbors=3, p=1 \n",
      "\n",
      "\n",
      " Train set\n",
      "Accuracy average score: 0.9566666666666667\n",
      "Precision average score: 0.9568900048746005\n",
      "Recall average score: 0.9566666666666668\n",
      "F1 average score: 0.9566598928205734\n",
      "\n",
      " Test set\n",
      "Accuracy average score: 0.9533333333333334\n",
      "Precision average score: 0.9572390572390572\n",
      "Recall average score: 0.9533333333333334\n",
      "F1 average score: 0.9531151110098477\n"
     ]
    }
   ],
   "source": [
    "KNeighborsClassifier_stats(X_iris, Y_iris)"
   ]
  },
  {
   "cell_type": "markdown",
   "metadata": {},
   "source": [
    "#### DecisionTreeClassifier"
   ]
  },
  {
   "cell_type": "code",
   "execution_count": 30,
   "metadata": {
    "ExecuteTime": {
     "end_time": "2021-04-23T06:05:08.776154Z",
     "start_time": "2021-04-23T06:05:08.714157Z"
    }
   },
   "outputs": [
    {
     "name": "stdout",
     "output_type": "stream",
     "text": [
      "DecisionTreeClassifier \n",
      " random_state=0 \n",
      "\n",
      "\n",
      " Train set\n",
      "Accuracy average score: 1.0\n",
      "Precision average score: 1.0\n",
      "Recall average score: 1.0\n",
      "F1 average score: 1.0\n",
      "\n",
      " Test set\n",
      "Accuracy average score: 0.9600000000000002\n",
      "Precision average score: 0.9622895622895623\n",
      "Recall average score: 0.9600000000000002\n",
      "F1 average score: 0.9598997493734336\n"
     ]
    }
   ],
   "source": [
    "DecisionTreeClassifier_stats(X_iris, Y_iris)"
   ]
  },
  {
   "cell_type": "markdown",
   "metadata": {},
   "source": [
    "#### StochasticGradientDescentClassifier"
   ]
  },
  {
   "cell_type": "code",
   "execution_count": 31,
   "metadata": {
    "ExecuteTime": {
     "end_time": "2021-04-23T06:05:08.841132Z",
     "start_time": "2021-04-23T06:05:08.778635Z"
    }
   },
   "outputs": [
    {
     "name": "stdout",
     "output_type": "stream",
     "text": [
      "StochasticGradientDescentClassifier \n",
      " loss=hinge, penalty=l2, max_iter=80 \n",
      "\n",
      "\n",
      " Train set\n",
      "Accuracy average score: 0.9349999999999999\n",
      "Precision average score: 0.9401815151983259\n",
      "Recall average score: 0.9349999999999999\n",
      "F1 average score: 0.9350202321830517\n",
      "\n",
      " Test set\n",
      "Accuracy average score: 0.9400000000000001\n",
      "Precision average score: 0.9472727272727273\n",
      "Recall average score: 0.9399999999999998\n",
      "F1 average score: 0.9399691147059567\n"
     ]
    }
   ],
   "source": [
    "StochasticGradientDescentClassifier_stats(X_iris, Y_iris)"
   ]
  },
  {
   "cell_type": "markdown",
   "metadata": {},
   "source": [
    "#### RandomForestClassifier"
   ]
  },
  {
   "cell_type": "code",
   "execution_count": 32,
   "metadata": {
    "ExecuteTime": {
     "end_time": "2021-04-23T06:05:09.805356Z",
     "start_time": "2021-04-23T06:05:08.843612Z"
    }
   },
   "outputs": [
    {
     "name": "stdout",
     "output_type": "stream",
     "text": [
      "RandomForestClassifier \n",
      " max_depth=2, random_state=0 \n",
      "\n",
      "\n",
      " Train set\n",
      "Accuracy average score: 0.96\n",
      "Precision average score: 0.9603590903462533\n",
      "Recall average score: 0.96\n",
      "F1 average score: 0.9599854085237091\n",
      "\n",
      " Test set\n",
      "Accuracy average score: 0.9533333333333334\n",
      "Precision average score: 0.9572390572390572\n",
      "Recall average score: 0.9533333333333334\n",
      "F1 average score: 0.9531151110098477\n"
     ]
    }
   ],
   "source": [
    "RandomForestClassifier_stats(X_iris, Y_iris)"
   ]
  },
  {
   "cell_type": "markdown",
   "metadata": {},
   "source": [
    "#### MultiLayerPerceptronClassifier"
   ]
  },
  {
   "cell_type": "code",
   "execution_count": 33,
   "metadata": {
    "ExecuteTime": {
     "end_time": "2021-04-23T06:05:12.353805Z",
     "start_time": "2021-04-23T06:05:09.808332Z"
    }
   },
   "outputs": [
    {
     "name": "stdout",
     "output_type": "stream",
     "text": [
      "MultiLayerPerceptronClassifier \n",
      " max_iter=3000, alpha=1e-5, hidden_layer_sizes=(40, 20), random_state=0\n",
      "\n",
      "\n",
      " Train set\n",
      "Accuracy average score: 0.9799999999999999\n",
      "Precision average score: 0.9802275074803959\n",
      "Recall average score: 0.9799999999999999\n",
      "F1 average score: 0.9799942679833593\n",
      "\n",
      " Test set\n",
      "Accuracy average score: 0.9733333333333334\n",
      "Precision average score: 0.9755555555555556\n",
      "Recall average score: 0.9733333333333333\n",
      "F1 average score: 0.9731986531986532\n"
     ]
    }
   ],
   "source": [
    "MultiLayerPerceptronClassifier_stats(X_iris, Y_iris)"
   ]
  },
  {
   "cell_type": "markdown",
   "metadata": {},
   "source": [
    "### Dermatology dataset"
   ]
  },
  {
   "cell_type": "code",
   "execution_count": 34,
   "metadata": {
    "ExecuteTime": {
     "end_time": "2021-04-23T06:05:12.362732Z",
     "start_time": "2021-04-23T06:05:12.356781Z"
    }
   },
   "outputs": [],
   "source": [
    "X_dermatology: np.ndarray = dermatology_transformed_values[:, :-1]\n",
    "Y_dermatology: np.ndarray = dermatology_transformed_values[:, -1]"
   ]
  },
  {
   "cell_type": "markdown",
   "metadata": {},
   "source": [
    "#### KNeighborsClassifier"
   ]
  },
  {
   "cell_type": "code",
   "execution_count": 35,
   "metadata": {
    "ExecuteTime": {
     "end_time": "2021-04-23T06:05:12.576012Z",
     "start_time": "2021-04-23T06:05:12.366204Z"
    }
   },
   "outputs": [
    {
     "name": "stdout",
     "output_type": "stream",
     "text": [
      "KNeighborsClassifier \n",
      " n_neighbors=3, p=1 \n",
      "\n",
      "\n",
      " Train set\n",
      "Accuracy average score: 0.983608396839497\n",
      "Precision average score: 0.9812763343042443\n",
      "Recall average score: 0.9824526862026863\n",
      "F1 average score: 0.9816980914489996\n",
      "\n",
      " Test set\n",
      "Accuracy average score: 0.9589781562384301\n",
      "Precision average score: 0.9574395974395975\n",
      "Recall average score: 0.9588250959990091\n",
      "F1 average score: 0.9561565653253632\n"
     ]
    }
   ],
   "source": [
    "KNeighborsClassifier_stats(X_dermatology, Y_dermatology)"
   ]
  },
  {
   "cell_type": "markdown",
   "metadata": {},
   "source": [
    "#### DecisionTreeClassifier"
   ]
  },
  {
   "cell_type": "code",
   "execution_count": 36,
   "metadata": {
    "ExecuteTime": {
     "end_time": "2021-04-23T06:05:12.642973Z",
     "start_time": "2021-04-23T06:05:12.578988Z"
    }
   },
   "outputs": [
    {
     "name": "stdout",
     "output_type": "stream",
     "text": [
      "DecisionTreeClassifier \n",
      " random_state=0 \n",
      "\n",
      "\n",
      " Train set\n",
      "Accuracy average score: 1.0\n",
      "Precision average score: 1.0\n",
      "Recall average score: 1.0\n",
      "F1 average score: 1.0\n",
      "\n",
      " Test set\n",
      "Accuracy average score: 0.9153276564235469\n",
      "Precision average score: 0.9205887260887261\n",
      "Recall average score: 0.9097541991020253\n",
      "F1 average score: 0.9097358381982849\n"
     ]
    }
   ],
   "source": [
    "DecisionTreeClassifier_stats(X_dermatology, Y_dermatology)"
   ]
  },
  {
   "cell_type": "markdown",
   "metadata": {},
   "source": [
    "#### StochasticGradientDescentClassifier"
   ]
  },
  {
   "cell_type": "code",
   "execution_count": 37,
   "metadata": {
    "ExecuteTime": {
     "end_time": "2021-04-23T06:05:12.747628Z",
     "start_time": "2021-04-23T06:05:12.645453Z"
    }
   },
   "outputs": [
    {
     "name": "stdout",
     "output_type": "stream",
     "text": [
      "StochasticGradientDescentClassifier \n",
      " loss=hinge, penalty=l2, max_iter=80 \n",
      "\n",
      "\n",
      " Train set\n",
      "Accuracy average score: 0.9938566552901025\n",
      "Precision average score: 0.9936285523949195\n",
      "Recall average score: 0.9933542647828363\n",
      "F1 average score: 0.9933611114192702\n",
      "\n",
      " Test set\n",
      "Accuracy average score: 0.9671603109959275\n",
      "Precision average score: 0.9681776741776741\n",
      "Recall average score: 0.9646845746845747\n",
      "F1 average score: 0.9637026241126165\n"
     ]
    }
   ],
   "source": [
    "StochasticGradientDescentClassifier_stats(X_dermatology, Y_dermatology)"
   ]
  },
  {
   "cell_type": "markdown",
   "metadata": {},
   "source": [
    "#### RandomForestClassifier"
   ]
  },
  {
   "cell_type": "code",
   "execution_count": 38,
   "metadata": {
    "ExecuteTime": {
     "end_time": "2021-04-23T06:05:13.676640Z",
     "start_time": "2021-04-23T06:05:12.750109Z"
    }
   },
   "outputs": [
    {
     "name": "stdout",
     "output_type": "stream",
     "text": [
      "RandomForestClassifier \n",
      " max_depth=2, random_state=0 \n",
      "\n",
      "\n",
      " Train set\n",
      "Accuracy average score: 0.8101103370891579\n",
      "Precision average score: 0.6731768475122735\n",
      "Recall average score: 0.6658080411651841\n",
      "F1 average score: 0.6087286594845375\n",
      "\n",
      " Test set\n",
      "Accuracy average score: 0.7923731951129211\n",
      "Precision average score: 0.5619188034188035\n",
      "Recall average score: 0.6455167055167055\n",
      "F1 average score: 0.5883530107510742\n"
     ]
    }
   ],
   "source": [
    "RandomForestClassifier_stats(X_dermatology, Y_dermatology)"
   ]
  },
  {
   "cell_type": "markdown",
   "metadata": {},
   "source": [
    "#### MultiLayerPerceptronClassifier"
   ]
  },
  {
   "cell_type": "code",
   "execution_count": 39,
   "metadata": {
    "ExecuteTime": {
     "end_time": "2021-04-23T06:05:17.358943Z",
     "start_time": "2021-04-23T06:05:13.679613Z"
    }
   },
   "outputs": [
    {
     "name": "stdout",
     "output_type": "stream",
     "text": [
      "MultiLayerPerceptronClassifier \n",
      " max_iter=3000, alpha=1e-5, hidden_layer_sizes=(40, 20), random_state=0\n",
      "\n",
      "\n",
      " Train set\n",
      "Accuracy average score: 1.0\n",
      "Precision average score: 1.0\n",
      "Recall average score: 1.0\n",
      "F1 average score: 1.0\n",
      "\n",
      " Test set\n",
      "Accuracy average score: 0.9753424657534246\n",
      "Precision average score: 0.9728399378399379\n",
      "Recall average score: 0.9731746031746032\n",
      "F1 average score: 0.9726293309763943\n"
     ]
    }
   ],
   "source": [
    "MultiLayerPerceptronClassifier_stats(X_dermatology, Y_dermatology)"
   ]
  },
  {
   "cell_type": "markdown",
   "metadata": {},
   "source": [
    "## <u> Performanta fiecarui model </u>"
   ]
  },
  {
   "cell_type": "markdown",
   "metadata": {},
   "source": [
    "Raportati performanta fiecarui model, folosind 5 fold cross validation. Pentru fiecare din cele 5 rulari, cautati hiperparametrii optimi folosind 4-fold cross validation. Performanta modelului va fi raportata ca medie a celor  5 rulari."
   ]
  },
  {
   "cell_type": "code",
   "execution_count": 40,
   "metadata": {
    "ExecuteTime": {
     "end_time": "2021-04-23T06:05:17.369358Z",
     "start_time": "2021-04-23T06:05:17.361919Z"
    }
   },
   "outputs": [],
   "source": [
    "from sklearn.model_selection import GridSearchCV\n",
    "from sklearn.model_selection import cross_val_score\n",
    "from sklearn.pipeline import Pipeline"
   ]
  },
  {
   "cell_type": "markdown",
   "metadata": {},
   "source": [
    "<a id='knn_performance'></a>\n",
    "\n",
    "### KNeighborsClassifier"
   ]
  },
  {
   "cell_type": "code",
   "execution_count": 41,
   "metadata": {
    "ExecuteTime": {
     "end_time": "2021-04-23T06:05:17.383248Z",
     "start_time": "2021-04-23T06:05:17.372831Z"
    }
   },
   "outputs": [],
   "source": [
    "def KNeighborsClassifier_performance(X: np.ndarray, y: np.ndarray) -> None:\n",
    "    \"\"\"\n",
    "    Apply cross_val_score on the KNeighborsClassifier model with 5 fold cross validation \n",
    "    using the hyperparameters found with 4 fold cross validation\n",
    "    \n",
    "    :param X: data set without the labels\n",
    "    :param Y: labels\n",
    "    \n",
    "    :returns: nothing\n",
    "    \"\"\"\n",
    "    pipe = Pipeline([('scaler', MinMaxScaler()), ('knn', KNeighborsClassifier())])\n",
    "    \n",
    "    parameter_grid: Dict[str, List[Any]] = {'knn__n_neighbors': list(range(1, 10)), \n",
    "                      'knn__p': list(range(1, 5))}\n",
    "    \n",
    "    grid_search = GridSearchCV(pipe, param_grid = parameter_grid, scoring = 'accuracy', \n",
    "                        cv=4, n_jobs=4)\n",
    "    \n",
    "    grid_search.fit(X, y)\n",
    "    print(f\"Best params: {grid_search.best_params_}\")\n",
    "    \n",
    "    scores: np.ndarray = cross_val_score(grid_search, X, y, cv=5)\n",
    "    print(f'Accuracy: {scores.mean()}')\n",
    "     \n",
    "    grid_search = pd.DataFrame(grid_search.cv_results_)\n",
    "    display(grid_search.head())"
   ]
  },
  {
   "cell_type": "markdown",
   "metadata": {},
   "source": [
    "#### Glass dataset"
   ]
  },
  {
   "cell_type": "code",
   "execution_count": 42,
   "metadata": {
    "ExecuteTime": {
     "end_time": "2021-04-23T06:05:21.778305Z",
     "start_time": "2021-04-23T06:05:17.387711Z"
    },
    "scrolled": true
   },
   "outputs": [
    {
     "name": "stdout",
     "output_type": "stream",
     "text": [
      "Best params: {'knn__n_neighbors': 3, 'knn__p': 1}\n",
      "Accuracy: 0.6125138427464009\n"
     ]
    },
    {
     "data": {
      "text/html": [
       "<div>\n",
       "<style scoped>\n",
       "    .dataframe tbody tr th:only-of-type {\n",
       "        vertical-align: middle;\n",
       "    }\n",
       "\n",
       "    .dataframe tbody tr th {\n",
       "        vertical-align: top;\n",
       "    }\n",
       "\n",
       "    .dataframe thead th {\n",
       "        text-align: right;\n",
       "    }\n",
       "</style>\n",
       "<table border=\"1\" class=\"dataframe\">\n",
       "  <thead>\n",
       "    <tr style=\"text-align: right;\">\n",
       "      <th></th>\n",
       "      <th>mean_fit_time</th>\n",
       "      <th>std_fit_time</th>\n",
       "      <th>mean_score_time</th>\n",
       "      <th>std_score_time</th>\n",
       "      <th>param_knn__n_neighbors</th>\n",
       "      <th>param_knn__p</th>\n",
       "      <th>params</th>\n",
       "      <th>split0_test_score</th>\n",
       "      <th>split1_test_score</th>\n",
       "      <th>split2_test_score</th>\n",
       "      <th>split3_test_score</th>\n",
       "      <th>mean_test_score</th>\n",
       "      <th>std_test_score</th>\n",
       "      <th>rank_test_score</th>\n",
       "    </tr>\n",
       "  </thead>\n",
       "  <tbody>\n",
       "    <tr>\n",
       "      <th>0</th>\n",
       "      <td>0.002485</td>\n",
       "      <td>0.000350</td>\n",
       "      <td>0.005450</td>\n",
       "      <td>0.000779</td>\n",
       "      <td>1</td>\n",
       "      <td>1</td>\n",
       "      <td>{'knn__n_neighbors': 1, 'knn__p': 1}</td>\n",
       "      <td>0.592593</td>\n",
       "      <td>0.703704</td>\n",
       "      <td>0.622642</td>\n",
       "      <td>0.603774</td>\n",
       "      <td>0.630678</td>\n",
       "      <td>0.043508</td>\n",
       "      <td>8</td>\n",
       "    </tr>\n",
       "    <tr>\n",
       "      <th>1</th>\n",
       "      <td>0.002111</td>\n",
       "      <td>0.000411</td>\n",
       "      <td>0.006201</td>\n",
       "      <td>0.001426</td>\n",
       "      <td>1</td>\n",
       "      <td>2</td>\n",
       "      <td>{'knn__n_neighbors': 1, 'knn__p': 2}</td>\n",
       "      <td>0.574074</td>\n",
       "      <td>0.666667</td>\n",
       "      <td>0.603774</td>\n",
       "      <td>0.566038</td>\n",
       "      <td>0.602638</td>\n",
       "      <td>0.039549</td>\n",
       "      <td>19</td>\n",
       "    </tr>\n",
       "    <tr>\n",
       "      <th>2</th>\n",
       "      <td>0.001985</td>\n",
       "      <td>0.000003</td>\n",
       "      <td>0.008434</td>\n",
       "      <td>0.000784</td>\n",
       "      <td>1</td>\n",
       "      <td>3</td>\n",
       "      <td>{'knn__n_neighbors': 1, 'knn__p': 3}</td>\n",
       "      <td>0.555556</td>\n",
       "      <td>0.648148</td>\n",
       "      <td>0.603774</td>\n",
       "      <td>0.584906</td>\n",
       "      <td>0.598096</td>\n",
       "      <td>0.033620</td>\n",
       "      <td>22</td>\n",
       "    </tr>\n",
       "    <tr>\n",
       "      <th>3</th>\n",
       "      <td>0.001737</td>\n",
       "      <td>0.000249</td>\n",
       "      <td>0.007191</td>\n",
       "      <td>0.000554</td>\n",
       "      <td>1</td>\n",
       "      <td>4</td>\n",
       "      <td>{'knn__n_neighbors': 1, 'knn__p': 4}</td>\n",
       "      <td>0.555556</td>\n",
       "      <td>0.611111</td>\n",
       "      <td>0.603774</td>\n",
       "      <td>0.584906</td>\n",
       "      <td>0.588836</td>\n",
       "      <td>0.021461</td>\n",
       "      <td>26</td>\n",
       "    </tr>\n",
       "    <tr>\n",
       "      <th>4</th>\n",
       "      <td>0.002232</td>\n",
       "      <td>0.000744</td>\n",
       "      <td>0.006324</td>\n",
       "      <td>0.002115</td>\n",
       "      <td>2</td>\n",
       "      <td>1</td>\n",
       "      <td>{'knn__n_neighbors': 2, 'knn__p': 1}</td>\n",
       "      <td>0.574074</td>\n",
       "      <td>0.722222</td>\n",
       "      <td>0.584906</td>\n",
       "      <td>0.660377</td>\n",
       "      <td>0.635395</td>\n",
       "      <td>0.060151</td>\n",
       "      <td>7</td>\n",
       "    </tr>\n",
       "  </tbody>\n",
       "</table>\n",
       "</div>"
      ],
      "text/plain": [
       "   mean_fit_time  std_fit_time  mean_score_time  std_score_time  \\\n",
       "0       0.002485      0.000350         0.005450        0.000779   \n",
       "1       0.002111      0.000411         0.006201        0.001426   \n",
       "2       0.001985      0.000003         0.008434        0.000784   \n",
       "3       0.001737      0.000249         0.007191        0.000554   \n",
       "4       0.002232      0.000744         0.006324        0.002115   \n",
       "\n",
       "  param_knn__n_neighbors param_knn__p                                params  \\\n",
       "0                      1            1  {'knn__n_neighbors': 1, 'knn__p': 1}   \n",
       "1                      1            2  {'knn__n_neighbors': 1, 'knn__p': 2}   \n",
       "2                      1            3  {'knn__n_neighbors': 1, 'knn__p': 3}   \n",
       "3                      1            4  {'knn__n_neighbors': 1, 'knn__p': 4}   \n",
       "4                      2            1  {'knn__n_neighbors': 2, 'knn__p': 1}   \n",
       "\n",
       "   split0_test_score  split1_test_score  split2_test_score  split3_test_score  \\\n",
       "0           0.592593           0.703704           0.622642           0.603774   \n",
       "1           0.574074           0.666667           0.603774           0.566038   \n",
       "2           0.555556           0.648148           0.603774           0.584906   \n",
       "3           0.555556           0.611111           0.603774           0.584906   \n",
       "4           0.574074           0.722222           0.584906           0.660377   \n",
       "\n",
       "   mean_test_score  std_test_score  rank_test_score  \n",
       "0         0.630678        0.043508                8  \n",
       "1         0.602638        0.039549               19  \n",
       "2         0.598096        0.033620               22  \n",
       "3         0.588836        0.021461               26  \n",
       "4         0.635395        0.060151                7  "
      ]
     },
     "metadata": {},
     "output_type": "display_data"
    }
   ],
   "source": [
    "KNeighborsClassifier_performance(X_glass, Y_glass)"
   ]
  },
  {
   "cell_type": "markdown",
   "metadata": {
    "ExecuteTime": {
     "end_time": "2021-04-22T19:50:29.986026Z",
     "start_time": "2021-04-22T19:50:29.982093Z"
    }
   },
   "source": [
    "#### Wine dataset"
   ]
  },
  {
   "cell_type": "code",
   "execution_count": 43,
   "metadata": {
    "ExecuteTime": {
     "end_time": "2021-04-23T06:05:23.914576Z",
     "start_time": "2021-04-23T06:05:21.781280Z"
    },
    "scrolled": true
   },
   "outputs": [
    {
     "name": "stdout",
     "output_type": "stream",
     "text": [
      "Best params: {'knn__n_neighbors': 5, 'knn__p': 1}\n",
      "Accuracy: 0.9944444444444445\n"
     ]
    },
    {
     "data": {
      "text/html": [
       "<div>\n",
       "<style scoped>\n",
       "    .dataframe tbody tr th:only-of-type {\n",
       "        vertical-align: middle;\n",
       "    }\n",
       "\n",
       "    .dataframe tbody tr th {\n",
       "        vertical-align: top;\n",
       "    }\n",
       "\n",
       "    .dataframe thead th {\n",
       "        text-align: right;\n",
       "    }\n",
       "</style>\n",
       "<table border=\"1\" class=\"dataframe\">\n",
       "  <thead>\n",
       "    <tr style=\"text-align: right;\">\n",
       "      <th></th>\n",
       "      <th>mean_fit_time</th>\n",
       "      <th>std_fit_time</th>\n",
       "      <th>mean_score_time</th>\n",
       "      <th>std_score_time</th>\n",
       "      <th>param_knn__n_neighbors</th>\n",
       "      <th>param_knn__p</th>\n",
       "      <th>params</th>\n",
       "      <th>split0_test_score</th>\n",
       "      <th>split1_test_score</th>\n",
       "      <th>split2_test_score</th>\n",
       "      <th>split3_test_score</th>\n",
       "      <th>mean_test_score</th>\n",
       "      <th>std_test_score</th>\n",
       "      <th>rank_test_score</th>\n",
       "    </tr>\n",
       "  </thead>\n",
       "  <tbody>\n",
       "    <tr>\n",
       "      <th>0</th>\n",
       "      <td>0.002109</td>\n",
       "      <td>0.000541</td>\n",
       "      <td>0.004588</td>\n",
       "      <td>0.000645</td>\n",
       "      <td>1</td>\n",
       "      <td>1</td>\n",
       "      <td>{'knn__n_neighbors': 1, 'knn__p': 1}</td>\n",
       "      <td>0.977778</td>\n",
       "      <td>1.0</td>\n",
       "      <td>1.000000</td>\n",
       "      <td>1.000000</td>\n",
       "      <td>0.994444</td>\n",
       "      <td>0.009623</td>\n",
       "      <td>3</td>\n",
       "    </tr>\n",
       "    <tr>\n",
       "      <th>1</th>\n",
       "      <td>0.002851</td>\n",
       "      <td>0.001330</td>\n",
       "      <td>0.003596</td>\n",
       "      <td>0.000214</td>\n",
       "      <td>1</td>\n",
       "      <td>2</td>\n",
       "      <td>{'knn__n_neighbors': 1, 'knn__p': 2}</td>\n",
       "      <td>0.977778</td>\n",
       "      <td>1.0</td>\n",
       "      <td>0.977273</td>\n",
       "      <td>1.000000</td>\n",
       "      <td>0.988763</td>\n",
       "      <td>0.011239</td>\n",
       "      <td>23</td>\n",
       "    </tr>\n",
       "    <tr>\n",
       "      <th>2</th>\n",
       "      <td>0.001859</td>\n",
       "      <td>0.000214</td>\n",
       "      <td>0.006199</td>\n",
       "      <td>0.000247</td>\n",
       "      <td>1</td>\n",
       "      <td>3</td>\n",
       "      <td>{'knn__n_neighbors': 1, 'knn__p': 3}</td>\n",
       "      <td>0.955556</td>\n",
       "      <td>1.0</td>\n",
       "      <td>0.977273</td>\n",
       "      <td>1.000000</td>\n",
       "      <td>0.983207</td>\n",
       "      <td>0.018465</td>\n",
       "      <td>28</td>\n",
       "    </tr>\n",
       "    <tr>\n",
       "      <th>3</th>\n",
       "      <td>0.001736</td>\n",
       "      <td>0.000430</td>\n",
       "      <td>0.008308</td>\n",
       "      <td>0.002679</td>\n",
       "      <td>1</td>\n",
       "      <td>4</td>\n",
       "      <td>{'knn__n_neighbors': 1, 'knn__p': 4}</td>\n",
       "      <td>0.955556</td>\n",
       "      <td>1.0</td>\n",
       "      <td>0.977273</td>\n",
       "      <td>1.000000</td>\n",
       "      <td>0.983207</td>\n",
       "      <td>0.018465</td>\n",
       "      <td>28</td>\n",
       "    </tr>\n",
       "    <tr>\n",
       "      <th>4</th>\n",
       "      <td>0.001984</td>\n",
       "      <td>0.000351</td>\n",
       "      <td>0.004712</td>\n",
       "      <td>0.000554</td>\n",
       "      <td>2</td>\n",
       "      <td>1</td>\n",
       "      <td>{'knn__n_neighbors': 2, 'knn__p': 1}</td>\n",
       "      <td>0.977778</td>\n",
       "      <td>1.0</td>\n",
       "      <td>1.000000</td>\n",
       "      <td>0.977273</td>\n",
       "      <td>0.988763</td>\n",
       "      <td>0.011239</td>\n",
       "      <td>23</td>\n",
       "    </tr>\n",
       "  </tbody>\n",
       "</table>\n",
       "</div>"
      ],
      "text/plain": [
       "   mean_fit_time  std_fit_time  mean_score_time  std_score_time  \\\n",
       "0       0.002109      0.000541         0.004588        0.000645   \n",
       "1       0.002851      0.001330         0.003596        0.000214   \n",
       "2       0.001859      0.000214         0.006199        0.000247   \n",
       "3       0.001736      0.000430         0.008308        0.002679   \n",
       "4       0.001984      0.000351         0.004712        0.000554   \n",
       "\n",
       "  param_knn__n_neighbors param_knn__p                                params  \\\n",
       "0                      1            1  {'knn__n_neighbors': 1, 'knn__p': 1}   \n",
       "1                      1            2  {'knn__n_neighbors': 1, 'knn__p': 2}   \n",
       "2                      1            3  {'knn__n_neighbors': 1, 'knn__p': 3}   \n",
       "3                      1            4  {'knn__n_neighbors': 1, 'knn__p': 4}   \n",
       "4                      2            1  {'knn__n_neighbors': 2, 'knn__p': 1}   \n",
       "\n",
       "   split0_test_score  split1_test_score  split2_test_score  split3_test_score  \\\n",
       "0           0.977778                1.0           1.000000           1.000000   \n",
       "1           0.977778                1.0           0.977273           1.000000   \n",
       "2           0.955556                1.0           0.977273           1.000000   \n",
       "3           0.955556                1.0           0.977273           1.000000   \n",
       "4           0.977778                1.0           1.000000           0.977273   \n",
       "\n",
       "   mean_test_score  std_test_score  rank_test_score  \n",
       "0         0.994444        0.009623                3  \n",
       "1         0.988763        0.011239               23  \n",
       "2         0.983207        0.018465               28  \n",
       "3         0.983207        0.018465               28  \n",
       "4         0.988763        0.011239               23  "
      ]
     },
     "metadata": {},
     "output_type": "display_data"
    }
   ],
   "source": [
    "KNeighborsClassifier_performance(X_wine, Y_wine)"
   ]
  },
  {
   "cell_type": "markdown",
   "metadata": {},
   "source": [
    "#### Iris dataset"
   ]
  },
  {
   "cell_type": "code",
   "execution_count": 44,
   "metadata": {
    "ExecuteTime": {
     "end_time": "2021-04-23T06:05:25.694242Z",
     "start_time": "2021-04-23T06:05:23.917058Z"
    },
    "scrolled": true
   },
   "outputs": [
    {
     "name": "stdout",
     "output_type": "stream",
     "text": [
      "Best params: {'knn__n_neighbors': 3, 'knn__p': 3}\n",
      "Accuracy: 0.9533333333333334\n"
     ]
    },
    {
     "data": {
      "text/html": [
       "<div>\n",
       "<style scoped>\n",
       "    .dataframe tbody tr th:only-of-type {\n",
       "        vertical-align: middle;\n",
       "    }\n",
       "\n",
       "    .dataframe tbody tr th {\n",
       "        vertical-align: top;\n",
       "    }\n",
       "\n",
       "    .dataframe thead th {\n",
       "        text-align: right;\n",
       "    }\n",
       "</style>\n",
       "<table border=\"1\" class=\"dataframe\">\n",
       "  <thead>\n",
       "    <tr style=\"text-align: right;\">\n",
       "      <th></th>\n",
       "      <th>mean_fit_time</th>\n",
       "      <th>std_fit_time</th>\n",
       "      <th>mean_score_time</th>\n",
       "      <th>std_score_time</th>\n",
       "      <th>param_knn__n_neighbors</th>\n",
       "      <th>param_knn__p</th>\n",
       "      <th>params</th>\n",
       "      <th>split0_test_score</th>\n",
       "      <th>split1_test_score</th>\n",
       "      <th>split2_test_score</th>\n",
       "      <th>split3_test_score</th>\n",
       "      <th>mean_test_score</th>\n",
       "      <th>std_test_score</th>\n",
       "      <th>rank_test_score</th>\n",
       "    </tr>\n",
       "  </thead>\n",
       "  <tbody>\n",
       "    <tr>\n",
       "      <th>0</th>\n",
       "      <td>0.003348</td>\n",
       "      <td>2.679699e-03</td>\n",
       "      <td>0.004588</td>\n",
       "      <td>0.001933</td>\n",
       "      <td>1</td>\n",
       "      <td>1</td>\n",
       "      <td>{'knn__n_neighbors': 1, 'knn__p': 1}</td>\n",
       "      <td>0.947368</td>\n",
       "      <td>0.921053</td>\n",
       "      <td>0.891892</td>\n",
       "      <td>1.000000</td>\n",
       "      <td>0.940078</td>\n",
       "      <td>0.039773</td>\n",
       "      <td>34</td>\n",
       "    </tr>\n",
       "    <tr>\n",
       "      <th>1</th>\n",
       "      <td>0.001488</td>\n",
       "      <td>3.371748e-07</td>\n",
       "      <td>0.003224</td>\n",
       "      <td>0.000248</td>\n",
       "      <td>1</td>\n",
       "      <td>2</td>\n",
       "      <td>{'knn__n_neighbors': 1, 'knn__p': 2}</td>\n",
       "      <td>0.973684</td>\n",
       "      <td>0.947368</td>\n",
       "      <td>0.891892</td>\n",
       "      <td>1.000000</td>\n",
       "      <td>0.953236</td>\n",
       "      <td>0.040008</td>\n",
       "      <td>20</td>\n",
       "    </tr>\n",
       "    <tr>\n",
       "      <th>2</th>\n",
       "      <td>0.001612</td>\n",
       "      <td>2.148399e-04</td>\n",
       "      <td>0.004215</td>\n",
       "      <td>0.000248</td>\n",
       "      <td>1</td>\n",
       "      <td>3</td>\n",
       "      <td>{'knn__n_neighbors': 1, 'knn__p': 3}</td>\n",
       "      <td>0.973684</td>\n",
       "      <td>0.947368</td>\n",
       "      <td>0.918919</td>\n",
       "      <td>1.000000</td>\n",
       "      <td>0.959993</td>\n",
       "      <td>0.030143</td>\n",
       "      <td>8</td>\n",
       "    </tr>\n",
       "    <tr>\n",
       "      <th>3</th>\n",
       "      <td>0.002109</td>\n",
       "      <td>1.074573e-03</td>\n",
       "      <td>0.004836</td>\n",
       "      <td>0.001014</td>\n",
       "      <td>1</td>\n",
       "      <td>4</td>\n",
       "      <td>{'knn__n_neighbors': 1, 'knn__p': 4}</td>\n",
       "      <td>0.973684</td>\n",
       "      <td>0.947368</td>\n",
       "      <td>0.918919</td>\n",
       "      <td>1.000000</td>\n",
       "      <td>0.959993</td>\n",
       "      <td>0.030143</td>\n",
       "      <td>8</td>\n",
       "    </tr>\n",
       "    <tr>\n",
       "      <th>4</th>\n",
       "      <td>0.003844</td>\n",
       "      <td>3.045243e-03</td>\n",
       "      <td>0.003844</td>\n",
       "      <td>0.000542</td>\n",
       "      <td>2</td>\n",
       "      <td>1</td>\n",
       "      <td>{'knn__n_neighbors': 2, 'knn__p': 1}</td>\n",
       "      <td>0.973684</td>\n",
       "      <td>0.921053</td>\n",
       "      <td>0.918919</td>\n",
       "      <td>0.945946</td>\n",
       "      <td>0.939900</td>\n",
       "      <td>0.022211</td>\n",
       "      <td>35</td>\n",
       "    </tr>\n",
       "  </tbody>\n",
       "</table>\n",
       "</div>"
      ],
      "text/plain": [
       "   mean_fit_time  std_fit_time  mean_score_time  std_score_time  \\\n",
       "0       0.003348  2.679699e-03         0.004588        0.001933   \n",
       "1       0.001488  3.371748e-07         0.003224        0.000248   \n",
       "2       0.001612  2.148399e-04         0.004215        0.000248   \n",
       "3       0.002109  1.074573e-03         0.004836        0.001014   \n",
       "4       0.003844  3.045243e-03         0.003844        0.000542   \n",
       "\n",
       "  param_knn__n_neighbors param_knn__p                                params  \\\n",
       "0                      1            1  {'knn__n_neighbors': 1, 'knn__p': 1}   \n",
       "1                      1            2  {'knn__n_neighbors': 1, 'knn__p': 2}   \n",
       "2                      1            3  {'knn__n_neighbors': 1, 'knn__p': 3}   \n",
       "3                      1            4  {'knn__n_neighbors': 1, 'knn__p': 4}   \n",
       "4                      2            1  {'knn__n_neighbors': 2, 'knn__p': 1}   \n",
       "\n",
       "   split0_test_score  split1_test_score  split2_test_score  split3_test_score  \\\n",
       "0           0.947368           0.921053           0.891892           1.000000   \n",
       "1           0.973684           0.947368           0.891892           1.000000   \n",
       "2           0.973684           0.947368           0.918919           1.000000   \n",
       "3           0.973684           0.947368           0.918919           1.000000   \n",
       "4           0.973684           0.921053           0.918919           0.945946   \n",
       "\n",
       "   mean_test_score  std_test_score  rank_test_score  \n",
       "0         0.940078        0.039773               34  \n",
       "1         0.953236        0.040008               20  \n",
       "2         0.959993        0.030143                8  \n",
       "3         0.959993        0.030143                8  \n",
       "4         0.939900        0.022211               35  "
      ]
     },
     "metadata": {},
     "output_type": "display_data"
    }
   ],
   "source": [
    "KNeighborsClassifier_performance(X_iris, Y_iris)"
   ]
  },
  {
   "cell_type": "markdown",
   "metadata": {},
   "source": [
    "#### Dermatology dataset"
   ]
  },
  {
   "cell_type": "code",
   "execution_count": 45,
   "metadata": {
    "ExecuteTime": {
     "end_time": "2021-04-23T06:05:31.329780Z",
     "start_time": "2021-04-23T06:05:25.696705Z"
    }
   },
   "outputs": [
    {
     "name": "stdout",
     "output_type": "stream",
     "text": [
      "Best params: {'knn__n_neighbors': 6, 'knn__p': 1}\n",
      "Accuracy: 0.9644576082932247\n"
     ]
    },
    {
     "data": {
      "text/html": [
       "<div>\n",
       "<style scoped>\n",
       "    .dataframe tbody tr th:only-of-type {\n",
       "        vertical-align: middle;\n",
       "    }\n",
       "\n",
       "    .dataframe tbody tr th {\n",
       "        vertical-align: top;\n",
       "    }\n",
       "\n",
       "    .dataframe thead th {\n",
       "        text-align: right;\n",
       "    }\n",
       "</style>\n",
       "<table border=\"1\" class=\"dataframe\">\n",
       "  <thead>\n",
       "    <tr style=\"text-align: right;\">\n",
       "      <th></th>\n",
       "      <th>mean_fit_time</th>\n",
       "      <th>std_fit_time</th>\n",
       "      <th>mean_score_time</th>\n",
       "      <th>std_score_time</th>\n",
       "      <th>param_knn__n_neighbors</th>\n",
       "      <th>param_knn__p</th>\n",
       "      <th>params</th>\n",
       "      <th>split0_test_score</th>\n",
       "      <th>split1_test_score</th>\n",
       "      <th>split2_test_score</th>\n",
       "      <th>split3_test_score</th>\n",
       "      <th>mean_test_score</th>\n",
       "      <th>std_test_score</th>\n",
       "      <th>rank_test_score</th>\n",
       "    </tr>\n",
       "  </thead>\n",
       "  <tbody>\n",
       "    <tr>\n",
       "      <th>0</th>\n",
       "      <td>0.003589</td>\n",
       "      <td>0.000412</td>\n",
       "      <td>0.007564</td>\n",
       "      <td>0.000813</td>\n",
       "      <td>1</td>\n",
       "      <td>1</td>\n",
       "      <td>{'knn__n_neighbors': 1, 'knn__p': 1}</td>\n",
       "      <td>0.978261</td>\n",
       "      <td>0.967391</td>\n",
       "      <td>0.945055</td>\n",
       "      <td>0.934066</td>\n",
       "      <td>0.956193</td>\n",
       "      <td>0.017508</td>\n",
       "      <td>11</td>\n",
       "    </tr>\n",
       "    <tr>\n",
       "      <th>1</th>\n",
       "      <td>0.005580</td>\n",
       "      <td>0.003650</td>\n",
       "      <td>0.007687</td>\n",
       "      <td>0.000431</td>\n",
       "      <td>1</td>\n",
       "      <td>2</td>\n",
       "      <td>{'knn__n_neighbors': 1, 'knn__p': 2}</td>\n",
       "      <td>0.967391</td>\n",
       "      <td>0.978261</td>\n",
       "      <td>0.934066</td>\n",
       "      <td>0.923077</td>\n",
       "      <td>0.950699</td>\n",
       "      <td>0.022792</td>\n",
       "      <td>23</td>\n",
       "    </tr>\n",
       "    <tr>\n",
       "      <th>2</th>\n",
       "      <td>0.003224</td>\n",
       "      <td>0.000248</td>\n",
       "      <td>0.035588</td>\n",
       "      <td>0.007234</td>\n",
       "      <td>1</td>\n",
       "      <td>3</td>\n",
       "      <td>{'knn__n_neighbors': 1, 'knn__p': 3}</td>\n",
       "      <td>0.934783</td>\n",
       "      <td>0.967391</td>\n",
       "      <td>0.923077</td>\n",
       "      <td>0.923077</td>\n",
       "      <td>0.937082</td>\n",
       "      <td>0.018140</td>\n",
       "      <td>30</td>\n",
       "    </tr>\n",
       "    <tr>\n",
       "      <th>3</th>\n",
       "      <td>0.003100</td>\n",
       "      <td>0.000215</td>\n",
       "      <td>0.037820</td>\n",
       "      <td>0.004940</td>\n",
       "      <td>1</td>\n",
       "      <td>4</td>\n",
       "      <td>{'knn__n_neighbors': 1, 'knn__p': 4}</td>\n",
       "      <td>0.923913</td>\n",
       "      <td>0.967391</td>\n",
       "      <td>0.912088</td>\n",
       "      <td>0.923077</td>\n",
       "      <td>0.931617</td>\n",
       "      <td>0.021175</td>\n",
       "      <td>34</td>\n",
       "    </tr>\n",
       "    <tr>\n",
       "      <th>4</th>\n",
       "      <td>0.007439</td>\n",
       "      <td>0.006044</td>\n",
       "      <td>0.009177</td>\n",
       "      <td>0.001424</td>\n",
       "      <td>2</td>\n",
       "      <td>1</td>\n",
       "      <td>{'knn__n_neighbors': 2, 'knn__p': 1}</td>\n",
       "      <td>0.945652</td>\n",
       "      <td>0.978261</td>\n",
       "      <td>0.945055</td>\n",
       "      <td>0.945055</td>\n",
       "      <td>0.953506</td>\n",
       "      <td>0.014294</td>\n",
       "      <td>14</td>\n",
       "    </tr>\n",
       "  </tbody>\n",
       "</table>\n",
       "</div>"
      ],
      "text/plain": [
       "   mean_fit_time  std_fit_time  mean_score_time  std_score_time  \\\n",
       "0       0.003589      0.000412         0.007564        0.000813   \n",
       "1       0.005580      0.003650         0.007687        0.000431   \n",
       "2       0.003224      0.000248         0.035588        0.007234   \n",
       "3       0.003100      0.000215         0.037820        0.004940   \n",
       "4       0.007439      0.006044         0.009177        0.001424   \n",
       "\n",
       "  param_knn__n_neighbors param_knn__p                                params  \\\n",
       "0                      1            1  {'knn__n_neighbors': 1, 'knn__p': 1}   \n",
       "1                      1            2  {'knn__n_neighbors': 1, 'knn__p': 2}   \n",
       "2                      1            3  {'knn__n_neighbors': 1, 'knn__p': 3}   \n",
       "3                      1            4  {'knn__n_neighbors': 1, 'knn__p': 4}   \n",
       "4                      2            1  {'knn__n_neighbors': 2, 'knn__p': 1}   \n",
       "\n",
       "   split0_test_score  split1_test_score  split2_test_score  split3_test_score  \\\n",
       "0           0.978261           0.967391           0.945055           0.934066   \n",
       "1           0.967391           0.978261           0.934066           0.923077   \n",
       "2           0.934783           0.967391           0.923077           0.923077   \n",
       "3           0.923913           0.967391           0.912088           0.923077   \n",
       "4           0.945652           0.978261           0.945055           0.945055   \n",
       "\n",
       "   mean_test_score  std_test_score  rank_test_score  \n",
       "0         0.956193        0.017508               11  \n",
       "1         0.950699        0.022792               23  \n",
       "2         0.937082        0.018140               30  \n",
       "3         0.931617        0.021175               34  \n",
       "4         0.953506        0.014294               14  "
      ]
     },
     "metadata": {},
     "output_type": "display_data"
    }
   ],
   "source": [
    "KNeighborsClassifier_performance(X_dermatology, Y_dermatology)"
   ]
  },
  {
   "cell_type": "markdown",
   "metadata": {},
   "source": [
    "<a id='dt_performance'></a>\n",
    "### DecisionTreeClassifier"
   ]
  },
  {
   "cell_type": "code",
   "execution_count": 46,
   "metadata": {
    "ExecuteTime": {
     "end_time": "2021-04-23T06:05:31.345155Z",
     "start_time": "2021-04-23T06:05:31.332755Z"
    }
   },
   "outputs": [],
   "source": [
    "def DecisionTreeClassifier_performance(X: np.ndarray, y: np.ndarray):\n",
    "    \"\"\"\n",
    "    Apply cross_val_score on the DecisionTreeClassifier model with 5 fold cross validation \n",
    "    using the hyperparameters found with 4 fold cross validation\n",
    "    \n",
    "    :param X: data set without the labels\n",
    "    :param Y: labels\n",
    "    \n",
    "    :returns: nothing\n",
    "    \"\"\"\n",
    "    pipe = Pipeline([('scaler', MinMaxScaler()), ('dt', DecisionTreeClassifier())])\n",
    "    \n",
    "    parameter_grid: Dict[str, List[Any]] = {'dt__criterion': ['entropy', 'gini'], \n",
    "                  'dt__max_depth': list(range(3,9)),\n",
    "                  'dt__min_samples_leaf': list(range(10,20))}\n",
    "    \n",
    "    grid_search = GridSearchCV(pipe, param_grid = parameter_grid, scoring = 'accuracy', \n",
    "                        cv=5, n_jobs=4)\n",
    "    \n",
    "    grid_search.fit(X, y)\n",
    "    print(f\"Best params: {grid_search.best_params_}\")\n",
    "    \n",
    "    scores: np.ndarray = cross_val_score(grid_search, X, y, cv=5)\n",
    "    print(f'Accuracy: {scores.mean()}')\n",
    "     \n",
    "    grid_search = pd.DataFrame(grid_search.cv_results_)\n",
    "    display(grid_search.head())"
   ]
  },
  {
   "cell_type": "markdown",
   "metadata": {},
   "source": [
    "#### Glass dataset"
   ]
  },
  {
   "cell_type": "code",
   "execution_count": 47,
   "metadata": {
    "ExecuteTime": {
     "end_time": "2021-04-23T06:05:36.299702Z",
     "start_time": "2021-04-23T06:05:31.348627Z"
    },
    "scrolled": true
   },
   "outputs": [
    {
     "name": "stdout",
     "output_type": "stream",
     "text": [
      "Best params: {'dt__criterion': 'gini', 'dt__max_depth': 5, 'dt__min_samples_leaf': 16}\n",
      "Accuracy: 0.6121816168327796\n"
     ]
    },
    {
     "data": {
      "text/html": [
       "<div>\n",
       "<style scoped>\n",
       "    .dataframe tbody tr th:only-of-type {\n",
       "        vertical-align: middle;\n",
       "    }\n",
       "\n",
       "    .dataframe tbody tr th {\n",
       "        vertical-align: top;\n",
       "    }\n",
       "\n",
       "    .dataframe thead th {\n",
       "        text-align: right;\n",
       "    }\n",
       "</style>\n",
       "<table border=\"1\" class=\"dataframe\">\n",
       "  <thead>\n",
       "    <tr style=\"text-align: right;\">\n",
       "      <th></th>\n",
       "      <th>mean_fit_time</th>\n",
       "      <th>std_fit_time</th>\n",
       "      <th>mean_score_time</th>\n",
       "      <th>std_score_time</th>\n",
       "      <th>param_dt__criterion</th>\n",
       "      <th>param_dt__max_depth</th>\n",
       "      <th>param_dt__min_samples_leaf</th>\n",
       "      <th>params</th>\n",
       "      <th>split0_test_score</th>\n",
       "      <th>split1_test_score</th>\n",
       "      <th>split2_test_score</th>\n",
       "      <th>split3_test_score</th>\n",
       "      <th>split4_test_score</th>\n",
       "      <th>mean_test_score</th>\n",
       "      <th>std_test_score</th>\n",
       "      <th>rank_test_score</th>\n",
       "    </tr>\n",
       "  </thead>\n",
       "  <tbody>\n",
       "    <tr>\n",
       "      <th>0</th>\n",
       "      <td>0.002380</td>\n",
       "      <td>0.000198</td>\n",
       "      <td>0.000893</td>\n",
       "      <td>1.986034e-04</td>\n",
       "      <td>entropy</td>\n",
       "      <td>3</td>\n",
       "      <td>10</td>\n",
       "      <td>{'dt__criterion': 'entropy', 'dt__max_depth': ...</td>\n",
       "      <td>0.511628</td>\n",
       "      <td>0.465116</td>\n",
       "      <td>0.534884</td>\n",
       "      <td>0.604651</td>\n",
       "      <td>0.666667</td>\n",
       "      <td>0.556589</td>\n",
       "      <td>0.071115</td>\n",
       "      <td>93</td>\n",
       "    </tr>\n",
       "    <tr>\n",
       "      <th>1</th>\n",
       "      <td>0.002083</td>\n",
       "      <td>0.000198</td>\n",
       "      <td>0.000894</td>\n",
       "      <td>1.981755e-04</td>\n",
       "      <td>entropy</td>\n",
       "      <td>3</td>\n",
       "      <td>11</td>\n",
       "      <td>{'dt__criterion': 'entropy', 'dt__max_depth': ...</td>\n",
       "      <td>0.558140</td>\n",
       "      <td>0.465116</td>\n",
       "      <td>0.534884</td>\n",
       "      <td>0.604651</td>\n",
       "      <td>0.642857</td>\n",
       "      <td>0.561130</td>\n",
       "      <td>0.060811</td>\n",
       "      <td>89</td>\n",
       "    </tr>\n",
       "    <tr>\n",
       "      <th>2</th>\n",
       "      <td>0.002281</td>\n",
       "      <td>0.000247</td>\n",
       "      <td>0.000692</td>\n",
       "      <td>2.410982e-04</td>\n",
       "      <td>entropy</td>\n",
       "      <td>3</td>\n",
       "      <td>12</td>\n",
       "      <td>{'dt__criterion': 'entropy', 'dt__max_depth': ...</td>\n",
       "      <td>0.558140</td>\n",
       "      <td>0.488372</td>\n",
       "      <td>0.488372</td>\n",
       "      <td>0.604651</td>\n",
       "      <td>0.642857</td>\n",
       "      <td>0.556478</td>\n",
       "      <td>0.061744</td>\n",
       "      <td>96</td>\n",
       "    </tr>\n",
       "    <tr>\n",
       "      <th>3</th>\n",
       "      <td>0.001982</td>\n",
       "      <td>0.000004</td>\n",
       "      <td>0.000797</td>\n",
       "      <td>2.453753e-04</td>\n",
       "      <td>entropy</td>\n",
       "      <td>3</td>\n",
       "      <td>13</td>\n",
       "      <td>{'dt__criterion': 'entropy', 'dt__max_depth': ...</td>\n",
       "      <td>0.558140</td>\n",
       "      <td>0.511628</td>\n",
       "      <td>0.488372</td>\n",
       "      <td>0.604651</td>\n",
       "      <td>0.642857</td>\n",
       "      <td>0.561130</td>\n",
       "      <td>0.057143</td>\n",
       "      <td>89</td>\n",
       "    </tr>\n",
       "    <tr>\n",
       "      <th>4</th>\n",
       "      <td>0.002678</td>\n",
       "      <td>0.000743</td>\n",
       "      <td>0.000992</td>\n",
       "      <td>7.629395e-07</td>\n",
       "      <td>entropy</td>\n",
       "      <td>3</td>\n",
       "      <td>14</td>\n",
       "      <td>{'dt__criterion': 'entropy', 'dt__max_depth': ...</td>\n",
       "      <td>0.558140</td>\n",
       "      <td>0.488372</td>\n",
       "      <td>0.488372</td>\n",
       "      <td>0.558140</td>\n",
       "      <td>0.642857</td>\n",
       "      <td>0.547176</td>\n",
       "      <td>0.057116</td>\n",
       "      <td>98</td>\n",
       "    </tr>\n",
       "  </tbody>\n",
       "</table>\n",
       "</div>"
      ],
      "text/plain": [
       "   mean_fit_time  std_fit_time  mean_score_time  std_score_time  \\\n",
       "0       0.002380      0.000198         0.000893    1.986034e-04   \n",
       "1       0.002083      0.000198         0.000894    1.981755e-04   \n",
       "2       0.002281      0.000247         0.000692    2.410982e-04   \n",
       "3       0.001982      0.000004         0.000797    2.453753e-04   \n",
       "4       0.002678      0.000743         0.000992    7.629395e-07   \n",
       "\n",
       "  param_dt__criterion param_dt__max_depth param_dt__min_samples_leaf  \\\n",
       "0             entropy                   3                         10   \n",
       "1             entropy                   3                         11   \n",
       "2             entropy                   3                         12   \n",
       "3             entropy                   3                         13   \n",
       "4             entropy                   3                         14   \n",
       "\n",
       "                                              params  split0_test_score  \\\n",
       "0  {'dt__criterion': 'entropy', 'dt__max_depth': ...           0.511628   \n",
       "1  {'dt__criterion': 'entropy', 'dt__max_depth': ...           0.558140   \n",
       "2  {'dt__criterion': 'entropy', 'dt__max_depth': ...           0.558140   \n",
       "3  {'dt__criterion': 'entropy', 'dt__max_depth': ...           0.558140   \n",
       "4  {'dt__criterion': 'entropy', 'dt__max_depth': ...           0.558140   \n",
       "\n",
       "   split1_test_score  split2_test_score  split3_test_score  split4_test_score  \\\n",
       "0           0.465116           0.534884           0.604651           0.666667   \n",
       "1           0.465116           0.534884           0.604651           0.642857   \n",
       "2           0.488372           0.488372           0.604651           0.642857   \n",
       "3           0.511628           0.488372           0.604651           0.642857   \n",
       "4           0.488372           0.488372           0.558140           0.642857   \n",
       "\n",
       "   mean_test_score  std_test_score  rank_test_score  \n",
       "0         0.556589        0.071115               93  \n",
       "1         0.561130        0.060811               89  \n",
       "2         0.556478        0.061744               96  \n",
       "3         0.561130        0.057143               89  \n",
       "4         0.547176        0.057116               98  "
      ]
     },
     "metadata": {},
     "output_type": "display_data"
    }
   ],
   "source": [
    "DecisionTreeClassifier_performance(X_glass, Y_glass)"
   ]
  },
  {
   "cell_type": "markdown",
   "metadata": {},
   "source": [
    "#### Wine dataset"
   ]
  },
  {
   "cell_type": "code",
   "execution_count": 48,
   "metadata": {
    "ExecuteTime": {
     "end_time": "2021-04-23T06:05:40.962599Z",
     "start_time": "2021-04-23T06:05:36.303668Z"
    },
    "scrolled": true
   },
   "outputs": [
    {
     "name": "stdout",
     "output_type": "stream",
     "text": [
      "Best params: {'dt__criterion': 'entropy', 'dt__max_depth': 3, 'dt__min_samples_leaf': 10}\n",
      "Accuracy: 0.9833333333333332\n"
     ]
    },
    {
     "data": {
      "text/html": [
       "<div>\n",
       "<style scoped>\n",
       "    .dataframe tbody tr th:only-of-type {\n",
       "        vertical-align: middle;\n",
       "    }\n",
       "\n",
       "    .dataframe tbody tr th {\n",
       "        vertical-align: top;\n",
       "    }\n",
       "\n",
       "    .dataframe thead th {\n",
       "        text-align: right;\n",
       "    }\n",
       "</style>\n",
       "<table border=\"1\" class=\"dataframe\">\n",
       "  <thead>\n",
       "    <tr style=\"text-align: right;\">\n",
       "      <th></th>\n",
       "      <th>mean_fit_time</th>\n",
       "      <th>std_fit_time</th>\n",
       "      <th>mean_score_time</th>\n",
       "      <th>std_score_time</th>\n",
       "      <th>param_dt__criterion</th>\n",
       "      <th>param_dt__max_depth</th>\n",
       "      <th>param_dt__min_samples_leaf</th>\n",
       "      <th>params</th>\n",
       "      <th>split0_test_score</th>\n",
       "      <th>split1_test_score</th>\n",
       "      <th>split2_test_score</th>\n",
       "      <th>split3_test_score</th>\n",
       "      <th>split4_test_score</th>\n",
       "      <th>mean_test_score</th>\n",
       "      <th>std_test_score</th>\n",
       "      <th>rank_test_score</th>\n",
       "    </tr>\n",
       "  </thead>\n",
       "  <tbody>\n",
       "    <tr>\n",
       "      <th>0</th>\n",
       "      <td>0.002183</td>\n",
       "      <td>0.000506</td>\n",
       "      <td>0.000794</td>\n",
       "      <td>0.000243</td>\n",
       "      <td>entropy</td>\n",
       "      <td>3</td>\n",
       "      <td>10</td>\n",
       "      <td>{'dt__criterion': 'entropy', 'dt__max_depth': ...</td>\n",
       "      <td>0.944444</td>\n",
       "      <td>1.0</td>\n",
       "      <td>0.972222</td>\n",
       "      <td>1.0</td>\n",
       "      <td>1.0</td>\n",
       "      <td>0.983333</td>\n",
       "      <td>0.022222</td>\n",
       "      <td>1</td>\n",
       "    </tr>\n",
       "    <tr>\n",
       "      <th>1</th>\n",
       "      <td>0.002186</td>\n",
       "      <td>0.000239</td>\n",
       "      <td>0.001187</td>\n",
       "      <td>0.000399</td>\n",
       "      <td>entropy</td>\n",
       "      <td>3</td>\n",
       "      <td>11</td>\n",
       "      <td>{'dt__criterion': 'entropy', 'dt__max_depth': ...</td>\n",
       "      <td>0.944444</td>\n",
       "      <td>1.0</td>\n",
       "      <td>0.972222</td>\n",
       "      <td>1.0</td>\n",
       "      <td>1.0</td>\n",
       "      <td>0.983333</td>\n",
       "      <td>0.022222</td>\n",
       "      <td>1</td>\n",
       "    </tr>\n",
       "    <tr>\n",
       "      <th>2</th>\n",
       "      <td>0.002083</td>\n",
       "      <td>0.000199</td>\n",
       "      <td>0.000694</td>\n",
       "      <td>0.000243</td>\n",
       "      <td>entropy</td>\n",
       "      <td>3</td>\n",
       "      <td>12</td>\n",
       "      <td>{'dt__criterion': 'entropy', 'dt__max_depth': ...</td>\n",
       "      <td>0.944444</td>\n",
       "      <td>1.0</td>\n",
       "      <td>0.972222</td>\n",
       "      <td>1.0</td>\n",
       "      <td>1.0</td>\n",
       "      <td>0.983333</td>\n",
       "      <td>0.022222</td>\n",
       "      <td>1</td>\n",
       "    </tr>\n",
       "    <tr>\n",
       "      <th>3</th>\n",
       "      <td>0.001885</td>\n",
       "      <td>0.000199</td>\n",
       "      <td>0.000599</td>\n",
       "      <td>0.000197</td>\n",
       "      <td>entropy</td>\n",
       "      <td>3</td>\n",
       "      <td>13</td>\n",
       "      <td>{'dt__criterion': 'entropy', 'dt__max_depth': ...</td>\n",
       "      <td>0.944444</td>\n",
       "      <td>1.0</td>\n",
       "      <td>0.972222</td>\n",
       "      <td>1.0</td>\n",
       "      <td>1.0</td>\n",
       "      <td>0.983333</td>\n",
       "      <td>0.022222</td>\n",
       "      <td>1</td>\n",
       "    </tr>\n",
       "    <tr>\n",
       "      <th>4</th>\n",
       "      <td>0.001785</td>\n",
       "      <td>0.000397</td>\n",
       "      <td>0.000893</td>\n",
       "      <td>0.000198</td>\n",
       "      <td>entropy</td>\n",
       "      <td>3</td>\n",
       "      <td>14</td>\n",
       "      <td>{'dt__criterion': 'entropy', 'dt__max_depth': ...</td>\n",
       "      <td>0.944444</td>\n",
       "      <td>1.0</td>\n",
       "      <td>0.972222</td>\n",
       "      <td>1.0</td>\n",
       "      <td>1.0</td>\n",
       "      <td>0.983333</td>\n",
       "      <td>0.022222</td>\n",
       "      <td>1</td>\n",
       "    </tr>\n",
       "  </tbody>\n",
       "</table>\n",
       "</div>"
      ],
      "text/plain": [
       "   mean_fit_time  std_fit_time  mean_score_time  std_score_time  \\\n",
       "0       0.002183      0.000506         0.000794        0.000243   \n",
       "1       0.002186      0.000239         0.001187        0.000399   \n",
       "2       0.002083      0.000199         0.000694        0.000243   \n",
       "3       0.001885      0.000199         0.000599        0.000197   \n",
       "4       0.001785      0.000397         0.000893        0.000198   \n",
       "\n",
       "  param_dt__criterion param_dt__max_depth param_dt__min_samples_leaf  \\\n",
       "0             entropy                   3                         10   \n",
       "1             entropy                   3                         11   \n",
       "2             entropy                   3                         12   \n",
       "3             entropy                   3                         13   \n",
       "4             entropy                   3                         14   \n",
       "\n",
       "                                              params  split0_test_score  \\\n",
       "0  {'dt__criterion': 'entropy', 'dt__max_depth': ...           0.944444   \n",
       "1  {'dt__criterion': 'entropy', 'dt__max_depth': ...           0.944444   \n",
       "2  {'dt__criterion': 'entropy', 'dt__max_depth': ...           0.944444   \n",
       "3  {'dt__criterion': 'entropy', 'dt__max_depth': ...           0.944444   \n",
       "4  {'dt__criterion': 'entropy', 'dt__max_depth': ...           0.944444   \n",
       "\n",
       "   split1_test_score  split2_test_score  split3_test_score  split4_test_score  \\\n",
       "0                1.0           0.972222                1.0                1.0   \n",
       "1                1.0           0.972222                1.0                1.0   \n",
       "2                1.0           0.972222                1.0                1.0   \n",
       "3                1.0           0.972222                1.0                1.0   \n",
       "4                1.0           0.972222                1.0                1.0   \n",
       "\n",
       "   mean_test_score  std_test_score  rank_test_score  \n",
       "0         0.983333        0.022222                1  \n",
       "1         0.983333        0.022222                1  \n",
       "2         0.983333        0.022222                1  \n",
       "3         0.983333        0.022222                1  \n",
       "4         0.983333        0.022222                1  "
      ]
     },
     "metadata": {},
     "output_type": "display_data"
    }
   ],
   "source": [
    "DecisionTreeClassifier_performance(X_wine, Y_wine)"
   ]
  },
  {
   "cell_type": "markdown",
   "metadata": {},
   "source": [
    "#### Iris dataset"
   ]
  },
  {
   "cell_type": "code",
   "execution_count": 49,
   "metadata": {
    "ExecuteTime": {
     "end_time": "2021-04-23T06:05:45.102713Z",
     "start_time": "2021-04-23T06:05:40.965574Z"
    }
   },
   "outputs": [
    {
     "name": "stdout",
     "output_type": "stream",
     "text": [
      "Best params: {'dt__criterion': 'entropy', 'dt__max_depth': 3, 'dt__min_samples_leaf': 10}\n",
      "Accuracy: 0.9333333333333332\n"
     ]
    },
    {
     "data": {
      "text/html": [
       "<div>\n",
       "<style scoped>\n",
       "    .dataframe tbody tr th:only-of-type {\n",
       "        vertical-align: middle;\n",
       "    }\n",
       "\n",
       "    .dataframe tbody tr th {\n",
       "        vertical-align: top;\n",
       "    }\n",
       "\n",
       "    .dataframe thead th {\n",
       "        text-align: right;\n",
       "    }\n",
       "</style>\n",
       "<table border=\"1\" class=\"dataframe\">\n",
       "  <thead>\n",
       "    <tr style=\"text-align: right;\">\n",
       "      <th></th>\n",
       "      <th>mean_fit_time</th>\n",
       "      <th>std_fit_time</th>\n",
       "      <th>mean_score_time</th>\n",
       "      <th>std_score_time</th>\n",
       "      <th>param_dt__criterion</th>\n",
       "      <th>param_dt__max_depth</th>\n",
       "      <th>param_dt__min_samples_leaf</th>\n",
       "      <th>params</th>\n",
       "      <th>split0_test_score</th>\n",
       "      <th>split1_test_score</th>\n",
       "      <th>split2_test_score</th>\n",
       "      <th>split3_test_score</th>\n",
       "      <th>split4_test_score</th>\n",
       "      <th>mean_test_score</th>\n",
       "      <th>std_test_score</th>\n",
       "      <th>rank_test_score</th>\n",
       "    </tr>\n",
       "  </thead>\n",
       "  <tbody>\n",
       "    <tr>\n",
       "      <th>0</th>\n",
       "      <td>0.001588</td>\n",
       "      <td>0.000198</td>\n",
       "      <td>0.000892</td>\n",
       "      <td>0.000198</td>\n",
       "      <td>entropy</td>\n",
       "      <td>3</td>\n",
       "      <td>10</td>\n",
       "      <td>{'dt__criterion': 'entropy', 'dt__max_depth': ...</td>\n",
       "      <td>0.933333</td>\n",
       "      <td>0.966667</td>\n",
       "      <td>0.9</td>\n",
       "      <td>0.866667</td>\n",
       "      <td>1.0</td>\n",
       "      <td>0.933333</td>\n",
       "      <td>0.04714</td>\n",
       "      <td>1</td>\n",
       "    </tr>\n",
       "    <tr>\n",
       "      <th>1</th>\n",
       "      <td>0.002481</td>\n",
       "      <td>0.000541</td>\n",
       "      <td>0.001189</td>\n",
       "      <td>0.000397</td>\n",
       "      <td>entropy</td>\n",
       "      <td>3</td>\n",
       "      <td>11</td>\n",
       "      <td>{'dt__criterion': 'entropy', 'dt__max_depth': ...</td>\n",
       "      <td>0.933333</td>\n",
       "      <td>0.966667</td>\n",
       "      <td>0.9</td>\n",
       "      <td>0.866667</td>\n",
       "      <td>1.0</td>\n",
       "      <td>0.933333</td>\n",
       "      <td>0.04714</td>\n",
       "      <td>1</td>\n",
       "    </tr>\n",
       "    <tr>\n",
       "      <th>2</th>\n",
       "      <td>0.002082</td>\n",
       "      <td>0.000483</td>\n",
       "      <td>0.001194</td>\n",
       "      <td>0.000927</td>\n",
       "      <td>entropy</td>\n",
       "      <td>3</td>\n",
       "      <td>12</td>\n",
       "      <td>{'dt__criterion': 'entropy', 'dt__max_depth': ...</td>\n",
       "      <td>0.933333</td>\n",
       "      <td>0.966667</td>\n",
       "      <td>0.9</td>\n",
       "      <td>0.866667</td>\n",
       "      <td>1.0</td>\n",
       "      <td>0.933333</td>\n",
       "      <td>0.04714</td>\n",
       "      <td>1</td>\n",
       "    </tr>\n",
       "    <tr>\n",
       "      <th>3</th>\n",
       "      <td>0.001488</td>\n",
       "      <td>0.000314</td>\n",
       "      <td>0.000595</td>\n",
       "      <td>0.000198</td>\n",
       "      <td>entropy</td>\n",
       "      <td>3</td>\n",
       "      <td>13</td>\n",
       "      <td>{'dt__criterion': 'entropy', 'dt__max_depth': ...</td>\n",
       "      <td>0.933333</td>\n",
       "      <td>0.966667</td>\n",
       "      <td>0.9</td>\n",
       "      <td>0.866667</td>\n",
       "      <td>1.0</td>\n",
       "      <td>0.933333</td>\n",
       "      <td>0.04714</td>\n",
       "      <td>1</td>\n",
       "    </tr>\n",
       "    <tr>\n",
       "      <th>4</th>\n",
       "      <td>0.001490</td>\n",
       "      <td>0.000004</td>\n",
       "      <td>0.000693</td>\n",
       "      <td>0.000241</td>\n",
       "      <td>entropy</td>\n",
       "      <td>3</td>\n",
       "      <td>14</td>\n",
       "      <td>{'dt__criterion': 'entropy', 'dt__max_depth': ...</td>\n",
       "      <td>0.933333</td>\n",
       "      <td>0.966667</td>\n",
       "      <td>0.9</td>\n",
       "      <td>0.866667</td>\n",
       "      <td>1.0</td>\n",
       "      <td>0.933333</td>\n",
       "      <td>0.04714</td>\n",
       "      <td>1</td>\n",
       "    </tr>\n",
       "  </tbody>\n",
       "</table>\n",
       "</div>"
      ],
      "text/plain": [
       "   mean_fit_time  std_fit_time  mean_score_time  std_score_time  \\\n",
       "0       0.001588      0.000198         0.000892        0.000198   \n",
       "1       0.002481      0.000541         0.001189        0.000397   \n",
       "2       0.002082      0.000483         0.001194        0.000927   \n",
       "3       0.001488      0.000314         0.000595        0.000198   \n",
       "4       0.001490      0.000004         0.000693        0.000241   \n",
       "\n",
       "  param_dt__criterion param_dt__max_depth param_dt__min_samples_leaf  \\\n",
       "0             entropy                   3                         10   \n",
       "1             entropy                   3                         11   \n",
       "2             entropy                   3                         12   \n",
       "3             entropy                   3                         13   \n",
       "4             entropy                   3                         14   \n",
       "\n",
       "                                              params  split0_test_score  \\\n",
       "0  {'dt__criterion': 'entropy', 'dt__max_depth': ...           0.933333   \n",
       "1  {'dt__criterion': 'entropy', 'dt__max_depth': ...           0.933333   \n",
       "2  {'dt__criterion': 'entropy', 'dt__max_depth': ...           0.933333   \n",
       "3  {'dt__criterion': 'entropy', 'dt__max_depth': ...           0.933333   \n",
       "4  {'dt__criterion': 'entropy', 'dt__max_depth': ...           0.933333   \n",
       "\n",
       "   split1_test_score  split2_test_score  split3_test_score  split4_test_score  \\\n",
       "0           0.966667                0.9           0.866667                1.0   \n",
       "1           0.966667                0.9           0.866667                1.0   \n",
       "2           0.966667                0.9           0.866667                1.0   \n",
       "3           0.966667                0.9           0.866667                1.0   \n",
       "4           0.966667                0.9           0.866667                1.0   \n",
       "\n",
       "   mean_test_score  std_test_score  rank_test_score  \n",
       "0         0.933333         0.04714                1  \n",
       "1         0.933333         0.04714                1  \n",
       "2         0.933333         0.04714                1  \n",
       "3         0.933333         0.04714                1  \n",
       "4         0.933333         0.04714                1  "
      ]
     },
     "metadata": {},
     "output_type": "display_data"
    }
   ],
   "source": [
    "DecisionTreeClassifier_performance(X_iris, Y_iris)"
   ]
  },
  {
   "cell_type": "markdown",
   "metadata": {},
   "source": [
    "#### Dermatology dataset"
   ]
  },
  {
   "cell_type": "code",
   "execution_count": 50,
   "metadata": {
    "ExecuteTime": {
     "end_time": "2021-04-23T06:05:49.870265Z",
     "start_time": "2021-04-23T06:05:45.105700Z"
    }
   },
   "outputs": [
    {
     "name": "stdout",
     "output_type": "stream",
     "text": [
      "Best params: {'dt__criterion': 'gini', 'dt__max_depth': 5, 'dt__min_samples_leaf': 15}\n",
      "Accuracy: 0.9262865605331358\n"
     ]
    },
    {
     "data": {
      "text/html": [
       "<div>\n",
       "<style scoped>\n",
       "    .dataframe tbody tr th:only-of-type {\n",
       "        vertical-align: middle;\n",
       "    }\n",
       "\n",
       "    .dataframe tbody tr th {\n",
       "        vertical-align: top;\n",
       "    }\n",
       "\n",
       "    .dataframe thead th {\n",
       "        text-align: right;\n",
       "    }\n",
       "</style>\n",
       "<table border=\"1\" class=\"dataframe\">\n",
       "  <thead>\n",
       "    <tr style=\"text-align: right;\">\n",
       "      <th></th>\n",
       "      <th>mean_fit_time</th>\n",
       "      <th>std_fit_time</th>\n",
       "      <th>mean_score_time</th>\n",
       "      <th>std_score_time</th>\n",
       "      <th>param_dt__criterion</th>\n",
       "      <th>param_dt__max_depth</th>\n",
       "      <th>param_dt__min_samples_leaf</th>\n",
       "      <th>params</th>\n",
       "      <th>split0_test_score</th>\n",
       "      <th>split1_test_score</th>\n",
       "      <th>split2_test_score</th>\n",
       "      <th>split3_test_score</th>\n",
       "      <th>split4_test_score</th>\n",
       "      <th>mean_test_score</th>\n",
       "      <th>std_test_score</th>\n",
       "      <th>rank_test_score</th>\n",
       "    </tr>\n",
       "  </thead>\n",
       "  <tbody>\n",
       "    <tr>\n",
       "      <th>0</th>\n",
       "      <td>0.002775</td>\n",
       "      <td>0.000510</td>\n",
       "      <td>0.000896</td>\n",
       "      <td>0.000367</td>\n",
       "      <td>entropy</td>\n",
       "      <td>3</td>\n",
       "      <td>10</td>\n",
       "      <td>{'dt__criterion': 'entropy', 'dt__max_depth': ...</td>\n",
       "      <td>0.756757</td>\n",
       "      <td>0.849315</td>\n",
       "      <td>0.808219</td>\n",
       "      <td>0.90411</td>\n",
       "      <td>0.90411</td>\n",
       "      <td>0.844502</td>\n",
       "      <td>0.056824</td>\n",
       "      <td>104</td>\n",
       "    </tr>\n",
       "    <tr>\n",
       "      <th>1</th>\n",
       "      <td>0.003671</td>\n",
       "      <td>0.000740</td>\n",
       "      <td>0.001891</td>\n",
       "      <td>0.001813</td>\n",
       "      <td>entropy</td>\n",
       "      <td>3</td>\n",
       "      <td>11</td>\n",
       "      <td>{'dt__criterion': 'entropy', 'dt__max_depth': ...</td>\n",
       "      <td>0.756757</td>\n",
       "      <td>0.821918</td>\n",
       "      <td>0.808219</td>\n",
       "      <td>0.90411</td>\n",
       "      <td>0.90411</td>\n",
       "      <td>0.839023</td>\n",
       "      <td>0.057414</td>\n",
       "      <td>109</td>\n",
       "    </tr>\n",
       "    <tr>\n",
       "      <th>2</th>\n",
       "      <td>0.003966</td>\n",
       "      <td>0.002569</td>\n",
       "      <td>0.001094</td>\n",
       "      <td>0.000726</td>\n",
       "      <td>entropy</td>\n",
       "      <td>3</td>\n",
       "      <td>12</td>\n",
       "      <td>{'dt__criterion': 'entropy', 'dt__max_depth': ...</td>\n",
       "      <td>0.756757</td>\n",
       "      <td>0.835616</td>\n",
       "      <td>0.808219</td>\n",
       "      <td>0.90411</td>\n",
       "      <td>0.90411</td>\n",
       "      <td>0.841762</td>\n",
       "      <td>0.056856</td>\n",
       "      <td>106</td>\n",
       "    </tr>\n",
       "    <tr>\n",
       "      <th>3</th>\n",
       "      <td>0.003670</td>\n",
       "      <td>0.001587</td>\n",
       "      <td>0.001192</td>\n",
       "      <td>0.000917</td>\n",
       "      <td>entropy</td>\n",
       "      <td>3</td>\n",
       "      <td>13</td>\n",
       "      <td>{'dt__criterion': 'entropy', 'dt__max_depth': ...</td>\n",
       "      <td>0.756757</td>\n",
       "      <td>0.835616</td>\n",
       "      <td>0.808219</td>\n",
       "      <td>0.90411</td>\n",
       "      <td>0.90411</td>\n",
       "      <td>0.841762</td>\n",
       "      <td>0.056856</td>\n",
       "      <td>106</td>\n",
       "    </tr>\n",
       "    <tr>\n",
       "      <th>4</th>\n",
       "      <td>0.002682</td>\n",
       "      <td>0.000864</td>\n",
       "      <td>0.000889</td>\n",
       "      <td>0.000196</td>\n",
       "      <td>entropy</td>\n",
       "      <td>3</td>\n",
       "      <td>14</td>\n",
       "      <td>{'dt__criterion': 'entropy', 'dt__max_depth': ...</td>\n",
       "      <td>0.770270</td>\n",
       "      <td>0.835616</td>\n",
       "      <td>0.808219</td>\n",
       "      <td>0.90411</td>\n",
       "      <td>0.90411</td>\n",
       "      <td>0.844465</td>\n",
       "      <td>0.052937</td>\n",
       "      <td>105</td>\n",
       "    </tr>\n",
       "  </tbody>\n",
       "</table>\n",
       "</div>"
      ],
      "text/plain": [
       "   mean_fit_time  std_fit_time  mean_score_time  std_score_time  \\\n",
       "0       0.002775      0.000510         0.000896        0.000367   \n",
       "1       0.003671      0.000740         0.001891        0.001813   \n",
       "2       0.003966      0.002569         0.001094        0.000726   \n",
       "3       0.003670      0.001587         0.001192        0.000917   \n",
       "4       0.002682      0.000864         0.000889        0.000196   \n",
       "\n",
       "  param_dt__criterion param_dt__max_depth param_dt__min_samples_leaf  \\\n",
       "0             entropy                   3                         10   \n",
       "1             entropy                   3                         11   \n",
       "2             entropy                   3                         12   \n",
       "3             entropy                   3                         13   \n",
       "4             entropy                   3                         14   \n",
       "\n",
       "                                              params  split0_test_score  \\\n",
       "0  {'dt__criterion': 'entropy', 'dt__max_depth': ...           0.756757   \n",
       "1  {'dt__criterion': 'entropy', 'dt__max_depth': ...           0.756757   \n",
       "2  {'dt__criterion': 'entropy', 'dt__max_depth': ...           0.756757   \n",
       "3  {'dt__criterion': 'entropy', 'dt__max_depth': ...           0.756757   \n",
       "4  {'dt__criterion': 'entropy', 'dt__max_depth': ...           0.770270   \n",
       "\n",
       "   split1_test_score  split2_test_score  split3_test_score  split4_test_score  \\\n",
       "0           0.849315           0.808219            0.90411            0.90411   \n",
       "1           0.821918           0.808219            0.90411            0.90411   \n",
       "2           0.835616           0.808219            0.90411            0.90411   \n",
       "3           0.835616           0.808219            0.90411            0.90411   \n",
       "4           0.835616           0.808219            0.90411            0.90411   \n",
       "\n",
       "   mean_test_score  std_test_score  rank_test_score  \n",
       "0         0.844502        0.056824              104  \n",
       "1         0.839023        0.057414              109  \n",
       "2         0.841762        0.056856              106  \n",
       "3         0.841762        0.056856              106  \n",
       "4         0.844465        0.052937              105  "
      ]
     },
     "metadata": {},
     "output_type": "display_data"
    }
   ],
   "source": [
    "DecisionTreeClassifier_performance(X_dermatology, Y_dermatology)"
   ]
  },
  {
   "cell_type": "markdown",
   "metadata": {},
   "source": [
    "<a id='sgd_performance'></a>\n",
    "### StochasticGradientDescentClassifier"
   ]
  },
  {
   "cell_type": "code",
   "execution_count": 51,
   "metadata": {
    "ExecuteTime": {
     "end_time": "2021-04-23T06:05:49.881673Z",
     "start_time": "2021-04-23T06:05:49.873242Z"
    }
   },
   "outputs": [],
   "source": [
    "def SGDClassifier_performance(X: np.ndarray, y: np.ndarray):\n",
    "    \"\"\"\n",
    "    Apply cross_val_score on the SGDClassifier model with 5 fold cross validation \n",
    "    using the hyperparameters found with 4 fold cross validation\n",
    "    \n",
    "    :param X: data set without the labels\n",
    "    :param Y: labels\n",
    "    \n",
    "    :returns: nothing\n",
    "    \"\"\"\n",
    "    pipe = Pipeline([('scaler', MinMaxScaler()), ('sgd', SGDClassifier())])\n",
    "    \n",
    "    parameter_grid: Dict[str, List[Any]] = {'sgd__loss': ['hinge', 'log', 'modified_huber', 'perceptron'], \n",
    "                  'sgd__penalty': ['l2', 'l1', 'elasticnet'],\n",
    "                 'sgd__alpha': [0.0001, 0.0002]}\n",
    "        \n",
    "    grid_search = GridSearchCV(pipe, param_grid = parameter_grid, scoring = 'accuracy', \n",
    "                        cv=4, n_jobs=4)\n",
    "    \n",
    "    grid_search.fit(X, y)\n",
    "    print(f\"Best params: {grid_search.best_params_}\")\n",
    "    \n",
    "    scores: np.ndarray = cross_val_score(grid_search, X, y, cv=5)\n",
    "    print(f'Accuracy: {scores.mean()}')\n",
    "     \n",
    "    grid_search = pd.DataFrame(grid_search.cv_results_)\n",
    "    display(grid_search.head())"
   ]
  },
  {
   "cell_type": "markdown",
   "metadata": {},
   "source": [
    "#### Glass dataset"
   ]
  },
  {
   "cell_type": "code",
   "execution_count": 52,
   "metadata": {
    "ExecuteTime": {
     "end_time": "2021-04-23T06:05:51.947019Z",
     "start_time": "2021-04-23T06:05:49.886137Z"
    },
    "scrolled": true
   },
   "outputs": [
    {
     "name": "stdout",
     "output_type": "stream",
     "text": [
      "Best params: {'sgd__alpha': 0.0001, 'sgd__loss': 'log', 'sgd__penalty': 'l2'}\n",
      "Accuracy: 0.46821705426356586\n"
     ]
    },
    {
     "data": {
      "text/html": [
       "<div>\n",
       "<style scoped>\n",
       "    .dataframe tbody tr th:only-of-type {\n",
       "        vertical-align: middle;\n",
       "    }\n",
       "\n",
       "    .dataframe tbody tr th {\n",
       "        vertical-align: top;\n",
       "    }\n",
       "\n",
       "    .dataframe thead th {\n",
       "        text-align: right;\n",
       "    }\n",
       "</style>\n",
       "<table border=\"1\" class=\"dataframe\">\n",
       "  <thead>\n",
       "    <tr style=\"text-align: right;\">\n",
       "      <th></th>\n",
       "      <th>mean_fit_time</th>\n",
       "      <th>std_fit_time</th>\n",
       "      <th>mean_score_time</th>\n",
       "      <th>std_score_time</th>\n",
       "      <th>param_sgd__alpha</th>\n",
       "      <th>param_sgd__loss</th>\n",
       "      <th>param_sgd__penalty</th>\n",
       "      <th>params</th>\n",
       "      <th>split0_test_score</th>\n",
       "      <th>split1_test_score</th>\n",
       "      <th>split2_test_score</th>\n",
       "      <th>split3_test_score</th>\n",
       "      <th>mean_test_score</th>\n",
       "      <th>std_test_score</th>\n",
       "      <th>rank_test_score</th>\n",
       "    </tr>\n",
       "  </thead>\n",
       "  <tbody>\n",
       "    <tr>\n",
       "      <th>0</th>\n",
       "      <td>0.014509</td>\n",
       "      <td>0.003702</td>\n",
       "      <td>0.028272</td>\n",
       "      <td>0.027797</td>\n",
       "      <td>0.0001</td>\n",
       "      <td>hinge</td>\n",
       "      <td>l2</td>\n",
       "      <td>{'sgd__alpha': 0.0001, 'sgd__loss': 'hinge', '...</td>\n",
       "      <td>0.333333</td>\n",
       "      <td>0.592593</td>\n",
       "      <td>0.584906</td>\n",
       "      <td>0.547170</td>\n",
       "      <td>0.514500</td>\n",
       "      <td>0.106000</td>\n",
       "      <td>10</td>\n",
       "    </tr>\n",
       "    <tr>\n",
       "      <th>1</th>\n",
       "      <td>0.010046</td>\n",
       "      <td>0.000415</td>\n",
       "      <td>0.000744</td>\n",
       "      <td>0.000248</td>\n",
       "      <td>0.0001</td>\n",
       "      <td>hinge</td>\n",
       "      <td>l1</td>\n",
       "      <td>{'sgd__alpha': 0.0001, 'sgd__loss': 'hinge', '...</td>\n",
       "      <td>0.333333</td>\n",
       "      <td>0.574074</td>\n",
       "      <td>0.547170</td>\n",
       "      <td>0.622642</td>\n",
       "      <td>0.519305</td>\n",
       "      <td>0.110725</td>\n",
       "      <td>9</td>\n",
       "    </tr>\n",
       "    <tr>\n",
       "      <th>2</th>\n",
       "      <td>0.013394</td>\n",
       "      <td>0.007161</td>\n",
       "      <td>0.001116</td>\n",
       "      <td>0.000214</td>\n",
       "      <td>0.0001</td>\n",
       "      <td>hinge</td>\n",
       "      <td>elasticnet</td>\n",
       "      <td>{'sgd__alpha': 0.0001, 'sgd__loss': 'hinge', '...</td>\n",
       "      <td>0.351852</td>\n",
       "      <td>0.500000</td>\n",
       "      <td>0.471698</td>\n",
       "      <td>0.566038</td>\n",
       "      <td>0.472397</td>\n",
       "      <td>0.077560</td>\n",
       "      <td>18</td>\n",
       "    </tr>\n",
       "    <tr>\n",
       "      <th>3</th>\n",
       "      <td>0.010669</td>\n",
       "      <td>0.001335</td>\n",
       "      <td>0.000615</td>\n",
       "      <td>0.000206</td>\n",
       "      <td>0.0001</td>\n",
       "      <td>log</td>\n",
       "      <td>l2</td>\n",
       "      <td>{'sgd__alpha': 0.0001, 'sgd__loss': 'log', 'sg...</td>\n",
       "      <td>0.574074</td>\n",
       "      <td>0.555556</td>\n",
       "      <td>0.528302</td>\n",
       "      <td>0.641509</td>\n",
       "      <td>0.574860</td>\n",
       "      <td>0.041782</td>\n",
       "      <td>1</td>\n",
       "    </tr>\n",
       "    <tr>\n",
       "      <th>4</th>\n",
       "      <td>0.013763</td>\n",
       "      <td>0.001835</td>\n",
       "      <td>0.007564</td>\n",
       "      <td>0.011957</td>\n",
       "      <td>0.0001</td>\n",
       "      <td>log</td>\n",
       "      <td>l1</td>\n",
       "      <td>{'sgd__alpha': 0.0001, 'sgd__loss': 'log', 'sg...</td>\n",
       "      <td>0.425926</td>\n",
       "      <td>0.629630</td>\n",
       "      <td>0.528302</td>\n",
       "      <td>0.622642</td>\n",
       "      <td>0.551625</td>\n",
       "      <td>0.082874</td>\n",
       "      <td>3</td>\n",
       "    </tr>\n",
       "  </tbody>\n",
       "</table>\n",
       "</div>"
      ],
      "text/plain": [
       "   mean_fit_time  std_fit_time  mean_score_time  std_score_time  \\\n",
       "0       0.014509      0.003702         0.028272        0.027797   \n",
       "1       0.010046      0.000415         0.000744        0.000248   \n",
       "2       0.013394      0.007161         0.001116        0.000214   \n",
       "3       0.010669      0.001335         0.000615        0.000206   \n",
       "4       0.013763      0.001835         0.007564        0.011957   \n",
       "\n",
       "  param_sgd__alpha param_sgd__loss param_sgd__penalty  \\\n",
       "0           0.0001           hinge                 l2   \n",
       "1           0.0001           hinge                 l1   \n",
       "2           0.0001           hinge         elasticnet   \n",
       "3           0.0001             log                 l2   \n",
       "4           0.0001             log                 l1   \n",
       "\n",
       "                                              params  split0_test_score  \\\n",
       "0  {'sgd__alpha': 0.0001, 'sgd__loss': 'hinge', '...           0.333333   \n",
       "1  {'sgd__alpha': 0.0001, 'sgd__loss': 'hinge', '...           0.333333   \n",
       "2  {'sgd__alpha': 0.0001, 'sgd__loss': 'hinge', '...           0.351852   \n",
       "3  {'sgd__alpha': 0.0001, 'sgd__loss': 'log', 'sg...           0.574074   \n",
       "4  {'sgd__alpha': 0.0001, 'sgd__loss': 'log', 'sg...           0.425926   \n",
       "\n",
       "   split1_test_score  split2_test_score  split3_test_score  mean_test_score  \\\n",
       "0           0.592593           0.584906           0.547170         0.514500   \n",
       "1           0.574074           0.547170           0.622642         0.519305   \n",
       "2           0.500000           0.471698           0.566038         0.472397   \n",
       "3           0.555556           0.528302           0.641509         0.574860   \n",
       "4           0.629630           0.528302           0.622642         0.551625   \n",
       "\n",
       "   std_test_score  rank_test_score  \n",
       "0        0.106000               10  \n",
       "1        0.110725                9  \n",
       "2        0.077560               18  \n",
       "3        0.041782                1  \n",
       "4        0.082874                3  "
      ]
     },
     "metadata": {},
     "output_type": "display_data"
    }
   ],
   "source": [
    "SGDClassifier_performance(X_glass, Y_glass)"
   ]
  },
  {
   "cell_type": "markdown",
   "metadata": {
    "ExecuteTime": {
     "end_time": "2021-04-22T19:59:08.992989Z",
     "start_time": "2021-04-22T19:59:08.990011Z"
    }
   },
   "source": [
    "#### Wine dataset"
   ]
  },
  {
   "cell_type": "code",
   "execution_count": 53,
   "metadata": {
    "ExecuteTime": {
     "end_time": "2021-04-23T06:05:53.367563Z",
     "start_time": "2021-04-23T06:05:51.949996Z"
    }
   },
   "outputs": [
    {
     "name": "stdout",
     "output_type": "stream",
     "text": [
      "Best params: {'sgd__alpha': 0.0002, 'sgd__loss': 'hinge', 'sgd__penalty': 'elasticnet'}\n",
      "Accuracy: 0.9553968253968254\n"
     ]
    },
    {
     "data": {
      "text/html": [
       "<div>\n",
       "<style scoped>\n",
       "    .dataframe tbody tr th:only-of-type {\n",
       "        vertical-align: middle;\n",
       "    }\n",
       "\n",
       "    .dataframe tbody tr th {\n",
       "        vertical-align: top;\n",
       "    }\n",
       "\n",
       "    .dataframe thead th {\n",
       "        text-align: right;\n",
       "    }\n",
       "</style>\n",
       "<table border=\"1\" class=\"dataframe\">\n",
       "  <thead>\n",
       "    <tr style=\"text-align: right;\">\n",
       "      <th></th>\n",
       "      <th>mean_fit_time</th>\n",
       "      <th>std_fit_time</th>\n",
       "      <th>mean_score_time</th>\n",
       "      <th>std_score_time</th>\n",
       "      <th>param_sgd__alpha</th>\n",
       "      <th>param_sgd__loss</th>\n",
       "      <th>param_sgd__penalty</th>\n",
       "      <th>params</th>\n",
       "      <th>split0_test_score</th>\n",
       "      <th>split1_test_score</th>\n",
       "      <th>split2_test_score</th>\n",
       "      <th>split3_test_score</th>\n",
       "      <th>mean_test_score</th>\n",
       "      <th>std_test_score</th>\n",
       "      <th>rank_test_score</th>\n",
       "    </tr>\n",
       "  </thead>\n",
       "  <tbody>\n",
       "    <tr>\n",
       "      <th>0</th>\n",
       "      <td>0.004837</td>\n",
       "      <td>0.001245</td>\n",
       "      <td>0.000988</td>\n",
       "      <td>0.000345</td>\n",
       "      <td>0.0001</td>\n",
       "      <td>hinge</td>\n",
       "      <td>l2</td>\n",
       "      <td>{'sgd__alpha': 0.0001, 'sgd__loss': 'hinge', '...</td>\n",
       "      <td>0.911111</td>\n",
       "      <td>1.000000</td>\n",
       "      <td>0.977273</td>\n",
       "      <td>1.000000</td>\n",
       "      <td>0.972096</td>\n",
       "      <td>0.036412</td>\n",
       "      <td>5</td>\n",
       "    </tr>\n",
       "    <tr>\n",
       "      <th>1</th>\n",
       "      <td>0.007069</td>\n",
       "      <td>0.001071</td>\n",
       "      <td>0.000742</td>\n",
       "      <td>0.000426</td>\n",
       "      <td>0.0001</td>\n",
       "      <td>hinge</td>\n",
       "      <td>l1</td>\n",
       "      <td>{'sgd__alpha': 0.0001, 'sgd__loss': 'hinge', '...</td>\n",
       "      <td>0.955556</td>\n",
       "      <td>0.977778</td>\n",
       "      <td>0.977273</td>\n",
       "      <td>0.977273</td>\n",
       "      <td>0.971970</td>\n",
       "      <td>0.009479</td>\n",
       "      <td>6</td>\n",
       "    </tr>\n",
       "    <tr>\n",
       "      <th>2</th>\n",
       "      <td>0.006073</td>\n",
       "      <td>0.001133</td>\n",
       "      <td>0.000874</td>\n",
       "      <td>0.000219</td>\n",
       "      <td>0.0001</td>\n",
       "      <td>hinge</td>\n",
       "      <td>elasticnet</td>\n",
       "      <td>{'sgd__alpha': 0.0001, 'sgd__loss': 'hinge', '...</td>\n",
       "      <td>0.911111</td>\n",
       "      <td>0.977778</td>\n",
       "      <td>0.977273</td>\n",
       "      <td>0.977273</td>\n",
       "      <td>0.960859</td>\n",
       "      <td>0.028722</td>\n",
       "      <td>14</td>\n",
       "    </tr>\n",
       "    <tr>\n",
       "      <th>3</th>\n",
       "      <td>0.005208</td>\n",
       "      <td>0.000555</td>\n",
       "      <td>0.000744</td>\n",
       "      <td>0.000248</td>\n",
       "      <td>0.0001</td>\n",
       "      <td>log</td>\n",
       "      <td>l2</td>\n",
       "      <td>{'sgd__alpha': 0.0001, 'sgd__loss': 'log', 'sg...</td>\n",
       "      <td>0.888889</td>\n",
       "      <td>0.955556</td>\n",
       "      <td>0.977273</td>\n",
       "      <td>0.977273</td>\n",
       "      <td>0.949747</td>\n",
       "      <td>0.036238</td>\n",
       "      <td>20</td>\n",
       "    </tr>\n",
       "    <tr>\n",
       "      <th>4</th>\n",
       "      <td>0.006071</td>\n",
       "      <td>0.001235</td>\n",
       "      <td>0.000744</td>\n",
       "      <td>0.000248</td>\n",
       "      <td>0.0001</td>\n",
       "      <td>log</td>\n",
       "      <td>l1</td>\n",
       "      <td>{'sgd__alpha': 0.0001, 'sgd__loss': 'log', 'sg...</td>\n",
       "      <td>0.955556</td>\n",
       "      <td>0.977778</td>\n",
       "      <td>0.977273</td>\n",
       "      <td>0.977273</td>\n",
       "      <td>0.971970</td>\n",
       "      <td>0.009479</td>\n",
       "      <td>6</td>\n",
       "    </tr>\n",
       "  </tbody>\n",
       "</table>\n",
       "</div>"
      ],
      "text/plain": [
       "   mean_fit_time  std_fit_time  mean_score_time  std_score_time  \\\n",
       "0       0.004837      0.001245         0.000988        0.000345   \n",
       "1       0.007069      0.001071         0.000742        0.000426   \n",
       "2       0.006073      0.001133         0.000874        0.000219   \n",
       "3       0.005208      0.000555         0.000744        0.000248   \n",
       "4       0.006071      0.001235         0.000744        0.000248   \n",
       "\n",
       "  param_sgd__alpha param_sgd__loss param_sgd__penalty  \\\n",
       "0           0.0001           hinge                 l2   \n",
       "1           0.0001           hinge                 l1   \n",
       "2           0.0001           hinge         elasticnet   \n",
       "3           0.0001             log                 l2   \n",
       "4           0.0001             log                 l1   \n",
       "\n",
       "                                              params  split0_test_score  \\\n",
       "0  {'sgd__alpha': 0.0001, 'sgd__loss': 'hinge', '...           0.911111   \n",
       "1  {'sgd__alpha': 0.0001, 'sgd__loss': 'hinge', '...           0.955556   \n",
       "2  {'sgd__alpha': 0.0001, 'sgd__loss': 'hinge', '...           0.911111   \n",
       "3  {'sgd__alpha': 0.0001, 'sgd__loss': 'log', 'sg...           0.888889   \n",
       "4  {'sgd__alpha': 0.0001, 'sgd__loss': 'log', 'sg...           0.955556   \n",
       "\n",
       "   split1_test_score  split2_test_score  split3_test_score  mean_test_score  \\\n",
       "0           1.000000           0.977273           1.000000         0.972096   \n",
       "1           0.977778           0.977273           0.977273         0.971970   \n",
       "2           0.977778           0.977273           0.977273         0.960859   \n",
       "3           0.955556           0.977273           0.977273         0.949747   \n",
       "4           0.977778           0.977273           0.977273         0.971970   \n",
       "\n",
       "   std_test_score  rank_test_score  \n",
       "0        0.036412                5  \n",
       "1        0.009479                6  \n",
       "2        0.028722               14  \n",
       "3        0.036238               20  \n",
       "4        0.009479                6  "
      ]
     },
     "metadata": {},
     "output_type": "display_data"
    }
   ],
   "source": [
    "SGDClassifier_performance(X_wine, Y_wine)"
   ]
  },
  {
   "cell_type": "markdown",
   "metadata": {},
   "source": [
    "#### Iris dataset"
   ]
  },
  {
   "cell_type": "code",
   "execution_count": 54,
   "metadata": {
    "ExecuteTime": {
     "end_time": "2021-04-23T06:05:54.794059Z",
     "start_time": "2021-04-23T06:05:53.370539Z"
    }
   },
   "outputs": [
    {
     "name": "stdout",
     "output_type": "stream",
     "text": [
      "Best params: {'sgd__alpha': 0.0002, 'sgd__loss': 'perceptron', 'sgd__penalty': 'elasticnet'}\n",
      "Accuracy: 0.9266666666666665\n"
     ]
    },
    {
     "data": {
      "text/html": [
       "<div>\n",
       "<style scoped>\n",
       "    .dataframe tbody tr th:only-of-type {\n",
       "        vertical-align: middle;\n",
       "    }\n",
       "\n",
       "    .dataframe tbody tr th {\n",
       "        vertical-align: top;\n",
       "    }\n",
       "\n",
       "    .dataframe thead th {\n",
       "        text-align: right;\n",
       "    }\n",
       "</style>\n",
       "<table border=\"1\" class=\"dataframe\">\n",
       "  <thead>\n",
       "    <tr style=\"text-align: right;\">\n",
       "      <th></th>\n",
       "      <th>mean_fit_time</th>\n",
       "      <th>std_fit_time</th>\n",
       "      <th>mean_score_time</th>\n",
       "      <th>std_score_time</th>\n",
       "      <th>param_sgd__alpha</th>\n",
       "      <th>param_sgd__loss</th>\n",
       "      <th>param_sgd__penalty</th>\n",
       "      <th>params</th>\n",
       "      <th>split0_test_score</th>\n",
       "      <th>split1_test_score</th>\n",
       "      <th>split2_test_score</th>\n",
       "      <th>split3_test_score</th>\n",
       "      <th>mean_test_score</th>\n",
       "      <th>std_test_score</th>\n",
       "      <th>rank_test_score</th>\n",
       "    </tr>\n",
       "  </thead>\n",
       "  <tbody>\n",
       "    <tr>\n",
       "      <th>0</th>\n",
       "      <td>0.004836</td>\n",
       "      <td>0.000645</td>\n",
       "      <td>0.001123</td>\n",
       "      <td>4.173915e-04</td>\n",
       "      <td>0.0001</td>\n",
       "      <td>hinge</td>\n",
       "      <td>l2</td>\n",
       "      <td>{'sgd__alpha': 0.0001, 'sgd__loss': 'hinge', '...</td>\n",
       "      <td>0.973684</td>\n",
       "      <td>0.947368</td>\n",
       "      <td>0.891892</td>\n",
       "      <td>0.945946</td>\n",
       "      <td>0.939723</td>\n",
       "      <td>0.029742</td>\n",
       "      <td>6</td>\n",
       "    </tr>\n",
       "    <tr>\n",
       "      <th>1</th>\n",
       "      <td>0.006570</td>\n",
       "      <td>0.001903</td>\n",
       "      <td>0.001490</td>\n",
       "      <td>1.166242e-03</td>\n",
       "      <td>0.0001</td>\n",
       "      <td>hinge</td>\n",
       "      <td>l1</td>\n",
       "      <td>{'sgd__alpha': 0.0001, 'sgd__loss': 'hinge', '...</td>\n",
       "      <td>0.921053</td>\n",
       "      <td>0.947368</td>\n",
       "      <td>0.864865</td>\n",
       "      <td>0.972973</td>\n",
       "      <td>0.926565</td>\n",
       "      <td>0.040074</td>\n",
       "      <td>11</td>\n",
       "    </tr>\n",
       "    <tr>\n",
       "      <th>2</th>\n",
       "      <td>0.006076</td>\n",
       "      <td>0.001075</td>\n",
       "      <td>0.000496</td>\n",
       "      <td>5.430242e-07</td>\n",
       "      <td>0.0001</td>\n",
       "      <td>hinge</td>\n",
       "      <td>elasticnet</td>\n",
       "      <td>{'sgd__alpha': 0.0001, 'sgd__loss': 'hinge', '...</td>\n",
       "      <td>0.921053</td>\n",
       "      <td>0.921053</td>\n",
       "      <td>0.837838</td>\n",
       "      <td>0.972973</td>\n",
       "      <td>0.913229</td>\n",
       "      <td>0.048414</td>\n",
       "      <td>16</td>\n",
       "    </tr>\n",
       "    <tr>\n",
       "      <th>3</th>\n",
       "      <td>0.005084</td>\n",
       "      <td>0.000215</td>\n",
       "      <td>0.000868</td>\n",
       "      <td>2.151142e-04</td>\n",
       "      <td>0.0001</td>\n",
       "      <td>log</td>\n",
       "      <td>l2</td>\n",
       "      <td>{'sgd__alpha': 0.0001, 'sgd__loss': 'log', 'sg...</td>\n",
       "      <td>0.921053</td>\n",
       "      <td>0.947368</td>\n",
       "      <td>0.891892</td>\n",
       "      <td>0.972973</td>\n",
       "      <td>0.933321</td>\n",
       "      <td>0.030152</td>\n",
       "      <td>7</td>\n",
       "    </tr>\n",
       "    <tr>\n",
       "      <th>4</th>\n",
       "      <td>0.004836</td>\n",
       "      <td>0.000734</td>\n",
       "      <td>0.000743</td>\n",
       "      <td>4.298154e-04</td>\n",
       "      <td>0.0001</td>\n",
       "      <td>log</td>\n",
       "      <td>l1</td>\n",
       "      <td>{'sgd__alpha': 0.0001, 'sgd__loss': 'log', 'sg...</td>\n",
       "      <td>0.973684</td>\n",
       "      <td>0.921053</td>\n",
       "      <td>0.918919</td>\n",
       "      <td>0.864865</td>\n",
       "      <td>0.919630</td>\n",
       "      <td>0.038482</td>\n",
       "      <td>15</td>\n",
       "    </tr>\n",
       "  </tbody>\n",
       "</table>\n",
       "</div>"
      ],
      "text/plain": [
       "   mean_fit_time  std_fit_time  mean_score_time  std_score_time  \\\n",
       "0       0.004836      0.000645         0.001123    4.173915e-04   \n",
       "1       0.006570      0.001903         0.001490    1.166242e-03   \n",
       "2       0.006076      0.001075         0.000496    5.430242e-07   \n",
       "3       0.005084      0.000215         0.000868    2.151142e-04   \n",
       "4       0.004836      0.000734         0.000743    4.298154e-04   \n",
       "\n",
       "  param_sgd__alpha param_sgd__loss param_sgd__penalty  \\\n",
       "0           0.0001           hinge                 l2   \n",
       "1           0.0001           hinge                 l1   \n",
       "2           0.0001           hinge         elasticnet   \n",
       "3           0.0001             log                 l2   \n",
       "4           0.0001             log                 l1   \n",
       "\n",
       "                                              params  split0_test_score  \\\n",
       "0  {'sgd__alpha': 0.0001, 'sgd__loss': 'hinge', '...           0.973684   \n",
       "1  {'sgd__alpha': 0.0001, 'sgd__loss': 'hinge', '...           0.921053   \n",
       "2  {'sgd__alpha': 0.0001, 'sgd__loss': 'hinge', '...           0.921053   \n",
       "3  {'sgd__alpha': 0.0001, 'sgd__loss': 'log', 'sg...           0.921053   \n",
       "4  {'sgd__alpha': 0.0001, 'sgd__loss': 'log', 'sg...           0.973684   \n",
       "\n",
       "   split1_test_score  split2_test_score  split3_test_score  mean_test_score  \\\n",
       "0           0.947368           0.891892           0.945946         0.939723   \n",
       "1           0.947368           0.864865           0.972973         0.926565   \n",
       "2           0.921053           0.837838           0.972973         0.913229   \n",
       "3           0.947368           0.891892           0.972973         0.933321   \n",
       "4           0.921053           0.918919           0.864865         0.919630   \n",
       "\n",
       "   std_test_score  rank_test_score  \n",
       "0        0.029742                6  \n",
       "1        0.040074               11  \n",
       "2        0.048414               16  \n",
       "3        0.030152                7  \n",
       "4        0.038482               15  "
      ]
     },
     "metadata": {},
     "output_type": "display_data"
    }
   ],
   "source": [
    "SGDClassifier_performance(X_iris, Y_iris)"
   ]
  },
  {
   "cell_type": "markdown",
   "metadata": {},
   "source": [
    "#### Dermatology dataset"
   ]
  },
  {
   "cell_type": "code",
   "execution_count": 55,
   "metadata": {
    "ExecuteTime": {
     "end_time": "2021-04-23T06:05:57.092525Z",
     "start_time": "2021-04-23T06:05:54.796540Z"
    }
   },
   "outputs": [
    {
     "name": "stdout",
     "output_type": "stream",
     "text": [
      "Best params: {'sgd__alpha': 0.0001, 'sgd__loss': 'perceptron', 'sgd__penalty': 'elasticnet'}\n",
      "Accuracy: 0.967197334320622\n"
     ]
    },
    {
     "data": {
      "text/html": [
       "<div>\n",
       "<style scoped>\n",
       "    .dataframe tbody tr th:only-of-type {\n",
       "        vertical-align: middle;\n",
       "    }\n",
       "\n",
       "    .dataframe tbody tr th {\n",
       "        vertical-align: top;\n",
       "    }\n",
       "\n",
       "    .dataframe thead th {\n",
       "        text-align: right;\n",
       "    }\n",
       "</style>\n",
       "<table border=\"1\" class=\"dataframe\">\n",
       "  <thead>\n",
       "    <tr style=\"text-align: right;\">\n",
       "      <th></th>\n",
       "      <th>mean_fit_time</th>\n",
       "      <th>std_fit_time</th>\n",
       "      <th>mean_score_time</th>\n",
       "      <th>std_score_time</th>\n",
       "      <th>param_sgd__alpha</th>\n",
       "      <th>param_sgd__loss</th>\n",
       "      <th>param_sgd__penalty</th>\n",
       "      <th>params</th>\n",
       "      <th>split0_test_score</th>\n",
       "      <th>split1_test_score</th>\n",
       "      <th>split2_test_score</th>\n",
       "      <th>split3_test_score</th>\n",
       "      <th>mean_test_score</th>\n",
       "      <th>std_test_score</th>\n",
       "      <th>rank_test_score</th>\n",
       "    </tr>\n",
       "  </thead>\n",
       "  <tbody>\n",
       "    <tr>\n",
       "      <th>0</th>\n",
       "      <td>0.011780</td>\n",
       "      <td>0.003531</td>\n",
       "      <td>0.001364</td>\n",
       "      <td>0.000411</td>\n",
       "      <td>0.0001</td>\n",
       "      <td>hinge</td>\n",
       "      <td>l2</td>\n",
       "      <td>{'sgd__alpha': 0.0001, 'sgd__loss': 'hinge', '...</td>\n",
       "      <td>0.967391</td>\n",
       "      <td>0.967391</td>\n",
       "      <td>0.956044</td>\n",
       "      <td>0.967033</td>\n",
       "      <td>0.964465</td>\n",
       "      <td>0.004864</td>\n",
       "      <td>16</td>\n",
       "    </tr>\n",
       "    <tr>\n",
       "      <th>1</th>\n",
       "      <td>0.015374</td>\n",
       "      <td>0.000783</td>\n",
       "      <td>0.000744</td>\n",
       "      <td>0.000248</td>\n",
       "      <td>0.0001</td>\n",
       "      <td>hinge</td>\n",
       "      <td>l1</td>\n",
       "      <td>{'sgd__alpha': 0.0001, 'sgd__loss': 'hinge', '...</td>\n",
       "      <td>0.978261</td>\n",
       "      <td>0.989130</td>\n",
       "      <td>0.956044</td>\n",
       "      <td>0.945055</td>\n",
       "      <td>0.967123</td>\n",
       "      <td>0.017451</td>\n",
       "      <td>11</td>\n",
       "    </tr>\n",
       "    <tr>\n",
       "      <th>2</th>\n",
       "      <td>0.015374</td>\n",
       "      <td>0.003381</td>\n",
       "      <td>0.000620</td>\n",
       "      <td>0.000215</td>\n",
       "      <td>0.0001</td>\n",
       "      <td>hinge</td>\n",
       "      <td>elasticnet</td>\n",
       "      <td>{'sgd__alpha': 0.0001, 'sgd__loss': 'hinge', '...</td>\n",
       "      <td>0.978261</td>\n",
       "      <td>0.945652</td>\n",
       "      <td>0.967033</td>\n",
       "      <td>0.967033</td>\n",
       "      <td>0.964495</td>\n",
       "      <td>0.011805</td>\n",
       "      <td>13</td>\n",
       "    </tr>\n",
       "    <tr>\n",
       "      <th>3</th>\n",
       "      <td>0.021700</td>\n",
       "      <td>0.011323</td>\n",
       "      <td>0.000869</td>\n",
       "      <td>0.000215</td>\n",
       "      <td>0.0001</td>\n",
       "      <td>log</td>\n",
       "      <td>l2</td>\n",
       "      <td>{'sgd__alpha': 0.0001, 'sgd__loss': 'log', 'sg...</td>\n",
       "      <td>0.967391</td>\n",
       "      <td>0.978261</td>\n",
       "      <td>0.978022</td>\n",
       "      <td>0.967033</td>\n",
       "      <td>0.972677</td>\n",
       "      <td>0.005467</td>\n",
       "      <td>3</td>\n",
       "    </tr>\n",
       "    <tr>\n",
       "      <th>4</th>\n",
       "      <td>0.024800</td>\n",
       "      <td>0.006043</td>\n",
       "      <td>0.001117</td>\n",
       "      <td>0.000215</td>\n",
       "      <td>0.0001</td>\n",
       "      <td>log</td>\n",
       "      <td>l1</td>\n",
       "      <td>{'sgd__alpha': 0.0001, 'sgd__loss': 'log', 'sg...</td>\n",
       "      <td>0.978261</td>\n",
       "      <td>1.000000</td>\n",
       "      <td>0.967033</td>\n",
       "      <td>0.956044</td>\n",
       "      <td>0.975334</td>\n",
       "      <td>0.016263</td>\n",
       "      <td>2</td>\n",
       "    </tr>\n",
       "  </tbody>\n",
       "</table>\n",
       "</div>"
      ],
      "text/plain": [
       "   mean_fit_time  std_fit_time  mean_score_time  std_score_time  \\\n",
       "0       0.011780      0.003531         0.001364        0.000411   \n",
       "1       0.015374      0.000783         0.000744        0.000248   \n",
       "2       0.015374      0.003381         0.000620        0.000215   \n",
       "3       0.021700      0.011323         0.000869        0.000215   \n",
       "4       0.024800      0.006043         0.001117        0.000215   \n",
       "\n",
       "  param_sgd__alpha param_sgd__loss param_sgd__penalty  \\\n",
       "0           0.0001           hinge                 l2   \n",
       "1           0.0001           hinge                 l1   \n",
       "2           0.0001           hinge         elasticnet   \n",
       "3           0.0001             log                 l2   \n",
       "4           0.0001             log                 l1   \n",
       "\n",
       "                                              params  split0_test_score  \\\n",
       "0  {'sgd__alpha': 0.0001, 'sgd__loss': 'hinge', '...           0.967391   \n",
       "1  {'sgd__alpha': 0.0001, 'sgd__loss': 'hinge', '...           0.978261   \n",
       "2  {'sgd__alpha': 0.0001, 'sgd__loss': 'hinge', '...           0.978261   \n",
       "3  {'sgd__alpha': 0.0001, 'sgd__loss': 'log', 'sg...           0.967391   \n",
       "4  {'sgd__alpha': 0.0001, 'sgd__loss': 'log', 'sg...           0.978261   \n",
       "\n",
       "   split1_test_score  split2_test_score  split3_test_score  mean_test_score  \\\n",
       "0           0.967391           0.956044           0.967033         0.964465   \n",
       "1           0.989130           0.956044           0.945055         0.967123   \n",
       "2           0.945652           0.967033           0.967033         0.964495   \n",
       "3           0.978261           0.978022           0.967033         0.972677   \n",
       "4           1.000000           0.967033           0.956044         0.975334   \n",
       "\n",
       "   std_test_score  rank_test_score  \n",
       "0        0.004864               16  \n",
       "1        0.017451               11  \n",
       "2        0.011805               13  \n",
       "3        0.005467                3  \n",
       "4        0.016263                2  "
      ]
     },
     "metadata": {},
     "output_type": "display_data"
    }
   ],
   "source": [
    "SGDClassifier_performance(X_dermatology, Y_dermatology)"
   ]
  },
  {
   "cell_type": "markdown",
   "metadata": {},
   "source": [
    "<a id='rf_performance'></a>\n",
    "### RandomForestClassifier"
   ]
  },
  {
   "cell_type": "code",
   "execution_count": 56,
   "metadata": {
    "ExecuteTime": {
     "end_time": "2021-04-23T06:05:57.104925Z",
     "start_time": "2021-04-23T06:05:57.095500Z"
    }
   },
   "outputs": [],
   "source": [
    "def RandomForestClassifier_performance(X: np.ndarray, y: np.ndarray) -> None:\n",
    "    \"\"\"\n",
    "    Apply cross_val_score on the RandomForestClassifier model with 5 fold cross validation \n",
    "    using the hyperparameters found with 4 fold cross validation\n",
    "    \n",
    "    :param X: data set without the labels\n",
    "    :param Y: labels\n",
    "    \n",
    "    :returns: nothing\n",
    "    \"\"\"\n",
    "    pipe = Pipeline([('scaler', MinMaxScaler()), ('rf', RandomForestClassifier())])\n",
    "    \n",
    "    parameter_grid: Dict[str, List[Any]] = {'rf__n_estimators': list(range(1,10)), \n",
    "                'rf__criterion': ['entropy', 'gini'],\n",
    "                'rf__max_depth': list(range(3,9))}\n",
    "    \n",
    "    grid_search = GridSearchCV(pipe, param_grid = parameter_grid, scoring = 'accuracy', \n",
    "                        cv=4, n_jobs=4)\n",
    "    \n",
    "    grid_search.fit(X, y)\n",
    "    print(f\"Best params: {grid_search.best_params_}\")\n",
    "    \n",
    "    scores: np.ndarray = cross_val_score(grid_search, X, y, cv=5)\n",
    "    print(f'Accuracy: {scores.mean()}')\n",
    "     \n",
    "    grid_search = pd.DataFrame(grid_search.cv_results_)\n",
    "    display(grid_search.head())"
   ]
  },
  {
   "cell_type": "markdown",
   "metadata": {},
   "source": [
    "#### Glass dataset"
   ]
  },
  {
   "cell_type": "code",
   "execution_count": 57,
   "metadata": {
    "ExecuteTime": {
     "end_time": "2021-04-23T06:06:12.658497Z",
     "start_time": "2021-04-23T06:05:57.107900Z"
    }
   },
   "outputs": [
    {
     "name": "stdout",
     "output_type": "stream",
     "text": [
      "Best params: {'rf__criterion': 'entropy', 'rf__max_depth': 8, 'rf__n_estimators': 8}\n",
      "Accuracy: 0.6219269102990033\n"
     ]
    },
    {
     "data": {
      "text/html": [
       "<div>\n",
       "<style scoped>\n",
       "    .dataframe tbody tr th:only-of-type {\n",
       "        vertical-align: middle;\n",
       "    }\n",
       "\n",
       "    .dataframe tbody tr th {\n",
       "        vertical-align: top;\n",
       "    }\n",
       "\n",
       "    .dataframe thead th {\n",
       "        text-align: right;\n",
       "    }\n",
       "</style>\n",
       "<table border=\"1\" class=\"dataframe\">\n",
       "  <thead>\n",
       "    <tr style=\"text-align: right;\">\n",
       "      <th></th>\n",
       "      <th>mean_fit_time</th>\n",
       "      <th>std_fit_time</th>\n",
       "      <th>mean_score_time</th>\n",
       "      <th>std_score_time</th>\n",
       "      <th>param_rf__criterion</th>\n",
       "      <th>param_rf__max_depth</th>\n",
       "      <th>param_rf__n_estimators</th>\n",
       "      <th>params</th>\n",
       "      <th>split0_test_score</th>\n",
       "      <th>split1_test_score</th>\n",
       "      <th>split2_test_score</th>\n",
       "      <th>split3_test_score</th>\n",
       "      <th>mean_test_score</th>\n",
       "      <th>std_test_score</th>\n",
       "      <th>rank_test_score</th>\n",
       "    </tr>\n",
       "  </thead>\n",
       "  <tbody>\n",
       "    <tr>\n",
       "      <th>0</th>\n",
       "      <td>0.004221</td>\n",
       "      <td>0.000252</td>\n",
       "      <td>0.001360</td>\n",
       "      <td>2.122609e-04</td>\n",
       "      <td>entropy</td>\n",
       "      <td>3</td>\n",
       "      <td>1</td>\n",
       "      <td>{'rf__criterion': 'entropy', 'rf__max_depth': ...</td>\n",
       "      <td>0.518519</td>\n",
       "      <td>0.537037</td>\n",
       "      <td>0.490566</td>\n",
       "      <td>0.603774</td>\n",
       "      <td>0.537474</td>\n",
       "      <td>0.041700</td>\n",
       "      <td>107</td>\n",
       "    </tr>\n",
       "    <tr>\n",
       "      <th>1</th>\n",
       "      <td>0.007068</td>\n",
       "      <td>0.000215</td>\n",
       "      <td>0.001489</td>\n",
       "      <td>1.976862e-07</td>\n",
       "      <td>entropy</td>\n",
       "      <td>3</td>\n",
       "      <td>2</td>\n",
       "      <td>{'rf__criterion': 'entropy', 'rf__max_depth': ...</td>\n",
       "      <td>0.648148</td>\n",
       "      <td>0.555556</td>\n",
       "      <td>0.660377</td>\n",
       "      <td>0.584906</td>\n",
       "      <td>0.612247</td>\n",
       "      <td>0.043494</td>\n",
       "      <td>72</td>\n",
       "    </tr>\n",
       "    <tr>\n",
       "      <th>2</th>\n",
       "      <td>0.010292</td>\n",
       "      <td>0.000412</td>\n",
       "      <td>0.001488</td>\n",
       "      <td>6.078505e-07</td>\n",
       "      <td>entropy</td>\n",
       "      <td>3</td>\n",
       "      <td>3</td>\n",
       "      <td>{'rf__criterion': 'entropy', 'rf__max_depth': ...</td>\n",
       "      <td>0.500000</td>\n",
       "      <td>0.611111</td>\n",
       "      <td>0.716981</td>\n",
       "      <td>0.641509</td>\n",
       "      <td>0.617400</td>\n",
       "      <td>0.077974</td>\n",
       "      <td>67</td>\n",
       "    </tr>\n",
       "    <tr>\n",
       "      <th>3</th>\n",
       "      <td>0.017235</td>\n",
       "      <td>0.008384</td>\n",
       "      <td>0.001736</td>\n",
       "      <td>2.478366e-04</td>\n",
       "      <td>entropy</td>\n",
       "      <td>3</td>\n",
       "      <td>4</td>\n",
       "      <td>{'rf__criterion': 'entropy', 'rf__max_depth': ...</td>\n",
       "      <td>0.722222</td>\n",
       "      <td>0.592593</td>\n",
       "      <td>0.584906</td>\n",
       "      <td>0.603774</td>\n",
       "      <td>0.625874</td>\n",
       "      <td>0.056030</td>\n",
       "      <td>65</td>\n",
       "    </tr>\n",
       "    <tr>\n",
       "      <th>4</th>\n",
       "      <td>0.020459</td>\n",
       "      <td>0.005946</td>\n",
       "      <td>0.002480</td>\n",
       "      <td>9.272223e-04</td>\n",
       "      <td>entropy</td>\n",
       "      <td>3</td>\n",
       "      <td>5</td>\n",
       "      <td>{'rf__criterion': 'entropy', 'rf__max_depth': ...</td>\n",
       "      <td>0.500000</td>\n",
       "      <td>0.500000</td>\n",
       "      <td>0.716981</td>\n",
       "      <td>0.679245</td>\n",
       "      <td>0.599057</td>\n",
       "      <td>0.099951</td>\n",
       "      <td>84</td>\n",
       "    </tr>\n",
       "  </tbody>\n",
       "</table>\n",
       "</div>"
      ],
      "text/plain": [
       "   mean_fit_time  std_fit_time  mean_score_time  std_score_time  \\\n",
       "0       0.004221      0.000252         0.001360    2.122609e-04   \n",
       "1       0.007068      0.000215         0.001489    1.976862e-07   \n",
       "2       0.010292      0.000412         0.001488    6.078505e-07   \n",
       "3       0.017235      0.008384         0.001736    2.478366e-04   \n",
       "4       0.020459      0.005946         0.002480    9.272223e-04   \n",
       "\n",
       "  param_rf__criterion param_rf__max_depth param_rf__n_estimators  \\\n",
       "0             entropy                   3                      1   \n",
       "1             entropy                   3                      2   \n",
       "2             entropy                   3                      3   \n",
       "3             entropy                   3                      4   \n",
       "4             entropy                   3                      5   \n",
       "\n",
       "                                              params  split0_test_score  \\\n",
       "0  {'rf__criterion': 'entropy', 'rf__max_depth': ...           0.518519   \n",
       "1  {'rf__criterion': 'entropy', 'rf__max_depth': ...           0.648148   \n",
       "2  {'rf__criterion': 'entropy', 'rf__max_depth': ...           0.500000   \n",
       "3  {'rf__criterion': 'entropy', 'rf__max_depth': ...           0.722222   \n",
       "4  {'rf__criterion': 'entropy', 'rf__max_depth': ...           0.500000   \n",
       "\n",
       "   split1_test_score  split2_test_score  split3_test_score  mean_test_score  \\\n",
       "0           0.537037           0.490566           0.603774         0.537474   \n",
       "1           0.555556           0.660377           0.584906         0.612247   \n",
       "2           0.611111           0.716981           0.641509         0.617400   \n",
       "3           0.592593           0.584906           0.603774         0.625874   \n",
       "4           0.500000           0.716981           0.679245         0.599057   \n",
       "\n",
       "   std_test_score  rank_test_score  \n",
       "0        0.041700              107  \n",
       "1        0.043494               72  \n",
       "2        0.077974               67  \n",
       "3        0.056030               65  \n",
       "4        0.099951               84  "
      ]
     },
     "metadata": {},
     "output_type": "display_data"
    }
   ],
   "source": [
    "RandomForestClassifier_performance(X_glass, Y_glass)"
   ]
  },
  {
   "cell_type": "markdown",
   "metadata": {},
   "source": [
    "#### Wine dataset"
   ]
  },
  {
   "cell_type": "code",
   "execution_count": 58,
   "metadata": {
    "ExecuteTime": {
     "end_time": "2021-04-23T06:06:29.794808Z",
     "start_time": "2021-04-23T06:06:12.661473Z"
    }
   },
   "outputs": [
    {
     "name": "stdout",
     "output_type": "stream",
     "text": [
      "Best params: {'rf__criterion': 'entropy', 'rf__max_depth': 5, 'rf__n_estimators': 9}\n",
      "Accuracy: 0.9722222222222221\n"
     ]
    },
    {
     "data": {
      "text/html": [
       "<div>\n",
       "<style scoped>\n",
       "    .dataframe tbody tr th:only-of-type {\n",
       "        vertical-align: middle;\n",
       "    }\n",
       "\n",
       "    .dataframe tbody tr th {\n",
       "        vertical-align: top;\n",
       "    }\n",
       "\n",
       "    .dataframe thead th {\n",
       "        text-align: right;\n",
       "    }\n",
       "</style>\n",
       "<table border=\"1\" class=\"dataframe\">\n",
       "  <thead>\n",
       "    <tr style=\"text-align: right;\">\n",
       "      <th></th>\n",
       "      <th>mean_fit_time</th>\n",
       "      <th>std_fit_time</th>\n",
       "      <th>mean_score_time</th>\n",
       "      <th>std_score_time</th>\n",
       "      <th>param_rf__criterion</th>\n",
       "      <th>param_rf__max_depth</th>\n",
       "      <th>param_rf__n_estimators</th>\n",
       "      <th>params</th>\n",
       "      <th>split0_test_score</th>\n",
       "      <th>split1_test_score</th>\n",
       "      <th>split2_test_score</th>\n",
       "      <th>split3_test_score</th>\n",
       "      <th>mean_test_score</th>\n",
       "      <th>std_test_score</th>\n",
       "      <th>rank_test_score</th>\n",
       "    </tr>\n",
       "  </thead>\n",
       "  <tbody>\n",
       "    <tr>\n",
       "      <th>0</th>\n",
       "      <td>0.004960</td>\n",
       "      <td>0.001446</td>\n",
       "      <td>0.002108</td>\n",
       "      <td>0.001074</td>\n",
       "      <td>entropy</td>\n",
       "      <td>3</td>\n",
       "      <td>1</td>\n",
       "      <td>{'rf__criterion': 'entropy', 'rf__max_depth': ...</td>\n",
       "      <td>0.800000</td>\n",
       "      <td>0.977778</td>\n",
       "      <td>1.000000</td>\n",
       "      <td>0.954545</td>\n",
       "      <td>0.933081</td>\n",
       "      <td>0.078497</td>\n",
       "      <td>81</td>\n",
       "    </tr>\n",
       "    <tr>\n",
       "      <th>1</th>\n",
       "      <td>0.006572</td>\n",
       "      <td>0.000214</td>\n",
       "      <td>0.001488</td>\n",
       "      <td>0.000351</td>\n",
       "      <td>entropy</td>\n",
       "      <td>3</td>\n",
       "      <td>2</td>\n",
       "      <td>{'rf__criterion': 'entropy', 'rf__max_depth': ...</td>\n",
       "      <td>0.866667</td>\n",
       "      <td>0.866667</td>\n",
       "      <td>0.931818</td>\n",
       "      <td>0.954545</td>\n",
       "      <td>0.904924</td>\n",
       "      <td>0.039092</td>\n",
       "      <td>96</td>\n",
       "    </tr>\n",
       "    <tr>\n",
       "      <th>2</th>\n",
       "      <td>0.011156</td>\n",
       "      <td>0.001020</td>\n",
       "      <td>0.001487</td>\n",
       "      <td>0.000002</td>\n",
       "      <td>entropy</td>\n",
       "      <td>3</td>\n",
       "      <td>3</td>\n",
       "      <td>{'rf__criterion': 'entropy', 'rf__max_depth': ...</td>\n",
       "      <td>0.866667</td>\n",
       "      <td>0.977778</td>\n",
       "      <td>1.000000</td>\n",
       "      <td>0.954545</td>\n",
       "      <td>0.949747</td>\n",
       "      <td>0.050588</td>\n",
       "      <td>61</td>\n",
       "    </tr>\n",
       "    <tr>\n",
       "      <th>3</th>\n",
       "      <td>0.011656</td>\n",
       "      <td>0.000556</td>\n",
       "      <td>0.004588</td>\n",
       "      <td>0.003768</td>\n",
       "      <td>entropy</td>\n",
       "      <td>3</td>\n",
       "      <td>4</td>\n",
       "      <td>{'rf__criterion': 'entropy', 'rf__max_depth': ...</td>\n",
       "      <td>0.911111</td>\n",
       "      <td>0.977778</td>\n",
       "      <td>0.977273</td>\n",
       "      <td>0.977273</td>\n",
       "      <td>0.960859</td>\n",
       "      <td>0.028722</td>\n",
       "      <td>50</td>\n",
       "    </tr>\n",
       "    <tr>\n",
       "      <th>4</th>\n",
       "      <td>0.025793</td>\n",
       "      <td>0.012653</td>\n",
       "      <td>0.002231</td>\n",
       "      <td>0.000427</td>\n",
       "      <td>entropy</td>\n",
       "      <td>3</td>\n",
       "      <td>5</td>\n",
       "      <td>{'rf__criterion': 'entropy', 'rf__max_depth': ...</td>\n",
       "      <td>0.822222</td>\n",
       "      <td>0.977778</td>\n",
       "      <td>0.954545</td>\n",
       "      <td>1.000000</td>\n",
       "      <td>0.938636</td>\n",
       "      <td>0.069107</td>\n",
       "      <td>78</td>\n",
       "    </tr>\n",
       "  </tbody>\n",
       "</table>\n",
       "</div>"
      ],
      "text/plain": [
       "   mean_fit_time  std_fit_time  mean_score_time  std_score_time  \\\n",
       "0       0.004960      0.001446         0.002108        0.001074   \n",
       "1       0.006572      0.000214         0.001488        0.000351   \n",
       "2       0.011156      0.001020         0.001487        0.000002   \n",
       "3       0.011656      0.000556         0.004588        0.003768   \n",
       "4       0.025793      0.012653         0.002231        0.000427   \n",
       "\n",
       "  param_rf__criterion param_rf__max_depth param_rf__n_estimators  \\\n",
       "0             entropy                   3                      1   \n",
       "1             entropy                   3                      2   \n",
       "2             entropy                   3                      3   \n",
       "3             entropy                   3                      4   \n",
       "4             entropy                   3                      5   \n",
       "\n",
       "                                              params  split0_test_score  \\\n",
       "0  {'rf__criterion': 'entropy', 'rf__max_depth': ...           0.800000   \n",
       "1  {'rf__criterion': 'entropy', 'rf__max_depth': ...           0.866667   \n",
       "2  {'rf__criterion': 'entropy', 'rf__max_depth': ...           0.866667   \n",
       "3  {'rf__criterion': 'entropy', 'rf__max_depth': ...           0.911111   \n",
       "4  {'rf__criterion': 'entropy', 'rf__max_depth': ...           0.822222   \n",
       "\n",
       "   split1_test_score  split2_test_score  split3_test_score  mean_test_score  \\\n",
       "0           0.977778           1.000000           0.954545         0.933081   \n",
       "1           0.866667           0.931818           0.954545         0.904924   \n",
       "2           0.977778           1.000000           0.954545         0.949747   \n",
       "3           0.977778           0.977273           0.977273         0.960859   \n",
       "4           0.977778           0.954545           1.000000         0.938636   \n",
       "\n",
       "   std_test_score  rank_test_score  \n",
       "0        0.078497               81  \n",
       "1        0.039092               96  \n",
       "2        0.050588               61  \n",
       "3        0.028722               50  \n",
       "4        0.069107               78  "
      ]
     },
     "metadata": {},
     "output_type": "display_data"
    }
   ],
   "source": [
    "RandomForestClassifier_performance(X_wine, Y_wine)"
   ]
  },
  {
   "cell_type": "markdown",
   "metadata": {},
   "source": [
    "#### Iris dataset"
   ]
  },
  {
   "cell_type": "code",
   "execution_count": 59,
   "metadata": {
    "ExecuteTime": {
     "end_time": "2021-04-23T06:06:46.713868Z",
     "start_time": "2021-04-23T06:06:29.797784Z"
    }
   },
   "outputs": [
    {
     "name": "stdout",
     "output_type": "stream",
     "text": [
      "Best params: {'rf__criterion': 'entropy', 'rf__max_depth': 8, 'rf__n_estimators': 7}\n",
      "Accuracy: 0.9666666666666668\n"
     ]
    },
    {
     "data": {
      "text/html": [
       "<div>\n",
       "<style scoped>\n",
       "    .dataframe tbody tr th:only-of-type {\n",
       "        vertical-align: middle;\n",
       "    }\n",
       "\n",
       "    .dataframe tbody tr th {\n",
       "        vertical-align: top;\n",
       "    }\n",
       "\n",
       "    .dataframe thead th {\n",
       "        text-align: right;\n",
       "    }\n",
       "</style>\n",
       "<table border=\"1\" class=\"dataframe\">\n",
       "  <thead>\n",
       "    <tr style=\"text-align: right;\">\n",
       "      <th></th>\n",
       "      <th>mean_fit_time</th>\n",
       "      <th>std_fit_time</th>\n",
       "      <th>mean_score_time</th>\n",
       "      <th>std_score_time</th>\n",
       "      <th>param_rf__criterion</th>\n",
       "      <th>param_rf__max_depth</th>\n",
       "      <th>param_rf__n_estimators</th>\n",
       "      <th>params</th>\n",
       "      <th>split0_test_score</th>\n",
       "      <th>split1_test_score</th>\n",
       "      <th>split2_test_score</th>\n",
       "      <th>split3_test_score</th>\n",
       "      <th>mean_test_score</th>\n",
       "      <th>std_test_score</th>\n",
       "      <th>rank_test_score</th>\n",
       "    </tr>\n",
       "  </thead>\n",
       "  <tbody>\n",
       "    <tr>\n",
       "      <th>0</th>\n",
       "      <td>0.004836</td>\n",
       "      <td>0.001233</td>\n",
       "      <td>0.001488</td>\n",
       "      <td>0.000352</td>\n",
       "      <td>entropy</td>\n",
       "      <td>3</td>\n",
       "      <td>1</td>\n",
       "      <td>{'rf__criterion': 'entropy', 'rf__max_depth': ...</td>\n",
       "      <td>0.947368</td>\n",
       "      <td>0.947368</td>\n",
       "      <td>0.891892</td>\n",
       "      <td>1.000000</td>\n",
       "      <td>0.946657</td>\n",
       "      <td>0.038229</td>\n",
       "      <td>71</td>\n",
       "    </tr>\n",
       "    <tr>\n",
       "      <th>1</th>\n",
       "      <td>0.011163</td>\n",
       "      <td>0.003934</td>\n",
       "      <td>0.001485</td>\n",
       "      <td>0.000347</td>\n",
       "      <td>entropy</td>\n",
       "      <td>3</td>\n",
       "      <td>2</td>\n",
       "      <td>{'rf__criterion': 'entropy', 'rf__max_depth': ...</td>\n",
       "      <td>0.947368</td>\n",
       "      <td>0.921053</td>\n",
       "      <td>0.864865</td>\n",
       "      <td>0.972973</td>\n",
       "      <td>0.926565</td>\n",
       "      <td>0.040074</td>\n",
       "      <td>106</td>\n",
       "    </tr>\n",
       "    <tr>\n",
       "      <th>2</th>\n",
       "      <td>0.017976</td>\n",
       "      <td>0.009243</td>\n",
       "      <td>0.001617</td>\n",
       "      <td>0.000223</td>\n",
       "      <td>entropy</td>\n",
       "      <td>3</td>\n",
       "      <td>3</td>\n",
       "      <td>{'rf__criterion': 'entropy', 'rf__max_depth': ...</td>\n",
       "      <td>0.947368</td>\n",
       "      <td>0.973684</td>\n",
       "      <td>0.891892</td>\n",
       "      <td>0.972973</td>\n",
       "      <td>0.946479</td>\n",
       "      <td>0.033251</td>\n",
       "      <td>78</td>\n",
       "    </tr>\n",
       "    <tr>\n",
       "      <th>3</th>\n",
       "      <td>0.013268</td>\n",
       "      <td>0.002539</td>\n",
       "      <td>0.012648</td>\n",
       "      <td>0.012338</td>\n",
       "      <td>entropy</td>\n",
       "      <td>3</td>\n",
       "      <td>4</td>\n",
       "      <td>{'rf__criterion': 'entropy', 'rf__max_depth': ...</td>\n",
       "      <td>0.947368</td>\n",
       "      <td>0.947368</td>\n",
       "      <td>0.945946</td>\n",
       "      <td>0.972973</td>\n",
       "      <td>0.953414</td>\n",
       "      <td>0.011307</td>\n",
       "      <td>41</td>\n",
       "    </tr>\n",
       "    <tr>\n",
       "      <th>4</th>\n",
       "      <td>0.020832</td>\n",
       "      <td>0.007213</td>\n",
       "      <td>0.001860</td>\n",
       "      <td>0.000412</td>\n",
       "      <td>entropy</td>\n",
       "      <td>3</td>\n",
       "      <td>5</td>\n",
       "      <td>{'rf__criterion': 'entropy', 'rf__max_depth': ...</td>\n",
       "      <td>0.947368</td>\n",
       "      <td>0.947368</td>\n",
       "      <td>0.945946</td>\n",
       "      <td>0.972973</td>\n",
       "      <td>0.953414</td>\n",
       "      <td>0.011307</td>\n",
       "      <td>41</td>\n",
       "    </tr>\n",
       "  </tbody>\n",
       "</table>\n",
       "</div>"
      ],
      "text/plain": [
       "   mean_fit_time  std_fit_time  mean_score_time  std_score_time  \\\n",
       "0       0.004836      0.001233         0.001488        0.000352   \n",
       "1       0.011163      0.003934         0.001485        0.000347   \n",
       "2       0.017976      0.009243         0.001617        0.000223   \n",
       "3       0.013268      0.002539         0.012648        0.012338   \n",
       "4       0.020832      0.007213         0.001860        0.000412   \n",
       "\n",
       "  param_rf__criterion param_rf__max_depth param_rf__n_estimators  \\\n",
       "0             entropy                   3                      1   \n",
       "1             entropy                   3                      2   \n",
       "2             entropy                   3                      3   \n",
       "3             entropy                   3                      4   \n",
       "4             entropy                   3                      5   \n",
       "\n",
       "                                              params  split0_test_score  \\\n",
       "0  {'rf__criterion': 'entropy', 'rf__max_depth': ...           0.947368   \n",
       "1  {'rf__criterion': 'entropy', 'rf__max_depth': ...           0.947368   \n",
       "2  {'rf__criterion': 'entropy', 'rf__max_depth': ...           0.947368   \n",
       "3  {'rf__criterion': 'entropy', 'rf__max_depth': ...           0.947368   \n",
       "4  {'rf__criterion': 'entropy', 'rf__max_depth': ...           0.947368   \n",
       "\n",
       "   split1_test_score  split2_test_score  split3_test_score  mean_test_score  \\\n",
       "0           0.947368           0.891892           1.000000         0.946657   \n",
       "1           0.921053           0.864865           0.972973         0.926565   \n",
       "2           0.973684           0.891892           0.972973         0.946479   \n",
       "3           0.947368           0.945946           0.972973         0.953414   \n",
       "4           0.947368           0.945946           0.972973         0.953414   \n",
       "\n",
       "   std_test_score  rank_test_score  \n",
       "0        0.038229               71  \n",
       "1        0.040074              106  \n",
       "2        0.033251               78  \n",
       "3        0.011307               41  \n",
       "4        0.011307               41  "
      ]
     },
     "metadata": {},
     "output_type": "display_data"
    }
   ],
   "source": [
    "RandomForestClassifier_performance(X_iris, Y_iris)"
   ]
  },
  {
   "cell_type": "markdown",
   "metadata": {},
   "source": [
    "#### Dermatology dataset"
   ]
  },
  {
   "cell_type": "code",
   "execution_count": 60,
   "metadata": {
    "ExecuteTime": {
     "end_time": "2021-04-23T06:07:09.428703Z",
     "start_time": "2021-04-23T06:06:46.718828Z"
    }
   },
   "outputs": [
    {
     "name": "stdout",
     "output_type": "stream",
     "text": [
      "Best params: {'rf__criterion': 'entropy', 'rf__max_depth': 8, 'rf__n_estimators': 9}\n",
      "Accuracy: 0.9289522399111441\n"
     ]
    },
    {
     "data": {
      "text/html": [
       "<div>\n",
       "<style scoped>\n",
       "    .dataframe tbody tr th:only-of-type {\n",
       "        vertical-align: middle;\n",
       "    }\n",
       "\n",
       "    .dataframe tbody tr th {\n",
       "        vertical-align: top;\n",
       "    }\n",
       "\n",
       "    .dataframe thead th {\n",
       "        text-align: right;\n",
       "    }\n",
       "</style>\n",
       "<table border=\"1\" class=\"dataframe\">\n",
       "  <thead>\n",
       "    <tr style=\"text-align: right;\">\n",
       "      <th></th>\n",
       "      <th>mean_fit_time</th>\n",
       "      <th>std_fit_time</th>\n",
       "      <th>mean_score_time</th>\n",
       "      <th>std_score_time</th>\n",
       "      <th>param_rf__criterion</th>\n",
       "      <th>param_rf__max_depth</th>\n",
       "      <th>param_rf__n_estimators</th>\n",
       "      <th>params</th>\n",
       "      <th>split0_test_score</th>\n",
       "      <th>split1_test_score</th>\n",
       "      <th>split2_test_score</th>\n",
       "      <th>split3_test_score</th>\n",
       "      <th>mean_test_score</th>\n",
       "      <th>std_test_score</th>\n",
       "      <th>rank_test_score</th>\n",
       "    </tr>\n",
       "  </thead>\n",
       "  <tbody>\n",
       "    <tr>\n",
       "      <th>0</th>\n",
       "      <td>0.007321</td>\n",
       "      <td>0.000540</td>\n",
       "      <td>0.004211</td>\n",
       "      <td>0.002638</td>\n",
       "      <td>entropy</td>\n",
       "      <td>3</td>\n",
       "      <td>1</td>\n",
       "      <td>{'rf__criterion': 'entropy', 'rf__max_depth': ...</td>\n",
       "      <td>0.782609</td>\n",
       "      <td>0.489130</td>\n",
       "      <td>0.736264</td>\n",
       "      <td>0.736264</td>\n",
       "      <td>0.686067</td>\n",
       "      <td>0.115265</td>\n",
       "      <td>108</td>\n",
       "    </tr>\n",
       "    <tr>\n",
       "      <th>1</th>\n",
       "      <td>0.011287</td>\n",
       "      <td>0.001544</td>\n",
       "      <td>0.002973</td>\n",
       "      <td>0.002009</td>\n",
       "      <td>entropy</td>\n",
       "      <td>3</td>\n",
       "      <td>2</td>\n",
       "      <td>{'rf__criterion': 'entropy', 'rf__max_depth': ...</td>\n",
       "      <td>0.782609</td>\n",
       "      <td>0.760870</td>\n",
       "      <td>0.780220</td>\n",
       "      <td>0.659341</td>\n",
       "      <td>0.745760</td>\n",
       "      <td>0.050601</td>\n",
       "      <td>106</td>\n",
       "    </tr>\n",
       "    <tr>\n",
       "      <th>2</th>\n",
       "      <td>0.015004</td>\n",
       "      <td>0.005925</td>\n",
       "      <td>0.001984</td>\n",
       "      <td>0.000350</td>\n",
       "      <td>entropy</td>\n",
       "      <td>3</td>\n",
       "      <td>3</td>\n",
       "      <td>{'rf__criterion': 'entropy', 'rf__max_depth': ...</td>\n",
       "      <td>0.891304</td>\n",
       "      <td>0.891304</td>\n",
       "      <td>0.824176</td>\n",
       "      <td>0.813187</td>\n",
       "      <td>0.854993</td>\n",
       "      <td>0.036519</td>\n",
       "      <td>95</td>\n",
       "    </tr>\n",
       "    <tr>\n",
       "      <th>3</th>\n",
       "      <td>0.044888</td>\n",
       "      <td>0.038508</td>\n",
       "      <td>0.002232</td>\n",
       "      <td>0.000248</td>\n",
       "      <td>entropy</td>\n",
       "      <td>3</td>\n",
       "      <td>4</td>\n",
       "      <td>{'rf__criterion': 'entropy', 'rf__max_depth': ...</td>\n",
       "      <td>0.891304</td>\n",
       "      <td>0.804348</td>\n",
       "      <td>0.868132</td>\n",
       "      <td>0.912088</td>\n",
       "      <td>0.868968</td>\n",
       "      <td>0.040419</td>\n",
       "      <td>90</td>\n",
       "    </tr>\n",
       "    <tr>\n",
       "      <th>4</th>\n",
       "      <td>0.018724</td>\n",
       "      <td>0.002586</td>\n",
       "      <td>0.017856</td>\n",
       "      <td>0.021412</td>\n",
       "      <td>entropy</td>\n",
       "      <td>3</td>\n",
       "      <td>5</td>\n",
       "      <td>{'rf__criterion': 'entropy', 'rf__max_depth': ...</td>\n",
       "      <td>0.793478</td>\n",
       "      <td>0.869565</td>\n",
       "      <td>0.934066</td>\n",
       "      <td>0.956044</td>\n",
       "      <td>0.888288</td>\n",
       "      <td>0.063297</td>\n",
       "      <td>73</td>\n",
       "    </tr>\n",
       "  </tbody>\n",
       "</table>\n",
       "</div>"
      ],
      "text/plain": [
       "   mean_fit_time  std_fit_time  mean_score_time  std_score_time  \\\n",
       "0       0.007321      0.000540         0.004211        0.002638   \n",
       "1       0.011287      0.001544         0.002973        0.002009   \n",
       "2       0.015004      0.005925         0.001984        0.000350   \n",
       "3       0.044888      0.038508         0.002232        0.000248   \n",
       "4       0.018724      0.002586         0.017856        0.021412   \n",
       "\n",
       "  param_rf__criterion param_rf__max_depth param_rf__n_estimators  \\\n",
       "0             entropy                   3                      1   \n",
       "1             entropy                   3                      2   \n",
       "2             entropy                   3                      3   \n",
       "3             entropy                   3                      4   \n",
       "4             entropy                   3                      5   \n",
       "\n",
       "                                              params  split0_test_score  \\\n",
       "0  {'rf__criterion': 'entropy', 'rf__max_depth': ...           0.782609   \n",
       "1  {'rf__criterion': 'entropy', 'rf__max_depth': ...           0.782609   \n",
       "2  {'rf__criterion': 'entropy', 'rf__max_depth': ...           0.891304   \n",
       "3  {'rf__criterion': 'entropy', 'rf__max_depth': ...           0.891304   \n",
       "4  {'rf__criterion': 'entropy', 'rf__max_depth': ...           0.793478   \n",
       "\n",
       "   split1_test_score  split2_test_score  split3_test_score  mean_test_score  \\\n",
       "0           0.489130           0.736264           0.736264         0.686067   \n",
       "1           0.760870           0.780220           0.659341         0.745760   \n",
       "2           0.891304           0.824176           0.813187         0.854993   \n",
       "3           0.804348           0.868132           0.912088         0.868968   \n",
       "4           0.869565           0.934066           0.956044         0.888288   \n",
       "\n",
       "   std_test_score  rank_test_score  \n",
       "0        0.115265              108  \n",
       "1        0.050601              106  \n",
       "2        0.036519               95  \n",
       "3        0.040419               90  \n",
       "4        0.063297               73  "
      ]
     },
     "metadata": {},
     "output_type": "display_data"
    }
   ],
   "source": [
    "RandomForestClassifier_performance(X_dermatology, Y_dermatology)"
   ]
  },
  {
   "cell_type": "markdown",
   "metadata": {},
   "source": [
    "<a id='MLP_performance'></a>\n",
    "### MultiLayerPerceptronClassifier"
   ]
  },
  {
   "cell_type": "code",
   "execution_count": 61,
   "metadata": {
    "ExecuteTime": {
     "end_time": "2021-04-23T06:07:09.446549Z",
     "start_time": "2021-04-23T06:07:09.433157Z"
    }
   },
   "outputs": [],
   "source": [
    "def MLPClassifier_performance(X: np.ndarray, y: np.ndarray) -> None:\n",
    "    \"\"\"\n",
    "    Apply cross_val_score on the MLPClassifier model with 5 fold cross validation \n",
    "    using the hyperparameters found with 4 fold cross validation\n",
    "    \n",
    "    :param X: data set without the labels\n",
    "    :param Y: labels\n",
    "    \n",
    "    :returns: nothing\n",
    "    \"\"\"\n",
    "    pipe = Pipeline([('scaler', MinMaxScaler()), ('MLP', MLPClassifier())])\n",
    "    \n",
    "    parameter_grid: Dict[str, List[Any]] = {'MLP__activation': ['tanh', 'relu'],\n",
    "                'MLP__solver': ['sgd', 'adam']}\n",
    "        \n",
    "    grid_search = GridSearchCV(pipe, param_grid = parameter_grid, scoring = 'accuracy', \n",
    "                        cv=4, n_jobs=4)\n",
    "    \n",
    "    grid_search.fit(X, y)\n",
    "    print(f\"Best params: {grid_search.best_params_}\")\n",
    "    \n",
    "    scores: np.ndarray = cross_val_score(grid_search, X, y, cv=5)\n",
    "    print(f'Accuracy: {scores.mean()}')\n",
    "     \n",
    "    grid_search = pd.DataFrame(grid_search.cv_results_)\n",
    "    display(grid_search.head())"
   ]
  },
  {
   "cell_type": "markdown",
   "metadata": {},
   "source": [
    "#### Glass dataset"
   ]
  },
  {
   "cell_type": "code",
   "execution_count": 62,
   "metadata": {
    "ExecuteTime": {
     "end_time": "2021-04-23T06:07:19.508408Z",
     "start_time": "2021-04-23T06:07:09.451510Z"
    }
   },
   "outputs": [
    {
     "name": "stdout",
     "output_type": "stream",
     "text": [
      "Best params: {'MLP__activation': 'relu', 'MLP__solver': 'adam'}\n",
      "Accuracy: 0.505094130675526\n"
     ]
    },
    {
     "data": {
      "text/html": [
       "<div>\n",
       "<style scoped>\n",
       "    .dataframe tbody tr th:only-of-type {\n",
       "        vertical-align: middle;\n",
       "    }\n",
       "\n",
       "    .dataframe tbody tr th {\n",
       "        vertical-align: top;\n",
       "    }\n",
       "\n",
       "    .dataframe thead th {\n",
       "        text-align: right;\n",
       "    }\n",
       "</style>\n",
       "<table border=\"1\" class=\"dataframe\">\n",
       "  <thead>\n",
       "    <tr style=\"text-align: right;\">\n",
       "      <th></th>\n",
       "      <th>mean_fit_time</th>\n",
       "      <th>std_fit_time</th>\n",
       "      <th>mean_score_time</th>\n",
       "      <th>std_score_time</th>\n",
       "      <th>param_MLP__activation</th>\n",
       "      <th>param_MLP__solver</th>\n",
       "      <th>params</th>\n",
       "      <th>split0_test_score</th>\n",
       "      <th>split1_test_score</th>\n",
       "      <th>split2_test_score</th>\n",
       "      <th>split3_test_score</th>\n",
       "      <th>mean_test_score</th>\n",
       "      <th>std_test_score</th>\n",
       "      <th>rank_test_score</th>\n",
       "    </tr>\n",
       "  </thead>\n",
       "  <tbody>\n",
       "    <tr>\n",
       "      <th>0</th>\n",
       "      <td>0.493767</td>\n",
       "      <td>0.015597</td>\n",
       "      <td>0.003346</td>\n",
       "      <td>0.001423</td>\n",
       "      <td>tanh</td>\n",
       "      <td>sgd</td>\n",
       "      <td>{'MLP__activation': 'tanh', 'MLP__solver': 'sgd'}</td>\n",
       "      <td>0.407407</td>\n",
       "      <td>0.370370</td>\n",
       "      <td>0.358491</td>\n",
       "      <td>0.358491</td>\n",
       "      <td>0.373690</td>\n",
       "      <td>0.020062</td>\n",
       "      <td>4</td>\n",
       "    </tr>\n",
       "    <tr>\n",
       "      <th>1</th>\n",
       "      <td>0.409947</td>\n",
       "      <td>0.008290</td>\n",
       "      <td>0.004088</td>\n",
       "      <td>0.002059</td>\n",
       "      <td>tanh</td>\n",
       "      <td>adam</td>\n",
       "      <td>{'MLP__activation': 'tanh', 'MLP__solver': 'ad...</td>\n",
       "      <td>0.407407</td>\n",
       "      <td>0.462963</td>\n",
       "      <td>0.547170</td>\n",
       "      <td>0.660377</td>\n",
       "      <td>0.519479</td>\n",
       "      <td>0.095359</td>\n",
       "      <td>2</td>\n",
       "    </tr>\n",
       "    <tr>\n",
       "      <th>2</th>\n",
       "      <td>0.388870</td>\n",
       "      <td>0.004484</td>\n",
       "      <td>0.001483</td>\n",
       "      <td>0.000350</td>\n",
       "      <td>relu</td>\n",
       "      <td>sgd</td>\n",
       "      <td>{'MLP__activation': 'relu', 'MLP__solver': 'sgd'}</td>\n",
       "      <td>0.574074</td>\n",
       "      <td>0.425926</td>\n",
       "      <td>0.471698</td>\n",
       "      <td>0.396226</td>\n",
       "      <td>0.466981</td>\n",
       "      <td>0.067422</td>\n",
       "      <td>3</td>\n",
       "    </tr>\n",
       "    <tr>\n",
       "      <th>3</th>\n",
       "      <td>0.408084</td>\n",
       "      <td>0.004371</td>\n",
       "      <td>0.002482</td>\n",
       "      <td>0.000929</td>\n",
       "      <td>relu</td>\n",
       "      <td>adam</td>\n",
       "      <td>{'MLP__activation': 'relu', 'MLP__solver': 'ad...</td>\n",
       "      <td>0.462963</td>\n",
       "      <td>0.481481</td>\n",
       "      <td>0.566038</td>\n",
       "      <td>0.660377</td>\n",
       "      <td>0.542715</td>\n",
       "      <td>0.078260</td>\n",
       "      <td>1</td>\n",
       "    </tr>\n",
       "  </tbody>\n",
       "</table>\n",
       "</div>"
      ],
      "text/plain": [
       "   mean_fit_time  std_fit_time  mean_score_time  std_score_time  \\\n",
       "0       0.493767      0.015597         0.003346        0.001423   \n",
       "1       0.409947      0.008290         0.004088        0.002059   \n",
       "2       0.388870      0.004484         0.001483        0.000350   \n",
       "3       0.408084      0.004371         0.002482        0.000929   \n",
       "\n",
       "  param_MLP__activation param_MLP__solver  \\\n",
       "0                  tanh               sgd   \n",
       "1                  tanh              adam   \n",
       "2                  relu               sgd   \n",
       "3                  relu              adam   \n",
       "\n",
       "                                              params  split0_test_score  \\\n",
       "0  {'MLP__activation': 'tanh', 'MLP__solver': 'sgd'}           0.407407   \n",
       "1  {'MLP__activation': 'tanh', 'MLP__solver': 'ad...           0.407407   \n",
       "2  {'MLP__activation': 'relu', 'MLP__solver': 'sgd'}           0.574074   \n",
       "3  {'MLP__activation': 'relu', 'MLP__solver': 'ad...           0.462963   \n",
       "\n",
       "   split1_test_score  split2_test_score  split3_test_score  mean_test_score  \\\n",
       "0           0.370370           0.358491           0.358491         0.373690   \n",
       "1           0.462963           0.547170           0.660377         0.519479   \n",
       "2           0.425926           0.471698           0.396226         0.466981   \n",
       "3           0.481481           0.566038           0.660377         0.542715   \n",
       "\n",
       "   std_test_score  rank_test_score  \n",
       "0        0.020062                4  \n",
       "1        0.095359                2  \n",
       "2        0.067422                3  \n",
       "3        0.078260                1  "
      ]
     },
     "metadata": {},
     "output_type": "display_data"
    }
   ],
   "source": [
    "MLPClassifier_performance(X_glass, Y_glass)"
   ]
  },
  {
   "cell_type": "markdown",
   "metadata": {},
   "source": [
    "#### Wine dataset"
   ]
  },
  {
   "cell_type": "code",
   "execution_count": 63,
   "metadata": {
    "ExecuteTime": {
     "end_time": "2021-04-23T06:07:28.318861Z",
     "start_time": "2021-04-23T06:07:19.511384Z"
    }
   },
   "outputs": [
    {
     "name": "stdout",
     "output_type": "stream",
     "text": [
      "Best params: {'MLP__activation': 'relu', 'MLP__solver': 'adam'}\n",
      "Accuracy: 0.9831746031746033\n"
     ]
    },
    {
     "data": {
      "text/html": [
       "<div>\n",
       "<style scoped>\n",
       "    .dataframe tbody tr th:only-of-type {\n",
       "        vertical-align: middle;\n",
       "    }\n",
       "\n",
       "    .dataframe tbody tr th {\n",
       "        vertical-align: top;\n",
       "    }\n",
       "\n",
       "    .dataframe thead th {\n",
       "        text-align: right;\n",
       "    }\n",
       "</style>\n",
       "<table border=\"1\" class=\"dataframe\">\n",
       "  <thead>\n",
       "    <tr style=\"text-align: right;\">\n",
       "      <th></th>\n",
       "      <th>mean_fit_time</th>\n",
       "      <th>std_fit_time</th>\n",
       "      <th>mean_score_time</th>\n",
       "      <th>std_score_time</th>\n",
       "      <th>param_MLP__activation</th>\n",
       "      <th>param_MLP__solver</th>\n",
       "      <th>params</th>\n",
       "      <th>split0_test_score</th>\n",
       "      <th>split1_test_score</th>\n",
       "      <th>split2_test_score</th>\n",
       "      <th>split3_test_score</th>\n",
       "      <th>mean_test_score</th>\n",
       "      <th>std_test_score</th>\n",
       "      <th>rank_test_score</th>\n",
       "    </tr>\n",
       "  </thead>\n",
       "  <tbody>\n",
       "    <tr>\n",
       "      <th>0</th>\n",
       "      <td>0.433877</td>\n",
       "      <td>0.014449</td>\n",
       "      <td>0.002608</td>\n",
       "      <td>0.001545</td>\n",
       "      <td>tanh</td>\n",
       "      <td>sgd</td>\n",
       "      <td>{'MLP__activation': 'tanh', 'MLP__solver': 'sgd'}</td>\n",
       "      <td>0.977778</td>\n",
       "      <td>1.000000</td>\n",
       "      <td>1.000000</td>\n",
       "      <td>0.954545</td>\n",
       "      <td>0.983081</td>\n",
       "      <td>0.018808</td>\n",
       "      <td>2</td>\n",
       "    </tr>\n",
       "    <tr>\n",
       "      <th>1</th>\n",
       "      <td>0.365181</td>\n",
       "      <td>0.023779</td>\n",
       "      <td>0.001860</td>\n",
       "      <td>0.001235</td>\n",
       "      <td>tanh</td>\n",
       "      <td>adam</td>\n",
       "      <td>{'MLP__activation': 'tanh', 'MLP__solver': 'ad...</td>\n",
       "      <td>0.955556</td>\n",
       "      <td>1.000000</td>\n",
       "      <td>0.977273</td>\n",
       "      <td>0.977273</td>\n",
       "      <td>0.977525</td>\n",
       "      <td>0.015716</td>\n",
       "      <td>3</td>\n",
       "    </tr>\n",
       "    <tr>\n",
       "      <th>2</th>\n",
       "      <td>0.329716</td>\n",
       "      <td>0.002388</td>\n",
       "      <td>0.003106</td>\n",
       "      <td>0.000212</td>\n",
       "      <td>relu</td>\n",
       "      <td>sgd</td>\n",
       "      <td>{'MLP__activation': 'relu', 'MLP__solver': 'sgd'}</td>\n",
       "      <td>0.955556</td>\n",
       "      <td>1.000000</td>\n",
       "      <td>0.954545</td>\n",
       "      <td>1.000000</td>\n",
       "      <td>0.977525</td>\n",
       "      <td>0.022478</td>\n",
       "      <td>4</td>\n",
       "    </tr>\n",
       "    <tr>\n",
       "      <th>3</th>\n",
       "      <td>0.379441</td>\n",
       "      <td>0.010109</td>\n",
       "      <td>0.002239</td>\n",
       "      <td>0.001285</td>\n",
       "      <td>relu</td>\n",
       "      <td>adam</td>\n",
       "      <td>{'MLP__activation': 'relu', 'MLP__solver': 'ad...</td>\n",
       "      <td>1.000000</td>\n",
       "      <td>0.977778</td>\n",
       "      <td>1.000000</td>\n",
       "      <td>0.977273</td>\n",
       "      <td>0.988763</td>\n",
       "      <td>0.011239</td>\n",
       "      <td>1</td>\n",
       "    </tr>\n",
       "  </tbody>\n",
       "</table>\n",
       "</div>"
      ],
      "text/plain": [
       "   mean_fit_time  std_fit_time  mean_score_time  std_score_time  \\\n",
       "0       0.433877      0.014449         0.002608        0.001545   \n",
       "1       0.365181      0.023779         0.001860        0.001235   \n",
       "2       0.329716      0.002388         0.003106        0.000212   \n",
       "3       0.379441      0.010109         0.002239        0.001285   \n",
       "\n",
       "  param_MLP__activation param_MLP__solver  \\\n",
       "0                  tanh               sgd   \n",
       "1                  tanh              adam   \n",
       "2                  relu               sgd   \n",
       "3                  relu              adam   \n",
       "\n",
       "                                              params  split0_test_score  \\\n",
       "0  {'MLP__activation': 'tanh', 'MLP__solver': 'sgd'}           0.977778   \n",
       "1  {'MLP__activation': 'tanh', 'MLP__solver': 'ad...           0.955556   \n",
       "2  {'MLP__activation': 'relu', 'MLP__solver': 'sgd'}           0.955556   \n",
       "3  {'MLP__activation': 'relu', 'MLP__solver': 'ad...           1.000000   \n",
       "\n",
       "   split1_test_score  split2_test_score  split3_test_score  mean_test_score  \\\n",
       "0           1.000000           1.000000           0.954545         0.983081   \n",
       "1           1.000000           0.977273           0.977273         0.977525   \n",
       "2           1.000000           0.954545           1.000000         0.977525   \n",
       "3           0.977778           1.000000           0.977273         0.988763   \n",
       "\n",
       "   std_test_score  rank_test_score  \n",
       "0        0.018808                2  \n",
       "1        0.015716                3  \n",
       "2        0.022478                4  \n",
       "3        0.011239                1  "
      ]
     },
     "metadata": {},
     "output_type": "display_data"
    }
   ],
   "source": [
    "MLPClassifier_performance(X_wine, Y_wine)"
   ]
  },
  {
   "cell_type": "markdown",
   "metadata": {},
   "source": [
    "#### Iris dataset"
   ]
  },
  {
   "cell_type": "code",
   "execution_count": 64,
   "metadata": {
    "ExecuteTime": {
     "end_time": "2021-04-23T06:07:36.428979Z",
     "start_time": "2021-04-23T06:07:28.321835Z"
    }
   },
   "outputs": [
    {
     "name": "stdout",
     "output_type": "stream",
     "text": [
      "Best params: {'MLP__activation': 'tanh', 'MLP__solver': 'adam'}\n",
      "Accuracy: 0.9199999999999999\n"
     ]
    },
    {
     "data": {
      "text/html": [
       "<div>\n",
       "<style scoped>\n",
       "    .dataframe tbody tr th:only-of-type {\n",
       "        vertical-align: middle;\n",
       "    }\n",
       "\n",
       "    .dataframe tbody tr th {\n",
       "        vertical-align: top;\n",
       "    }\n",
       "\n",
       "    .dataframe thead th {\n",
       "        text-align: right;\n",
       "    }\n",
       "</style>\n",
       "<table border=\"1\" class=\"dataframe\">\n",
       "  <thead>\n",
       "    <tr style=\"text-align: right;\">\n",
       "      <th></th>\n",
       "      <th>mean_fit_time</th>\n",
       "      <th>std_fit_time</th>\n",
       "      <th>mean_score_time</th>\n",
       "      <th>std_score_time</th>\n",
       "      <th>param_MLP__activation</th>\n",
       "      <th>param_MLP__solver</th>\n",
       "      <th>params</th>\n",
       "      <th>split0_test_score</th>\n",
       "      <th>split1_test_score</th>\n",
       "      <th>split2_test_score</th>\n",
       "      <th>split3_test_score</th>\n",
       "      <th>mean_test_score</th>\n",
       "      <th>std_test_score</th>\n",
       "      <th>rank_test_score</th>\n",
       "    </tr>\n",
       "  </thead>\n",
       "  <tbody>\n",
       "    <tr>\n",
       "      <th>0</th>\n",
       "      <td>0.376714</td>\n",
       "      <td>0.008798</td>\n",
       "      <td>0.002979</td>\n",
       "      <td>0.001856</td>\n",
       "      <td>tanh</td>\n",
       "      <td>sgd</td>\n",
       "      <td>{'MLP__activation': 'tanh', 'MLP__solver': 'sgd'}</td>\n",
       "      <td>0.736842</td>\n",
       "      <td>0.684211</td>\n",
       "      <td>0.648649</td>\n",
       "      <td>0.756757</td>\n",
       "      <td>0.706615</td>\n",
       "      <td>0.042691</td>\n",
       "      <td>4</td>\n",
       "    </tr>\n",
       "    <tr>\n",
       "      <th>1</th>\n",
       "      <td>0.315456</td>\n",
       "      <td>0.019947</td>\n",
       "      <td>0.002108</td>\n",
       "      <td>0.000538</td>\n",
       "      <td>tanh</td>\n",
       "      <td>adam</td>\n",
       "      <td>{'MLP__activation': 'tanh', 'MLP__solver': 'ad...</td>\n",
       "      <td>0.868421</td>\n",
       "      <td>0.973684</td>\n",
       "      <td>0.891892</td>\n",
       "      <td>1.000000</td>\n",
       "      <td>0.933499</td>\n",
       "      <td>0.054780</td>\n",
       "      <td>1</td>\n",
       "    </tr>\n",
       "    <tr>\n",
       "      <th>2</th>\n",
       "      <td>0.302316</td>\n",
       "      <td>0.009650</td>\n",
       "      <td>0.001981</td>\n",
       "      <td>0.000783</td>\n",
       "      <td>relu</td>\n",
       "      <td>sgd</td>\n",
       "      <td>{'MLP__activation': 'relu', 'MLP__solver': 'sgd'}</td>\n",
       "      <td>0.684211</td>\n",
       "      <td>0.789474</td>\n",
       "      <td>0.648649</td>\n",
       "      <td>0.729730</td>\n",
       "      <td>0.713016</td>\n",
       "      <td>0.052674</td>\n",
       "      <td>3</td>\n",
       "    </tr>\n",
       "    <tr>\n",
       "      <th>3</th>\n",
       "      <td>0.359354</td>\n",
       "      <td>0.019945</td>\n",
       "      <td>0.001991</td>\n",
       "      <td>0.000918</td>\n",
       "      <td>relu</td>\n",
       "      <td>adam</td>\n",
       "      <td>{'MLP__activation': 'relu', 'MLP__solver': 'ad...</td>\n",
       "      <td>0.868421</td>\n",
       "      <td>0.921053</td>\n",
       "      <td>0.945946</td>\n",
       "      <td>0.972973</td>\n",
       "      <td>0.927098</td>\n",
       "      <td>0.038533</td>\n",
       "      <td>2</td>\n",
       "    </tr>\n",
       "  </tbody>\n",
       "</table>\n",
       "</div>"
      ],
      "text/plain": [
       "   mean_fit_time  std_fit_time  mean_score_time  std_score_time  \\\n",
       "0       0.376714      0.008798         0.002979        0.001856   \n",
       "1       0.315456      0.019947         0.002108        0.000538   \n",
       "2       0.302316      0.009650         0.001981        0.000783   \n",
       "3       0.359354      0.019945         0.001991        0.000918   \n",
       "\n",
       "  param_MLP__activation param_MLP__solver  \\\n",
       "0                  tanh               sgd   \n",
       "1                  tanh              adam   \n",
       "2                  relu               sgd   \n",
       "3                  relu              adam   \n",
       "\n",
       "                                              params  split0_test_score  \\\n",
       "0  {'MLP__activation': 'tanh', 'MLP__solver': 'sgd'}           0.736842   \n",
       "1  {'MLP__activation': 'tanh', 'MLP__solver': 'ad...           0.868421   \n",
       "2  {'MLP__activation': 'relu', 'MLP__solver': 'sgd'}           0.684211   \n",
       "3  {'MLP__activation': 'relu', 'MLP__solver': 'ad...           0.868421   \n",
       "\n",
       "   split1_test_score  split2_test_score  split3_test_score  mean_test_score  \\\n",
       "0           0.684211           0.648649           0.756757         0.706615   \n",
       "1           0.973684           0.891892           1.000000         0.933499   \n",
       "2           0.789474           0.648649           0.729730         0.713016   \n",
       "3           0.921053           0.945946           0.972973         0.927098   \n",
       "\n",
       "   std_test_score  rank_test_score  \n",
       "0        0.042691                4  \n",
       "1        0.054780                1  \n",
       "2        0.052674                3  \n",
       "3        0.038533                2  "
      ]
     },
     "metadata": {},
     "output_type": "display_data"
    }
   ],
   "source": [
    "MLPClassifier_performance(X_iris, Y_iris)"
   ]
  },
  {
   "cell_type": "markdown",
   "metadata": {},
   "source": [
    "#### Dermatology dataset"
   ]
  },
  {
   "cell_type": "code",
   "execution_count": 65,
   "metadata": {
    "ExecuteTime": {
     "end_time": "2021-04-23T06:07:58.749484Z",
     "start_time": "2021-04-23T06:07:36.430963Z"
    }
   },
   "outputs": [
    {
     "name": "stdout",
     "output_type": "stream",
     "text": [
      "Best params: {'MLP__activation': 'relu', 'MLP__solver': 'adam'}\n",
      "Accuracy: 0.9726027397260273\n"
     ]
    },
    {
     "data": {
      "text/html": [
       "<div>\n",
       "<style scoped>\n",
       "    .dataframe tbody tr th:only-of-type {\n",
       "        vertical-align: middle;\n",
       "    }\n",
       "\n",
       "    .dataframe tbody tr th {\n",
       "        vertical-align: top;\n",
       "    }\n",
       "\n",
       "    .dataframe thead th {\n",
       "        text-align: right;\n",
       "    }\n",
       "</style>\n",
       "<table border=\"1\" class=\"dataframe\">\n",
       "  <thead>\n",
       "    <tr style=\"text-align: right;\">\n",
       "      <th></th>\n",
       "      <th>mean_fit_time</th>\n",
       "      <th>std_fit_time</th>\n",
       "      <th>mean_score_time</th>\n",
       "      <th>std_score_time</th>\n",
       "      <th>param_MLP__activation</th>\n",
       "      <th>param_MLP__solver</th>\n",
       "      <th>params</th>\n",
       "      <th>split0_test_score</th>\n",
       "      <th>split1_test_score</th>\n",
       "      <th>split2_test_score</th>\n",
       "      <th>split3_test_score</th>\n",
       "      <th>mean_test_score</th>\n",
       "      <th>std_test_score</th>\n",
       "      <th>rank_test_score</th>\n",
       "    </tr>\n",
       "  </thead>\n",
       "  <tbody>\n",
       "    <tr>\n",
       "      <th>0</th>\n",
       "      <td>0.764337</td>\n",
       "      <td>0.033197</td>\n",
       "      <td>0.002976</td>\n",
       "      <td>0.000928</td>\n",
       "      <td>tanh</td>\n",
       "      <td>sgd</td>\n",
       "      <td>{'MLP__activation': 'tanh', 'MLP__solver': 'sgd'}</td>\n",
       "      <td>0.945652</td>\n",
       "      <td>0.913043</td>\n",
       "      <td>0.890110</td>\n",
       "      <td>0.901099</td>\n",
       "      <td>0.912476</td>\n",
       "      <td>0.020801</td>\n",
       "      <td>3</td>\n",
       "    </tr>\n",
       "    <tr>\n",
       "      <th>1</th>\n",
       "      <td>0.827948</td>\n",
       "      <td>0.014102</td>\n",
       "      <td>0.001859</td>\n",
       "      <td>0.000953</td>\n",
       "      <td>tanh</td>\n",
       "      <td>adam</td>\n",
       "      <td>{'MLP__activation': 'tanh', 'MLP__solver': 'ad...</td>\n",
       "      <td>0.989130</td>\n",
       "      <td>0.967391</td>\n",
       "      <td>0.956044</td>\n",
       "      <td>0.945055</td>\n",
       "      <td>0.964405</td>\n",
       "      <td>0.016314</td>\n",
       "      <td>2</td>\n",
       "    </tr>\n",
       "    <tr>\n",
       "      <th>2</th>\n",
       "      <td>0.938679</td>\n",
       "      <td>0.017589</td>\n",
       "      <td>0.003101</td>\n",
       "      <td>0.001235</td>\n",
       "      <td>relu</td>\n",
       "      <td>sgd</td>\n",
       "      <td>{'MLP__activation': 'relu', 'MLP__solver': 'sgd'}</td>\n",
       "      <td>0.836957</td>\n",
       "      <td>0.869565</td>\n",
       "      <td>0.901099</td>\n",
       "      <td>0.901099</td>\n",
       "      <td>0.877180</td>\n",
       "      <td>0.026552</td>\n",
       "      <td>4</td>\n",
       "    </tr>\n",
       "    <tr>\n",
       "      <th>3</th>\n",
       "      <td>0.961868</td>\n",
       "      <td>0.012980</td>\n",
       "      <td>0.002728</td>\n",
       "      <td>0.000894</td>\n",
       "      <td>relu</td>\n",
       "      <td>adam</td>\n",
       "      <td>{'MLP__activation': 'relu', 'MLP__solver': 'ad...</td>\n",
       "      <td>1.000000</td>\n",
       "      <td>0.978261</td>\n",
       "      <td>0.956044</td>\n",
       "      <td>0.945055</td>\n",
       "      <td>0.969840</td>\n",
       "      <td>0.021126</td>\n",
       "      <td>1</td>\n",
       "    </tr>\n",
       "  </tbody>\n",
       "</table>\n",
       "</div>"
      ],
      "text/plain": [
       "   mean_fit_time  std_fit_time  mean_score_time  std_score_time  \\\n",
       "0       0.764337      0.033197         0.002976        0.000928   \n",
       "1       0.827948      0.014102         0.001859        0.000953   \n",
       "2       0.938679      0.017589         0.003101        0.001235   \n",
       "3       0.961868      0.012980         0.002728        0.000894   \n",
       "\n",
       "  param_MLP__activation param_MLP__solver  \\\n",
       "0                  tanh               sgd   \n",
       "1                  tanh              adam   \n",
       "2                  relu               sgd   \n",
       "3                  relu              adam   \n",
       "\n",
       "                                              params  split0_test_score  \\\n",
       "0  {'MLP__activation': 'tanh', 'MLP__solver': 'sgd'}           0.945652   \n",
       "1  {'MLP__activation': 'tanh', 'MLP__solver': 'ad...           0.989130   \n",
       "2  {'MLP__activation': 'relu', 'MLP__solver': 'sgd'}           0.836957   \n",
       "3  {'MLP__activation': 'relu', 'MLP__solver': 'ad...           1.000000   \n",
       "\n",
       "   split1_test_score  split2_test_score  split3_test_score  mean_test_score  \\\n",
       "0           0.913043           0.890110           0.901099         0.912476   \n",
       "1           0.967391           0.956044           0.945055         0.964405   \n",
       "2           0.869565           0.901099           0.901099         0.877180   \n",
       "3           0.978261           0.956044           0.945055         0.969840   \n",
       "\n",
       "   std_test_score  rank_test_score  \n",
       "0        0.020801                3  \n",
       "1        0.016314                2  \n",
       "2        0.026552                4  \n",
       "3        0.021126                1  "
      ]
     },
     "metadata": {},
     "output_type": "display_data"
    }
   ],
   "source": [
    "MLPClassifier_performance(X_dermatology, Y_dermatology)"
   ]
  },
  {
   "cell_type": "code",
   "execution_count": null,
   "metadata": {},
   "outputs": [],
   "source": []
  }
 ],
 "metadata": {
  "kernelspec": {
   "display_name": "Python 3",
   "language": "python",
   "name": "python3"
  },
  "language_info": {
   "codemirror_mode": {
    "name": "ipython",
    "version": 3
   },
   "file_extension": ".py",
   "mimetype": "text/x-python",
   "name": "python",
   "nbconvert_exporter": "python",
   "pygments_lexer": "ipython3",
   "version": "3.8.3"
  },
  "toc": {
   "base_numbering": 1,
   "nav_menu": {},
   "number_sections": true,
   "sideBar": true,
   "skip_h1_title": false,
   "title_cell": "Table of Contents",
   "title_sidebar": "Contents",
   "toc_cell": false,
   "toc_position": {
    "height": "calc(100% - 180px)",
    "left": "10px",
    "top": "150px",
    "width": "307.2px"
   },
   "toc_section_display": true,
   "toc_window_display": true
  },
  "varInspector": {
   "cols": {
    "lenName": 16,
    "lenType": 16,
    "lenVar": 40
   },
   "kernels_config": {
    "python": {
     "delete_cmd_postfix": "",
     "delete_cmd_prefix": "del ",
     "library": "var_list.py",
     "varRefreshCmd": "print(var_dic_list())"
    },
    "r": {
     "delete_cmd_postfix": ") ",
     "delete_cmd_prefix": "rm(",
     "library": "var_list.r",
     "varRefreshCmd": "cat(var_dic_list()) "
    }
   },
   "types_to_exclude": [
    "module",
    "function",
    "builtin_function_or_method",
    "instance",
    "_Feature"
   ],
   "window_display": false
  }
 },
 "nbformat": 4,
 "nbformat_minor": 4
}
