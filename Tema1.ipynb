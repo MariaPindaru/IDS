{
 "cells": [
  {
   "cell_type": "code",
   "execution_count": 6,
   "metadata": {
    "ExecuteTime": {
     "end_time": "2021-02-23T22:20:05.545668Z",
     "start_time": "2021-02-23T22:20:05.532478Z"
    }
   },
   "outputs": [
    {
     "name": "stdout",
     "output_type": "stream",
     "text": [
      "-15\n"
     ]
    }
   ],
   "source": [
    "#Se da o lista de numere. Sa se afiseze diferenta dintre: suma celor mai mari 3 numere si produsul celor mai mici 2 numere.\n",
    "#lista = [10, 3, 5, 20, -4, 9, 1] -> 43\n",
    "#lista = [0, -1, -2, -3 , -4] -> -15\n",
    "\n",
    "def my_function(my_list):\n",
    "    if len(my_list) < 3:\n",
    "        print(\"the list is too short\")\n",
    "        return\n",
    "    my_list.sort()\n",
    "    sum = my_list[-1] +  my_list[-2] + my_list[-3]\n",
    "    multiplication =  my_list[0] *  my_list[1]\n",
    "    print(sum - multiplication)\n",
    "    \n",
    "my_function([0, -1, -2, -3 , -4])"
   ]
  },
  {
   "cell_type": "code",
   "execution_count": 7,
   "metadata": {
    "ExecuteTime": {
     "end_time": "2021-02-23T22:20:39.634304Z",
     "start_time": "2021-02-23T22:20:39.616546Z"
    }
   },
   "outputs": [
    {
     "name": "stdout",
     "output_type": "stream",
     "text": [
      "mouse : 3\n",
      "and : 1\n",
      "branza : 3\n",
      "viezure : 3\n",
      "me : 1\n",
      "slow : 1\n",
      "this : 1\n",
      "out : 1\n",
      "in : 2\n",
      "want : 1\n",
      "song : 1\n",
      "barza : 3\n",
      "makes : 1\n",
      "to : 1\n",
      "run : 1\n",
      "motion : 1\n"
     ]
    }
   ],
   "source": [
    "#Se da o lista de cuvinte. Sa se determine cuvintele unice (fara diferenta intre litere mici si mari) si de cate ori apare fiecare.\n",
    "\n",
    "def count_words(my_list):\n",
    "    freq = {} \n",
    "    for word in my_list: \n",
    "        word = word.lower()\n",
    "        if (word in freq): \n",
    "            freq[word] += 1\n",
    "        else: \n",
    "            freq[word] = 1\n",
    "  \n",
    "    for key, value in freq.items(): \n",
    "        print (key, \":\", value) \n",
    "\n",
    "count_words(['mouse', 'and', 'branza', 'viezure', 'viezure', 'viezure', 'me', 'slow', 'mouse', 'This', 'mouse', 'out', 'in', 'want', 'branza', 'song', 'barza', 'barza', 'barza', 'makes', 'to', 'in', 'branza', 'run', 'motion'])"
   ]
  },
  {
   "cell_type": "code",
   "execution_count": 8,
   "metadata": {
    "ExecuteTime": {
     "end_time": "2021-02-23T22:20:44.174944Z",
     "start_time": "2021-02-23T22:20:44.158917Z"
    }
   },
   "outputs": [
    {
     "name": "stdout",
     "output_type": "stream",
     "text": [
      "p_max =  720 , solutie:  [10, 9, 8]\n"
     ]
    }
   ],
   "source": [
    "#Se da o lista de cel putin 10 numere. Care 3 numere din lista, inmultite, dau produsul maxim?\n",
    "\n",
    "def my_function(my_list):\n",
    "    if len(my_list) < 10:\n",
    "        print(\"the list is too short\")\n",
    "        return\n",
    "    my_list.sort()\n",
    "    if (my_list[-3] >= 0 or my_list[-1] < 0):\n",
    "        print(\"p_max = \", my_list[-1] * my_list[-2] * my_list[-3], \", solutie: \", [my_list[-1], my_list[-2], my_list[-3]])\n",
    "    else:\n",
    "        print(\"p_max = \", my_list[-1] * my_list[0] * my_list[1], \", solutie: \", [my_list[-1], my_list[0], my_list[1]])\n",
    "    \n",
    "my_function([10, 1, 2, 9, 7, 8, 3, 6, 4, 5])"
   ]
  },
  {
   "cell_type": "code",
   "execution_count": null,
   "metadata": {},
   "outputs": [],
   "source": []
  }
 ],
 "metadata": {
  "kernelspec": {
   "display_name": "Python 3",
   "language": "python",
   "name": "python3"
  },
  "language_info": {
   "codemirror_mode": {
    "name": "ipython",
    "version": 3
   },
   "file_extension": ".py",
   "mimetype": "text/x-python",
   "name": "python",
   "nbconvert_exporter": "python",
   "pygments_lexer": "ipython3",
   "version": "3.8.3"
  }
 },
 "nbformat": 4,
 "nbformat_minor": 4
}
