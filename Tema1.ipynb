{
 "cells": [
  {
   "cell_type": "code",
   "execution_count": 6,
   "metadata": {
    "ExecuteTime": {
     "end_time": "2021-02-23T22:20:05.545668Z",
     "start_time": "2021-02-23T22:20:05.532478Z"
    }
   },
   "outputs": [
    {
     "name": "stdout",
     "output_type": "stream",
     "text": [
      "-15\n"
     ]
    }
   ],
   "source": [
    "#Se da o lista de numere. Sa se afiseze diferenta dintre: suma celor mai mari 3 numere si produsul celor mai mici 2 numere.\n",
    "#lista = [10, 3, 5, 20, -4, 9, 1] -> 43\n",
    "#lista = [0, -1, -2, -3 , -4] -> -15\n",
    "\n",
    "def my_function(my_list):\n",
    "    if len(my_list) < 3:\n",
    "        print(\"the list is too short\")\n",
    "        return\n",
    "    my_list.sort()\n",
    "    sum = my_list[-1] +  my_list[-2] + my_list[-3]\n",
    "    multiplication =  my_list[0] *  my_list[1]\n",
    "    print(sum - multiplication)\n",
    "    \n",
    "my_function([0, -1, -2, -3 , -4])"
   ]
  },
  {
   "cell_type": "code",
   "execution_count": 7,
   "metadata": {
    "ExecuteTime": {
     "end_time": "2021-02-23T22:20:39.634304Z",
     "start_time": "2021-02-23T22:20:39.616546Z"
    }
   },
   "outputs": [
    {
     "name": "stdout",
     "output_type": "stream",
     "text": [
      "mouse : 3\n",
      "and : 1\n",
      "branza : 3\n",
      "viezure : 3\n",
      "me : 1\n",
      "slow : 1\n",
      "this : 1\n",
      "out : 1\n",
      "in : 2\n",
      "want : 1\n",
      "song : 1\n",
      "barza : 3\n",
      "makes : 1\n",
      "to : 1\n",
      "run : 1\n",
      "motion : 1\n"
     ]
    }
   ],
   "source": [
    "#Se da o lista de cuvinte. Sa se determine cuvintele unice (fara diferenta intre litere mici si mari) si de cate ori apare fiecare.\n",
    "\n",
    "def count_words(my_list):\n",
    "    freq = {} \n",
    "    for word in my_list: \n",
    "        word = word.lower()\n",
    "        if (word in freq): \n",
    "            freq[word] += 1\n",
    "        else: \n",
    "            freq[word] = 1\n",
    "  \n",
    "    for key, value in freq.items(): \n",
    "        print (key, \":\", value) \n",
    "\n",
    "count_words(['mouse', 'and', 'branza', 'viezure', 'viezure', 'viezure', 'me', 'slow', 'mouse', 'This', 'mouse', 'out', 'in', 'want', 'branza', 'song', 'barza', 'barza', 'barza', 'makes', 'to', 'in', 'branza', 'run', 'motion'])"
   ]
  },
  {
   "cell_type": "code",
   "execution_count": 1,
   "metadata": {
    "ExecuteTime": {
     "end_time": "2021-02-25T10:00:29.931513Z",
     "start_time": "2021-02-25T10:00:29.914052Z"
    }
   },
   "outputs": [
    {
     "name": "stdout",
     "output_type": "stream",
     "text": [
      "p_max =  720 , solutie:  [10, 9, 8]\n"
     ]
    }
   ],
   "source": [
    "#Se da o lista de cel putin 10 numere. Care 3 numere din lista, inmultite, dau produsul maxim?\n",
    "\n",
    "def my_function(my_list):\n",
    "    if len(my_list) < 10:\n",
    "        print(\"the list is too short\")\n",
    "        return\n",
    "    my_list.sort()\n",
    "    if my_list[-1] < 0 or (my_list[-3] >= 0 and (my_list[0] > 0 or my_list[1] > 0)):\n",
    "        print(\"p_max = \", my_list[-1] * my_list[-2] * my_list[-3], \", solutie: \", [my_list[-1], my_list[-2], my_list[-3]])\n",
    "    else:\n",
    "        print(\"p_max = \", my_list[-1] * my_list[0] * my_list[1], \", solutie: \", [my_list[-1], my_list[0], my_list[1]])\n",
    "    \n",
    "my_function([10, 1, 2, 9, 7, 8, 3, 6, 4, 5])"
   ]
  },
  {
   "cell_type": "code",
   "execution_count": 2,
   "metadata": {
    "ExecuteTime": {
     "end_time": "2021-02-25T10:00:47.079727Z",
     "start_time": "2021-02-25T10:00:47.068086Z"
    }
   },
   "outputs": [
    {
     "name": "stdout",
     "output_type": "stream",
     "text": [
      "3 4 5\n",
      "6 8 10\n"
     ]
    }
   ],
   "source": [
    "# Dandu-se o lista de numere si un numar n natural,  𝑛≥1 , sa se determine toate tripletele a, b, c cu a < b din lista,\n",
    "# pentru care  𝑎𝑛+𝑏𝑛=𝑐𝑛 .\n",
    "\n",
    "def get_triplets(number_list, power):\n",
    "    if power < 1:\n",
    "        print(\"n < 1\")\n",
    "        return\n",
    "    triplet = False\n",
    "    number_list.sort()\n",
    "    for first in number_list:\n",
    "        for second in number_list[number_list.index(first) + 1:]:\n",
    "            for third in number_list[number_list.index(second) + 1:]:\n",
    "                if first ** power + second ** power == third ** power:\n",
    "                    print(first, second, third)\n",
    "                    triplet = True\n",
    "    if triplet == False:\n",
    "        print(\"Nu exista solutie\")\n",
    "\n",
    "get_triplets([12, 11, 10, 9, 8, 7, 6, 5, 4, 3, 2], 2)"
   ]
  },
  {
   "cell_type": "code",
   "execution_count": 3,
   "metadata": {
    "ExecuteTime": {
     "end_time": "2021-02-25T10:01:09.561251Z",
     "start_time": "2021-02-25T10:01:09.539424Z"
    }
   },
   "outputs": [
    {
     "name": "stdout",
     "output_type": "stream",
     "text": [
      "apanapa aparepe meperepe\n",
      "ana are mere\n"
     ]
    }
   ],
   "source": [
    "#Dandu-se o propozitie, sa se detemine transcrierea ei in \"pasareasca\" (o vocala se transforma in vocala + 'P' + vocala\n",
    "#Sa se scrie un program care face traducerea inversa (daca stringul dat provine din pasareasca; daca nu, semnaleaza acest lucru).\n",
    "\n",
    "def get_pasareasca(sentance):\n",
    "    vowels = \"AaEeIiOoUu\"\n",
    "    words = sentance.split()\n",
    "    new_sentance = []\n",
    "    for word in words:\n",
    "        vowels_found = []\n",
    "        for character in word:\n",
    "            if character in vowels and character not in vowels_found:\n",
    "                vowels_found.append(character)\n",
    "                word = word.replace(character, character + \"p\" + character)  \n",
    "        new_sentance.append(word)\n",
    "    return(' '.join(new_sentance))\n",
    "\n",
    "def translate_from_pasareasca(sentance):\n",
    "    vowels = \"AaEeIiOoUu\"\n",
    "    words = sentance.split()\n",
    "    new_sentance = []\n",
    "    for word in words:\n",
    "        word_iterator = iter(word)\n",
    "        while (character := next(word_iterator, None)) is not None:\n",
    "            if character in vowels:\n",
    "                if next(word_iterator, None) == 'p' and next(word_iterator, None) == character:\n",
    "                    word = word.replace('p' + character, '')\n",
    "                else:\n",
    "                    return \"Stringul nu este in pasareasca!\"\n",
    "        new_sentance.append(word)\n",
    "    return(' '.join(new_sentance))\n",
    "\n",
    "my_sentance = \"ana are mere\"\n",
    "new_sentance = get_pasareasca(my_sentance)\n",
    "print(new_sentance)\n",
    "new_sentance = translate_from_pasareasca(new_sentance)\n",
    "print(new_sentance)"
   ]
  },
  {
   "cell_type": "code",
   "execution_count": 1,
   "metadata": {},
   "outputs": [
    {
     "name": "stdout",
     "output_type": "stream",
     "text": [
      "Salariu minim:  1500\n",
      "Salariu maxim:  3000\n",
      "Salariu mediu:  2375.0\n",
      "Popescu\n",
      "Irimia\n",
      "Enache\n"
     ]
    }
   ],
   "source": [
    "#8\n",
    "list_of_dictionary=[\n",
    "{\"nume\": \"Popescu\",\n",
    "\"gen\": \"feminin\",\n",
    "\"varsta\": 30,\n",
    "\"salariu\": 2000,\n",
    "\"animal preferat\": \"pisica\",\n",
    "},\n",
    "{\"nume\": \"Irimia\",\n",
    "\"varsta\": 40,\n",
    "\"gen\": \"masculin\",\n",
    "\"salariu\": 3000,\n",
    "\"animal preferat\": \"caine\"\n",
    "},\n",
    " {\"nume\": \"Enache\",\n",
    "\"varsta\": 25,\n",
    "\"gen\": \"masculin\",\n",
    "\"salariu\": 1500,\n",
    "\"animal preferat\": \"caine\"\n",
    "},\n",
    "{\"nume\": \"Stan\",\n",
    "\"varsta\": 20,\n",
    "\"gen\": \"feminin\",\n",
    "\"salariu\": 3000,\n",
    "\"animal preferat\": \"pisica\"\n",
    "}\n",
    "]\n",
    "\n",
    "def A_salariu_mediu_minim_maxim(dictionar):\n",
    "    suma=0\n",
    "    mini=10000000\n",
    "    maxi=0\n",
    "    n=len(dictionar)\n",
    "    for i in range(n):\n",
    "        suma = suma + dictionar[i]['salariu']\n",
    "        if dictionar[i]['salariu'] < mini:\n",
    "            mini = dictionar[i]['salariu']\n",
    "        if dictionar[i]['salariu'] > maxi:\n",
    "            maxi = dictionar[i]['salariu']\n",
    "    print('Salariu minim: ', mini)\n",
    "    print('Salariu maxim: ', maxi)\n",
    "    print('Salariu mediu: ', suma/n)\n",
    "\n",
    "A_salariu_mediu_minim_maxim(list_of_dictionary)\n",
    "        \n",
    "def B_varsta_interval(dictionar, x, y):\n",
    "    n=len(dictionar)\n",
    "    for i in range(n):\n",
    "        if (dictionar[i]['varsta'] >= x) and (dictionar[i]['varsta'] <= y):\n",
    "            print(dictionar[i]['nume'])\n",
    "\n",
    "B_varsta_interval(list_of_dictionary,25, 50)\n"
   ]
  },
  {
   "cell_type": "code",
   "execution_count": null,
   "metadata": {},
   "outputs": [],
   "source": []
  }
 ],
 "metadata": {
  "kernelspec": {
   "display_name": "Python 3",
   "language": "python",
   "name": "python3"
  },
  "language_info": {
   "codemirror_mode": {
    "name": "ipython",
    "version": 3
   },
   "file_extension": ".py",
   "mimetype": "text/x-python",
   "name": "python",
   "nbconvert_exporter": "python",
   "pygments_lexer": "ipython3",
   "version": "3.8.3"
  }
 },
 "nbformat": 4,
 "nbformat_minor": 4
}
