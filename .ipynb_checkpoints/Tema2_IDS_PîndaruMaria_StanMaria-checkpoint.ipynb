{
 "cells": [
  {
   "cell_type": "code",
   "execution_count": 5,
   "metadata": {
    "ExecuteTime": {
     "end_time": "2021-03-03T13:53:16.477160Z",
     "start_time": "2021-03-03T13:53:16.450233Z"
    }
   },
   "outputs": [
    {
     "name": "stdout",
     "output_type": "stream",
     "text": [
      "[0, 6, 28, 496]\n"
     ]
    }
   ],
   "source": [
    "#1 daca numarul e egal cu suma divizorilor sai minus numarul insusi\n",
    "\n",
    "def s_div(number: int) -> int:\n",
    "    divisors: list = [index for index in range(1,number) if number % index == 0]\n",
    "    return sum([divisor for divisor in divisors])\n",
    "\n",
    "def is_x_equal_with_sdiv(x: int) -> bool:\n",
    "    return (x == s_div(x))\n",
    "    \n",
    "def write_all_numbers(n: int) -> None:\n",
    "    print([index for index in range(n) if is_x_equal_with_sdiv(index)])\n",
    "    \n",
    "write_all_numbers(520)\n"
   ]
  },
  {
   "cell_type": "code",
   "execution_count": 7,
   "metadata": {
    "ExecuteTime": {
     "end_time": "2021-03-03T13:54:05.754470Z",
     "start_time": "2021-03-03T13:54:05.741540Z"
    }
   },
   "outputs": [
    {
     "data": {
      "text/plain": [
       "False"
      ]
     },
     "execution_count": 7,
     "metadata": {},
     "output_type": "execute_result"
    }
   ],
   "source": [
    "# 2. Scrieti o functie care determina daca un sir de caractere - presupus a fi scris cu litere mici - este sau nu palindrom. \n",
    "# Un palindrom este un sir de caractere care citit de la dreapta la stanga are acelasi continut ca si citirea de la stanga la dreapta.\n",
    "# In functie de valoarea unui indicator boolean ignore_spaces, avand valoarea implicita False, se vor ignora (elimina) sau nu spatiile.\n",
    "# Daca sirul dat ca parametru nu are toate literele mici, se va arunca exceptie; \n",
    "\n",
    "def is_palindrome (string: str, ignore_spaces: bool = False) -> str:\n",
    "    '''\n",
    "    Determines if the given string is palindrome.\n",
    "    \n",
    "    :param string: string to be verified\n",
    "    :param ignore_spaces: determines if spaces are ignored\n",
    "        \n",
    "    :return: true if the string is palindrome, else false \n",
    "    '''\n",
    "    if any((character != character.lower()) for character in string):\n",
    "        raise Exception(\"Exista litere mari!\")\n",
    "    if ignore_spaces == True:\n",
    "        string = string.replace(\" \", \"\")\n",
    "    return string == string[::-1]\n",
    "\n",
    "is_palindrome('hee e e h')"
   ]
  },
  {
   "cell_type": "code",
   "execution_count": 2,
   "metadata": {},
   "outputs": [
    {
     "data": {
      "text/plain": [
       "({1, 5, 6}, 9)"
      ]
     },
     "execution_count": 2,
     "metadata": {},
     "output_type": "execute_result"
    }
   ],
   "source": [
    "#3 Functia va returna un tuplu cu: lista de numere care apar in ambele fisiere \n",
    "#si diferenta maxima care exista intre numerele din al doilea fisier si numerele din primul fisier.\n",
    "def common_number_and_max_dif(fis1, fis2) ->tuple:\n",
    "    f1 = open(fis1)\n",
    "    f2 = open(fis2)\n",
    "    list1 : list = [int(index) for index in f1]\n",
    "    list2 : list = [int(index) for index in f2]\n",
    "    list1_set = set(list1)\n",
    "    list2_set = set(list2)\n",
    "    return (list1_set.intersection(list2_set), max(list1+list2)-min(list1+list2))\n",
    "\n",
    "common_number_and_max_dif(\"tema2_fis1.txt\", \"tema2_fis2.txt\")"
   ]
  },
  {
   "cell_type": "code",
   "execution_count": 13,
   "metadata": {
    "ExecuteTime": {
     "end_time": "2021-03-03T14:03:53.139141Z",
     "start_time": "2021-03-03T14:03:53.126179Z"
    }
   },
   "outputs": [
    {
     "name": "stdout",
     "output_type": "stream",
     "text": [
      "15\n",
      "1 apeluri ale functiei sum_divisors_digitscare\n"
     ]
    }
   ],
   "source": [
    "# 4. Sa se scrie o functie sum_divisors_digitscare preia un numar natural strict pozitiv  𝑛  si returneaza suma cifrelor divizorilor sai.\n",
    "# Intr-o alta functie black_hole se apeleaza in mod repetat sum_divisors_digits pe numerele rezultate, pana cand se atinge un numar \n",
    "# maxim de iteratii (implicit 1000) sau se ajunge la numarul 15. Puteti crea alte functii auxiliare.\n",
    "\n",
    "def get_sum_of_digits(number: int) ->list:\n",
    "    '''\n",
    "    Slices the given number into digits and returns their sum.\n",
    "    \n",
    "    :param number: the given number to be sliced in digits\n",
    "        \n",
    "    :return: the sum of the digits of the given number\n",
    "    '''\n",
    "    return sum([int(digit) for digit in str(number)])\n",
    "\n",
    "def sum_divisors_digitscare(number: int) ->int:\n",
    "    '''\n",
    "    Determines the divisors of the given number and calculates the sum of their digits.\n",
    "    \n",
    "    :param number: the given number\n",
    "    \n",
    "    :return: the sum of the given number's divisors digits\n",
    "    '''\n",
    "    divisors: list = [index for index in range(1, number + 1) if number % index == 0]\n",
    "    return sum([get_sum_of_digits(divisor) for divisor in divisors] )\n",
    "    \n",
    "def black_hole(number: int, no_max_of_it: int = 1000) -> None:\n",
    "    '''\n",
    "    Calls the function sum_divisors_digitscare while the current number is not 15 and the maximum number of iterations\n",
    "    haven't been reached.\n",
    "    \n",
    "    :param number: the given number\n",
    "    :param no_max_of_it: the maximum number of iterations\n",
    "    '''\n",
    "    it = 0\n",
    "    while number != 15 and it < no_max_of_it or it == 0:\n",
    "        number = sum_divisors_digitscare(number)\n",
    "        it += 1\n",
    "    print(f'{it} apeluri ale functiei sum_divisors_digitscare')\n",
    "\n",
    "print(sum_divisors_digitscare(15))\n",
    "black_hole(15, 5)\n"
   ]
  },
  {
   "cell_type": "code",
   "execution_count": null,
   "metadata": {},
   "outputs": [],
   "source": []
  }
 ],
 "metadata": {
  "kernelspec": {
   "display_name": "Python 3",
   "language": "python",
   "name": "python3"
  },
  "language_info": {
   "codemirror_mode": {
    "name": "ipython",
    "version": 3
   },
   "file_extension": ".py",
   "mimetype": "text/x-python",
   "name": "python",
   "nbconvert_exporter": "python",
   "pygments_lexer": "ipython3",
   "version": "3.8.3"
  }
 },
 "nbformat": 4,
 "nbformat_minor": 4
}
