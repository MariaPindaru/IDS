{
 "cells": [
  {
   "cell_type": "code",
   "execution_count": 6,
   "metadata": {
    "ExecuteTime": {
     "end_time": "2021-02-23T22:20:05.545668Z",
     "start_time": "2021-02-23T22:20:05.532478Z"
    }
   },
   "outputs": [
    {
     "name": "stdout",
     "output_type": "stream",
     "text": [
      "-15\n"
     ]
    }
   ],
   "source": [
    "#1. Se da o lista de numere. Sa se afiseze diferenta dintre: suma celor mai mari 3 numere si produsul celor mai mici 2 numere.\n",
    "#lista = [10, 3, 5, 20, -4, 9, 1] -> 43\n",
    "#lista = [0, -1, -2, -3 , -4] -> -15\n",
    "\n",
    "def my_function(my_list):\n",
    "    if len(my_list) < 3:\n",
    "        print(\"the list is too short\")\n",
    "        return\n",
    "    my_list.sort()\n",
    "    sum = my_list[-1] +  my_list[-2] + my_list[-3]\n",
    "    multiplication =  my_list[0] *  my_list[1]\n",
    "    print(sum - multiplication)\n",
    "    \n",
    "my_function([0, -1, -2, -3 , -4])"
   ]
  },
  {
   "cell_type": "code",
   "execution_count": 7,
   "metadata": {
    "ExecuteTime": {
     "end_time": "2021-02-23T22:20:39.634304Z",
     "start_time": "2021-02-23T22:20:39.616546Z"
    }
   },
   "outputs": [
    {
     "name": "stdout",
     "output_type": "stream",
     "text": [
      "mouse : 3\n",
      "and : 1\n",
      "branza : 3\n",
      "viezure : 3\n",
      "me : 1\n",
      "slow : 1\n",
      "this : 1\n",
      "out : 1\n",
      "in : 2\n",
      "want : 1\n",
      "song : 1\n",
      "barza : 3\n",
      "makes : 1\n",
      "to : 1\n",
      "run : 1\n",
      "motion : 1\n"
     ]
    }
   ],
   "source": [
    "#2. Se da o lista de cuvinte. Sa se determine cuvintele unice (fara diferenta intre litere mici si mari) si de cate ori apare fiecare.\n",
    "\n",
    "def count_words(my_list):\n",
    "    freq = {} \n",
    "    for word in my_list: \n",
    "        word = word.lower()\n",
    "        if (word in freq): \n",
    "            freq[word] += 1\n",
    "        else: \n",
    "            freq[word] = 1\n",
    "  \n",
    "    for key, value in freq.items(): \n",
    "        print (key, \":\", value) \n",
    "\n",
    "count_words(['mouse', 'and', 'branza', 'viezure', 'viezure', 'viezure', 'me', 'slow', 'mouse', 'This', 'mouse', 'out', 'in', 'want', 'branza', 'song', 'barza', 'barza', 'barza', 'makes', 'to', 'in', 'branza', 'run', 'motion'])"
   ]
  },
  {
   "cell_type": "code",
   "execution_count": 1,
   "metadata": {
    "ExecuteTime": {
     "end_time": "2021-02-25T10:00:29.931513Z",
     "start_time": "2021-02-25T10:00:29.914052Z"
    }
   },
   "outputs": [
    {
     "name": "stdout",
     "output_type": "stream",
     "text": [
      "p_max =  720 , solutie:  [10, 9, 8]\n"
     ]
    }
   ],
   "source": [
    "#3. Se da o lista de cel putin 10 numere. Care 3 numere din lista, inmultite, dau produsul maxim?\n",
    "\n",
    "def my_function(my_list):\n",
    "    if len(my_list) < 10:\n",
    "        print(\"the list is too short\")\n",
    "        return\n",
    "    my_list.sort()\n",
    "    if my_list[-1] < 0 or (my_list[-3] >= 0 and (my_list[0] > 0 or my_list[1] > 0)):\n",
    "        print(\"p_max = \", my_list[-1] * my_list[-2] * my_list[-3], \", solutie: \", [my_list[-1], my_list[-2], my_list[-3]])\n",
    "    else:\n",
    "        print(\"p_max = \", my_list[-1] * my_list[0] * my_list[1], \", solutie: \", [my_list[-1], my_list[0], my_list[1]])\n",
    "    \n",
    "my_function([10, 1, 2, 9, 7, 8, 3, 6, 4, 5])"
   ]
  },
  {
   "cell_type": "code",
   "execution_count": 6,
   "metadata": {
    "ExecuteTime": {
     "end_time": "2021-02-25T21:16:31.948378Z",
     "start_time": "2021-02-25T21:16:31.931255Z"
    }
   },
   "outputs": [
    {
     "name": "stdout",
     "output_type": "stream",
     "text": [
      "3 4 5\n",
      "6 8 10\n"
     ]
    }
   ],
   "source": [
    "# 4. Dandu-se o lista de numere si un numar n natural,  𝑛≥1 , sa se determine toate tripletele a, b, c cu a < b din lista,\n",
    "# pentru care  𝑎𝑛+𝑏𝑛=𝑐𝑛 .\n",
    "\n",
    "def get_triplets(number_list, power):\n",
    "    if power < 1:\n",
    "        print(\"Puterea trebuie sa fie mai mare decat 0.\")\n",
    "        return\n",
    "    triplet = False\n",
    "    number_list.sort()\n",
    "    for first in number_list:\n",
    "        for second in number_list[number_list.index(first) + 1:]:\n",
    "            for third in number_list[number_list.index(second) + 1:]:\n",
    "                if first ** power + second ** power == third ** power:\n",
    "                    print(first, second, third)\n",
    "                    triplet = True\n",
    "    if triplet == False:\n",
    "        print(\"Nu exista solutie\")\n",
    "\n",
    "get_triplets([12, 11, 10, 9, 8, 7, 6, 5, 4, 3, 2], 2)"
   ]
  },
  {
   "cell_type": "code",
   "execution_count": 3,
   "metadata": {
    "ExecuteTime": {
     "end_time": "2021-02-25T10:01:09.561251Z",
     "start_time": "2021-02-25T10:01:09.539424Z"
    }
   },
   "outputs": [
    {
     "name": "stdout",
     "output_type": "stream",
     "text": [
      "apanapa aparepe meperepe\n",
      "ana are mere\n"
     ]
    }
   ],
   "source": [
    "#5. Dandu-se o propozitie, sa se detemine transcrierea ei in \"pasareasca\" (o vocala se transforma in vocala + 'P' + vocala\n",
    "#Sa se scrie un program care face traducerea inversa (daca stringul dat provine din pasareasca; daca nu, semnaleaza acest lucru).\n",
    "\n",
    "def get_pasareasca(sentance):\n",
    "    vowels = \"AaEeIiOoUu\"\n",
    "    words = sentance.split()\n",
    "    new_sentance = []\n",
    "    for word in words:\n",
    "        vowels_found = []\n",
    "        for character in word:\n",
    "            if character in vowels and character not in vowels_found:\n",
    "                vowels_found.append(character)\n",
    "                word = word.replace(character, character + \"p\" + character)  \n",
    "        new_sentance.append(word)\n",
    "    return(' '.join(new_sentance))\n",
    "\n",
    "def translate_from_pasareasca(sentance):\n",
    "    vowels = \"AaEeIiOoUu\"\n",
    "    words = sentance.split()\n",
    "    new_sentance = []\n",
    "    for word in words:\n",
    "        word_iterator = iter(word)\n",
    "        while (character := next(word_iterator, None)) is not None:\n",
    "            if character in vowels:\n",
    "                if next(word_iterator, None) == 'p' and next(word_iterator, None) == character:\n",
    "                    word = word.replace('p' + character, '')\n",
    "                else:\n",
    "                    return \"Stringul nu este in pasareasca!\"\n",
    "        new_sentance.append(word)\n",
    "    return(' '.join(new_sentance))\n",
    "\n",
    "my_sentance = \"ana are mere\"\n",
    "new_sentance = get_pasareasca(my_sentance)\n",
    "print(new_sentance)\n",
    "new_sentance = translate_from_pasareasca(new_sentance)\n",
    "print(new_sentance)"
   ]
  },
  {
   "cell_type": "code",
   "execution_count": 1,
   "metadata": {
    "ExecuteTime": {
     "end_time": "2021-02-25T21:11:38.978869Z",
     "start_time": "2021-02-25T21:11:38.946772Z"
    }
   },
   "outputs": [
    {
     "name": "stdout",
     "output_type": "stream",
     "text": [
      "['Ionescu', 'Georgescu'] \n",
      "\n",
      "[('Popescu', 'Dragomir')] \n",
      "\n",
      "Popescu -> Suprapunere maxima de preferinte: 4 cu colegii:  ['Dragomir']\n",
      "Ionescu -> Suprapunere maxima de preferinte: 3 cu colegii:  ['Popescu', 'Dragomir']\n",
      "Georgescu -> Suprapunere maxima de preferinte: 2 cu colegii:  ['Ionescu']\n",
      "Xulescu -> Suprapunere maxima de preferinte: 2 cu colegii:  ['Ionescu']\n",
      "Dragomir -> Suprapunere maxima de preferinte: 4 cu colegii:  ['Popescu']\n",
      " \n",
      "(['carte7', 'alta carte'], ['carte4']) \n",
      "\n",
      "[('Georgescu', 'Ionescu')]\n"
     ]
    }
   ],
   "source": [
    "#6\n",
    "#a\n",
    "def get_students_by_book(preferences, book):\n",
    "    students = []\n",
    "    for student, books in preferences.items():\n",
    "        if book in books:\n",
    "            students.append(student)\n",
    "    return students\n",
    "\n",
    "#b\n",
    "def get_stundents_by_preferences(preferences):\n",
    "    students = []\n",
    "    for student1, books1 in preferences.items():\n",
    "        for student2, books2 in preferences.items():\n",
    "            if student1 == student2:\n",
    "                continue\n",
    "            if sorted(books1) == sorted(books2) and ((student1, student2) not in students and (student2, student1) not in students):\n",
    "                students.append((student1, student2))\n",
    "    return students\n",
    "            \n",
    "#c\n",
    "def get_student_with_similar_preferences(preferences):\n",
    "    similar_preferences = {}\n",
    "    for student1, books1 in preferences.items():\n",
    "        for student2, books2 in preferences.items():\n",
    "            if student1 == student2:\n",
    "                continue\n",
    "            common_books = set(books1).intersection(books2)\n",
    "            if student1 not in similar_preferences:\n",
    "                similar_preferences[student1] = [(student2, len(common_books))]\n",
    "            elif similar_preferences[student1][0][1] < len(common_books):\n",
    "                similar_preferences[student1].clear()\n",
    "                similar_preferences[student1] = [(student2, len(common_books))]\n",
    "            elif similar_preferences[student1][0][1] == len(common_books):\n",
    "                similar_preferences[student1].append((student2, len(common_books)))\n",
    "    return similar_preferences\n",
    "        \n",
    "#d\n",
    "def get_lists(student_A_books, student_B_books):\n",
    "    insertions = []\n",
    "    deletions = []\n",
    "    for book in student_B_books:\n",
    "        if book not in student_A_books:\n",
    "            insertions.append(book)\n",
    "    for book in student_A_books:\n",
    "        if book not in student_B_books:\n",
    "            deletions.append(book)\n",
    "    return insertions, deletions\n",
    "\n",
    "#e\n",
    "def get_students_subsets(preferences):\n",
    "    student_pairs = []\n",
    "    for student1, books1 in preferences.items():\n",
    "        for student2, books2 in preferences.items():\n",
    "            if(student1 == student2):\n",
    "                continue\n",
    "            if(all(book in books2 for book in books1)) and len(books1) < len(books2): \n",
    "                student_pairs.append((student1, student2))\n",
    "    return student_pairs\n",
    "                \n",
    "\n",
    "preferinte = {\n",
    "    'Popescu': ['carte2', 'carte1', 'carte3', 'carte4'],\n",
    "    'Ionescu': ['carte1', 'carte2', 'carte3', 'carte7', 'alta carte'],\n",
    "    'Georgescu': ['carte1', 'alta carte'],\n",
    "    'Xulescu': ['carte2', 'carte5', 'carte6', 'carte7'],\n",
    "    'Dragomir': ['carte4', 'carte1', 'carte2', 'carte3']\n",
    "}\n",
    "\n",
    "print(get_students_by_book(preferinte,'alta carte'), \"\\n\")\n",
    "print(get_stundents_by_preferences(preferinte), \"\\n\")\n",
    "students = get_student_with_similar_preferences(preferinte)\n",
    "for student, similar_pref in students.items():\n",
    "    print(student, \"-> Suprapunere maxima de preferinte:\", similar_pref[0][1], \"cu colegii: \", [x[0] for x in similar_pref])\n",
    "print(' ')\n",
    "print(get_lists(preferinte['Popescu'], preferinte['Ionescu']), \"\\n\")\n",
    "print(get_students_subsets(preferinte))"
   ]
  },
  {
   "cell_type": "code",
   "execution_count": 2,
   "metadata": {
    "ExecuteTime": {
     "end_time": "2021-02-25T21:13:27.481339Z",
     "start_time": "2021-02-25T21:13:27.463646Z"
    }
   },
   "outputs": [
    {
     "name": "stdout",
     "output_type": "stream",
     "text": [
      "16\n",
      "17\n"
     ]
    }
   ],
   "source": [
    "#7 ora/orele in care sunt toti disponibili sau sunt cat mai multi disponibili\n",
    "doodle = {\n",
    "\"Popescu\": [\"13\", \"13.30\", \"16\", \"17\"],  # Popescu este disponibil intre: 13 si 13.30, 13.30-14, 16-16.30, 17-17.30\n",
    "\"Ionescu\": [\"13\", \"13.30\", \"16\", \"17\", \"17.30\", \"11\", \"15\"],\n",
    "\"Maximilian\": [\"14\", \"14.30\", \"15\", \"15.30\", \"16\", \"16.30\", \"17\", \"19.30\"]\n",
    "}\n",
    "\n",
    "def disponibility_intervals(dictionary):\n",
    "    intervals = {}\n",
    "    for name, interval in dictionary.items():\n",
    "        for i in range(len(interval)):\n",
    "            if interval[i] in intervals:\n",
    "                intervals[interval[i]] += 1\n",
    "            else:\n",
    "                intervals[interval[i]] = 1\n",
    "    maxi = 0\n",
    "    for nr_pers in intervals.values():\n",
    "        if nr_pers > maxi:\n",
    "            maxi = nr_pers\n",
    "    for interval, nr_pers in intervals.items():\n",
    "        if nr_pers == maxi:\n",
    "            print(interval)\n",
    "            \n",
    "disponibility_intervals(doodle)"
   ]
  },
  {
   "cell_type": "code",
   "execution_count": 3,
   "metadata": {
    "ExecuteTime": {
     "end_time": "2021-02-25T21:14:54.566124Z",
     "start_time": "2021-02-25T21:14:54.518611Z"
    }
   },
   "outputs": [
    {
     "name": "stdout",
     "output_type": "stream",
     "text": [
      "Salariu minim:  1500\n",
      "Salariu maxim:  3500\n",
      "Salariu mediu:  2600.0\n",
      " \n",
      "Popescu\n",
      "Irimia\n",
      "Enache\n",
      " \n",
      "caine\n",
      " \n",
      "3  persoane de sex feminin\n",
      "2  persoane de sex masculin\n"
     ]
    }
   ],
   "source": [
    "#8\n",
    "list_of_dictionary=[\n",
    "{\"nume\": \"Popescu\",\n",
    "\"gen\": \"feminin\",\n",
    "\"varsta\": 30,\n",
    "\"salariu\": 2000,\n",
    "\"animal preferat\": \"pisica\",\n",
    "},\n",
    "{\"nume\": \"Irimia\",\n",
    "\"varsta\": 40,\n",
    "\"gen\": \"masculin\",\n",
    "\"salariu\": 3000,\n",
    "\"animal preferat\": \"caine\"\n",
    "},\n",
    " {\"nume\": \"Enache\",\n",
    "\"varsta\": 25,\n",
    "\"gen\": \"masculin\",\n",
    "\"salariu\": 1500,\n",
    "\"animal preferat\": \"caine\"\n",
    "},\n",
    "{\"nume\": \"Stan\",\n",
    "\"varsta\": 20,\n",
    "\"gen\": \"feminin\",\n",
    "\"salariu\": 3000,\n",
    "\"animal preferat\": \"caine\"\n",
    "},\n",
    "{\"nume\": \"Stanca\",\n",
    "\"varsta\": 21,\n",
    "\"gen\": \"feminin\",\n",
    "\"salariu\": 3500,\n",
    "\"animal preferat\": \"pupaza\"\n",
    "}\n",
    "]\n",
    "\n",
    "def A_salary_medium_minim_maxim(dictionary):\n",
    "    suma = 0\n",
    "    mini = 10000000\n",
    "    maxi = 0\n",
    "    n = len(dictionary)\n",
    "    for i in range(n):\n",
    "        suma = suma + dictionary[i]['salariu']\n",
    "        if dictionary[i]['salariu'] < mini:\n",
    "            mini = dictionary[i]['salariu']\n",
    "        if dictionary[i]['salariu'] > maxi:\n",
    "            maxi = dictionary[i]['salariu']\n",
    "    print('Salariu minim: ', mini)\n",
    "    print('Salariu maxim: ', maxi)\n",
    "    print('Salariu mediu: ', suma/n)\n",
    "\n",
    "A_salary_medium_minim_maxim(list_of_dictionary)\n",
    "print(' ')\n",
    "        \n",
    "def B_age_interval(dictionary, x, y):\n",
    "    n = len(dictionary)\n",
    "    for i in range(n):\n",
    "        if (dictionary[i]['varsta'] >= x) and (dictionary[i]['varsta'] <= y):\n",
    "            print(dictionary[i]['nume'])\n",
    "\n",
    "B_age_interval(list_of_dictionary,25, 50)\n",
    "print(' ')\n",
    "\n",
    "\n",
    "def C_favorite_animal(dictionary):\n",
    "    animals = {}\n",
    "    n = len(dictionary)\n",
    "    for i in range(n):\n",
    "        if dictionary[i]['animal preferat'] in animals:\n",
    "            animals[dictionary[i]['animal preferat']] = animals[dictionary[i]['animal preferat']] +1\n",
    "        else:\n",
    "            animals[dictionary[i]['animal preferat']] = 1\n",
    "            \n",
    "    maxi = 0\n",
    "    for nr_aparitii in animals.values():\n",
    "        if nr_aparitii > maxi:\n",
    "            maxi = nr_aparitii\n",
    "    for animal, nr_aparitii in animals.items():\n",
    "        if nr_aparitii == maxi:\n",
    "            print(animal)\n",
    "            \n",
    "C_favorite_animal(list_of_dictionary)\n",
    "print(' ')\n",
    "\n",
    "def D_male_female(dictionary):\n",
    "    m = 0\n",
    "    f = 0\n",
    "    n = len(dictionary)\n",
    "    for i in range(n):\n",
    "        if dictionary[i]['gen'] == 'feminin':\n",
    "            f +=1\n",
    "        else:\n",
    "            m += 1\n",
    "    print(f, ' persoane de sex feminin')\n",
    "    print(m, ' persoane de sex masculin')\n",
    "\n",
    "D_male_female(list_of_dictionary)"
   ]
  },
  {
   "cell_type": "code",
   "execution_count": null,
   "metadata": {},
   "outputs": [],
   "source": []
  }
 ],
 "metadata": {
  "kernelspec": {
   "display_name": "Python 3",
   "language": "python",
   "name": "python3"
  },
  "language_info": {
   "codemirror_mode": {
    "name": "ipython",
    "version": 3
   },
   "file_extension": ".py",
   "mimetype": "text/x-python",
   "name": "python",
   "nbconvert_exporter": "python",
   "pygments_lexer": "ipython3",
   "version": "3.8.3"
  }
 },
 "nbformat": 4,
 "nbformat_minor": 4
}
